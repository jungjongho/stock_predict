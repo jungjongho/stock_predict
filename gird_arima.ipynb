{
 "cells": [
  {
   "cell_type": "code",
   "execution_count": 1,
   "metadata": {},
   "outputs": [
    {
     "name": "stderr",
     "output_type": "stream",
     "text": [
      "<ipython-input-1-bec2a2f20ba2>:10: FutureWarning: The pandas.datetime class is deprecated and will be removed from pandas in a future version. Import from datetime module instead.\n",
      "  from pandas import datetime\n"
     ]
    }
   ],
   "source": [
    "import pandas as pd\n",
    "import numpy as np\n",
    "import os\n",
    "import FinanceDataReader as fdr\n",
    "from sklearn.metrics import mean_squared_error\n",
    "from sklearn.linear_model import LinearRegression\n",
    "from tqdm import tqdm\n",
    "import matplotlib.pyplot as plt\n",
    "from statsmodels.tsa.arima.model import ARIMA\n",
    "from pandas import datetime\n",
    "from pmdarima.arima import auto_arima\n",
    "from sklearn.model_selection import GridSearchCV\n",
    "import statsmodels.api as sm\n",
    "import warnings"
   ]
  },
  {
   "cell_type": "code",
   "execution_count": 2,
   "metadata": {},
   "outputs": [
    {
     "data": {
      "text/html": [
       "<div>\n",
       "<style scoped>\n",
       "    .dataframe tbody tr th:only-of-type {\n",
       "        vertical-align: middle;\n",
       "    }\n",
       "\n",
       "    .dataframe tbody tr th {\n",
       "        vertical-align: top;\n",
       "    }\n",
       "\n",
       "    .dataframe thead th {\n",
       "        text-align: right;\n",
       "    }\n",
       "</style>\n",
       "<table border=\"1\" class=\"dataframe\">\n",
       "  <thead>\n",
       "    <tr style=\"text-align: right;\">\n",
       "      <th></th>\n",
       "      <th>종목명</th>\n",
       "      <th>종목코드</th>\n",
       "      <th>상장시장</th>\n",
       "    </tr>\n",
       "  </thead>\n",
       "  <tbody>\n",
       "    <tr>\n",
       "      <th>0</th>\n",
       "      <td>삼성전자</td>\n",
       "      <td>005930</td>\n",
       "      <td>KOSPI</td>\n",
       "    </tr>\n",
       "    <tr>\n",
       "      <th>1</th>\n",
       "      <td>SK하이닉스</td>\n",
       "      <td>000660</td>\n",
       "      <td>KOSPI</td>\n",
       "    </tr>\n",
       "    <tr>\n",
       "      <th>2</th>\n",
       "      <td>NAVER</td>\n",
       "      <td>035420</td>\n",
       "      <td>KOSPI</td>\n",
       "    </tr>\n",
       "    <tr>\n",
       "      <th>3</th>\n",
       "      <td>카카오</td>\n",
       "      <td>035720</td>\n",
       "      <td>KOSPI</td>\n",
       "    </tr>\n",
       "    <tr>\n",
       "      <th>4</th>\n",
       "      <td>삼성바이오로직스</td>\n",
       "      <td>207940</td>\n",
       "      <td>KOSPI</td>\n",
       "    </tr>\n",
       "    <tr>\n",
       "      <th>...</th>\n",
       "      <td>...</td>\n",
       "      <td>...</td>\n",
       "      <td>...</td>\n",
       "    </tr>\n",
       "    <tr>\n",
       "      <th>365</th>\n",
       "      <td>맘스터치</td>\n",
       "      <td>220630</td>\n",
       "      <td>KOSDAQ</td>\n",
       "    </tr>\n",
       "    <tr>\n",
       "      <th>366</th>\n",
       "      <td>다날</td>\n",
       "      <td>064260</td>\n",
       "      <td>KOSDAQ</td>\n",
       "    </tr>\n",
       "    <tr>\n",
       "      <th>367</th>\n",
       "      <td>제이시스메디칼</td>\n",
       "      <td>287410</td>\n",
       "      <td>KOSDAQ</td>\n",
       "    </tr>\n",
       "    <tr>\n",
       "      <th>368</th>\n",
       "      <td>크리스에프앤씨</td>\n",
       "      <td>110790</td>\n",
       "      <td>KOSDAQ</td>\n",
       "    </tr>\n",
       "    <tr>\n",
       "      <th>369</th>\n",
       "      <td>쎄트렉아이</td>\n",
       "      <td>099320</td>\n",
       "      <td>KOSDAQ</td>\n",
       "    </tr>\n",
       "  </tbody>\n",
       "</table>\n",
       "<p>370 rows × 3 columns</p>\n",
       "</div>"
      ],
      "text/plain": [
       "          종목명    종목코드    상장시장\n",
       "0        삼성전자  005930   KOSPI\n",
       "1      SK하이닉스  000660   KOSPI\n",
       "2       NAVER  035420   KOSPI\n",
       "3         카카오  035720   KOSPI\n",
       "4    삼성바이오로직스  207940   KOSPI\n",
       "..        ...     ...     ...\n",
       "365      맘스터치  220630  KOSDAQ\n",
       "366        다날  064260  KOSDAQ\n",
       "367   제이시스메디칼  287410  KOSDAQ\n",
       "368   크리스에프앤씨  110790  KOSDAQ\n",
       "369     쎄트렉아이  099320  KOSDAQ\n",
       "\n",
       "[370 rows x 3 columns]"
      ]
     },
     "execution_count": 2,
     "metadata": {},
     "output_type": "execute_result"
    }
   ],
   "source": [
    "# read stock code, list\n",
    "\n",
    "path = './open'\n",
    "list_name = 'Stock_List.csv'\n",
    "sample_name = 'sample_submission.csv'\n",
    "\n",
    "stock_list = pd.read_csv(os.path.join(path,list_name))\n",
    "stock_list['종목코드'] = stock_list['종목코드'].apply(lambda x : str(x).zfill(6))\n",
    "sample_submission = pd.read_csv(os.path.join(path,sample_name))\n",
    "stock_list"
   ]
  },
  {
   "cell_type": "code",
   "execution_count": 3,
   "metadata": {},
   "outputs": [
    {
     "name": "stdout",
     "output_type": "stream",
     "text": [
      "WEEKDAY of \"start_date\" : 4\n",
      "NUM of WEEKS to \"end_date\" : 43\n",
      "HOW MANY \"Business_days\" : (216, 1)\n"
     ]
    },
    {
     "data": {
      "text/html": [
       "<div>\n",
       "<style scoped>\n",
       "    .dataframe tbody tr th:only-of-type {\n",
       "        vertical-align: middle;\n",
       "    }\n",
       "\n",
       "    .dataframe tbody tr th {\n",
       "        vertical-align: top;\n",
       "    }\n",
       "\n",
       "    .dataframe thead th {\n",
       "        text-align: right;\n",
       "    }\n",
       "</style>\n",
       "<table border=\"1\" class=\"dataframe\">\n",
       "  <thead>\n",
       "    <tr style=\"text-align: right;\">\n",
       "      <th></th>\n",
       "      <th>Date</th>\n",
       "    </tr>\n",
       "  </thead>\n",
       "  <tbody>\n",
       "    <tr>\n",
       "      <th>0</th>\n",
       "      <td>2021-01-01</td>\n",
       "    </tr>\n",
       "    <tr>\n",
       "      <th>1</th>\n",
       "      <td>2021-01-04</td>\n",
       "    </tr>\n",
       "    <tr>\n",
       "      <th>2</th>\n",
       "      <td>2021-01-05</td>\n",
       "    </tr>\n",
       "    <tr>\n",
       "      <th>3</th>\n",
       "      <td>2021-01-06</td>\n",
       "    </tr>\n",
       "    <tr>\n",
       "      <th>4</th>\n",
       "      <td>2021-01-07</td>\n",
       "    </tr>\n",
       "  </tbody>\n",
       "</table>\n",
       "</div>"
      ],
      "text/plain": [
       "        Date\n",
       "0 2021-01-01\n",
       "1 2021-01-04\n",
       "2 2021-01-05\n",
       "3 2021-01-06\n",
       "4 2021-01-07"
      ]
     },
     "metadata": {},
     "output_type": "display_data"
    },
    {
     "data": {
      "text/html": [
       "<div>\n",
       "<style scoped>\n",
       "    .dataframe tbody tr th:only-of-type {\n",
       "        vertical-align: middle;\n",
       "    }\n",
       "\n",
       "    .dataframe tbody tr th {\n",
       "        vertical-align: top;\n",
       "    }\n",
       "\n",
       "    .dataframe thead th {\n",
       "        text-align: right;\n",
       "    }\n",
       "</style>\n",
       "<table border=\"1\" class=\"dataframe\">\n",
       "  <thead>\n",
       "    <tr style=\"text-align: right;\">\n",
       "      <th></th>\n",
       "      <th>Date</th>\n",
       "    </tr>\n",
       "  </thead>\n",
       "  <tbody>\n",
       "    <tr>\n",
       "      <th>211</th>\n",
       "      <td>2021-10-25</td>\n",
       "    </tr>\n",
       "    <tr>\n",
       "      <th>212</th>\n",
       "      <td>2021-10-26</td>\n",
       "    </tr>\n",
       "    <tr>\n",
       "      <th>213</th>\n",
       "      <td>2021-10-27</td>\n",
       "    </tr>\n",
       "    <tr>\n",
       "      <th>214</th>\n",
       "      <td>2021-10-28</td>\n",
       "    </tr>\n",
       "    <tr>\n",
       "      <th>215</th>\n",
       "      <td>2021-10-29</td>\n",
       "    </tr>\n",
       "  </tbody>\n",
       "</table>\n",
       "</div>"
      ],
      "text/plain": [
       "          Date\n",
       "211 2021-10-25\n",
       "212 2021-10-26\n",
       "213 2021-10-27\n",
       "214 2021-10-28\n",
       "215 2021-10-29"
      ]
     },
     "metadata": {},
     "output_type": "display_data"
    }
   ],
   "source": [
    "# start_date = '20210101'\n",
    "start_date = '20210101'\n",
    "end_date = '20211031'\n",
    "\n",
    "start_weekday = pd.to_datetime(start_date).weekday()\n",
    "max_weeknum = pd.to_datetime(end_date).strftime('%V')\n",
    "Business_days = pd.DataFrame(pd.date_range(start_date,end_date,freq='B'), columns = ['Date'])\n",
    "\n",
    "print(f'WEEKDAY of \"start_date\" : {start_weekday}')\n",
    "print(f'NUM of WEEKS to \"end_date\" : {max_weeknum}')\n",
    "print(f'HOW MANY \"Business_days\" : {Business_days.shape}', )\n",
    "display(Business_days.head())\n",
    "display(Business_days.tail())\n",
    "\n",
    "sample_submission = pd.read_csv(os.path.join(path,sample_name))"
   ]
  },
  {
   "cell_type": "code",
   "execution_count": 4,
   "metadata": {},
   "outputs": [],
   "source": [
    "def get_predict(x_close):\n",
    "    \n",
    "    param_grid = {\n",
    "        'order': [(0,1,1),(1,1,0),(1,1,1),(2,1,0),(3,1,0),(4,1,0),(0,1,2),(0,1,3),(0,1,4)],\n",
    "        'criterion': [\"mse\", \"mae\"],\n",
    "    }\n",
    "\n",
    "    grid_search = GridSearchCV(ARIMA(x_close, order=(0,1,0)), param_grid=param_grid, n_jobs=-1)\n",
    "    grid_search.fit(x_close)\n",
    "    best_grid = grid_search.best_estimator_\n",
    "    prediction_close = best_grid.predcit(steps=5)\n",
    "\n",
    "    return prediction_close"
   ]
  },
  {
   "cell_type": "code",
   "execution_count": 5,
   "metadata": {},
   "outputs": [],
   "source": [
    "# evaluate an ARIMA model for a given order (p,d,q)\n",
    "def evaluate_arima_model(X, arima_order):\n",
    "\t# prepare training dataset\n",
    "\ttrain_size = len(X)-5\n",
    "\ttrain, test = X[0:train_size], X[train_size:]\n",
    "\n",
    "\t# make predictions\n",
    "\t# predictions = []\n",
    "\n",
    "\tmodel = ARIMA(train, order=arima_order)\n",
    "\tmodel_fit = model.fit()\n",
    "\t# yhat = model_fit.forecast(steps=5)\n",
    "\t# yhat=list(yhat)\n",
    "\t# test=list(test)\n",
    "\t# predictions.append(yhat)\n",
    "\t# # calculate out of sample error\n",
    "\t# error = mean_squared_error(test, yhat)\n",
    "\treturn model_fit.aic"
   ]
  },
  {
   "cell_type": "code",
   "execution_count": 6,
   "metadata": {},
   "outputs": [],
   "source": [
    "\n",
    "# evaluate combinations of p, d and q values for an ARIMA model\n",
    "def evaluate_models(dataset, p_values, d_values, q_values):\n",
    "\tdataset = dataset.astype('float32')\n",
    "\tbest_score, best_cfg = float(\"inf\"), None\n",
    "\tfor p in p_values:\n",
    "\t\tfor d in d_values:\n",
    "\t\t\tfor q in q_values:\n",
    "\t\t\t\torder = (p,d,q)\n",
    "\n",
    "\t\t\t\ttry:\n",
    "\t\t\t\t\tmse = evaluate_arima_model(dataset, order)\n",
    "\t\t\t\t\tif mse > 1000:\n",
    "\t\t\t\t\t\tif mse < best_score:\n",
    "\t\t\t\t\t\t\tbest_score, best_cfg = mse, order\n",
    "\t\t\t\t\t\t\tprint('ARIMA%s AIC=%.3f' % (order,mse))\n",
    "\t\t\t\texcept:\n",
    "\t\t\t\t\tcontinue\n",
    "\tprint('Best ARIMA%s AIC=%.3f' % (best_cfg, best_score))\n",
    "\t\n",
    "\n",
    "\tmodel = ARIMA(dataset, order=best_cfg)\n",
    "\tmodel_fit = model.fit()\n",
    "\tprediction = model_fit.forecast(steps=5)\n",
    "\tprint(list(prediction))\n",
    "\treturn prediction"
   ]
  },
  {
   "cell_type": "code",
   "execution_count": 7,
   "metadata": {},
   "outputs": [
    {
     "name": "stdout",
     "output_type": "stream",
     "text": [
      "0      83000.0\n",
      "1      83000.0\n",
      "2      83900.0\n",
      "3      82200.0\n",
      "4      82900.0\n",
      "        ...   \n",
      "211    70200.0\n",
      "212    71100.0\n",
      "213    70100.0\n",
      "214    70700.0\n",
      "215    69800.0\n",
      "Name: Close, Length: 216, dtype: float64\n",
      "ARIMA(0, 1, 0) AIC=3529.414\n",
      "ARIMA(2, 1, 2) AIC=3509.505\n",
      "Best ARIMA(2, 1, 2) AIC=3509.505\n",
      "[69817.87679461033, 69950.98235576077, 69904.74943178183, 69789.96703501664, 69858.7781448329]\n"
     ]
    },
    {
     "data": {
      "text/plain": [
       "[69817.87679461033,\n",
       " 69950.98235576077,\n",
       " 69904.74943178183,\n",
       " 69789.96703501664,\n",
       " 69858.7781448329]"
      ]
     },
     "execution_count": 7,
     "metadata": {},
     "output_type": "execute_result"
    }
   ],
   "source": [
    "p_values=[0,1,2,3]\n",
    "d_values=[1,2]\n",
    "q_values=[0,1,2,3]\n",
    "warnings.filterwarnings(\"ignore\")\n",
    "sample_code = stock_list.loc[0,'종목코드']\n",
    "\n",
    "sample = fdr.DataReader(sample_code, start = start_date, end = end_date)[['Close']].reset_index()\n",
    "sample = pd.merge(Business_days, sample, how = 'outer')\n",
    "sample.Close = sample.Close.ffill()\n",
    "sample.Close = sample.Close.bfill()\n",
    "sample_data = sample['Close'][:]\n",
    "# sample_data = list(sample_data)\n",
    "print(sample_data)\n",
    "\n",
    "\n",
    "prediction=evaluate_models(sample_data,p_values,d_values,q_values)    \n",
    "prediction=list(prediction)\n",
    "prediction\n",
    "\n"
   ]
  },
  {
   "cell_type": "code",
   "execution_count": 8,
   "metadata": {},
   "outputs": [
    {
     "name": "stderr",
     "output_type": "stream",
     "text": [
      "  0%|          | 0/370 [00:00<?, ?it/s]"
     ]
    },
    {
     "name": "stdout",
     "output_type": "stream",
     "text": [
      "ARIMA(0, 1, 0) AIC=3529.414\n",
      "ARIMA(2, 1, 2) AIC=3509.505\n",
      "Best ARIMA(2, 1, 2) AIC=3509.505\n"
     ]
    },
    {
     "name": "stderr",
     "output_type": "stream",
     "text": [
      "  0%|          | 1/370 [00:08<55:01,  8.95s/it]"
     ]
    },
    {
     "name": "stdout",
     "output_type": "stream",
     "text": [
      "[69817.87679461033, 69950.98235576077, 69904.74943178183, 69789.96703501664, 69858.7781448329]\n",
      "ARIMA(0, 1, 0) AIC=3928.297\n"
     ]
    },
    {
     "name": "stderr",
     "output_type": "stream",
     "text": [
      "  1%|          | 2/370 [00:17<53:18,  8.69s/it]"
     ]
    },
    {
     "name": "stdout",
     "output_type": "stream",
     "text": [
      "Best ARIMA(0, 1, 0) AIC=3928.297\n",
      "[103000.0, 103000.0, 103000.0, 103000.0, 103000.0]\n",
      "ARIMA(0, 1, 0) AIC=4373.620\n",
      "ARIMA(2, 1, 3) AIC=4371.322\n",
      "ARIMA(3, 1, 2) AIC=4371.310\n",
      "Best ARIMA(3, 1, 2) AIC=4371.310\n"
     ]
    },
    {
     "name": "stderr",
     "output_type": "stream",
     "text": [
      "  1%|          | 3/370 [00:25<51:22,  8.40s/it]"
     ]
    },
    {
     "name": "stdout",
     "output_type": "stream",
     "text": [
      "[407487.5167744472, 407039.03691057797, 407476.58284448535, 407049.16991001024, 407466.4029298512]\n",
      "ARIMA(0, 1, 0) AIC=3967.615\n"
     ]
    },
    {
     "name": "stderr",
     "output_type": "stream",
     "text": [
      "  1%|          | 4/370 [00:32<48:37,  7.97s/it]"
     ]
    },
    {
     "name": "stdout",
     "output_type": "stream",
     "text": [
      "Best ARIMA(0, 1, 0) AIC=3967.615\n",
      "[125500.0, 125500.0, 125500.0, 125500.0, 125500.0]\n",
      "ARIMA(0, 1, 0) AIC=4693.082\n",
      "ARIMA(2, 1, 3) AIC=4690.615\n",
      "ARIMA(3, 1, 2) AIC=4690.437\n",
      "Best ARIMA(3, 1, 2) AIC=4690.437\n"
     ]
    },
    {
     "name": "stderr",
     "output_type": "stream",
     "text": [
      "  1%|▏         | 5/370 [00:41<51:06,  8.40s/it]"
     ]
    },
    {
     "name": "stdout",
     "output_type": "stream",
     "text": [
      "[874169.6813758446, 875904.1457851502, 873320.7889723568, 871166.189108988, 873363.6591970451]\n",
      "ARIMA(0, 1, 0) AIC=3411.288\n",
      "ARIMA(2, 1, 2) AIC=3406.275\n",
      "ARIMA(3, 1, 2) AIC=3395.893\n",
      "Best ARIMA(3, 1, 2) AIC=3395.893\n"
     ]
    },
    {
     "name": "stderr",
     "output_type": "stream",
     "text": [
      "  2%|▏         | 6/370 [00:51<52:47,  8.70s/it]"
     ]
    },
    {
     "name": "stdout",
     "output_type": "stream",
     "text": [
      "[64052.67082752067, 64179.40457721774, 64109.918654393965, 64008.514571400534, 64096.148095039134]\n",
      "ARIMA(0, 1, 0) AIC=4797.809\n",
      "ARIMA(2, 1, 2) AIC=4789.615\n",
      "Best ARIMA(2, 1, 2) AIC=4789.615\n"
     ]
    },
    {
     "name": "stderr",
     "output_type": "stream",
     "text": [
      "  2%|▏         | 7/370 [00:59<52:15,  8.64s/it]"
     ]
    },
    {
     "name": "stdout",
     "output_type": "stream",
     "text": [
      "[837180.231142971, 835885.0500814859, 834982.4496859651, 836404.5640345886, 837014.6835762152]\n",
      "ARIMA(0, 1, 0) AIC=4633.794\n",
      "ARIMA(3, 1, 2) AIC=4628.587\n",
      "Best ARIMA(3, 1, 2) AIC=4628.587\n"
     ]
    },
    {
     "name": "stderr",
     "output_type": "stream",
     "text": [
      "  2%|▏         | 8/370 [01:09<53:29,  8.86s/it]"
     ]
    },
    {
     "name": "stdout",
     "output_type": "stream",
     "text": [
      "[734195.1945951334, 734985.1890164649, 733504.5644310078, 734871.0761700054, 734315.9746964404]\n",
      "ARIMA(0, 1, 0) AIC=4186.507\n",
      "ARIMA(2, 1, 2) AIC=4182.882\n",
      "ARIMA(2, 1, 3) AIC=4176.546\n",
      "Best ARIMA(2, 1, 3) AIC=4176.546\n"
     ]
    },
    {
     "name": "stderr",
     "output_type": "stream",
     "text": [
      "  2%|▏         | 9/370 [01:17<52:22,  8.70s/it]"
     ]
    },
    {
     "name": "stdout",
     "output_type": "stream",
     "text": [
      "[208153.5035445878, 208320.24232325135, 208320.6283736453, 208209.60638920977, 208224.94997676797]\n",
      "ARIMA(0, 1, 0) AIC=4366.403\n"
     ]
    },
    {
     "name": "stderr",
     "output_type": "stream",
     "text": [
      "  3%|▎         | 10/370 [01:25<51:20,  8.56s/it]"
     ]
    },
    {
     "name": "stdout",
     "output_type": "stream",
     "text": [
      "Best ARIMA(0, 1, 0) AIC=4366.403\n",
      "[200500.0, 200500.0, 200500.0, 200500.0, 200500.0]\n",
      "ARIMA(0, 1, 0) AIC=3844.318\n",
      "ARIMA(2, 1, 3) AIC=3842.762\n",
      "ARIMA(3, 1, 2) AIC=3840.933\n",
      "Best ARIMA(3, 1, 2) AIC=3840.933\n"
     ]
    },
    {
     "name": "stderr",
     "output_type": "stream",
     "text": [
      "  3%|▎         | 11/370 [01:33<50:21,  8.42s/it]"
     ]
    },
    {
     "name": "stdout",
     "output_type": "stream",
     "text": [
      "[85670.43742743321, 85592.44468511562, 85112.19502886462, 85275.62116198987, 85703.78614359247]\n",
      "ARIMA(0, 1, 0) AIC=4323.041\n",
      "ARIMA(2, 1, 2) AIC=4321.215\n",
      "Best ARIMA(2, 1, 2) AIC=4321.215\n"
     ]
    },
    {
     "name": "stderr",
     "output_type": "stream",
     "text": [
      "  3%|▎         | 12/370 [01:42<50:13,  8.42s/it]"
     ]
    },
    {
     "name": "stdout",
     "output_type": "stream",
     "text": [
      "[296162.94064878806, 295867.46745600924, 296094.592015674, 296086.51249529043, 295874.91632206575]\n",
      "ARIMA(0, 1, 0) AIC=4106.081\n",
      "ARIMA(2, 1, 2) AIC=4090.134\n",
      "Best ARIMA(2, 1, 2) AIC=4090.134\n"
     ]
    },
    {
     "name": "stderr",
     "output_type": "stream",
     "text": [
      "  4%|▎         | 13/370 [01:50<49:55,  8.39s/it]"
     ]
    },
    {
     "name": "stdout",
     "output_type": "stream",
     "text": [
      "[119853.90434376009, 119741.90595717027, 120288.88811776006, 120687.99799991319, 120388.40385200756]\n",
      "ARIMA(0, 1, 0) AIC=3879.487\n",
      "ARIMA(1, 1, 2) AIC=3879.469\n",
      "ARIMA(2, 1, 2) AIC=3858.408\n",
      "ARIMA(2, 1, 3) AIC=3853.481\n",
      "ARIMA(3, 1, 2) AIC=3851.985\n",
      "ARIMA(3, 1, 3) AIC=3849.469\n",
      "Best ARIMA(3, 1, 3) AIC=3849.469\n"
     ]
    },
    {
     "name": "stderr",
     "output_type": "stream",
     "text": [
      "  4%|▍         | 14/370 [01:58<49:01,  8.26s/it]"
     ]
    },
    {
     "name": "stdout",
     "output_type": "stream",
     "text": [
      "[114042.98462926161, 114405.23386132425, 114544.91655593026, 114200.00886889616, 114044.68647571663]\n",
      "ARIMA(0, 1, 0) AIC=4329.642\n",
      "ARIMA(2, 1, 2) AIC=4293.637\n",
      "Best ARIMA(2, 1, 2) AIC=4293.637\n"
     ]
    },
    {
     "name": "stderr",
     "output_type": "stream",
     "text": [
      "  4%|▍         | 15/370 [02:06<47:43,  8.07s/it]"
     ]
    },
    {
     "name": "stdout",
     "output_type": "stream",
     "text": [
      "[255573.63968141566, 256358.7166659951, 254383.83201273595, 250984.06778041107, 247978.94549492287]\n",
      "ARIMA(0, 1, 0) AIC=4355.848\n"
     ]
    },
    {
     "name": "stderr",
     "output_type": "stream",
     "text": [
      "  4%|▍         | 16/370 [02:13<45:45,  7.76s/it]"
     ]
    },
    {
     "name": "stdout",
     "output_type": "stream",
     "text": [
      "Best ARIMA(0, 1, 0) AIC=4355.848\n",
      "[242500.0, 242500.0, 242500.0, 242500.0, 242500.0]\n",
      "ARIMA(0, 1, 0) AIC=4847.036\n",
      "ARIMA(2, 1, 2) AIC=4838.397\n",
      "ARIMA(2, 1, 3) AIC=4838.360\n",
      "ARIMA(3, 1, 2) AIC=4838.327\n",
      "Best ARIMA(3, 1, 2) AIC=4838.327\n"
     ]
    },
    {
     "name": "stderr",
     "output_type": "stream",
     "text": [
      "  5%|▍         | 17/370 [02:22<48:02,  8.17s/it]"
     ]
    },
    {
     "name": "stdout",
     "output_type": "stream",
     "text": [
      "[1175665.1694132206, 1174967.9436938888, 1171095.9483418337, 1172944.0673193852, 1175924.477301931]\n",
      "ARIMA(0, 1, 0) AIC=4200.525\n"
     ]
    },
    {
     "name": "stderr",
     "output_type": "stream",
     "text": [
      "  5%|▍         | 18/370 [02:29<45:54,  7.82s/it]"
     ]
    },
    {
     "name": "stdout",
     "output_type": "stream",
     "text": [
      "Best ARIMA(0, 1, 0) AIC=4200.525\n",
      "[309500.0, 309500.0, 309500.0, 309500.0, 309500.0]\n",
      "ARIMA(0, 1, 0) AIC=3467.829\n"
     ]
    },
    {
     "name": "stderr",
     "output_type": "stream",
     "text": [
      "  5%|▌         | 19/370 [02:36<44:42,  7.64s/it]"
     ]
    },
    {
     "name": "stdout",
     "output_type": "stream",
     "text": [
      "Best ARIMA(0, 1, 0) AIC=3467.829\n",
      "[56600.0, 56600.0, 56600.0, 56600.0, 56600.0]\n",
      "ARIMA(0, 1, 0) AIC=3251.516\n",
      "ARIMA(2, 1, 2) AIC=3247.311\n",
      "Best ARIMA(2, 1, 2) AIC=3247.311\n"
     ]
    },
    {
     "name": "stderr",
     "output_type": "stream",
     "text": [
      "  5%|▌         | 20/370 [02:43<42:48,  7.34s/it]"
     ]
    },
    {
     "name": "stdout",
     "output_type": "stream",
     "text": [
      "[38307.910122306384, 38296.33068156205, 38248.87861924718, 38281.03572226567, 38309.59283428567]\n",
      "ARIMA(0, 1, 0) AIC=4287.543\n",
      "ARIMA(0, 1, 3) AIC=4286.025\n",
      "ARIMA(1, 1, 1) AIC=4285.422\n",
      "ARIMA(1, 1, 3) AIC=4282.103\n",
      "ARIMA(3, 1, 1) AIC=4281.882\n",
      "Best ARIMA(3, 1, 1) AIC=4281.882\n"
     ]
    },
    {
     "name": "stderr",
     "output_type": "stream",
     "text": [
      "  6%|▌         | 21/370 [02:51<43:52,  7.54s/it]"
     ]
    },
    {
     "name": "stdout",
     "output_type": "stream",
     "text": [
      "[242815.71441837537, 242295.20896957387, 241717.42067635217, 241392.99453676312, 241178.8912923227]\n",
      "ARIMA(0, 1, 0) AIC=4764.592\n",
      "ARIMA(2, 1, 2) AIC=4749.197\n",
      "Best ARIMA(2, 1, 2) AIC=4749.197\n"
     ]
    },
    {
     "name": "stderr",
     "output_type": "stream",
     "text": [
      "  6%|▌         | 22/370 [02:59<45:23,  7.83s/it]"
     ]
    },
    {
     "name": "stdout",
     "output_type": "stream",
     "text": [
      "[630056.0001428947, 629536.8273738326, 626937.6791260852, 628829.6551003364, 630257.42904674]\n",
      "ARIMA(0, 1, 0) AIC=3583.971\n"
     ]
    },
    {
     "name": "stderr",
     "output_type": "stream",
     "text": [
      "  6%|▌         | 23/370 [03:07<45:38,  7.89s/it]"
     ]
    },
    {
     "name": "stdout",
     "output_type": "stream",
     "text": [
      "Best ARIMA(0, 1, 0) AIC=3583.971\n",
      "[26650.0, 26650.0, 26650.0, 26650.0, 26650.0]\n",
      "ARIMA(0, 1, 0) AIC=3080.332\n",
      "ARIMA(3, 1, 3) AIC=3076.705\n",
      "Best ARIMA(3, 1, 3) AIC=3076.705\n"
     ]
    },
    {
     "name": "stderr",
     "output_type": "stream",
     "text": [
      "  6%|▋         | 24/370 [03:16<46:18,  8.03s/it]"
     ]
    },
    {
     "name": "stdout",
     "output_type": "stream",
     "text": [
      "[22596.061227809387, 22704.115404515826, 22850.55679127399, 22874.086983329373, 22902.005792813823]\n",
      "ARIMA(0, 1, 0) AIC=3591.454\n",
      "ARIMA(2, 1, 2) AIC=3588.824\n",
      "Best ARIMA(2, 1, 2) AIC=3588.824\n"
     ]
    },
    {
     "name": "stderr",
     "output_type": "stream",
     "text": [
      "  7%|▋         | 25/370 [03:24<46:59,  8.17s/it]"
     ]
    },
    {
     "name": "stdout",
     "output_type": "stream",
     "text": [
      "[67446.83800641373, 67628.65603257573, 67515.88281187326, 67315.5092229908, 67391.2036687268]\n",
      "ARIMA(0, 1, 0) AIC=4041.834\n",
      "ARIMA(0, 1, 2) AIC=4006.479\n",
      "ARIMA(0, 1, 3) AIC=3992.184\n",
      "ARIMA(2, 1, 2) AIC=3967.389\n",
      "Best ARIMA(2, 1, 2) AIC=3967.389\n"
     ]
    },
    {
     "name": "stderr",
     "output_type": "stream",
     "text": [
      "  7%|▋         | 26/370 [03:33<47:23,  8.27s/it]"
     ]
    },
    {
     "name": "stdout",
     "output_type": "stream",
     "text": [
      "[151822.4410502121, 151993.98943391736, 152422.94945582844, 152071.49981279753, 152099.17206005237]\n",
      "ARIMA(0, 1, 0) AIC=4046.056\n",
      "ARIMA(2, 1, 2) AIC=4039.526\n",
      "ARIMA(2, 1, 3) AIC=4035.781\n",
      "Best ARIMA(2, 1, 3) AIC=4035.781\n"
     ]
    },
    {
     "name": "stderr",
     "output_type": "stream",
     "text": [
      "  7%|▋         | 27/370 [03:41<47:19,  8.28s/it]"
     ]
    },
    {
     "name": "stdout",
     "output_type": "stream",
     "text": [
      "[159013.17707158168, 158781.25079387618, 158956.45276488498, 159145.3667691995, 158936.02187445908]\n",
      "ARIMA(0, 1, 0) AIC=4163.763\n"
     ]
    },
    {
     "name": "stderr",
     "output_type": "stream",
     "text": [
      "  8%|▊         | 28/370 [03:48<45:46,  8.03s/it]"
     ]
    },
    {
     "name": "stdout",
     "output_type": "stream",
     "text": [
      "Best ARIMA(0, 1, 0) AIC=4163.763\n",
      "[181500.0, 181500.0, 181500.0, 181500.0, 181500.0]\n",
      "ARIMA(0, 1, 0) AIC=3394.631\n",
      "ARIMA(2, 1, 2) AIC=3383.466\n",
      "Best ARIMA(2, 1, 2) AIC=3383.466\n"
     ]
    },
    {
     "name": "stderr",
     "output_type": "stream",
     "text": [
      "  8%|▊         | 29/370 [03:56<44:58,  7.91s/it]"
     ]
    },
    {
     "name": "stdout",
     "output_type": "stream",
     "text": [
      "[45114.50841758754, 45139.38532137667, 45030.97361206959, 44986.645733551355, 45085.493078194166]\n",
      "ARIMA(0, 1, 0) AIC=3927.545\n",
      "ARIMA(2, 1, 3) AIC=3915.602\n",
      "ARIMA(3, 1, 2) AIC=3915.460\n",
      "Best ARIMA(3, 1, 2) AIC=3915.460\n"
     ]
    },
    {
     "name": "stderr",
     "output_type": "stream",
     "text": [
      "  8%|▊         | 30/370 [04:05<46:12,  8.15s/it]"
     ]
    },
    {
     "name": "stdout",
     "output_type": "stream",
     "text": [
      "[123397.03694845052, 123193.08439296455, 123085.62692923534, 123174.16930330699, 123368.58348590281]\n",
      "ARIMA(0, 1, 0) AIC=4067.537\n"
     ]
    },
    {
     "name": "stderr",
     "output_type": "stream",
     "text": [
      "  8%|▊         | 31/370 [04:12<45:10,  7.99s/it]"
     ]
    },
    {
     "name": "stdout",
     "output_type": "stream",
     "text": [
      "Best ARIMA(0, 1, 0) AIC=4067.537\n",
      "[145500.0, 145500.0, 145500.0, 145500.0, 145500.0]\n",
      "ARIMA(0, 1, 0) AIC=4352.484\n"
     ]
    },
    {
     "name": "stderr",
     "output_type": "stream",
     "text": [
      "  9%|▊         | 32/370 [04:20<44:00,  7.81s/it]"
     ]
    },
    {
     "name": "stdout",
     "output_type": "stream",
     "text": [
      "Best ARIMA(0, 1, 0) AIC=4352.484\n",
      "[335000.0, 335000.0, 335000.0, 335000.0, 335000.0]\n",
      "ARIMA(0, 1, 0) AIC=3462.707\n",
      "ARIMA(0, 1, 1) AIC=3459.190\n",
      "ARIMA(0, 1, 2) AIC=3453.288\n",
      "ARIMA(2, 1, 0) AIC=3453.078\n"
     ]
    },
    {
     "name": "stderr",
     "output_type": "stream",
     "text": [
      "  9%|▉         | 33/370 [04:26<41:49,  7.45s/it]"
     ]
    },
    {
     "name": "stdout",
     "output_type": "stream",
     "text": [
      "Best ARIMA(2, 1, 0) AIC=3453.078\n",
      "[24140.364707913788, 24204.085783660063, 24155.50983457027, 24171.546199857054, 24161.943973165824]\n",
      "ARIMA(0, 1, 0) AIC=3831.394\n"
     ]
    },
    {
     "name": "stderr",
     "output_type": "stream",
     "text": [
      "  9%|▉         | 34/370 [04:34<41:46,  7.46s/it]"
     ]
    },
    {
     "name": "stdout",
     "output_type": "stream",
     "text": [
      "Best ARIMA(0, 1, 0) AIC=3831.394\n",
      "[102500.0, 102500.0, 102500.0, 102500.0, 102500.0]\n",
      "ARIMA(0, 1, 0) AIC=3228.543\n",
      "ARIMA(2, 1, 3) AIC=3225.871\n",
      "ARIMA(3, 1, 2) AIC=3225.782\n",
      "Best ARIMA(3, 1, 2) AIC=3225.782\n"
     ]
    },
    {
     "name": "stderr",
     "output_type": "stream",
     "text": [
      "  9%|▉         | 35/370 [04:42<43:17,  7.75s/it]"
     ]
    },
    {
     "name": "stdout",
     "output_type": "stream",
     "text": [
      "[81159.86243610356, 81178.06550692748, 81134.94366218903, 81136.57970435993, 81173.6155330987]\n",
      "ARIMA(0, 1, 0) AIC=3296.920\n",
      "ARIMA(2, 1, 3) AIC=3295.811\n",
      "Best ARIMA(2, 1, 3) AIC=3295.811\n"
     ]
    },
    {
     "name": "stderr",
     "output_type": "stream",
     "text": [
      " 10%|▉         | 36/370 [04:50<42:26,  7.62s/it]"
     ]
    },
    {
     "name": "stdout",
     "output_type": "stream",
     "text": [
      "[30437.317034322918, 30541.10208531681, 30692.72829737507, 30787.029889795074, 30761.33093043846]\n",
      "ARIMA(0, 1, 0) AIC=3910.481\n",
      "ARIMA(2, 1, 2) AIC=3910.031\n"
     ]
    },
    {
     "name": "stderr",
     "output_type": "stream",
     "text": [
      " 10%|█         | 37/370 [04:58<44:11,  7.96s/it]"
     ]
    },
    {
     "name": "stdout",
     "output_type": "stream",
     "text": [
      "Best ARIMA(2, 1, 2) AIC=3910.031\n",
      "[230647.0822105139, 230628.3142947515, 230549.90669373824, 230558.68908735743, 230539.10218343945]\n",
      "ARIMA(0, 1, 0) AIC=4462.633\n",
      "ARIMA(0, 1, 2) AIC=4443.564\n",
      "ARIMA(0, 1, 3) AIC=4441.331\n"
     ]
    },
    {
     "name": "stderr",
     "output_type": "stream",
     "text": [
      " 10%|█         | 38/370 [05:06<43:26,  7.85s/it]"
     ]
    },
    {
     "name": "stdout",
     "output_type": "stream",
     "text": [
      "Best ARIMA(0, 1, 3) AIC=4441.331\n",
      "[534227.9000039529, 536170.4907640035, 535903.0942527772, 535903.0942527772, 535903.0942527772]\n",
      "ARIMA(0, 1, 0) AIC=3968.159\n",
      "ARIMA(0, 1, 2) AIC=3968.029\n",
      "ARIMA(2, 1, 0) AIC=3967.904\n"
     ]
    },
    {
     "name": "stderr",
     "output_type": "stream",
     "text": [
      " 11%|█         | 39/370 [05:13<42:23,  7.68s/it]"
     ]
    },
    {
     "name": "stdout",
     "output_type": "stream",
     "text": [
      "Best ARIMA(2, 1, 0) AIC=3967.904\n",
      "[102855.5184720347, 102913.11068237692, 102904.76087478023, 102908.0777600576, 102907.59522094199]\n",
      "ARIMA(0, 1, 0) AIC=3959.127\n",
      "ARIMA(0, 1, 2) AIC=3955.967\n",
      "ARIMA(2, 1, 0) AIC=3955.818\n"
     ]
    },
    {
     "name": "stderr",
     "output_type": "stream",
     "text": [
      " 11%|█         | 40/370 [05:21<42:07,  7.66s/it]"
     ]
    },
    {
     "name": "stdout",
     "output_type": "stream",
     "text": [
      "Best ARIMA(2, 1, 0) AIC=3955.818\n",
      "[94497.7925473174, 94366.38601512203, 94361.49225697652, 94354.29350880349, 94354.06420615989]\n",
      "ARIMA(0, 1, 0) AIC=4286.127\n",
      "ARIMA(3, 1, 3) AIC=4278.379\n",
      "Best ARIMA(3, 1, 3) AIC=4278.379\n"
     ]
    },
    {
     "name": "stderr",
     "output_type": "stream",
     "text": [
      " 11%|█         | 41/370 [05:31<46:20,  8.45s/it]"
     ]
    },
    {
     "name": "stdout",
     "output_type": "stream",
     "text": [
      "[-26555921.506618246, 27833765.52708888, -26911910.39256595, 28188422.500170812, -27265205.962576583]\n",
      "ARIMA(0, 1, 0) AIC=3136.743\n"
     ]
    },
    {
     "name": "stderr",
     "output_type": "stream",
     "text": [
      " 11%|█▏        | 42/370 [05:39<44:35,  8.16s/it]"
     ]
    },
    {
     "name": "stdout",
     "output_type": "stream",
     "text": [
      "Best ARIMA(0, 1, 0) AIC=3136.743\n",
      "[30500.0, 30500.0, 30500.0, 30500.0, 30500.0]\n",
      "ARIMA(0, 1, 0) AIC=3111.126\n",
      "ARIMA(0, 1, 1) AIC=3105.413\n",
      "ARIMA(0, 1, 2) AIC=3104.237\n",
      "ARIMA(2, 1, 3) AIC=3100.263\n",
      "Best ARIMA(2, 1, 3) AIC=3100.263\n"
     ]
    },
    {
     "name": "stderr",
     "output_type": "stream",
     "text": [
      " 12%|█▏        | 43/370 [05:46<44:06,  8.09s/it]"
     ]
    },
    {
     "name": "stdout",
     "output_type": "stream",
     "text": [
      "[14454.804353677677, 14510.912734334775, 14517.83343838071, 14465.516270923043, 14487.669520810414]\n",
      "ARIMA(0, 1, 0) AIC=3206.173\n"
     ]
    },
    {
     "name": "stderr",
     "output_type": "stream",
     "text": [
      " 12%|█▏        | 44/370 [05:54<43:26,  8.00s/it]"
     ]
    },
    {
     "name": "stdout",
     "output_type": "stream",
     "text": [
      "Best ARIMA(0, 1, 0) AIC=3206.173\n",
      "[19700.0, 19700.0, 19700.0, 19700.0, 19700.0]\n",
      "ARIMA(0, 1, 0) AIC=2713.855\n",
      "ARIMA(0, 2, 1) AIC=2708.789\n",
      "ARIMA(2, 1, 2) AIC=2708.156\n"
     ]
    },
    {
     "name": "stderr",
     "output_type": "stream",
     "text": [
      " 12%|█▏        | 45/370 [06:02<42:05,  7.77s/it]"
     ]
    },
    {
     "name": "stdout",
     "output_type": "stream",
     "text": [
      "Best ARIMA(2, 1, 2) AIC=2708.156\n",
      "[13271.058546276996, 13278.293142005692, 13274.343987308017, 13270.636652313007, 13270.518542294263]\n",
      "ARIMA(0, 1, 0) AIC=3532.905\n",
      "ARIMA(0, 1, 2) AIC=3526.243\n",
      "ARIMA(0, 1, 3) AIC=3525.476\n",
      "ARIMA(1, 1, 2) AIC=3522.777\n",
      "ARIMA(2, 1, 1) AIC=3521.892\n",
      "ARIMA(3, 1, 3) AIC=3520.846\n",
      "Best ARIMA(3, 1, 3) AIC=3520.846\n"
     ]
    },
    {
     "name": "stderr",
     "output_type": "stream",
     "text": [
      " 12%|█▏        | 46/370 [06:10<43:55,  8.14s/it]"
     ]
    },
    {
     "name": "stdout",
     "output_type": "stream",
     "text": [
      "[40708.98745229749, 40624.6193630374, 40448.58861062865, 40403.979739036484, 40362.25731918786]\n",
      "ARIMA(0, 1, 0) AIC=2618.331\n",
      "ARIMA(0, 2, 1) AIC=2612.848\n",
      "ARIMA(2, 1, 2) AIC=2611.983\n",
      "Best ARIMA(2, 1, 2) AIC=2611.983\n"
     ]
    },
    {
     "name": "stderr",
     "output_type": "stream",
     "text": [
      " 13%|█▎        | 47/370 [06:19<43:38,  8.11s/it]"
     ]
    },
    {
     "name": "stdout",
     "output_type": "stream",
     "text": [
      "[11079.92817201755, 11064.784036947372, 11032.35056834929, 11042.03248721004, 11076.051399578719]\n",
      "ARIMA(0, 1, 0) AIC=4168.627\n",
      "ARIMA(1, 1, 1) AIC=4161.017\n",
      "ARIMA(3, 1, 3) AIC=4153.841\n",
      "Best ARIMA(3, 1, 3) AIC=4153.841\n"
     ]
    },
    {
     "name": "stderr",
     "output_type": "stream",
     "text": [
      " 13%|█▎        | 48/370 [06:26<43:13,  8.05s/it]"
     ]
    },
    {
     "name": "stdout",
     "output_type": "stream",
     "text": [
      "[167412.51126910196, 167325.4213431982, 166856.5214313077, 166621.49945951835, 166326.7763465752]\n",
      "ARIMA(0, 1, 0) AIC=3576.207\n"
     ]
    },
    {
     "name": "stderr",
     "output_type": "stream",
     "text": [
      " 13%|█▎        | 49/370 [06:34<42:30,  7.95s/it]"
     ]
    },
    {
     "name": "stdout",
     "output_type": "stream",
     "text": [
      "Best ARIMA(0, 1, 0) AIC=3576.207\n",
      "[44450.0, 44450.0, 44450.0, 44450.0, 44450.0]\n",
      "ARIMA(0, 1, 0) AIC=4374.465\n",
      "ARIMA(0, 1, 2) AIC=4368.443\n",
      "ARIMA(1, 1, 2) AIC=4367.831\n",
      "ARIMA(2, 1, 0) AIC=4367.492\n",
      "ARIMA(2, 1, 2) AIC=4337.512\n",
      "Best ARIMA(2, 1, 2) AIC=4337.512\n"
     ]
    },
    {
     "name": "stderr",
     "output_type": "stream",
     "text": [
      " 14%|█▎        | 50/370 [06:43<43:17,  8.12s/it]"
     ]
    },
    {
     "name": "stdout",
     "output_type": "stream",
     "text": [
      "[380094.82299922284, 377541.2363166889, 378663.00099004, 380381.6170607071, 378582.9110905155]\n",
      "ARIMA(0, 1, 0) AIC=2807.550\n",
      "ARIMA(0, 1, 1) AIC=2804.893\n",
      "ARIMA(0, 2, 2) AIC=2803.742\n",
      "ARIMA(1, 2, 1) AIC=2803.512\n"
     ]
    },
    {
     "name": "stderr",
     "output_type": "stream",
     "text": [
      " 14%|█▍        | 51/370 [06:49<40:46,  7.67s/it]"
     ]
    },
    {
     "name": "stdout",
     "output_type": "stream",
     "text": [
      "Best ARIMA(1, 2, 1) AIC=2803.512\n",
      "[14384.075327310287, 14394.543225550307, 14408.038746858834, 14421.145979319064, 14434.30300933543]\n",
      "ARIMA(0, 1, 0) AIC=4389.161\n",
      "ARIMA(0, 1, 2) AIC=4388.899\n",
      "ARIMA(2, 1, 0) AIC=4388.547\n"
     ]
    },
    {
     "name": "stderr",
     "output_type": "stream",
     "text": [
      " 14%|█▍        | 52/370 [06:55<37:34,  7.09s/it]"
     ]
    },
    {
     "name": "stdout",
     "output_type": "stream",
     "text": [
      "Best ARIMA(2, 1, 0) AIC=4388.547\n",
      "[171982.1331200076, 171895.32235754488, 171896.00009492275, 171888.406553803, 171888.66137645268]\n",
      "ARIMA(0, 1, 0) AIC=3655.106\n",
      "ARIMA(2, 1, 2) AIC=3649.917\n",
      "Best ARIMA(2, 1, 2) AIC=3649.917\n"
     ]
    },
    {
     "name": "stderr",
     "output_type": "stream",
     "text": [
      " 14%|█▍        | 53/370 [07:04<40:08,  7.60s/it]"
     ]
    },
    {
     "name": "stdout",
     "output_type": "stream",
     "text": [
      "[79084.06232612224, 79234.08463434094, 79579.07988321822, 79500.37281520697, 79141.05181002764]\n",
      "ARIMA(0, 1, 0) AIC=3492.759\n",
      "ARIMA(2, 1, 2) AIC=3485.985\n",
      "Best ARIMA(2, 1, 2) AIC=3485.985\n"
     ]
    },
    {
     "name": "stderr",
     "output_type": "stream",
     "text": [
      " 15%|█▍        | 54/370 [07:12<41:27,  7.87s/it]"
     ]
    },
    {
     "name": "stdout",
     "output_type": "stream",
     "text": [
      "[50310.395377304914, 50485.11010697965, 50577.00022463197, 50467.962923042454, 50319.1437231285]\n",
      "ARIMA(0, 1, 0) AIC=3564.748\n",
      "ARIMA(2, 1, 2) AIC=3559.699\n",
      "Best ARIMA(2, 1, 2) AIC=3559.699\n"
     ]
    },
    {
     "name": "stderr",
     "output_type": "stream",
     "text": [
      " 15%|█▍        | 55/370 [07:20<40:57,  7.80s/it]"
     ]
    },
    {
     "name": "stdout",
     "output_type": "stream",
     "text": [
      "[41678.56107097611, 41670.122206677755, 41344.37447416644, 41237.5062436859, 41519.72695267804]\n",
      "ARIMA(0, 1, 0) AIC=2707.644\n",
      "ARIMA(0, 1, 1) AIC=2706.786\n",
      "ARIMA(0, 2, 1) AIC=2704.934\n",
      "ARIMA(0, 2, 2) AIC=2704.747\n",
      "ARIMA(1, 1, 1) AIC=2704.736\n"
     ]
    },
    {
     "name": "stderr",
     "output_type": "stream",
     "text": [
      " 15%|█▌        | 56/370 [07:27<40:19,  7.71s/it]"
     ]
    },
    {
     "name": "stdout",
     "output_type": "stream",
     "text": [
      "Best ARIMA(1, 1, 1) AIC=2704.736\n",
      "[8687.57908246733, 8693.30390411882, 8697.62811923096, 8700.89439326959, 8703.361556863158]\n",
      "ARIMA(0, 1, 0) AIC=3113.540\n",
      "ARIMA(2, 1, 2) AIC=3109.982\n",
      "ARIMA(2, 1, 3) AIC=3108.930\n",
      "Best ARIMA(2, 1, 3) AIC=3108.930\n"
     ]
    },
    {
     "name": "stderr",
     "output_type": "stream",
     "text": [
      " 15%|█▌        | 57/370 [07:36<41:15,  7.91s/it]"
     ]
    },
    {
     "name": "stdout",
     "output_type": "stream",
     "text": [
      "[27865.981365927742, 27856.097449223464, 27803.44611949214, 27826.974717192003, 27869.368966305785]\n",
      "ARIMA(0, 1, 0) AIC=3840.173\n",
      "ARIMA(3, 1, 2) AIC=3839.874\n",
      "Best ARIMA(3, 1, 2) AIC=3839.874\n"
     ]
    },
    {
     "name": "stderr",
     "output_type": "stream",
     "text": [
      " 16%|█▌        | 58/370 [07:45<42:21,  8.15s/it]"
     ]
    },
    {
     "name": "stdout",
     "output_type": "stream",
     "text": [
      "[87262.30134894939, 87446.25230108821, 87262.27886737188, 87015.51362915654, 87104.35838995416]\n",
      "ARIMA(0, 1, 0) AIC=3614.354\n"
     ]
    },
    {
     "name": "stderr",
     "output_type": "stream",
     "text": [
      " 16%|█▌        | 59/370 [07:52<41:22,  7.98s/it]"
     ]
    },
    {
     "name": "stdout",
     "output_type": "stream",
     "text": [
      "Best ARIMA(0, 1, 0) AIC=3614.354\n",
      "[63200.0, 63200.0, 63200.0, 63200.0, 63200.0]\n",
      "ARIMA(0, 1, 0) AIC=4180.012\n",
      "ARIMA(2, 1, 2) AIC=4172.951\n",
      "ARIMA(2, 1, 3) AIC=4171.742\n",
      "Best ARIMA(2, 1, 3) AIC=4171.742\n"
     ]
    },
    {
     "name": "stderr",
     "output_type": "stream",
     "text": [
      " 16%|█▌        | 60/370 [08:00<41:28,  8.03s/it]"
     ]
    },
    {
     "name": "stdout",
     "output_type": "stream",
     "text": [
      "[209038.6071678612, 209316.36526748244, 209703.44627073087, 209403.51257026105, 209070.79747876717]\n",
      "ARIMA(0, 1, 0) AIC=3830.085\n",
      "ARIMA(0, 1, 3) AIC=3827.782\n",
      "ARIMA(3, 1, 1) AIC=3827.516\n",
      "ARIMA(3, 1, 3) AIC=3809.945\n",
      "Best ARIMA(3, 1, 3) AIC=3809.945\n"
     ]
    },
    {
     "name": "stderr",
     "output_type": "stream",
     "text": [
      " 16%|█▋        | 61/370 [08:08<41:31,  8.06s/it]"
     ]
    },
    {
     "name": "stdout",
     "output_type": "stream",
     "text": [
      "[57003.49119608767, 57326.93908487294, 57449.42185096929, 57302.92911136986, 57064.81236235604]\n",
      "ARIMA(0, 1, 0) AIC=3593.736\n"
     ]
    },
    {
     "name": "stderr",
     "output_type": "stream",
     "text": [
      " 17%|█▋        | 62/370 [08:16<41:00,  7.99s/it]"
     ]
    },
    {
     "name": "stdout",
     "output_type": "stream",
     "text": [
      "Best ARIMA(0, 1, 0) AIC=3593.736\n",
      "[49600.0, 49600.0, 49600.0, 49600.0, 49600.0]\n",
      "ARIMA(0, 1, 0) AIC=3286.272\n",
      "ARIMA(0, 1, 1) AIC=3284.308\n",
      "ARIMA(0, 1, 2) AIC=3280.628\n",
      "ARIMA(1, 1, 1) AIC=3278.920\n"
     ]
    },
    {
     "name": "stderr",
     "output_type": "stream",
     "text": [
      " 17%|█▋        | 63/370 [08:24<40:05,  7.84s/it]"
     ]
    },
    {
     "name": "stdout",
     "output_type": "stream",
     "text": [
      "Best ARIMA(1, 1, 1) AIC=3278.920\n",
      "[24778.01855790697, 24798.071655528867, 24779.777736388736, 24796.466802777173, 24781.241801792738]\n",
      "ARIMA(0, 1, 0) AIC=4009.702\n",
      "ARIMA(3, 1, 3) AIC=3998.338\n",
      "Best ARIMA(3, 1, 3) AIC=3998.338\n"
     ]
    },
    {
     "name": "stderr",
     "output_type": "stream",
     "text": [
      " 17%|█▋        | 64/370 [08:32<39:54,  7.83s/it]"
     ]
    },
    {
     "name": "stdout",
     "output_type": "stream",
     "text": [
      "[169057.50456083805, 169663.3342882903, 169581.3669377789, 168924.07715060748, 168002.22995165107]\n",
      "ARIMA(0, 1, 0) AIC=3816.344\n",
      "ARIMA(3, 1, 3) AIC=3806.438\n",
      "Best ARIMA(3, 1, 3) AIC=3806.438\n"
     ]
    },
    {
     "name": "stderr",
     "output_type": "stream",
     "text": [
      " 18%|█▊        | 65/370 [08:40<41:16,  8.12s/it]"
     ]
    },
    {
     "name": "stdout",
     "output_type": "stream",
     "text": [
      "[117930.90346586428, 117886.0869507253, 118034.27459068703, 117928.22972141828, 117939.09122021626]\n",
      "ARIMA(0, 1, 0) AIC=3523.200\n"
     ]
    },
    {
     "name": "stderr",
     "output_type": "stream",
     "text": [
      " 18%|█▊        | 66/370 [08:47<38:36,  7.62s/it]"
     ]
    },
    {
     "name": "stdout",
     "output_type": "stream",
     "text": [
      "Best ARIMA(0, 1, 0) AIC=3523.200\n",
      "[38050.0, 38050.0, 38050.0, 38050.0, 38050.0]\n",
      "ARIMA(0, 1, 0) AIC=3656.208\n",
      "ARIMA(2, 1, 2) AIC=3654.842\n",
      "Best ARIMA(2, 1, 2) AIC=3654.842\n"
     ]
    },
    {
     "name": "stderr",
     "output_type": "stream",
     "text": [
      " 18%|█▊        | 67/370 [08:55<39:03,  7.74s/it]"
     ]
    },
    {
     "name": "stdout",
     "output_type": "stream",
     "text": [
      "[55057.24774621871, 54837.96416916273, 54707.547005817556, 54976.54881424637, 54964.167761784665]\n",
      "ARIMA(0, 1, 0) AIC=3519.846\n",
      "ARIMA(0, 1, 3) AIC=3519.392\n",
      "ARIMA(1, 1, 2) AIC=3512.805\n",
      "ARIMA(2, 1, 2) AIC=3505.350\n",
      "Best ARIMA(2, 1, 2) AIC=3505.350\n"
     ]
    },
    {
     "name": "stderr",
     "output_type": "stream",
     "text": [
      " 18%|█▊        | 68/370 [09:04<41:20,  8.21s/it]"
     ]
    },
    {
     "name": "stdout",
     "output_type": "stream",
     "text": [
      "[59974.87857923791, 60108.29645632018, 60063.37042351088, 59932.62108833865, 59950.48153059793]\n",
      "ARIMA(0, 1, 0) AIC=3152.215\n",
      "ARIMA(2, 1, 3) AIC=3152.074\n",
      "Best ARIMA(2, 1, 3) AIC=3152.074\n"
     ]
    },
    {
     "name": "stderr",
     "output_type": "stream",
     "text": [
      " 19%|█▊        | 69/370 [09:11<39:29,  7.87s/it]"
     ]
    },
    {
     "name": "stdout",
     "output_type": "stream",
     "text": [
      "[38857.32985534681, 38803.78187858173, 38870.78896060065, 38845.344217228565, 38820.95466127883]\n",
      "ARIMA(0, 1, 0) AIC=3943.356\n",
      "ARIMA(0, 1, 2) AIC=3939.604\n",
      "ARIMA(0, 1, 3) AIC=3937.172\n",
      "ARIMA(1, 1, 2) AIC=3937.077\n",
      "ARIMA(2, 1, 2) AIC=3935.001\n",
      "ARIMA(3, 1, 3) AIC=3930.467\n",
      "Best ARIMA(3, 1, 3) AIC=3930.467\n"
     ]
    },
    {
     "name": "stderr",
     "output_type": "stream",
     "text": [
      " 19%|█▉        | 70/370 [09:19<39:43,  7.94s/it]"
     ]
    },
    {
     "name": "stdout",
     "output_type": "stream",
     "text": [
      "[141714.40763961736, 141922.32394170944, 142333.73939056578, 142771.7029095851, 142832.8865766347]\n",
      "ARIMA(0, 1, 0) AIC=3392.888\n"
     ]
    },
    {
     "name": "stderr",
     "output_type": "stream",
     "text": [
      " 19%|█▉        | 71/370 [09:26<38:18,  7.69s/it]"
     ]
    },
    {
     "name": "stdout",
     "output_type": "stream",
     "text": [
      "Best ARIMA(0, 1, 0) AIC=3392.888\n",
      "[42250.0, 42250.0, 42250.0, 42250.0, 42250.0]\n",
      "ARIMA(0, 1, 0) AIC=2534.186\n",
      "ARIMA(0, 2, 1) AIC=2530.215\n"
     ]
    },
    {
     "name": "stderr",
     "output_type": "stream",
     "text": [
      " 19%|█▉        | 72/370 [09:34<38:28,  7.75s/it]"
     ]
    },
    {
     "name": "stdout",
     "output_type": "stream",
     "text": [
      "Best ARIMA(0, 2, 1) AIC=2530.215\n",
      "[7855.800842756113, 7861.601685512225, 7867.402528268338, 7873.2033710244505, 7879.004213780563]\n",
      "ARIMA(0, 1, 0) AIC=3137.920\n"
     ]
    },
    {
     "name": "stderr",
     "output_type": "stream",
     "text": [
      " 20%|█▉        | 73/370 [09:42<38:23,  7.76s/it]"
     ]
    },
    {
     "name": "stdout",
     "output_type": "stream",
     "text": [
      "Best ARIMA(0, 1, 0) AIC=3137.920\n",
      "[34250.0, 34250.0, 34250.0, 34250.0, 34250.0]\n",
      "ARIMA(0, 1, 0) AIC=2839.504\n",
      "ARIMA(0, 2, 1) AIC=2835.164\n",
      "ARIMA(2, 2, 3) AIC=2833.555\n",
      "Best ARIMA(2, 2, 3) AIC=2833.555\n"
     ]
    },
    {
     "name": "stderr",
     "output_type": "stream",
     "text": [
      " 20%|██        | 74/370 [09:50<38:43,  7.85s/it]"
     ]
    },
    {
     "name": "stdout",
     "output_type": "stream",
     "text": [
      "[5956.140107017819, 6002.391720183717, 6039.188073844559, 5976.376719034366, 5995.513877659108]\n",
      "ARIMA(0, 1, 0) AIC=3312.915\n",
      "ARIMA(2, 1, 3) AIC=3308.171\n",
      "Best ARIMA(2, 1, 3) AIC=3308.171\n"
     ]
    },
    {
     "name": "stderr",
     "output_type": "stream",
     "text": [
      " 20%|██        | 75/370 [09:58<38:16,  7.79s/it]"
     ]
    },
    {
     "name": "stdout",
     "output_type": "stream",
     "text": [
      "[32781.65099850867, 32768.07081464703, 32717.43956073639, 32797.997694461534, 32734.235937416586]\n",
      "ARIMA(0, 1, 0) AIC=3476.094\n"
     ]
    },
    {
     "name": "stderr",
     "output_type": "stream",
     "text": [
      " 21%|██        | 76/370 [10:05<36:59,  7.55s/it]"
     ]
    },
    {
     "name": "stdout",
     "output_type": "stream",
     "text": [
      "Best ARIMA(0, 1, 0) AIC=3476.094\n",
      "[59200.0, 59200.0, 59200.0, 59200.0, 59200.0]\n",
      "ARIMA(0, 1, 0) AIC=3329.175\n",
      "ARIMA(2, 1, 2) AIC=3327.419\n",
      "Best ARIMA(2, 1, 2) AIC=3327.419\n"
     ]
    },
    {
     "name": "stderr",
     "output_type": "stream",
     "text": [
      " 21%|██        | 77/370 [10:12<37:06,  7.60s/it]"
     ]
    },
    {
     "name": "stdout",
     "output_type": "stream",
     "text": [
      "[47437.395630418534, 47471.60988146716, 47443.927033469896, 47365.07048087696, 47261.20763321043]\n",
      "ARIMA(0, 1, 0) AIC=4367.779\n",
      "ARIMA(2, 1, 2) AIC=4347.478\n",
      "ARIMA(2, 1, 3) AIC=4346.512\n",
      "Best ARIMA(2, 1, 3) AIC=4346.512\n"
     ]
    },
    {
     "name": "stderr",
     "output_type": "stream",
     "text": [
      " 21%|██        | 78/370 [10:21<37:59,  7.81s/it]"
     ]
    },
    {
     "name": "stdout",
     "output_type": "stream",
     "text": [
      "[264500.0689861188, 264952.58877155214, 264622.93505269603, 264020.6233196814, 263954.2186175977]\n",
      "ARIMA(0, 1, 0) AIC=3868.050\n",
      "ARIMA(3, 1, 3) AIC=3867.173\n",
      "Best ARIMA(3, 1, 3) AIC=3867.173\n"
     ]
    },
    {
     "name": "stderr",
     "output_type": "stream",
     "text": [
      " 21%|██▏       | 79/370 [10:30<39:33,  8.15s/it]"
     ]
    },
    {
     "name": "stdout",
     "output_type": "stream",
     "text": [
      "[97997.3924564018, 98119.98886858825, 98264.66596825013, 98225.66320753752, 98093.22483895544]\n",
      "ARIMA(0, 1, 0) AIC=4763.629\n",
      "ARIMA(1, 1, 1) AIC=4762.745\n",
      "Best ARIMA(1, 1, 1) AIC=4762.745\n"
     ]
    },
    {
     "name": "stderr",
     "output_type": "stream",
     "text": [
      " 22%|██▏       | 80/370 [10:36<36:40,  7.59s/it]"
     ]
    },
    {
     "name": "stdout",
     "output_type": "stream",
     "text": [
      "[595432.8376485177, 593884.0920810117, 592353.5468694066, 590840.988129019, 589346.2044886695]\n",
      "ARIMA(0, 1, 0) AIC=3434.551\n",
      "ARIMA(0, 1, 2) AIC=3434.449\n",
      "ARIMA(0, 1, 3) AIC=3433.634\n",
      "ARIMA(1, 1, 2) AIC=3433.481\n",
      "ARIMA(2, 1, 3) AIC=3432.919\n",
      "ARIMA(3, 1, 2) AIC=3432.888\n",
      "Best ARIMA(3, 1, 2) AIC=3432.888\n"
     ]
    },
    {
     "name": "stderr",
     "output_type": "stream",
     "text": [
      " 22%|██▏       | 81/370 [10:43<35:57,  7.47s/it]"
     ]
    },
    {
     "name": "stdout",
     "output_type": "stream",
     "text": [
      "[41480.50507157602, 41436.081978567796, 41343.97345906731, 41433.85664446065, 41464.82394887685]\n",
      "ARIMA(0, 1, 0) AIC=3824.078\n"
     ]
    },
    {
     "name": "stderr",
     "output_type": "stream",
     "text": [
      " 22%|██▏       | 82/370 [10:50<35:10,  7.33s/it]"
     ]
    },
    {
     "name": "stdout",
     "output_type": "stream",
     "text": [
      "Best ARIMA(0, 1, 0) AIC=3824.078\n",
      "[100500.0, 100500.0, 100500.0, 100500.0, 100500.0]\n",
      "ARIMA(0, 1, 0) AIC=3197.162\n"
     ]
    },
    {
     "name": "stderr",
     "output_type": "stream",
     "text": [
      " 22%|██▏       | 83/370 [10:57<34:45,  7.27s/it]"
     ]
    },
    {
     "name": "stdout",
     "output_type": "stream",
     "text": [
      "Best ARIMA(0, 1, 0) AIC=3197.162\n",
      "[32200.0, 32200.0, 32200.0, 32200.0, 32200.0]\n",
      "ARIMA(0, 1, 0) AIC=3634.497\n"
     ]
    },
    {
     "name": "stderr",
     "output_type": "stream",
     "text": [
      " 23%|██▎       | 84/370 [11:05<35:41,  7.49s/it]"
     ]
    },
    {
     "name": "stdout",
     "output_type": "stream",
     "text": [
      "Best ARIMA(0, 1, 0) AIC=3634.497\n",
      "[87400.0, 87400.0, 87400.0, 87400.0, 87400.0]\n",
      "ARIMA(0, 1, 0) AIC=2803.057\n",
      "ARIMA(0, 1, 1) AIC=2798.545\n",
      "ARIMA(0, 2, 2) AIC=2798.105\n",
      "ARIMA(2, 1, 3) AIC=2796.116\n",
      "Best ARIMA(2, 1, 3) AIC=2796.116\n"
     ]
    },
    {
     "name": "stderr",
     "output_type": "stream",
     "text": [
      " 23%|██▎       | 85/370 [11:13<36:34,  7.70s/it]"
     ]
    },
    {
     "name": "stdout",
     "output_type": "stream",
     "text": [
      "[13122.015850320544, 13150.710482777044, 13121.873272677563, 13150.456519717447, 13122.503474832178]\n",
      "ARIMA(0, 1, 0) AIC=3841.922\n",
      "ARIMA(2, 1, 2) AIC=3839.508\n",
      "Best ARIMA(2, 1, 2) AIC=3839.508\n"
     ]
    },
    {
     "name": "stderr",
     "output_type": "stream",
     "text": [
      " 23%|██▎       | 86/370 [11:22<37:32,  7.93s/it]"
     ]
    },
    {
     "name": "stdout",
     "output_type": "stream",
     "text": [
      "[69545.37726241842, 69656.24255931615, 69466.92197031167, 69468.95512533281, 69637.23084861926]\n",
      "ARIMA(0, 1, 0) AIC=3380.307\n",
      "ARIMA(0, 1, 1) AIC=3380.190\n",
      "ARIMA(0, 1, 3) AIC=3379.811\n",
      "ARIMA(2, 1, 2) AIC=3378.651\n",
      "Best ARIMA(2, 1, 2) AIC=3378.651\n"
     ]
    },
    {
     "name": "stderr",
     "output_type": "stream",
     "text": [
      " 24%|██▎       | 87/370 [11:28<34:01,  7.21s/it]"
     ]
    },
    {
     "name": "stdout",
     "output_type": "stream",
     "text": [
      "[25855.213676524647, 25817.769525830252, 25817.197625348854, 25838.431798181657, 25821.70119458145]\n",
      "ARIMA(0, 1, 0) AIC=4004.671\n",
      "ARIMA(2, 1, 3) AIC=4000.827\n",
      "Best ARIMA(2, 1, 3) AIC=4000.827\n"
     ]
    },
    {
     "name": "stderr",
     "output_type": "stream",
     "text": [
      " 24%|██▍       | 88/370 [11:36<35:31,  7.56s/it]"
     ]
    },
    {
     "name": "stdout",
     "output_type": "stream",
     "text": [
      "[116851.62835273171, 116897.94154980357, 116606.29619434329, 116588.96362331306, 116861.79090608991]\n",
      "ARIMA(0, 1, 0) AIC=4562.748\n",
      "ARIMA(0, 1, 2) AIC=4561.114\n",
      "ARIMA(0, 1, 3) AIC=4559.329\n",
      "ARIMA(1, 1, 2) AIC=4557.828\n",
      "ARIMA(2, 1, 1) AIC=4557.703\n"
     ]
    },
    {
     "name": "stderr",
     "output_type": "stream",
     "text": [
      " 24%|██▍       | 89/370 [11:44<35:35,  7.60s/it]"
     ]
    },
    {
     "name": "stdout",
     "output_type": "stream",
     "text": [
      "Best ARIMA(2, 1, 1) AIC=4557.703\n",
      "[274339.0000485348, 273886.098021661, 273582.7526412858, 273403.12230241986, 273299.15017698903]\n",
      "ARIMA(0, 1, 0) AIC=2468.647\n",
      "ARIMA(0, 2, 1) AIC=2464.198\n",
      "ARIMA(1, 2, 2) AIC=2463.697\n",
      "ARIMA(2, 2, 3) AIC=2461.633\n",
      "Best ARIMA(2, 2, 3) AIC=2461.633\n"
     ]
    },
    {
     "name": "stderr",
     "output_type": "stream",
     "text": [
      " 24%|██▍       | 90/370 [11:51<35:41,  7.65s/it]"
     ]
    },
    {
     "name": "stdout",
     "output_type": "stream",
     "text": [
      "[4667.907819618749, 4666.718661485287, 4681.047679064137, 4673.687302778377, 4693.851449950814]\n",
      "ARIMA(0, 1, 0) AIC=4111.696\n",
      "ARIMA(1, 1, 1) AIC=4109.781\n",
      "ARIMA(2, 1, 3) AIC=4108.400\n",
      "ARIMA(3, 1, 2) AIC=4108.173\n",
      "Best ARIMA(3, 1, 2) AIC=4108.173\n"
     ]
    },
    {
     "name": "stderr",
     "output_type": "stream",
     "text": [
      " 25%|██▍       | 91/370 [12:00<36:28,  7.84s/it]"
     ]
    },
    {
     "name": "stdout",
     "output_type": "stream",
     "text": [
      "[51878.79424924047, 51904.63990119648, 51528.143144386755, 51253.85221863657, 51375.83215657196]\n",
      "ARIMA(0, 1, 0) AIC=3793.665\n"
     ]
    },
    {
     "name": "stderr",
     "output_type": "stream",
     "text": [
      " 25%|██▍       | 92/370 [12:06<34:01,  7.35s/it]"
     ]
    },
    {
     "name": "stdout",
     "output_type": "stream",
     "text": [
      "Best ARIMA(0, 1, 0) AIC=3793.665\n",
      "[75700.0, 75700.0, 75700.0, 75700.0, 75700.0]\n",
      "ARIMA(0, 1, 0) AIC=3439.243\n",
      "ARIMA(2, 1, 2) AIC=3438.429\n",
      "Best ARIMA(2, 1, 2) AIC=3438.429\n"
     ]
    },
    {
     "name": "stderr",
     "output_type": "stream",
     "text": [
      " 25%|██▌       | 93/370 [12:13<34:03,  7.38s/it]"
     ]
    },
    {
     "name": "stdout",
     "output_type": "stream",
     "text": [
      "[44287.65328034984, 44552.46478370628, 44617.02238442578, 44366.2721406289, 44252.539123214665]\n",
      "ARIMA(0, 1, 0) AIC=3361.697\n"
     ]
    },
    {
     "name": "stderr",
     "output_type": "stream",
     "text": [
      " 25%|██▌       | 94/370 [12:21<34:24,  7.48s/it]"
     ]
    },
    {
     "name": "stdout",
     "output_type": "stream",
     "text": [
      "Best ARIMA(0, 1, 0) AIC=3361.697\n",
      "[21700.0, 21700.0, 21700.0, 21700.0, 21700.0]\n",
      "ARIMA(0, 1, 0) AIC=3394.384\n"
     ]
    },
    {
     "name": "stderr",
     "output_type": "stream",
     "text": [
      " 26%|██▌       | 95/370 [12:27<32:37,  7.12s/it]"
     ]
    },
    {
     "name": "stdout",
     "output_type": "stream",
     "text": [
      "Best ARIMA(0, 1, 0) AIC=3394.384\n",
      "[30550.0, 30550.0, 30550.0, 30550.0, 30550.0]\n",
      "ARIMA(0, 1, 0) AIC=3274.506\n",
      "ARIMA(0, 1, 1) AIC=3253.447\n",
      "ARIMA(0, 1, 2) AIC=3251.748\n",
      "ARIMA(0, 2, 2) AIC=3243.428\n",
      "ARIMA(0, 2, 3) AIC=3241.292\n",
      "ARIMA(1, 2, 1) AIC=3239.278\n"
     ]
    },
    {
     "name": "stderr",
     "output_type": "stream",
     "text": [
      " 26%|██▌       | 96/370 [12:34<32:30,  7.12s/it]"
     ]
    },
    {
     "name": "stdout",
     "output_type": "stream",
     "text": [
      "Best ARIMA(1, 2, 1) AIC=3239.278\n",
      "[33365.069486456785, 33485.400167230095, 33607.56768336709, 33730.376491946496, 33853.40919429713]\n",
      "ARIMA(0, 1, 0) AIC=3661.355\n",
      "ARIMA(2, 1, 2) AIC=3660.569\n"
     ]
    },
    {
     "name": "stderr",
     "output_type": "stream",
     "text": [
      " 26%|██▌       | 97/370 [12:42<32:42,  7.19s/it]"
     ]
    },
    {
     "name": "stdout",
     "output_type": "stream",
     "text": [
      "Best ARIMA(2, 1, 2) AIC=3660.569\n",
      "[52145.42443431105, 52261.57402815221, 52218.41041077196, 52200.266267295745, 52225.440281464784]\n",
      "ARIMA(0, 1, 0) AIC=3600.617\n",
      "ARIMA(2, 1, 2) AIC=3597.277\n",
      "Best ARIMA(2, 1, 2) AIC=3597.277\n"
     ]
    },
    {
     "name": "stderr",
     "output_type": "stream",
     "text": [
      " 26%|██▋       | 98/370 [12:49<33:19,  7.35s/it]"
     ]
    },
    {
     "name": "stdout",
     "output_type": "stream",
     "text": [
      "[37531.504015057886, 37756.82513911398, 37498.03520559249, 37140.4436821363, 37164.19119963097]\n",
      "ARIMA(0, 1, 0) AIC=3192.608\n",
      "ARIMA(1, 1, 1) AIC=3192.403\n",
      "ARIMA(3, 1, 3) AIC=3187.014\n",
      "Best ARIMA(3, 1, 3) AIC=3187.014\n"
     ]
    },
    {
     "name": "stderr",
     "output_type": "stream",
     "text": [
      " 27%|██▋       | 99/370 [12:57<34:07,  7.55s/it]"
     ]
    },
    {
     "name": "stdout",
     "output_type": "stream",
     "text": [
      "[16389.103870924315, 16515.238520396197, 16456.988127152068, 16528.99809599545, 16585.50913878412]\n",
      "ARIMA(0, 1, 0) AIC=3859.876\n",
      "ARIMA(3, 1, 3) AIC=3851.994\n",
      "Best ARIMA(3, 1, 3) AIC=3851.994\n"
     ]
    },
    {
     "name": "stderr",
     "output_type": "stream",
     "text": [
      " 27%|██▋       | 100/370 [13:06<34:46,  7.73s/it]"
     ]
    },
    {
     "name": "stdout",
     "output_type": "stream",
     "text": [
      "[104777.24288090518, 104830.65397871517, 104938.38764147057, 104731.61242827168, 104896.90175741767]\n",
      "ARIMA(0, 1, 0) AIC=3963.089\n",
      "ARIMA(1, 1, 3) AIC=3961.039\n",
      "ARIMA(2, 1, 2) AIC=3949.735\n",
      "Best ARIMA(2, 1, 2) AIC=3949.735\n"
     ]
    },
    {
     "name": "stderr",
     "output_type": "stream",
     "text": [
      " 27%|██▋       | 101/370 [13:14<35:07,  7.83s/it]"
     ]
    },
    {
     "name": "stdout",
     "output_type": "stream",
     "text": [
      "[105171.30236872878, 105094.48756287838, 104841.91761582454, 104542.5539792715, 104321.75222270752]\n",
      "ARIMA(0, 1, 0) AIC=2771.691\n",
      "ARIMA(0, 1, 1) AIC=2768.581\n",
      "ARIMA(0, 1, 2) AIC=2766.198\n",
      "ARIMA(0, 2, 2) AIC=2763.366\n",
      "ARIMA(0, 2, 3) AIC=2761.883\n",
      "Best ARIMA(0, 2, 3) AIC=2761.883\n"
     ]
    },
    {
     "name": "stderr",
     "output_type": "stream",
     "text": [
      " 28%|██▊       | 102/370 [13:22<35:03,  7.85s/it]"
     ]
    },
    {
     "name": "stdout",
     "output_type": "stream",
     "text": [
      "[6225.193354092542, 6191.011673573465, 6178.11282895828, 6165.213984343096, 6152.315139727912]\n",
      "ARIMA(0, 1, 0) AIC=3432.960\n",
      "ARIMA(0, 1, 2) AIC=3427.626\n",
      "ARIMA(0, 1, 3) AIC=3426.503\n",
      "ARIMA(1, 1, 2) AIC=3426.426\n",
      "Best ARIMA(1, 1, 2) AIC=3426.426\n"
     ]
    },
    {
     "name": "stderr",
     "output_type": "stream",
     "text": [
      " 28%|██▊       | 103/370 [13:30<35:37,  8.00s/it]"
     ]
    },
    {
     "name": "stdout",
     "output_type": "stream",
     "text": [
      "[83128.31760816119, 83081.63327223856, 83100.25692165793, 83092.82744213678, 83095.79126328227]\n",
      "ARIMA(0, 1, 0) AIC=3458.734\n",
      "ARIMA(1, 1, 0) AIC=3458.647\n",
      "ARIMA(2, 1, 3) AIC=3458.335\n",
      "Best ARIMA(2, 1, 3) AIC=3458.335\n"
     ]
    },
    {
     "name": "stderr",
     "output_type": "stream",
     "text": [
      " 28%|██▊       | 104/370 [13:37<33:41,  7.60s/it]"
     ]
    },
    {
     "name": "stdout",
     "output_type": "stream",
     "text": [
      "[34347.97812921335, 34186.90094268275, 34086.898802485724, 34010.23722952632, 33947.71678912358]\n",
      "ARIMA(0, 1, 0) AIC=4088.756\n"
     ]
    },
    {
     "name": "stderr",
     "output_type": "stream",
     "text": [
      " 28%|██▊       | 105/370 [13:44<33:44,  7.64s/it]"
     ]
    },
    {
     "name": "stdout",
     "output_type": "stream",
     "text": [
      "Best ARIMA(0, 1, 0) AIC=4088.756\n",
      "[129500.0, 129500.0, 129500.0, 129500.0, 129500.0]\n",
      "ARIMA(0, 1, 0) AIC=2536.514\n",
      "ARIMA(0, 2, 1) AIC=2532.133\n",
      "ARIMA(2, 2, 1) AIC=2531.946\n",
      "ARIMA(2, 2, 3) AIC=2530.043\n",
      "Best ARIMA(2, 2, 3) AIC=2530.043\n"
     ]
    },
    {
     "name": "stderr",
     "output_type": "stream",
     "text": [
      " 29%|██▊       | 106/370 [13:53<34:33,  7.85s/it]"
     ]
    },
    {
     "name": "stdout",
     "output_type": "stream",
     "text": [
      "[3488.9799442602757, 3475.2777949901033, 3463.67777679206, 3480.4853982996806, 3508.193527172344]\n",
      "ARIMA(0, 1, 0) AIC=4266.261\n",
      "ARIMA(2, 1, 2) AIC=4263.667\n",
      "Best ARIMA(2, 1, 2) AIC=4263.667\n"
     ]
    },
    {
     "name": "stderr",
     "output_type": "stream",
     "text": [
      " 29%|██▉       | 107/370 [14:01<34:27,  7.86s/it]"
     ]
    },
    {
     "name": "stdout",
     "output_type": "stream",
     "text": [
      "[328730.5089050314, 328561.16863501054, 328757.85357185965, 328913.62074130896, 328773.48832436366]\n",
      "ARIMA(0, 1, 0) AIC=4454.489\n"
     ]
    },
    {
     "name": "stderr",
     "output_type": "stream",
     "text": [
      " 29%|██▉       | 108/370 [14:07<32:56,  7.54s/it]"
     ]
    },
    {
     "name": "stdout",
     "output_type": "stream",
     "text": [
      "Best ARIMA(0, 1, 0) AIC=4454.489\n",
      "[333000.0, 333000.0, 333000.0, 333000.0, 333000.0]\n",
      "ARIMA(0, 1, 0) AIC=4435.462\n",
      "ARIMA(2, 1, 3) AIC=4430.451\n",
      "Best ARIMA(2, 1, 3) AIC=4430.451\n"
     ]
    },
    {
     "name": "stderr",
     "output_type": "stream",
     "text": [
      " 29%|██▉       | 109/370 [14:15<33:04,  7.60s/it]"
     ]
    },
    {
     "name": "stdout",
     "output_type": "stream",
     "text": [
      "[384246.354217467, 384989.0396953472, 384632.65473689296, 383931.34632225026, 384124.2038563893]\n",
      "ARIMA(0, 1, 0) AIC=3257.172\n",
      "ARIMA(0, 1, 1) AIC=3253.447\n",
      "ARIMA(0, 1, 2) AIC=3252.830\n",
      "ARIMA(2, 1, 0) AIC=3250.949\n"
     ]
    },
    {
     "name": "stderr",
     "output_type": "stream",
     "text": [
      " 30%|██▉       | 110/370 [14:22<31:58,  7.38s/it]"
     ]
    },
    {
     "name": "stdout",
     "output_type": "stream",
     "text": [
      "Best ARIMA(2, 1, 0) AIC=3250.949\n",
      "[27537.914114823987, 27742.68435843273, 27802.818236518513, 27778.803534601488, 27764.960244338483]\n",
      "ARIMA(0, 1, 0) AIC=4309.089\n",
      "ARIMA(3, 1, 3) AIC=4307.631\n",
      "Best ARIMA(3, 1, 3) AIC=4307.631\n"
     ]
    },
    {
     "name": "stderr",
     "output_type": "stream",
     "text": [
      " 30%|███       | 111/370 [14:31<33:58,  7.87s/it]"
     ]
    },
    {
     "name": "stdout",
     "output_type": "stream",
     "text": [
      "[181392.49982331376, 180887.89823771975, 180042.49607557192, 181405.6270811493, 180848.2665076645]\n",
      "ARIMA(0, 1, 0) AIC=3776.878\n",
      "ARIMA(2, 1, 3) AIC=3768.270\n",
      "Best ARIMA(2, 1, 3) AIC=3768.270\n"
     ]
    },
    {
     "name": "stderr",
     "output_type": "stream",
     "text": [
      " 30%|███       | 112/370 [14:39<33:57,  7.90s/it]"
     ]
    },
    {
     "name": "stdout",
     "output_type": "stream",
     "text": [
      "[61795.04289229758, 62921.73288369478, 62427.20511259511, 61852.97462068828, 62845.95624227182]\n",
      "ARIMA(0, 1, 0) AIC=3106.456\n",
      "ARIMA(0, 1, 1) AIC=3097.299\n",
      "ARIMA(1, 1, 2) AIC=3095.036\n",
      "Best ARIMA(1, 1, 2) AIC=3095.036\n"
     ]
    },
    {
     "name": "stderr",
     "output_type": "stream",
     "text": [
      " 31%|███       | 113/370 [14:47<33:38,  7.86s/it]"
     ]
    },
    {
     "name": "stdout",
     "output_type": "stream",
     "text": [
      "[24055.76620490487, 23949.81217831692, 24039.243515160095, 23963.758285696746, 24027.47219256953]\n",
      "ARIMA(0, 1, 0) AIC=4036.928\n"
     ]
    },
    {
     "name": "stderr",
     "output_type": "stream",
     "text": [
      " 31%|███       | 114/370 [14:55<33:57,  7.96s/it]"
     ]
    },
    {
     "name": "stdout",
     "output_type": "stream",
     "text": [
      "Best ARIMA(0, 1, 0) AIC=4036.928\n",
      "[161500.0, 161500.0, 161500.0, 161500.0, 161500.0]\n",
      "ARIMA(0, 1, 0) AIC=4027.052\n"
     ]
    },
    {
     "name": "stderr",
     "output_type": "stream",
     "text": [
      " 31%|███       | 115/370 [15:02<32:59,  7.76s/it]"
     ]
    },
    {
     "name": "stdout",
     "output_type": "stream",
     "text": [
      "Best ARIMA(0, 1, 0) AIC=4027.052\n",
      "[101500.0, 101500.0, 101500.0, 101500.0, 101500.0]\n",
      "ARIMA(0, 1, 0) AIC=3693.219\n",
      "ARIMA(2, 1, 2) AIC=3692.427\n",
      "ARIMA(3, 1, 3) AIC=3691.843\n",
      "Best ARIMA(3, 1, 3) AIC=3691.843\n"
     ]
    },
    {
     "name": "stderr",
     "output_type": "stream",
     "text": [
      " 31%|███▏      | 116/370 [15:11<33:56,  8.02s/it]"
     ]
    },
    {
     "name": "stdout",
     "output_type": "stream",
     "text": [
      "[57603.371175685934, 57483.03571757003, 57427.877578797306, 57498.83813347589, 57588.39582038031]\n",
      "ARIMA(0, 1, 0) AIC=4722.514\n",
      "ARIMA(2, 2, 3) AIC=4719.018\n",
      "Best ARIMA(2, 2, 3) AIC=4719.018\n"
     ]
    },
    {
     "name": "stderr",
     "output_type": "stream",
     "text": [
      " 32%|███▏      | 117/370 [15:18<32:43,  7.76s/it]"
     ]
    },
    {
     "name": "stdout",
     "output_type": "stream",
     "text": [
      "[709326.6677907521, 714062.4701870271, 718888.8532198363, 719624.9235337222, 722590.3217685674]\n",
      "ARIMA(0, 1, 0) AIC=4170.731\n",
      "ARIMA(2, 1, 2) AIC=4167.508\n",
      "Best ARIMA(2, 1, 2) AIC=4167.508\n"
     ]
    },
    {
     "name": "stderr",
     "output_type": "stream",
     "text": [
      " 32%|███▏      | 118/370 [15:27<33:50,  8.06s/it]"
     ]
    },
    {
     "name": "stdout",
     "output_type": "stream",
     "text": [
      "[247631.0882543326, 248035.1742694449, 247648.85428805463, 247968.83166240636, 247753.38601217986]\n",
      "ARIMA(0, 1, 0) AIC=3215.722\n",
      "ARIMA(0, 1, 2) AIC=3214.686\n",
      "ARIMA(2, 1, 2) AIC=3212.427\n",
      "Best ARIMA(2, 1, 2) AIC=3212.427\n"
     ]
    },
    {
     "name": "stderr",
     "output_type": "stream",
     "text": [
      " 32%|███▏      | 119/370 [15:35<34:13,  8.18s/it]"
     ]
    },
    {
     "name": "stdout",
     "output_type": "stream",
     "text": [
      "[22540.767501988816, 22562.959391057408, 22525.483401182577, 22541.10902975825, 22549.36967096488]\n",
      "ARIMA(0, 1, 0) AIC=3872.313\n",
      "ARIMA(1, 1, 2) AIC=3872.231\n",
      "ARIMA(3, 1, 2) AIC=3848.103\n",
      "Best ARIMA(3, 1, 2) AIC=3848.103\n"
     ]
    },
    {
     "name": "stderr",
     "output_type": "stream",
     "text": [
      " 32%|███▏      | 120/370 [15:44<34:50,  8.36s/it]"
     ]
    },
    {
     "name": "stdout",
     "output_type": "stream",
     "text": [
      "[97549.54917039514, 97472.39633172356, 97199.30513377176, 96874.3712434885, 96655.6113071257]\n",
      "ARIMA(0, 1, 0) AIC=3956.744\n",
      "ARIMA(2, 1, 2) AIC=3953.217\n",
      "Best ARIMA(2, 1, 2) AIC=3953.217\n"
     ]
    },
    {
     "name": "stderr",
     "output_type": "stream",
     "text": [
      " 33%|███▎      | 121/370 [15:52<33:58,  8.19s/it]"
     ]
    },
    {
     "name": "stdout",
     "output_type": "stream",
     "text": [
      "[83255.41726082085, 83391.73907208059, 84066.90587429388, 83502.55122658951, 83260.26081451977]\n",
      "ARIMA(0, 1, 0) AIC=3772.120\n",
      "ARIMA(3, 1, 2) AIC=3758.706\n",
      "Best ARIMA(3, 1, 2) AIC=3758.706\n"
     ]
    },
    {
     "name": "stderr",
     "output_type": "stream",
     "text": [
      " 33%|███▎      | 122/370 [16:00<33:20,  8.06s/it]"
     ]
    },
    {
     "name": "stdout",
     "output_type": "stream",
     "text": [
      "[81123.8816382507, 80882.37552776054, 80800.42800151807, 80681.07059204573, 80627.89871273804]\n",
      "ARIMA(0, 1, 0) AIC=3600.128\n",
      "ARIMA(2, 1, 2) AIC=3598.553\n"
     ]
    },
    {
     "name": "stderr",
     "output_type": "stream",
     "text": [
      " 33%|███▎      | 123/370 [16:07<32:36,  7.92s/it]"
     ]
    },
    {
     "name": "stdout",
     "output_type": "stream",
     "text": [
      "Best ARIMA(2, 1, 2) AIC=3598.553\n",
      "[45015.08188104362, 45010.84752840673, 45013.69367138689, 45012.80525397584, 45013.347173518865]\n",
      "ARIMA(0, 1, 0) AIC=3833.373\n"
     ]
    },
    {
     "name": "stderr",
     "output_type": "stream",
     "text": [
      " 34%|███▎      | 124/370 [16:15<32:25,  7.91s/it]"
     ]
    },
    {
     "name": "stdout",
     "output_type": "stream",
     "text": [
      "Best ARIMA(0, 1, 0) AIC=3833.373\n",
      "[103000.0, 103000.0, 103000.0, 103000.0, 103000.0]\n",
      "ARIMA(0, 1, 0) AIC=2589.897\n",
      "ARIMA(0, 2, 1) AIC=2581.593\n"
     ]
    },
    {
     "name": "stderr",
     "output_type": "stream",
     "text": [
      " 34%|███▍      | 125/370 [16:23<32:33,  7.97s/it]"
     ]
    },
    {
     "name": "stdout",
     "output_type": "stream",
     "text": [
      "Best ARIMA(0, 2, 1) AIC=2581.593\n",
      "[8815.385532424012, 8830.771064848024, 8846.156597272036, 8861.542129696049, 8876.92766212006]\n",
      "ARIMA(0, 1, 0) AIC=1433.032\n",
      "ARIMA(0, 2, 1) AIC=1424.239\n",
      "ARIMA(1, 2, 2) AIC=1422.101\n",
      "Best ARIMA(1, 2, 2) AIC=1422.101\n"
     ]
    },
    {
     "name": "stderr",
     "output_type": "stream",
     "text": [
      " 34%|███▍      | 126/370 [16:31<32:17,  7.94s/it]"
     ]
    },
    {
     "name": "stdout",
     "output_type": "stream",
     "text": [
      "[102925.63966492302, 102927.54599187717, 102928.37687836753, 102930.12085150827, 102931.08958207711]\n",
      "ARIMA(0, 1, 0) AIC=3265.103\n"
     ]
    },
    {
     "name": "stderr",
     "output_type": "stream",
     "text": [
      " 34%|███▍      | 127/370 [16:39<31:48,  7.85s/it]"
     ]
    },
    {
     "name": "stdout",
     "output_type": "stream",
     "text": [
      "Best ARIMA(0, 1, 0) AIC=3265.103\n",
      "[34800.0, 34800.0, 34800.0, 34800.0, 34800.0]\n",
      "ARIMA(0, 1, 0) AIC=3671.574\n",
      "ARIMA(1, 1, 2) AIC=3669.909\n",
      "ARIMA(2, 1, 2) AIC=3664.019\n",
      "Best ARIMA(2, 1, 2) AIC=3664.019\n"
     ]
    },
    {
     "name": "stderr",
     "output_type": "stream",
     "text": [
      " 35%|███▍      | 128/370 [16:46<31:38,  7.85s/it]"
     ]
    },
    {
     "name": "stdout",
     "output_type": "stream",
     "text": [
      "[62546.52432326406, 62703.398723199316, 62565.080926781586, 62585.22283781338, 62689.438954255944]\n",
      "ARIMA(0, 1, 0) AIC=3109.772\n"
     ]
    },
    {
     "name": "stderr",
     "output_type": "stream",
     "text": [
      " 35%|███▍      | 129/370 [16:53<30:13,  7.53s/it]"
     ]
    },
    {
     "name": "stdout",
     "output_type": "stream",
     "text": [
      "Best ARIMA(0, 1, 0) AIC=3109.772\n",
      "[26250.0, 26250.0, 26250.0, 26250.0, 26250.0]\n",
      "ARIMA(0, 1, 0) AIC=3363.035\n",
      "ARIMA(2, 1, 2) AIC=3356.404\n",
      "Best ARIMA(2, 1, 2) AIC=3356.404\n"
     ]
    },
    {
     "name": "stderr",
     "output_type": "stream",
     "text": [
      " 35%|███▌      | 130/370 [17:00<29:29,  7.37s/it]"
     ]
    },
    {
     "name": "stdout",
     "output_type": "stream",
     "text": [
      "[33546.81631688808, 33557.6429260536, 33570.66699812219, 33568.25692970822, 33574.6745452791]\n",
      "ARIMA(0, 1, 0) AIC=2647.920\n",
      "ARIMA(0, 2, 1) AIC=2643.438\n",
      "ARIMA(1, 2, 2) AIC=2642.983\n",
      "ARIMA(2, 1, 2) AIC=2640.413\n",
      "ARIMA(2, 2, 3) AIC=2635.855\n",
      "Best ARIMA(2, 2, 3) AIC=2635.855\n"
     ]
    },
    {
     "name": "stderr",
     "output_type": "stream",
     "text": [
      " 35%|███▌      | 131/370 [17:08<30:03,  7.55s/it]"
     ]
    },
    {
     "name": "stdout",
     "output_type": "stream",
     "text": [
      "[2306.2892298934494, 2280.051313443246, 2264.032396023094, 2308.246604801348, 2303.0609022119356]\n",
      "ARIMA(0, 1, 0) AIC=2209.366\n",
      "ARIMA(0, 2, 1) AIC=2207.160\n",
      "ARIMA(3, 1, 3) AIC=2200.094\n",
      "ARIMA(3, 2, 3) AIC=2196.154\n",
      "Best ARIMA(3, 2, 3) AIC=2196.154\n"
     ]
    },
    {
     "name": "stderr",
     "output_type": "stream",
     "text": [
      " 36%|███▌      | 132/370 [17:16<30:00,  7.57s/it]"
     ]
    },
    {
     "name": "stdout",
     "output_type": "stream",
     "text": [
      "[2302.3744819109684, 2299.3130298322462, 2287.7420299331075, 2298.544746957189, 2301.853598323142]\n",
      "ARIMA(0, 1, 0) AIC=3814.902\n",
      "ARIMA(2, 1, 2) AIC=3812.454\n",
      "Best ARIMA(2, 1, 2) AIC=3812.454\n"
     ]
    },
    {
     "name": "stderr",
     "output_type": "stream",
     "text": [
      " 36%|███▌      | 133/370 [17:24<30:07,  7.63s/it]"
     ]
    },
    {
     "name": "stdout",
     "output_type": "stream",
     "text": [
      "[89038.87620151335, 88357.20537396801, 88689.74534554583, 89285.76900921167, 88803.86061911739]\n",
      "ARIMA(0, 1, 0) AIC=3441.220\n"
     ]
    },
    {
     "name": "stderr",
     "output_type": "stream",
     "text": [
      " 36%|███▌      | 134/370 [17:31<29:34,  7.52s/it]"
     ]
    },
    {
     "name": "stdout",
     "output_type": "stream",
     "text": [
      "Best ARIMA(0, 1, 0) AIC=3441.220\n",
      "[48250.0, 48250.0, 48250.0, 48250.0, 48250.0]\n",
      "ARIMA(0, 1, 0) AIC=3151.437\n",
      "ARIMA(2, 1, 3) AIC=3150.961\n",
      "ARIMA(3, 1, 2) AIC=3150.265\n",
      "Best ARIMA(3, 1, 2) AIC=3150.265\n"
     ]
    },
    {
     "name": "stderr",
     "output_type": "stream",
     "text": [
      " 36%|███▋      | 135/370 [17:38<29:27,  7.52s/it]"
     ]
    },
    {
     "name": "stdout",
     "output_type": "stream",
     "text": [
      "[38912.76757226108, 38860.27711049424, 38923.48759550314, 38900.69268223238, 38872.412611941305]\n",
      "ARIMA(0, 1, 0) AIC=3701.534\n",
      "ARIMA(0, 1, 2) AIC=3651.123\n",
      "ARIMA(1, 1, 3) AIC=3644.846\n",
      "Best ARIMA(1, 1, 3) AIC=3644.846\n"
     ]
    },
    {
     "name": "stderr",
     "output_type": "stream",
     "text": [
      " 37%|███▋      | 136/370 [17:47<31:08,  7.99s/it]"
     ]
    },
    {
     "name": "stdout",
     "output_type": "stream",
     "text": [
      "[31729.282027081244, 31564.740357140647, 31796.83290696963, 32015.813512005632, 32222.42292457517]\n",
      "ARIMA(0, 1, 0) AIC=3788.865\n",
      "ARIMA(1, 1, 1) AIC=3788.514\n"
     ]
    },
    {
     "name": "stderr",
     "output_type": "stream",
     "text": [
      " 37%|███▋      | 137/370 [17:54<29:49,  7.68s/it]"
     ]
    },
    {
     "name": "stdout",
     "output_type": "stream",
     "text": [
      "Best ARIMA(1, 1, 1) AIC=3788.514\n",
      "[70271.26952619311, 70840.23766242464, 70325.35131042922, 70791.29648132587, 70369.64051503247]\n",
      "ARIMA(0, 1, 0) AIC=3703.349\n",
      "ARIMA(0, 1, 3) AIC=3700.670\n",
      "ARIMA(2, 1, 2) AIC=3698.399\n",
      "Best ARIMA(2, 1, 2) AIC=3698.399\n"
     ]
    },
    {
     "name": "stderr",
     "output_type": "stream",
     "text": [
      " 37%|███▋      | 138/370 [18:01<28:04,  7.26s/it]"
     ]
    },
    {
     "name": "stdout",
     "output_type": "stream",
     "text": [
      "[24854.740397959034, 24551.96539577717, 24539.98463117329, 24776.98356351304, 24919.01981779218]\n",
      "ARIMA(0, 1, 0) AIC=3276.561\n",
      "ARIMA(0, 1, 2) AIC=3276.287\n",
      "ARIMA(0, 1, 3) AIC=3274.904\n",
      "ARIMA(2, 1, 2) AIC=3273.064\n",
      "Best ARIMA(2, 1, 2) AIC=3273.064\n"
     ]
    },
    {
     "name": "stderr",
     "output_type": "stream",
     "text": [
      " 38%|███▊      | 139/370 [18:08<28:09,  7.31s/it]"
     ]
    },
    {
     "name": "stdout",
     "output_type": "stream",
     "text": [
      "[25483.96318852303, 25504.61966015493, 25531.78308840372, 25465.05270446523, 25554.732003626006]\n",
      "ARIMA(0, 1, 0) AIC=3323.011\n",
      "ARIMA(0, 1, 2) AIC=3322.436\n",
      "ARIMA(0, 1, 3) AIC=3317.959\n",
      "ARIMA(1, 2, 3) AIC=3316.468\n",
      "ARIMA(3, 2, 1) AIC=3312.308\n",
      "ARIMA(3, 2, 2) AIC=3307.182\n",
      "Best ARIMA(3, 2, 2) AIC=3307.182\n"
     ]
    },
    {
     "name": "stderr",
     "output_type": "stream",
     "text": [
      " 38%|███▊      | 140/370 [18:16<28:12,  7.36s/it]"
     ]
    },
    {
     "name": "stdout",
     "output_type": "stream",
     "text": [
      "[16929.02142566789, 16935.75195555191, 16895.353477214994, 16799.36320535279, 16623.22525802943]\n",
      "ARIMA(0, 1, 0) AIC=4070.719\n"
     ]
    },
    {
     "name": "stderr",
     "output_type": "stream",
     "text": [
      " 38%|███▊      | 141/370 [18:25<30:26,  7.98s/it]"
     ]
    },
    {
     "name": "stdout",
     "output_type": "stream",
     "text": [
      "Best ARIMA(0, 1, 0) AIC=4070.719\n",
      "[283500.0, 283500.0, 283500.0, 283500.0, 283500.0]\n",
      "ARIMA(0, 1, 0) AIC=2765.548\n",
      "ARIMA(0, 1, 1) AIC=2764.945\n",
      "ARIMA(0, 2, 1) AIC=2760.046\n",
      "ARIMA(0, 2, 2) AIC=2759.744\n",
      "ARIMA(1, 2, 1) AIC=2759.529\n",
      "ARIMA(2, 2, 3) AIC=2757.380\n",
      "Best ARIMA(2, 2, 3) AIC=2757.380\n"
     ]
    },
    {
     "name": "stderr",
     "output_type": "stream",
     "text": [
      " 38%|███▊      | 142/370 [18:33<30:52,  8.12s/it]"
     ]
    },
    {
     "name": "stdout",
     "output_type": "stream",
     "text": [
      "[5351.87780198874, 5317.051061720308, 5314.747907198097, 5310.384066577839, 5282.032987716066]\n",
      "ARIMA(0, 1, 0) AIC=4213.998\n"
     ]
    },
    {
     "name": "stderr",
     "output_type": "stream",
     "text": [
      " 39%|███▊      | 143/370 [18:41<30:07,  7.96s/it]"
     ]
    },
    {
     "name": "stdout",
     "output_type": "stream",
     "text": [
      "Best ARIMA(0, 1, 0) AIC=4213.998\n",
      "[481000.0, 481000.0, 481000.0, 481000.0, 481000.0]\n",
      "ARIMA(0, 1, 0) AIC=3460.395\n",
      "ARIMA(0, 1, 1) AIC=3460.230\n",
      "ARIMA(1, 1, 0) AIC=3460.041\n"
     ]
    },
    {
     "name": "stderr",
     "output_type": "stream",
     "text": [
      " 39%|███▉      | 144/370 [18:48<28:54,  7.67s/it]"
     ]
    },
    {
     "name": "stdout",
     "output_type": "stream",
     "text": [
      "Best ARIMA(1, 1, 0) AIC=3460.041\n",
      "[41879.845133220435, 41877.61830327807, 41877.78445336879, 41877.77205643981, 41877.772981409806]\n",
      "ARIMA(0, 1, 0) AIC=3593.059\n",
      "ARIMA(1, 1, 1) AIC=3587.927\n",
      "ARIMA(1, 1, 2) AIC=3587.089\n",
      "ARIMA(1, 1, 3) AIC=3577.874\n",
      "ARIMA(3, 1, 2) AIC=3565.690\n",
      "Best ARIMA(3, 1, 2) AIC=3565.690\n"
     ]
    },
    {
     "name": "stderr",
     "output_type": "stream",
     "text": [
      " 39%|███▉      | 145/370 [18:57<30:12,  8.05s/it]"
     ]
    },
    {
     "name": "stdout",
     "output_type": "stream",
     "text": [
      "[58661.82655595617, 59195.54822710547, 59112.86205878093, 58908.879280581095, 59095.594662207106]\n",
      "ARIMA(0, 1, 0) AIC=4122.693\n",
      "ARIMA(0, 1, 2) AIC=4113.078\n",
      "ARIMA(1, 1, 3) AIC=4111.394\n",
      "Best ARIMA(1, 1, 3) AIC=4111.394\n"
     ]
    },
    {
     "name": "stderr",
     "output_type": "stream",
     "text": [
      " 39%|███▉      | 146/370 [19:05<30:17,  8.11s/it]"
     ]
    },
    {
     "name": "stdout",
     "output_type": "stream",
     "text": [
      "[140283.92107815846, 140052.76283049159, 140227.5341731745, 140389.92549926773, 140540.81375351752]\n",
      "ARIMA(0, 1, 0) AIC=3606.595\n",
      "ARIMA(3, 1, 3) AIC=3593.183\n",
      "Best ARIMA(3, 1, 3) AIC=3593.183\n"
     ]
    },
    {
     "name": "stderr",
     "output_type": "stream",
     "text": [
      " 40%|███▉      | 147/370 [19:14<30:25,  8.19s/it]"
     ]
    },
    {
     "name": "stdout",
     "output_type": "stream",
     "text": [
      "[83066.01141203401, 82992.39856188958, 82819.0282133769, 82447.3329426078, 82217.22502357955]\n",
      "ARIMA(0, 1, 0) AIC=3454.827\n"
     ]
    },
    {
     "name": "stderr",
     "output_type": "stream",
     "text": [
      " 40%|████      | 148/370 [19:22<30:15,  8.18s/it]"
     ]
    },
    {
     "name": "stdout",
     "output_type": "stream",
     "text": [
      "Best ARIMA(0, 1, 0) AIC=3454.827\n",
      "[32150.0, 32150.0, 32150.0, 32150.0, 32150.0]\n",
      "ARIMA(0, 1, 0) AIC=3705.315\n"
     ]
    },
    {
     "name": "stderr",
     "output_type": "stream",
     "text": [
      " 40%|████      | 149/370 [19:29<29:30,  8.01s/it]"
     ]
    },
    {
     "name": "stdout",
     "output_type": "stream",
     "text": [
      "Best ARIMA(0, 1, 0) AIC=3705.315\n",
      "[85100.0, 85100.0, 85100.0, 85100.0, 85100.0]\n",
      "ARIMA(0, 1, 0) AIC=2605.519\n",
      "ARIMA(0, 1, 1) AIC=2605.184\n",
      "ARIMA(0, 2, 1) AIC=2602.804\n",
      "ARIMA(2, 1, 2) AIC=2601.581\n",
      "Best ARIMA(2, 1, 2) AIC=2601.581\n"
     ]
    },
    {
     "name": "stderr",
     "output_type": "stream",
     "text": [
      " 41%|████      | 150/370 [19:38<29:49,  8.13s/it]"
     ]
    },
    {
     "name": "stdout",
     "output_type": "stream",
     "text": [
      "[9742.47466334101, 9715.850042273294, 9748.943135928022, 9791.417533836771, 9780.306895666843]\n",
      "ARIMA(0, 1, 0) AIC=3709.784\n"
     ]
    },
    {
     "name": "stderr",
     "output_type": "stream",
     "text": [
      " 41%|████      | 151/370 [19:46<29:25,  8.06s/it]"
     ]
    },
    {
     "name": "stdout",
     "output_type": "stream",
     "text": [
      "Best ARIMA(0, 1, 0) AIC=3709.784\n",
      "[82300.0, 82300.0, 82300.0, 82300.0, 82300.0]\n",
      "ARIMA(0, 1, 0) AIC=3459.436\n"
     ]
    },
    {
     "name": "stderr",
     "output_type": "stream",
     "text": [
      " 41%|████      | 152/370 [19:52<27:28,  7.56s/it]"
     ]
    },
    {
     "name": "stdout",
     "output_type": "stream",
     "text": [
      "Best ARIMA(0, 1, 0) AIC=3459.436\n",
      "[44650.0, 44650.0, 44650.0, 44650.0, 44650.0]\n",
      "ARIMA(0, 1, 0) AIC=4447.863\n",
      "ARIMA(0, 1, 3) AIC=4439.721\n",
      "ARIMA(1, 1, 3) AIC=4439.048\n",
      "ARIMA(2, 1, 2) AIC=4435.348\n",
      "Best ARIMA(2, 1, 2) AIC=4435.348\n"
     ]
    },
    {
     "name": "stderr",
     "output_type": "stream",
     "text": [
      " 41%|████▏     | 153/370 [20:00<27:26,  7.59s/it]"
     ]
    },
    {
     "name": "stdout",
     "output_type": "stream",
     "text": [
      "[182970.05227378325, 181497.58997342357, 181728.1520483596, 183165.3633907462, 184381.10499528475]\n",
      "ARIMA(0, 1, 0) AIC=3221.185\n",
      "ARIMA(2, 1, 2) AIC=3220.014\n",
      "Best ARIMA(2, 1, 2) AIC=3220.014\n"
     ]
    },
    {
     "name": "stderr",
     "output_type": "stream",
     "text": [
      " 42%|████▏     | 154/370 [20:08<27:43,  7.70s/it]"
     ]
    },
    {
     "name": "stdout",
     "output_type": "stream",
     "text": [
      "[16662.04656046077, 16680.166557574525, 16734.13085238688, 16769.094642185995, 16751.26245795977]\n",
      "ARIMA(0, 1, 0) AIC=3511.827\n"
     ]
    },
    {
     "name": "stderr",
     "output_type": "stream",
     "text": [
      " 42%|████▏     | 155/370 [20:16<28:01,  7.82s/it]"
     ]
    },
    {
     "name": "stdout",
     "output_type": "stream",
     "text": [
      "Best ARIMA(0, 1, 0) AIC=3511.827\n",
      "[45200.0, 45200.0, 45200.0, 45200.0, 45200.0]\n",
      "ARIMA(0, 1, 0) AIC=3261.613\n",
      "ARIMA(0, 1, 1) AIC=3260.756\n",
      "ARIMA(1, 1, 0) AIC=3260.648\n"
     ]
    },
    {
     "name": "stderr",
     "output_type": "stream",
     "text": [
      " 42%|████▏     | 156/370 [20:24<27:56,  7.83s/it]"
     ]
    },
    {
     "name": "stdout",
     "output_type": "stream",
     "text": [
      "Best ARIMA(1, 1, 0) AIC=3260.648\n",
      "[11283.483573076006, 11281.664957353769, 11281.464710462575, 11281.44266137494, 11281.440233560643]\n",
      "ARIMA(0, 1, 0) AIC=3903.947\n"
     ]
    },
    {
     "name": "stderr",
     "output_type": "stream",
     "text": [
      " 42%|████▏     | 157/370 [20:32<27:59,  7.89s/it]"
     ]
    },
    {
     "name": "stdout",
     "output_type": "stream",
     "text": [
      "Best ARIMA(0, 1, 0) AIC=3903.947\n",
      "[103000.0, 103000.0, 103000.0, 103000.0, 103000.0]\n",
      "ARIMA(0, 1, 0) AIC=3545.649\n",
      "ARIMA(0, 1, 3) AIC=3545.492\n",
      "ARIMA(2, 1, 2) AIC=3544.177\n",
      "Best ARIMA(2, 1, 2) AIC=3544.177\n"
     ]
    },
    {
     "name": "stderr",
     "output_type": "stream",
     "text": [
      " 43%|████▎     | 158/370 [20:40<27:55,  7.90s/it]"
     ]
    },
    {
     "name": "stdout",
     "output_type": "stream",
     "text": [
      "[29341.89808272457, 29353.931401296348, 29390.892495355114, 29403.296318794684, 29435.99762842755]\n",
      "ARIMA(0, 1, 0) AIC=3951.386\n"
     ]
    },
    {
     "name": "stderr",
     "output_type": "stream",
     "text": [
      " 43%|████▎     | 159/370 [20:48<27:49,  7.91s/it]"
     ]
    },
    {
     "name": "stdout",
     "output_type": "stream",
     "text": [
      "Best ARIMA(0, 1, 0) AIC=3951.386\n",
      "[78100.0, 78100.0, 78100.0, 78100.0, 78100.0]\n",
      "ARIMA(0, 1, 0) AIC=3503.414\n"
     ]
    },
    {
     "name": "stderr",
     "output_type": "stream",
     "text": [
      " 43%|████▎     | 160/370 [20:55<26:43,  7.64s/it]"
     ]
    },
    {
     "name": "stdout",
     "output_type": "stream",
     "text": [
      "Best ARIMA(0, 1, 0) AIC=3503.414\n",
      "[32750.0, 32750.0, 32750.0, 32750.0, 32750.0]\n",
      "ARIMA(0, 1, 0) AIC=2602.452\n",
      "ARIMA(0, 1, 1) AIC=2596.679\n",
      "ARIMA(0, 2, 2) AIC=2593.521\n",
      "ARIMA(1, 2, 3) AIC=2593.408\n",
      "Best ARIMA(1, 2, 3) AIC=2593.408\n"
     ]
    },
    {
     "name": "stderr",
     "output_type": "stream",
     "text": [
      " 44%|████▎     | 161/370 [21:02<26:20,  7.56s/it]"
     ]
    },
    {
     "name": "stdout",
     "output_type": "stream",
     "text": [
      "[5099.244012681034, 5110.270503696963, 5100.806737022251, 5110.730932759014, 5102.310162212582]\n",
      "ARIMA(0, 1, 0) AIC=2696.731\n",
      "ARIMA(0, 2, 1) AIC=2689.369\n",
      "ARIMA(2, 2, 3) AIC=2687.145\n",
      "Best ARIMA(2, 2, 3) AIC=2687.145\n"
     ]
    },
    {
     "name": "stderr",
     "output_type": "stream",
     "text": [
      " 44%|████▍     | 162/370 [21:10<26:50,  7.74s/it]"
     ]
    },
    {
     "name": "stdout",
     "output_type": "stream",
     "text": [
      "[10362.281555906788, 10400.127455031394, 10394.279284155258, 10428.410424406093, 10444.294226823651]\n",
      "ARIMA(0, 1, 0) AIC=3481.138\n"
     ]
    },
    {
     "name": "stderr",
     "output_type": "stream",
     "text": [
      " 44%|████▍     | 163/370 [21:18<26:45,  7.75s/it]"
     ]
    },
    {
     "name": "stdout",
     "output_type": "stream",
     "text": [
      "Best ARIMA(0, 1, 0) AIC=3481.138\n",
      "[80000.0, 80000.0, 80000.0, 80000.0, 80000.0]\n",
      "ARIMA(0, 1, 0) AIC=2549.036\n",
      "ARIMA(0, 1, 1) AIC=2546.249\n",
      "ARIMA(0, 2, 1) AIC=2539.914\n",
      "ARIMA(0, 2, 2) AIC=2538.021\n",
      "Best ARIMA(0, 2, 2) AIC=2538.021\n"
     ]
    },
    {
     "name": "stderr",
     "output_type": "stream",
     "text": [
      " 44%|████▍     | 164/370 [21:25<26:14,  7.64s/it]"
     ]
    },
    {
     "name": "stdout",
     "output_type": "stream",
     "text": [
      "[8872.256191584347, 8888.235103170226, 8904.214014756104, 8920.192926341982, 8936.17183792786]\n",
      "ARIMA(0, 1, 0) AIC=3509.548\n",
      "ARIMA(0, 1, 2) AIC=3500.738\n",
      "ARIMA(1, 1, 2) AIC=3496.758\n",
      "ARIMA(1, 1, 3) AIC=3496.106\n",
      "Best ARIMA(1, 1, 3) AIC=3496.106\n"
     ]
    },
    {
     "name": "stderr",
     "output_type": "stream",
     "text": [
      " 45%|████▍     | 165/370 [21:34<27:13,  7.97s/it]"
     ]
    },
    {
     "name": "stdout",
     "output_type": "stream",
     "text": [
      "[29333.68901233734, 29491.111520938477, 29583.74959059378, 29667.117020060497, 29742.14155718383]\n",
      "ARIMA(0, 1, 0) AIC=4221.309\n",
      "ARIMA(1, 1, 1) AIC=4217.235\n",
      "ARIMA(2, 1, 2) AIC=4214.292\n",
      "Best ARIMA(2, 1, 2) AIC=4214.292\n"
     ]
    },
    {
     "name": "stderr",
     "output_type": "stream",
     "text": [
      " 45%|████▍     | 166/370 [21:43<28:15,  8.31s/it]"
     ]
    },
    {
     "name": "stdout",
     "output_type": "stream",
     "text": [
      "[118275.36609385133, 118175.19095180041, 118914.10903739276, 118806.54541787833, 119510.93041303386]\n",
      "ARIMA(0, 1, 0) AIC=3450.650\n",
      "ARIMA(1, 1, 1) AIC=3449.204\n",
      "ARIMA(2, 1, 2) AIC=3448.880\n",
      "Best ARIMA(2, 1, 2) AIC=3448.880\n"
     ]
    },
    {
     "name": "stderr",
     "output_type": "stream",
     "text": [
      " 45%|████▌     | 167/370 [21:51<27:13,  8.05s/it]"
     ]
    },
    {
     "name": "stdout",
     "output_type": "stream",
     "text": [
      "[13194.540576391435, 13240.108669580719, 13345.693958436446, 13372.499744253597, 13450.089121080728]\n",
      "ARIMA(0, 1, 0) AIC=4409.836\n"
     ]
    },
    {
     "name": "stderr",
     "output_type": "stream",
     "text": [
      " 45%|████▌     | 168/370 [21:57<25:00,  7.43s/it]"
     ]
    },
    {
     "name": "stdout",
     "output_type": "stream",
     "text": [
      "Best ARIMA(0, 1, 0) AIC=4409.836\n",
      "[599000.0, 599000.0, 599000.0, 599000.0, 599000.0]\n",
      "ARIMA(0, 1, 0) AIC=2201.959\n",
      "ARIMA(0, 2, 1) AIC=2198.587\n"
     ]
    },
    {
     "name": "stderr",
     "output_type": "stream",
     "text": [
      " 46%|████▌     | 169/370 [22:04<25:19,  7.56s/it]"
     ]
    },
    {
     "name": "stdout",
     "output_type": "stream",
     "text": [
      "Best ARIMA(0, 2, 1) AIC=2198.587\n",
      "[5660.181315124907, 5660.362630249813, 5660.543945374719, 5660.725260499626, 5660.906575624532]\n",
      "ARIMA(0, 1, 0) AIC=3978.900\n",
      "ARIMA(2, 1, 2) AIC=3976.371\n",
      "Best ARIMA(2, 1, 2) AIC=3976.371\n"
     ]
    },
    {
     "name": "stderr",
     "output_type": "stream",
     "text": [
      " 46%|████▌     | 170/370 [22:12<25:24,  7.62s/it]"
     ]
    },
    {
     "name": "stdout",
     "output_type": "stream",
     "text": [
      "[124133.93914642841, 124164.36623255808, 124297.54223133474, 124328.7265743598, 124461.15063279164]\n",
      "ARIMA(0, 1, 0) AIC=1505.624\n",
      "ARIMA(0, 2, 1) AIC=1495.460\n"
     ]
    },
    {
     "name": "stderr",
     "output_type": "stream",
     "text": [
      " 46%|████▌     | 171/370 [22:20<25:23,  7.66s/it]"
     ]
    },
    {
     "name": "stdout",
     "output_type": "stream",
     "text": [
      "Best ARIMA(0, 2, 1) AIC=1495.460\n",
      "[103209.52875738828, 103209.05751477656, 103208.58627216484, 103208.11502955313, 103207.64378694141]\n",
      "ARIMA(0, 1, 0) AIC=3258.344\n",
      "ARIMA(2, 1, 3) AIC=3255.599\n",
      "ARIMA(3, 1, 2) AIC=3255.567\n",
      "Best ARIMA(3, 1, 2) AIC=3255.567\n"
     ]
    },
    {
     "name": "stderr",
     "output_type": "stream",
     "text": [
      " 46%|████▋     | 172/370 [22:28<25:44,  7.80s/it]"
     ]
    },
    {
     "name": "stdout",
     "output_type": "stream",
     "text": [
      "[22978.62085820855, 22871.529417530153, 22995.938311806218, 22963.851841678796, 22888.228421680542]\n",
      "ARIMA(0, 1, 0) AIC=4110.807\n"
     ]
    },
    {
     "name": "stderr",
     "output_type": "stream",
     "text": [
      " 47%|████▋     | 173/370 [22:36<25:20,  7.72s/it]"
     ]
    },
    {
     "name": "stdout",
     "output_type": "stream",
     "text": [
      "Best ARIMA(0, 1, 0) AIC=4110.807\n",
      "[168000.0, 168000.0, 168000.0, 168000.0, 168000.0]\n",
      "ARIMA(0, 1, 0) AIC=2652.641\n"
     ]
    },
    {
     "name": "stderr",
     "output_type": "stream",
     "text": [
      " 47%|████▋     | 174/370 [22:43<24:27,  7.49s/it]"
     ]
    },
    {
     "name": "stdout",
     "output_type": "stream",
     "text": [
      "Best ARIMA(0, 1, 0) AIC=2652.641\n",
      "[106550.0, 106550.0, 106550.0, 106550.0, 106550.0]\n",
      "ARIMA(0, 1, 0) AIC=3184.649\n"
     ]
    },
    {
     "name": "stderr",
     "output_type": "stream",
     "text": [
      " 47%|████▋     | 175/370 [22:50<24:26,  7.52s/it]"
     ]
    },
    {
     "name": "stdout",
     "output_type": "stream",
     "text": [
      "Best ARIMA(0, 1, 0) AIC=3184.649\n",
      "[20200.0, 20200.0, 20200.0, 20200.0, 20200.0]\n",
      "ARIMA(0, 1, 0) AIC=3786.134\n",
      "ARIMA(2, 1, 2) AIC=3775.164\n",
      "Best ARIMA(2, 1, 2) AIC=3775.164\n"
     ]
    },
    {
     "name": "stderr",
     "output_type": "stream",
     "text": [
      " 48%|████▊     | 176/370 [22:58<24:11,  7.48s/it]"
     ]
    },
    {
     "name": "stdout",
     "output_type": "stream",
     "text": [
      "[64167.582032242084, 64110.70388920562, 64156.34410172088, 64122.20814971982, 64144.83039980464]\n",
      "ARIMA(0, 1, 0) AIC=3261.474\n",
      "ARIMA(0, 1, 3) AIC=3260.490\n",
      "ARIMA(3, 1, 0) AIC=3259.869\n"
     ]
    },
    {
     "name": "stderr",
     "output_type": "stream",
     "text": [
      " 48%|████▊     | 177/370 [23:04<22:57,  7.14s/it]"
     ]
    },
    {
     "name": "stdout",
     "output_type": "stream",
     "text": [
      "Best ARIMA(3, 1, 0) AIC=3259.869\n",
      "[27153.174712683995, 27174.982867336483, 27215.049381244324, 27215.53926820737, 27210.655072139743]\n",
      "ARIMA(0, 1, 0) AIC=4538.818\n",
      "ARIMA(0, 1, 1) AIC=4535.996\n",
      "ARIMA(0, 1, 2) AIC=4535.151\n"
     ]
    },
    {
     "name": "stderr",
     "output_type": "stream",
     "text": [
      " 48%|████▊     | 178/370 [23:10<21:55,  6.85s/it]"
     ]
    },
    {
     "name": "stdout",
     "output_type": "stream",
     "text": [
      "Best ARIMA(0, 1, 2) AIC=4535.151\n",
      "[286592.55307429127, 286056.0898691598, 286056.0898691598, 286056.0898691598, 286056.0898691598]\n",
      "ARIMA(0, 1, 0) AIC=2684.520\n",
      "ARIMA(0, 2, 1) AIC=2683.221\n",
      "ARIMA(3, 1, 3) AIC=2680.011\n",
      "ARIMA(3, 2, 3) AIC=2677.023\n",
      "Best ARIMA(3, 2, 3) AIC=2677.023\n"
     ]
    },
    {
     "name": "stderr",
     "output_type": "stream",
     "text": [
      " 48%|████▊     | 179/370 [23:18<22:34,  7.09s/it]"
     ]
    },
    {
     "name": "stdout",
     "output_type": "stream",
     "text": [
      "[12786.566046106951, 12784.172990471034, 12794.234525239737, 12786.641243743543, 12781.182667978323]\n",
      "ARIMA(0, 1, 0) AIC=4567.837\n",
      "ARIMA(0, 1, 2) AIC=4566.915\n"
     ]
    },
    {
     "name": "stderr",
     "output_type": "stream",
     "text": [
      " 49%|████▊     | 180/370 [23:26<23:34,  7.44s/it]"
     ]
    },
    {
     "name": "stdout",
     "output_type": "stream",
     "text": [
      "Best ARIMA(0, 1, 2) AIC=4566.915\n",
      "[684709.962574476, 684225.9907876557, 684225.9907876557, 684225.9907876557, 684225.9907876557]\n",
      "ARIMA(0, 1, 0) AIC=2796.151\n",
      "ARIMA(2, 1, 2) AIC=2793.723\n",
      "ARIMA(2, 1, 3) AIC=2792.515\n",
      "Best ARIMA(2, 1, 3) AIC=2792.515\n"
     ]
    },
    {
     "name": "stderr",
     "output_type": "stream",
     "text": [
      " 49%|████▉     | 181/370 [23:34<23:58,  7.61s/it]"
     ]
    },
    {
     "name": "stdout",
     "output_type": "stream",
     "text": [
      "[13302.521848458782, 13363.954528408132, 13406.776038342676, 13321.415761643908, 13345.111951237895]\n",
      "ARIMA(0, 1, 0) AIC=3472.647\n"
     ]
    },
    {
     "name": "stderr",
     "output_type": "stream",
     "text": [
      " 49%|████▉     | 182/370 [23:42<24:29,  7.82s/it]"
     ]
    },
    {
     "name": "stdout",
     "output_type": "stream",
     "text": [
      "Best ARIMA(0, 1, 0) AIC=3472.647\n",
      "[44650.0, 44650.0, 44650.0, 44650.0, 44650.0]\n",
      "ARIMA(0, 1, 0) AIC=3975.586\n"
     ]
    },
    {
     "name": "stderr",
     "output_type": "stream",
     "text": [
      " 49%|████▉     | 183/370 [23:49<23:17,  7.47s/it]"
     ]
    },
    {
     "name": "stdout",
     "output_type": "stream",
     "text": [
      "Best ARIMA(0, 1, 0) AIC=3975.586\n",
      "[145500.0, 145500.0, 145500.0, 145500.0, 145500.0]\n",
      "ARIMA(0, 1, 0) AIC=4082.225\n",
      "ARIMA(0, 1, 1) AIC=4081.917\n",
      "ARIMA(0, 1, 2) AIC=4081.333\n",
      "ARIMA(0, 1, 3) AIC=4075.253\n",
      "ARIMA(1, 1, 3) AIC=4073.247\n",
      "ARIMA(2, 1, 2) AIC=4067.667\n",
      "Best ARIMA(2, 1, 2) AIC=4067.667\n"
     ]
    },
    {
     "name": "stderr",
     "output_type": "stream",
     "text": [
      " 50%|████▉     | 184/370 [23:56<22:48,  7.36s/it]"
     ]
    },
    {
     "name": "stdout",
     "output_type": "stream",
     "text": [
      "[81708.68480648656, 81718.94040212962, 81795.74115567382, 81712.83755604185, 81719.02107045482]\n",
      "ARIMA(0, 1, 0) AIC=3411.925\n",
      "ARIMA(1, 1, 1) AIC=3404.496\n",
      "ARIMA(2, 1, 1) AIC=3404.057\n",
      "ARIMA(3, 1, 2) AIC=3402.325\n",
      "Best ARIMA(3, 1, 2) AIC=3402.325\n"
     ]
    },
    {
     "name": "stderr",
     "output_type": "stream",
     "text": [
      " 50%|█████     | 185/370 [24:04<23:16,  7.55s/it]"
     ]
    },
    {
     "name": "stdout",
     "output_type": "stream",
     "text": [
      "[58772.566660400335, 58683.51134223588, 58596.66595500817, 58531.95644037574, 58504.52130729778]\n",
      "ARIMA(0, 1, 0) AIC=4024.809\n",
      "ARIMA(2, 1, 2) AIC=4006.174\n",
      "ARIMA(2, 1, 3) AIC=4006.075\n",
      "Best ARIMA(2, 1, 3) AIC=4006.075\n"
     ]
    },
    {
     "name": "stderr",
     "output_type": "stream",
     "text": [
      " 50%|█████     | 186/370 [24:13<24:02,  7.84s/it]"
     ]
    },
    {
     "name": "stdout",
     "output_type": "stream",
     "text": [
      "[81388.11516340073, 82098.73167014982, 82635.23785459365, 82866.05945666226, 82760.40146572089]\n",
      "ARIMA(0, 1, 0) AIC=3818.611\n"
     ]
    },
    {
     "name": "stderr",
     "output_type": "stream",
     "text": [
      " 51%|█████     | 187/370 [24:20<23:19,  7.65s/it]"
     ]
    },
    {
     "name": "stdout",
     "output_type": "stream",
     "text": [
      "Best ARIMA(0, 1, 0) AIC=3818.611\n",
      "[79800.0, 79800.0, 79800.0, 79800.0, 79800.0]\n",
      "ARIMA(0, 1, 0) AIC=4393.062\n"
     ]
    },
    {
     "name": "stderr",
     "output_type": "stream",
     "text": [
      " 51%|█████     | 188/370 [24:28<23:22,  7.71s/it]"
     ]
    },
    {
     "name": "stdout",
     "output_type": "stream",
     "text": [
      "Best ARIMA(0, 1, 0) AIC=4393.062\n",
      "[409900.0, 409900.0, 409900.0, 409900.0, 409900.0]\n",
      "ARIMA(0, 1, 0) AIC=4165.667\n",
      "ARIMA(2, 1, 2) AIC=4161.778\n",
      "Best ARIMA(2, 1, 2) AIC=4161.778\n"
     ]
    },
    {
     "name": "stderr",
     "output_type": "stream",
     "text": [
      " 51%|█████     | 189/370 [24:36<24:07,  8.00s/it]"
     ]
    },
    {
     "name": "stdout",
     "output_type": "stream",
     "text": [
      "[113705.14016410739, 113238.94004752165, 112676.24005924138, 112918.67168577215, 113550.92457261769]\n",
      "ARIMA(0, 1, 0) AIC=3956.328\n",
      "ARIMA(2, 1, 0) AIC=3956.095\n"
     ]
    },
    {
     "name": "stderr",
     "output_type": "stream",
     "text": [
      " 51%|█████▏    | 190/370 [24:43<22:58,  7.66s/it]"
     ]
    },
    {
     "name": "stdout",
     "output_type": "stream",
     "text": [
      "Best ARIMA(2, 1, 0) AIC=3956.095\n",
      "[103113.39382756707, 103049.40940691161, 102985.3806820886, 102982.32870328992, 102977.037807136]\n",
      "ARIMA(0, 1, 0) AIC=4367.986\n",
      "ARIMA(2, 1, 2) AIC=4363.681\n",
      "Best ARIMA(2, 1, 2) AIC=4363.681\n"
     ]
    },
    {
     "name": "stderr",
     "output_type": "stream",
     "text": [
      " 52%|█████▏    | 191/370 [24:52<23:39,  7.93s/it]"
     ]
    },
    {
     "name": "stdout",
     "output_type": "stream",
     "text": [
      "[380276.7837407052, 379866.8146524696, 379726.326340817, 379870.90213902306, 380273.94852137327]\n",
      "ARIMA(0, 1, 0) AIC=3753.955\n",
      "ARIMA(0, 1, 2) AIC=3750.282\n",
      "ARIMA(0, 1, 3) AIC=3748.122\n",
      "ARIMA(1, 1, 2) AIC=3747.445\n"
     ]
    },
    {
     "name": "stderr",
     "output_type": "stream",
     "text": [
      " 52%|█████▏    | 192/370 [24:59<22:57,  7.74s/it]"
     ]
    },
    {
     "name": "stdout",
     "output_type": "stream",
     "text": [
      "Best ARIMA(1, 1, 2) AIC=3747.445\n",
      "[42120.60926783163, 42054.104061954, 42089.294850826256, 42070.67387815037, 42080.52704241602]\n",
      "ARIMA(0, 1, 0) AIC=3966.063\n",
      "ARIMA(2, 1, 2) AIC=3963.587\n",
      "Best ARIMA(2, 1, 2) AIC=3963.587\n"
     ]
    },
    {
     "name": "stderr",
     "output_type": "stream",
     "text": [
      " 52%|█████▏    | 193/370 [25:07<22:40,  7.68s/it]"
     ]
    },
    {
     "name": "stdout",
     "output_type": "stream",
     "text": [
      "[53243.96714825579, 53284.315349368735, 53326.96035228219, 53366.372322478164, 53407.748605286346]\n",
      "ARIMA(0, 1, 0) AIC=3982.058\n",
      "ARIMA(1, 1, 1) AIC=3981.861\n",
      "ARIMA(2, 1, 2) AIC=3962.285\n",
      "Best ARIMA(2, 1, 2) AIC=3962.285\n"
     ]
    },
    {
     "name": "stderr",
     "output_type": "stream",
     "text": [
      " 52%|█████▏    | 194/370 [25:15<23:03,  7.86s/it]"
     ]
    },
    {
     "name": "stdout",
     "output_type": "stream",
     "text": [
      "[176443.44206670532, 176114.2692452339, 175860.28945333668, 176002.2866784668, 176331.0469269153]\n",
      "ARIMA(0, 1, 0) AIC=3912.733\n"
     ]
    },
    {
     "name": "stderr",
     "output_type": "stream",
     "text": [
      " 53%|█████▎    | 195/370 [25:23<23:33,  8.08s/it]"
     ]
    },
    {
     "name": "stdout",
     "output_type": "stream",
     "text": [
      "Best ARIMA(0, 1, 0) AIC=3912.733\n",
      "[70000.0, 70000.0, 70000.0, 70000.0, 70000.0]\n",
      "ARIMA(0, 1, 0) AIC=4163.274\n",
      "ARIMA(2, 1, 2) AIC=4161.243\n",
      "Best ARIMA(2, 1, 2) AIC=4161.243\n"
     ]
    },
    {
     "name": "stderr",
     "output_type": "stream",
     "text": [
      " 53%|█████▎    | 196/370 [25:31<22:44,  7.84s/it]"
     ]
    },
    {
     "name": "stdout",
     "output_type": "stream",
     "text": [
      "[184308.7936596854, 184201.19401041014, 184138.8082846371, 184311.07552184278, 184163.1040106941]\n",
      "ARIMA(0, 1, 0) AIC=4231.460\n"
     ]
    },
    {
     "name": "stderr",
     "output_type": "stream",
     "text": [
      " 53%|█████▎    | 197/370 [25:37<21:38,  7.51s/it]"
     ]
    },
    {
     "name": "stdout",
     "output_type": "stream",
     "text": [
      "Best ARIMA(0, 1, 0) AIC=4231.460\n",
      "[180800.0, 180800.0, 180800.0, 180800.0, 180800.0]\n",
      "ARIMA(0, 1, 0) AIC=3701.690\n",
      "ARIMA(0, 1, 2) AIC=3693.155\n"
     ]
    },
    {
     "name": "stderr",
     "output_type": "stream",
     "text": [
      " 54%|█████▎    | 198/370 [25:45<21:28,  7.49s/it]"
     ]
    },
    {
     "name": "stdout",
     "output_type": "stream",
     "text": [
      "Best ARIMA(0, 1, 2) AIC=3693.155\n",
      "[85957.76487282464, 85835.60036404178, 85835.60036404178, 85835.60036404178, 85835.60036404178]\n",
      "ARIMA(0, 1, 0) AIC=4033.335\n",
      "ARIMA(3, 1, 2) AIC=4029.939\n",
      "Best ARIMA(3, 1, 2) AIC=4029.939\n"
     ]
    },
    {
     "name": "stderr",
     "output_type": "stream",
     "text": [
      " 54%|█████▍    | 199/370 [25:53<22:02,  7.73s/it]"
     ]
    },
    {
     "name": "stdout",
     "output_type": "stream",
     "text": [
      "[171192.4301743378, 170891.13790539638, 171422.22892442503, 170776.28595858763, 171406.1393997791]\n",
      "ARIMA(0, 1, 0) AIC=4297.430\n",
      "ARIMA(2, 1, 2) AIC=4295.415\n",
      "Best ARIMA(2, 1, 2) AIC=4295.415\n"
     ]
    },
    {
     "name": "stderr",
     "output_type": "stream",
     "text": [
      " 54%|█████▍    | 200/370 [26:02<22:42,  8.02s/it]"
     ]
    },
    {
     "name": "stdout",
     "output_type": "stream",
     "text": [
      "[261561.32884400574, 262163.4260609309, 262425.8214172892, 261938.66405647554, 261501.76521533277]\n",
      "ARIMA(0, 1, 0) AIC=3560.656\n",
      "ARIMA(2, 1, 2) AIC=3554.279\n",
      "Best ARIMA(2, 1, 2) AIC=3554.279\n"
     ]
    },
    {
     "name": "stderr",
     "output_type": "stream",
     "text": [
      " 54%|█████▍    | 201/370 [26:09<22:01,  7.82s/it]"
     ]
    },
    {
     "name": "stdout",
     "output_type": "stream",
     "text": [
      "[40454.12634431431, 40457.32320515746, 40446.94156420141, 40464.30797751568, 40440.21568421256]\n",
      "ARIMA(0, 1, 0) AIC=4234.546\n",
      "ARIMA(2, 1, 2) AIC=4233.138\n",
      "Best ARIMA(2, 1, 2) AIC=4233.138\n"
     ]
    },
    {
     "name": "stderr",
     "output_type": "stream",
     "text": [
      " 55%|█████▍    | 202/370 [26:17<21:38,  7.73s/it]"
     ]
    },
    {
     "name": "stdout",
     "output_type": "stream",
     "text": [
      "[124638.9341897686, 124780.20872442682, 125222.95216190182, 125366.87141540162, 125025.94423807053]\n",
      "ARIMA(0, 1, 0) AIC=4242.536\n",
      "ARIMA(2, 1, 2) AIC=4241.756\n",
      "Best ARIMA(2, 1, 2) AIC=4241.756\n"
     ]
    },
    {
     "name": "stderr",
     "output_type": "stream",
     "text": [
      " 55%|█████▍    | 203/370 [26:25<21:58,  7.89s/it]"
     ]
    },
    {
     "name": "stdout",
     "output_type": "stream",
     "text": [
      "[284438.8454767654, 283927.76362861524, 282685.90067021135, 282934.074933819, 284130.9307025874]\n",
      "ARIMA(0, 1, 0) AIC=3596.771\n"
     ]
    },
    {
     "name": "stderr",
     "output_type": "stream",
     "text": [
      " 55%|█████▌    | 204/370 [26:32<21:29,  7.77s/it]"
     ]
    },
    {
     "name": "stdout",
     "output_type": "stream",
     "text": [
      "Best ARIMA(0, 1, 0) AIC=3596.771\n",
      "[41200.0, 41200.0, 41200.0, 41200.0, 41200.0]\n",
      "ARIMA(0, 1, 0) AIC=3944.974\n",
      "ARIMA(1, 1, 1) AIC=3942.420\n",
      "ARIMA(3, 1, 3) AIC=3940.436\n",
      "Best ARIMA(3, 1, 3) AIC=3940.436\n"
     ]
    },
    {
     "name": "stderr",
     "output_type": "stream",
     "text": [
      " 55%|█████▌    | 205/370 [26:41<22:17,  8.10s/it]"
     ]
    },
    {
     "name": "stdout",
     "output_type": "stream",
     "text": [
      "[65285.95277423683, 65666.17231656083, 65764.38255141569, 65760.79820431261, 66141.83322097771]\n",
      "ARIMA(0, 1, 0) AIC=3913.249\n"
     ]
    },
    {
     "name": "stderr",
     "output_type": "stream",
     "text": [
      " 56%|█████▌    | 206/370 [26:48<20:54,  7.65s/it]"
     ]
    },
    {
     "name": "stdout",
     "output_type": "stream",
     "text": [
      "Best ARIMA(0, 1, 0) AIC=3913.249\n",
      "[109600.0, 109600.0, 109600.0, 109600.0, 109600.0]\n",
      "ARIMA(0, 1, 0) AIC=4097.065\n"
     ]
    },
    {
     "name": "stderr",
     "output_type": "stream",
     "text": [
      " 56%|█████▌    | 207/370 [26:56<20:49,  7.67s/it]"
     ]
    },
    {
     "name": "stdout",
     "output_type": "stream",
     "text": [
      "Best ARIMA(0, 1, 0) AIC=4097.065\n",
      "[87500.0, 87500.0, 87500.0, 87500.0, 87500.0]\n",
      "ARIMA(0, 1, 0) AIC=3593.067\n",
      "ARIMA(0, 1, 1) AIC=3591.891\n",
      "ARIMA(1, 1, 0) AIC=3591.491\n"
     ]
    },
    {
     "name": "stderr",
     "output_type": "stream",
     "text": [
      " 56%|█████▌    | 208/370 [27:03<20:10,  7.47s/it]"
     ]
    },
    {
     "name": "stdout",
     "output_type": "stream",
     "text": [
      "Best ARIMA(1, 1, 0) AIC=3591.491\n",
      "[19725.252572768404, 19722.064110611285, 19722.466694974493, 19722.41586351986, 19722.422281644893]\n",
      "ARIMA(0, 1, 0) AIC=3376.696\n"
     ]
    },
    {
     "name": "stderr",
     "output_type": "stream",
     "text": [
      " 56%|█████▋    | 209/370 [27:11<20:23,  7.60s/it]"
     ]
    },
    {
     "name": "stdout",
     "output_type": "stream",
     "text": [
      "Best ARIMA(0, 1, 0) AIC=3376.696\n",
      "[18450.0, 18450.0, 18450.0, 18450.0, 18450.0]\n",
      "ARIMA(0, 1, 0) AIC=3978.957\n"
     ]
    },
    {
     "name": "stderr",
     "output_type": "stream",
     "text": [
      " 57%|█████▋    | 210/370 [27:18<20:10,  7.57s/it]"
     ]
    },
    {
     "name": "stdout",
     "output_type": "stream",
     "text": [
      "Best ARIMA(0, 1, 0) AIC=3978.957\n",
      "[123500.0, 123500.0, 123500.0, 123500.0, 123500.0]\n",
      "ARIMA(0, 1, 0) AIC=3550.348\n"
     ]
    },
    {
     "name": "stderr",
     "output_type": "stream",
     "text": [
      " 57%|█████▋    | 211/370 [27:25<19:30,  7.36s/it]"
     ]
    },
    {
     "name": "stdout",
     "output_type": "stream",
     "text": [
      "Best ARIMA(0, 1, 0) AIC=3550.348\n",
      "[45200.0, 45200.0, 45200.0, 45200.0, 45200.0]\n",
      "ARIMA(0, 1, 0) AIC=3058.409\n",
      "ARIMA(0, 1, 1) AIC=3058.172\n",
      "ARIMA(3, 1, 3) AIC=3057.846\n",
      "Best ARIMA(3, 1, 3) AIC=3057.846\n"
     ]
    },
    {
     "name": "stderr",
     "output_type": "stream",
     "text": [
      " 57%|█████▋    | 212/370 [27:32<19:13,  7.30s/it]"
     ]
    },
    {
     "name": "stdout",
     "output_type": "stream",
     "text": [
      "[17467.12519050585, 17511.87475816371, 17476.937752674872, 17544.485912251366, 17493.95002818157]\n",
      "ARIMA(0, 1, 0) AIC=3369.119\n",
      "ARIMA(1, 1, 1) AIC=3368.432\n"
     ]
    },
    {
     "name": "stderr",
     "output_type": "stream",
     "text": [
      " 58%|█████▊    | 213/370 [27:39<18:59,  7.26s/it]"
     ]
    },
    {
     "name": "stdout",
     "output_type": "stream",
     "text": [
      "Best ARIMA(1, 1, 1) AIC=3368.432\n",
      "[34996.130094174354, 34996.57517868959, 34996.5239887551, 34996.52987619738, 34996.52919907254]\n",
      "ARIMA(0, 1, 0) AIC=3848.884\n",
      "ARIMA(2, 1, 2) AIC=3846.776\n",
      "Best ARIMA(2, 1, 2) AIC=3846.776\n"
     ]
    },
    {
     "name": "stderr",
     "output_type": "stream",
     "text": [
      " 58%|█████▊    | 214/370 [27:48<19:47,  7.61s/it]"
     ]
    },
    {
     "name": "stdout",
     "output_type": "stream",
     "text": [
      "[83975.36944290347, 83696.21569958176, 84008.757482048, 84406.39722229625, 84250.80463814]\n",
      "ARIMA(0, 1, 0) AIC=4024.391\n"
     ]
    },
    {
     "name": "stderr",
     "output_type": "stream",
     "text": [
      " 58%|█████▊    | 215/370 [27:55<19:30,  7.55s/it]"
     ]
    },
    {
     "name": "stdout",
     "output_type": "stream",
     "text": [
      "Best ARIMA(0, 1, 0) AIC=4024.391\n",
      "[193000.0, 193000.0, 193000.0, 193000.0, 193000.0]\n",
      "ARIMA(0, 1, 0) AIC=4018.373\n",
      "ARIMA(2, 1, 2) AIC=4014.754\n",
      "Best ARIMA(2, 1, 2) AIC=4014.754\n"
     ]
    },
    {
     "name": "stderr",
     "output_type": "stream",
     "text": [
      " 58%|█████▊    | 216/370 [28:03<19:59,  7.79s/it]"
     ]
    },
    {
     "name": "stdout",
     "output_type": "stream",
     "text": [
      "[129116.40869372756, 128122.94402178573, 128243.77593067456, 129146.48743630118, 128356.56632649332]\n",
      "ARIMA(0, 1, 0) AIC=3160.553\n",
      "ARIMA(0, 1, 2) AIC=3152.345\n"
     ]
    },
    {
     "name": "stderr",
     "output_type": "stream",
     "text": [
      " 59%|█████▊    | 217/370 [28:11<19:51,  7.79s/it]"
     ]
    },
    {
     "name": "stdout",
     "output_type": "stream",
     "text": [
      "Best ARIMA(0, 1, 2) AIC=3152.345\n",
      "[19797.64103879257, 19841.982696689178, 19841.982696689178, 19841.982696689178, 19841.982696689178]\n",
      "ARIMA(0, 1, 0) AIC=3373.759\n"
     ]
    },
    {
     "name": "stderr",
     "output_type": "stream",
     "text": [
      " 59%|█████▉    | 218/370 [28:18<19:12,  7.58s/it]"
     ]
    },
    {
     "name": "stdout",
     "output_type": "stream",
     "text": [
      "Best ARIMA(0, 1, 0) AIC=3373.759\n",
      "[35200.0, 35200.0, 35200.0, 35200.0, 35200.0]\n",
      "ARIMA(0, 1, 0) AIC=4300.466\n",
      "ARIMA(1, 1, 2) AIC=4299.096\n",
      "ARIMA(2, 1, 1) AIC=4298.637\n",
      "ARIMA(3, 1, 3) AIC=4287.737\n",
      "Best ARIMA(3, 1, 3) AIC=4287.737\n"
     ]
    },
    {
     "name": "stderr",
     "output_type": "stream",
     "text": [
      " 59%|█████▉    | 219/370 [28:25<18:29,  7.35s/it]"
     ]
    },
    {
     "name": "stdout",
     "output_type": "stream",
     "text": [
      "[48331.31353303562, 47666.33795846703, 49532.69614014241, 49818.00558407561, 48504.3226331804]\n",
      "ARIMA(0, 1, 0) AIC=3726.183\n"
     ]
    },
    {
     "name": "stderr",
     "output_type": "stream",
     "text": [
      " 59%|█████▉    | 220/370 [28:33<18:36,  7.44s/it]"
     ]
    },
    {
     "name": "stdout",
     "output_type": "stream",
     "text": [
      "Best ARIMA(0, 1, 0) AIC=3726.183\n",
      "[78200.0, 78200.0, 78200.0, 78200.0, 78200.0]\n",
      "ARIMA(0, 1, 0) AIC=3227.452\n",
      "ARIMA(0, 1, 2) AIC=3225.849\n",
      "ARIMA(1, 1, 2) AIC=3224.965\n",
      "Best ARIMA(1, 1, 2) AIC=3224.965\n",
      "[19604.466771125884, 19421.92416678735, 19311.46612501304, 19244.627049078812, 19204.182170643708]\n"
     ]
    },
    {
     "name": "stderr",
     "output_type": "stream",
     "text": [
      " 60%|█████▉    | 221/370 [28:40<18:39,  7.51s/it]"
     ]
    },
    {
     "name": "stdout",
     "output_type": "stream",
     "text": [
      "ARIMA(0, 1, 0) AIC=3477.596\n",
      "ARIMA(1, 1, 1) AIC=3476.813\n",
      "Best ARIMA(1, 1, 1) AIC=3476.813\n"
     ]
    },
    {
     "name": "stderr",
     "output_type": "stream",
     "text": [
      " 60%|██████    | 222/370 [28:48<18:54,  7.66s/it]"
     ]
    },
    {
     "name": "stdout",
     "output_type": "stream",
     "text": [
      "[52263.24849904519, 52392.665239145565, 52270.189854954035, 52386.09618763733, 52276.406570864354]\n",
      "ARIMA(0, 1, 0) AIC=3180.744\n",
      "ARIMA(0, 1, 1) AIC=3180.497\n",
      "ARIMA(1, 1, 0) AIC=3180.427\n"
     ]
    },
    {
     "name": "stderr",
     "output_type": "stream",
     "text": [
      " 60%|██████    | 223/370 [28:56<18:53,  7.71s/it]"
     ]
    },
    {
     "name": "stdout",
     "output_type": "stream",
     "text": [
      "Best ARIMA(1, 1, 0) AIC=3180.427\n",
      "[22344.966640501174, 22340.473309927926, 22340.92230988468, 22340.87744317437, 22340.88192651933]\n",
      "ARIMA(0, 1, 0) AIC=3441.401\n"
     ]
    },
    {
     "name": "stderr",
     "output_type": "stream",
     "text": [
      " 61%|██████    | 224/370 [29:04<19:04,  7.84s/it]"
     ]
    },
    {
     "name": "stdout",
     "output_type": "stream",
     "text": [
      "Best ARIMA(0, 1, 0) AIC=3441.401\n",
      "[35550.0, 35550.0, 35550.0, 35550.0, 35550.0]\n",
      "ARIMA(0, 1, 0) AIC=3912.644\n",
      "ARIMA(2, 1, 2) AIC=3911.522\n",
      "Best ARIMA(2, 1, 2) AIC=3911.522\n"
     ]
    },
    {
     "name": "stderr",
     "output_type": "stream",
     "text": [
      " 61%|██████    | 225/370 [29:13<19:44,  8.17s/it]"
     ]
    },
    {
     "name": "stdout",
     "output_type": "stream",
     "text": [
      "[106659.11416407641, 106228.98415181921, 106303.50240102819, 106829.53437432152, 107444.75312707147]\n",
      "ARIMA(0, 1, 0) AIC=3631.853\n"
     ]
    },
    {
     "name": "stderr",
     "output_type": "stream",
     "text": [
      " 61%|██████    | 226/370 [29:20<18:39,  7.77s/it]"
     ]
    },
    {
     "name": "stdout",
     "output_type": "stream",
     "text": [
      "Best ARIMA(0, 1, 0) AIC=3631.853\n",
      "[54100.0, 54100.0, 54100.0, 54100.0, 54100.0]\n",
      "ARIMA(0, 1, 0) AIC=3749.610\n",
      "ARIMA(0, 1, 1) AIC=3749.488\n",
      "ARIMA(1, 1, 1) AIC=3744.365\n",
      "Best ARIMA(1, 1, 1) AIC=3744.365\n",
      "[45135.26183429011, 45300.35665056901, 45447.4797667068, 45578.58752520557, 45695.42330730302]\n"
     ]
    },
    {
     "name": "stderr",
     "output_type": "stream",
     "text": [
      " 61%|██████▏   | 227/370 [29:28<18:34,  7.79s/it]"
     ]
    },
    {
     "name": "stdout",
     "output_type": "stream",
     "text": [
      "ARIMA(0, 1, 0) AIC=3454.094\n",
      "ARIMA(2, 1, 2) AIC=3452.248\n",
      "Best ARIMA(2, 1, 2) AIC=3452.248\n"
     ]
    },
    {
     "name": "stderr",
     "output_type": "stream",
     "text": [
      " 62%|██████▏   | 228/370 [29:36<18:27,  7.80s/it]"
     ]
    },
    {
     "name": "stdout",
     "output_type": "stream",
     "text": [
      "[38835.87158795091, 38658.2533091345, 38522.249574824695, 38379.84705263815, 38251.24019540662]\n",
      "ARIMA(0, 1, 0) AIC=4260.911\n"
     ]
    },
    {
     "name": "stderr",
     "output_type": "stream",
     "text": [
      " 62%|██████▏   | 229/370 [29:42<17:11,  7.32s/it]"
     ]
    },
    {
     "name": "stdout",
     "output_type": "stream",
     "text": [
      "Best ARIMA(0, 1, 0) AIC=4260.911\n",
      "[149600.0, 149600.0, 149600.0, 149600.0, 149600.0]\n",
      "ARIMA(0, 1, 0) AIC=3801.586\n"
     ]
    },
    {
     "name": "stderr",
     "output_type": "stream",
     "text": [
      " 62%|██████▏   | 230/370 [29:50<17:09,  7.35s/it]"
     ]
    },
    {
     "name": "stdout",
     "output_type": "stream",
     "text": [
      "Best ARIMA(0, 1, 0) AIC=3801.586\n",
      "[47700.0, 47700.0, 47700.0, 47700.0, 47700.0]\n",
      "ARIMA(0, 1, 0) AIC=3903.885\n",
      "ARIMA(1, 1, 2) AIC=3897.486\n",
      "Best ARIMA(1, 1, 2) AIC=3897.486\n",
      "[56534.06555326393, 56653.09381796244, 56758.35594578985, 56851.444050391045, 56933.76611053837]\n"
     ]
    },
    {
     "name": "stderr",
     "output_type": "stream",
     "text": [
      " 62%|██████▏   | 231/370 [29:58<17:34,  7.59s/it]"
     ]
    },
    {
     "name": "stdout",
     "output_type": "stream",
     "text": [
      "ARIMA(0, 1, 0) AIC=4327.669\n",
      "ARIMA(0, 1, 2) AIC=4317.588\n",
      "ARIMA(2, 1, 0) AIC=4299.934\n",
      "ARIMA(2, 1, 3) AIC=4296.387\n",
      "Best ARIMA(2, 1, 3) AIC=4296.387\n"
     ]
    },
    {
     "name": "stderr",
     "output_type": "stream",
     "text": [
      " 63%|██████▎   | 232/370 [30:06<17:40,  7.68s/it]"
     ]
    },
    {
     "name": "stdout",
     "output_type": "stream",
     "text": [
      "[64195.77025262669, 63403.980197063385, 62952.88953082646, 62896.59088595557, 63125.406112332756]\n",
      "ARIMA(0, 1, 0) AIC=2666.736\n",
      "ARIMA(0, 2, 1) AIC=2662.922\n",
      "ARIMA(2, 2, 3) AIC=2662.543\n",
      "Best ARIMA(2, 2, 3) AIC=2662.543\n"
     ]
    },
    {
     "name": "stderr",
     "output_type": "stream",
     "text": [
      " 63%|██████▎   | 233/370 [30:13<17:27,  7.64s/it]"
     ]
    },
    {
     "name": "stdout",
     "output_type": "stream",
     "text": [
      "[6676.892950656915, 6672.62783944469, 6662.660163468633, 6654.667842421543, 6648.562833854566]\n",
      "ARIMA(0, 1, 0) AIC=4072.115\n"
     ]
    },
    {
     "name": "stderr",
     "output_type": "stream",
     "text": [
      " 63%|██████▎   | 234/370 [30:21<17:30,  7.72s/it]"
     ]
    },
    {
     "name": "stdout",
     "output_type": "stream",
     "text": [
      "Best ARIMA(0, 1, 0) AIC=4072.115\n",
      "[156900.0, 156900.0, 156900.0, 156900.0, 156900.0]\n",
      "ARIMA(0, 1, 0) AIC=2921.481\n",
      "ARIMA(0, 1, 3) AIC=2913.411\n",
      "ARIMA(1, 1, 2) AIC=2913.241\n",
      "ARIMA(1, 2, 2) AIC=2911.235\n",
      "ARIMA(1, 2, 3) AIC=2909.260\n",
      "ARIMA(3, 2, 1) AIC=2909.113\n",
      "Best ARIMA(3, 2, 1) AIC=2909.113\n"
     ]
    },
    {
     "name": "stderr",
     "output_type": "stream",
     "text": [
      " 64%|██████▎   | 235/370 [30:28<17:03,  7.58s/it]"
     ]
    },
    {
     "name": "stdout",
     "output_type": "stream",
     "text": [
      "[6363.006828267452, 6308.270351794171, 6347.039523768964, 6337.748734733966, 6357.921996115707]\n",
      "ARIMA(0, 1, 0) AIC=3753.260\n",
      "ARIMA(1, 1, 2) AIC=3745.605\n",
      "ARIMA(2, 1, 2) AIC=3744.115\n",
      "Best ARIMA(2, 1, 2) AIC=3744.115\n"
     ]
    },
    {
     "name": "stderr",
     "output_type": "stream",
     "text": [
      " 64%|██████▍   | 236/370 [30:37<17:53,  8.01s/it]"
     ]
    },
    {
     "name": "stdout",
     "output_type": "stream",
     "text": [
      "[47133.794341743574, 46976.25460282701, 46916.180771480256, 47076.84910983287, 47113.523958317746]\n",
      "ARIMA(0, 1, 0) AIC=3775.860\n",
      "ARIMA(0, 1, 1) AIC=3775.172\n",
      "ARIMA(0, 1, 2) AIC=3774.491\n",
      "ARIMA(1, 1, 1) AIC=3774.003\n"
     ]
    },
    {
     "name": "stderr",
     "output_type": "stream",
     "text": [
      " 64%|██████▍   | 237/370 [30:44<16:41,  7.53s/it]"
     ]
    },
    {
     "name": "stdout",
     "output_type": "stream",
     "text": [
      "Best ARIMA(1, 1, 1) AIC=3774.003\n",
      "[23576.58869561025, 23523.50717868562, 23560.296517067338, 23534.79883921299, 23552.470577943885]\n",
      "ARIMA(0, 1, 0) AIC=3134.994\n",
      "ARIMA(2, 1, 2) AIC=3127.097\n",
      "Best ARIMA(2, 1, 2) AIC=3127.097\n"
     ]
    },
    {
     "name": "stderr",
     "output_type": "stream",
     "text": [
      " 64%|██████▍   | 238/370 [30:52<17:10,  7.80s/it]"
     ]
    },
    {
     "name": "stdout",
     "output_type": "stream",
     "text": [
      "[22415.25040642191, 22445.303894880104, 22424.81663956072, 22432.819837081, 22437.887922972976]\n",
      "ARIMA(0, 1, 0) AIC=3460.289\n",
      "ARIMA(1, 1, 1) AIC=3457.832\n",
      "ARIMA(2, 1, 3) AIC=3452.444\n",
      "Best ARIMA(2, 1, 3) AIC=3452.444\n"
     ]
    },
    {
     "name": "stderr",
     "output_type": "stream",
     "text": [
      " 65%|██████▍   | 239/370 [31:01<17:34,  8.05s/it]"
     ]
    },
    {
     "name": "stdout",
     "output_type": "stream",
     "text": [
      "[46451.48065317234, 46373.24160163816, 46355.43257985457, 46423.55164958133, 46451.81267004792]\n",
      "ARIMA(0, 1, 0) AIC=3002.356\n",
      "ARIMA(0, 1, 1) AIC=3000.680\n",
      "ARIMA(2, 1, 2) AIC=2994.370\n",
      "Best ARIMA(2, 1, 2) AIC=2994.370\n"
     ]
    },
    {
     "name": "stderr",
     "output_type": "stream",
     "text": [
      " 65%|██████▍   | 240/370 [31:08<17:00,  7.85s/it]"
     ]
    },
    {
     "name": "stdout",
     "output_type": "stream",
     "text": [
      "[14855.43674847307, 14867.576825911501, 14913.097294165093, 14910.476023864272, 14865.93650370385]\n",
      "ARIMA(0, 1, 0) AIC=3544.034\n"
     ]
    },
    {
     "name": "stderr",
     "output_type": "stream",
     "text": [
      " 65%|██████▌   | 241/370 [31:15<15:56,  7.41s/it]"
     ]
    },
    {
     "name": "stdout",
     "output_type": "stream",
     "text": [
      "Best ARIMA(0, 1, 0) AIC=3544.034\n",
      "[44550.0, 44550.0, 44550.0, 44550.0, 44550.0]\n",
      "ARIMA(0, 1, 0) AIC=3634.187\n",
      "ARIMA(0, 1, 1) AIC=3633.229\n",
      "ARIMA(1, 1, 0) AIC=3633.088\n"
     ]
    },
    {
     "name": "stderr",
     "output_type": "stream",
     "text": [
      " 65%|██████▌   | 242/370 [31:21<15:10,  7.12s/it]"
     ]
    },
    {
     "name": "stdout",
     "output_type": "stream",
     "text": [
      "Best ARIMA(1, 1, 0) AIC=3633.088\n",
      "[17090.161904395427, 17089.19402314418, 17089.098802061344, 17089.08943412018, 17089.08851249317]\n",
      "ARIMA(0, 1, 0) AIC=3561.261\n",
      "ARIMA(2, 1, 3) AIC=3553.769\n",
      "ARIMA(3, 1, 2) AIC=3553.528\n",
      "Best ARIMA(3, 1, 2) AIC=3553.528\n"
     ]
    },
    {
     "name": "stderr",
     "output_type": "stream",
     "text": [
      " 66%|██████▌   | 243/370 [31:29<15:24,  7.28s/it]"
     ]
    },
    {
     "name": "stdout",
     "output_type": "stream",
     "text": [
      "[27063.382022282465, 27106.96478436809, 27112.742125093264, 27076.58901656464, 27026.625149352894]\n",
      "ARIMA(0, 1, 0) AIC=4177.998\n"
     ]
    },
    {
     "name": "stderr",
     "output_type": "stream",
     "text": [
      " 66%|██████▌   | 244/370 [31:35<14:47,  7.04s/it]"
     ]
    },
    {
     "name": "stdout",
     "output_type": "stream",
     "text": [
      "Best ARIMA(0, 1, 0) AIC=4177.998\n",
      "[71400.0, 71400.0, 71400.0, 71400.0, 71400.0]\n",
      "ARIMA(0, 1, 0) AIC=3680.715\n",
      "ARIMA(0, 1, 1) AIC=3679.837\n",
      "ARIMA(0, 1, 3) AIC=3679.666\n",
      "ARIMA(1, 1, 1) AIC=3656.511\n",
      "ARIMA(1, 1, 2) AIC=3645.520\n",
      "ARIMA(1, 1, 3) AIC=3634.692\n",
      "ARIMA(2, 1, 2) AIC=3627.584\n",
      "ARIMA(2, 1, 3) AIC=3601.909\n",
      "Best ARIMA(2, 1, 3) AIC=3601.909\n"
     ]
    },
    {
     "name": "stderr",
     "output_type": "stream",
     "text": [
      " 66%|██████▌   | 245/370 [31:44<16:07,  7.74s/it]"
     ]
    },
    {
     "name": "stdout",
     "output_type": "stream",
     "text": [
      "[29901.812677490492, 29937.557754848494, 30138.11244432252, 30339.884614813425, 30434.2841824332]\n",
      "ARIMA(0, 1, 0) AIC=3573.049\n",
      "ARIMA(0, 1, 2) AIC=3572.931\n",
      "ARIMA(2, 1, 0) AIC=3572.678\n"
     ]
    },
    {
     "name": "stderr",
     "output_type": "stream",
     "text": [
      " 66%|██████▋   | 246/370 [31:51<15:25,  7.47s/it]"
     ]
    },
    {
     "name": "stdout",
     "output_type": "stream",
     "text": [
      "Best ARIMA(2, 1, 0) AIC=3572.678\n",
      "[51426.25242021568, 51474.205608210934, 51507.50515706752, 51512.07968078961, 51515.482358500005]\n",
      "ARIMA(0, 1, 0) AIC=4013.952\n"
     ]
    },
    {
     "name": "stderr",
     "output_type": "stream",
     "text": [
      " 67%|██████▋   | 247/370 [31:59<15:38,  7.63s/it]"
     ]
    },
    {
     "name": "stdout",
     "output_type": "stream",
     "text": [
      "Best ARIMA(0, 1, 0) AIC=4013.952\n",
      "[97000.0, 97000.0, 97000.0, 97000.0, 97000.0]\n",
      "ARIMA(0, 1, 0) AIC=3634.837\n",
      "ARIMA(2, 1, 3) AIC=3634.396\n",
      "Best ARIMA(2, 1, 3) AIC=3634.396\n"
     ]
    },
    {
     "name": "stderr",
     "output_type": "stream",
     "text": [
      " 67%|██████▋   | 248/370 [32:07<15:36,  7.67s/it]"
     ]
    },
    {
     "name": "stdout",
     "output_type": "stream",
     "text": [
      "[70706.44784108395, 70497.49506399201, 70151.7866675458, 70228.40069856124, 70575.93250749323]\n",
      "ARIMA(0, 1, 0) AIC=3365.664\n",
      "ARIMA(0, 1, 3) AIC=3363.696\n",
      "ARIMA(2, 1, 2) AIC=3357.053\n",
      "ARIMA(3, 1, 2) AIC=3356.895\n",
      "Best ARIMA(3, 1, 2) AIC=3356.895\n"
     ]
    },
    {
     "name": "stderr",
     "output_type": "stream",
     "text": [
      " 67%|██████▋   | 249/370 [32:15<15:42,  7.79s/it]"
     ]
    },
    {
     "name": "stdout",
     "output_type": "stream",
     "text": [
      "[31448.13876300697, 31400.268828858432, 31328.550085174993, 31385.119077248153, 31428.841266313004]\n",
      "ARIMA(0, 1, 0) AIC=3308.283\n"
     ]
    },
    {
     "name": "stderr",
     "output_type": "stream",
     "text": [
      " 68%|██████▊   | 250/370 [32:22<15:15,  7.63s/it]"
     ]
    },
    {
     "name": "stdout",
     "output_type": "stream",
     "text": [
      "Best ARIMA(0, 1, 0) AIC=3308.283\n",
      "[14950.0, 14950.0, 14950.0, 14950.0, 14950.0]\n",
      "ARIMA(0, 1, 0) AIC=4029.849\n",
      "ARIMA(0, 1, 2) AIC=4018.088\n",
      "ARIMA(0, 1, 3) AIC=4014.335\n",
      "ARIMA(0, 2, 3) AIC=4013.159\n",
      "ARIMA(1, 2, 3) AIC=4011.359\n",
      "ARIMA(3, 1, 2) AIC=4007.669\n",
      "Best ARIMA(3, 1, 2) AIC=4007.669\n"
     ]
    },
    {
     "name": "stderr",
     "output_type": "stream",
     "text": [
      " 68%|██████▊   | 251/370 [32:29<14:42,  7.42s/it]"
     ]
    },
    {
     "name": "stdout",
     "output_type": "stream",
     "text": [
      "[181534.32274318355, 180752.29168027913, 183565.4480427887, 185123.1683359349, 184205.53855878997]\n",
      "ARIMA(0, 1, 0) AIC=3636.057\n"
     ]
    },
    {
     "name": "stderr",
     "output_type": "stream",
     "text": [
      " 68%|██████▊   | 252/370 [32:36<14:14,  7.25s/it]"
     ]
    },
    {
     "name": "stdout",
     "output_type": "stream",
     "text": [
      "Best ARIMA(0, 1, 0) AIC=3636.057\n",
      "[77000.0, 77000.0, 77000.0, 77000.0, 77000.0]\n",
      "ARIMA(0, 1, 0) AIC=3508.417\n"
     ]
    },
    {
     "name": "stderr",
     "output_type": "stream",
     "text": [
      " 68%|██████▊   | 253/370 [32:42<13:33,  6.95s/it]"
     ]
    },
    {
     "name": "stdout",
     "output_type": "stream",
     "text": [
      "Best ARIMA(0, 1, 0) AIC=3508.417\n",
      "[23800.0, 23800.0, 23800.0, 23800.0, 23800.0]\n",
      "ARIMA(0, 1, 0) AIC=3298.591\n",
      "ARIMA(1, 1, 2) AIC=3295.898\n",
      "ARIMA(2, 1, 2) AIC=3292.620\n",
      "Best ARIMA(2, 1, 2) AIC=3292.620\n"
     ]
    },
    {
     "name": "stderr",
     "output_type": "stream",
     "text": [
      " 69%|██████▊   | 254/370 [32:51<14:12,  7.35s/it]"
     ]
    },
    {
     "name": "stdout",
     "output_type": "stream",
     "text": [
      "[21124.523425685977, 21235.607337237398, 21066.429506971042, 21141.99227944469, 21014.526567305347]\n",
      "ARIMA(0, 1, 0) AIC=3152.374\n",
      "ARIMA(0, 1, 1) AIC=3142.114\n",
      "ARIMA(0, 2, 2) AIC=3136.917\n",
      "ARIMA(1, 1, 3) AIC=3134.934\n",
      "ARIMA(1, 2, 2) AIC=3134.132\n",
      "ARIMA(2, 1, 3) AIC=3129.401\n",
      "ARIMA(3, 1, 2) AIC=3122.356\n",
      "ARIMA(3, 2, 3) AIC=3116.631\n",
      "Best ARIMA(3, 2, 3) AIC=3116.631\n"
     ]
    },
    {
     "name": "stderr",
     "output_type": "stream",
     "text": [
      " 69%|██████▉   | 255/370 [32:58<14:12,  7.41s/it]"
     ]
    },
    {
     "name": "stdout",
     "output_type": "stream",
     "text": [
      "[5647.463294007991, 5760.630372361827, 5740.49730514373, 5686.173697528955, 5695.366768663036]\n",
      "ARIMA(0, 1, 0) AIC=4298.767\n",
      "ARIMA(0, 1, 2) AIC=4296.490\n",
      "ARIMA(0, 2, 1) AIC=4286.067\n",
      "ARIMA(1, 2, 2) AIC=4283.128\n",
      "ARIMA(3, 2, 2) AIC=4282.589\n",
      "Best ARIMA(3, 2, 2) AIC=4282.589\n"
     ]
    },
    {
     "name": "stderr",
     "output_type": "stream",
     "text": [
      " 69%|██████▉   | 256/370 [33:05<13:36,  7.16s/it]"
     ]
    },
    {
     "name": "stdout",
     "output_type": "stream",
     "text": [
      "[119006.91466207191, 118281.76059963855, 118584.99159314067, 118764.38586211848, 119247.42413057254]\n",
      "ARIMA(0, 1, 0) AIC=3002.497\n",
      "ARIMA(0, 2, 1) AIC=2999.180\n",
      "ARIMA(1, 1, 1) AIC=2997.926\n",
      "ARIMA(1, 2, 2) AIC=2993.818\n",
      "ARIMA(2, 1, 3) AIC=2992.082\n",
      "ARIMA(2, 2, 3) AIC=2988.331\n",
      "Best ARIMA(2, 2, 3) AIC=2988.331\n"
     ]
    },
    {
     "name": "stderr",
     "output_type": "stream",
     "text": [
      " 69%|██████▉   | 257/370 [33:13<13:57,  7.41s/it]"
     ]
    },
    {
     "name": "stdout",
     "output_type": "stream",
     "text": [
      "[13215.864293783772, 13280.585688802437, 13269.037259991912, 13304.583725584816, 13356.434104491742]\n",
      "ARIMA(0, 1, 0) AIC=3940.244\n",
      "ARIMA(0, 2, 1) AIC=3939.120\n",
      "ARIMA(2, 1, 2) AIC=3938.658\n",
      "ARIMA(2, 1, 3) AIC=3935.347\n",
      "Best ARIMA(2, 1, 3) AIC=3935.347\n"
     ]
    },
    {
     "name": "stderr",
     "output_type": "stream",
     "text": [
      " 70%|██████▉   | 258/370 [33:20<13:57,  7.47s/it]"
     ]
    },
    {
     "name": "stdout",
     "output_type": "stream",
     "text": [
      "[50144.686576967164, 49846.33842119561, 49347.92328177224, 49355.06605950924, 49736.152678723374]\n",
      "ARIMA(0, 1, 0) AIC=2873.933\n",
      "ARIMA(0, 2, 1) AIC=2872.028\n",
      "ARIMA(2, 1, 2) AIC=2871.490\n",
      "Best ARIMA(2, 1, 2) AIC=2871.490\n"
     ]
    },
    {
     "name": "stderr",
     "output_type": "stream",
     "text": [
      " 70%|███████   | 259/370 [33:28<13:46,  7.45s/it]"
     ]
    },
    {
     "name": "stdout",
     "output_type": "stream",
     "text": [
      "[9678.602703126846, 9720.705381902924, 9726.789632492917, 9688.530180062939, 9669.685109429845]\n",
      "ARIMA(0, 1, 0) AIC=3917.126\n"
     ]
    },
    {
     "name": "stderr",
     "output_type": "stream",
     "text": [
      " 70%|███████   | 260/370 [33:35<13:40,  7.46s/it]"
     ]
    },
    {
     "name": "stdout",
     "output_type": "stream",
     "text": [
      "Best ARIMA(0, 1, 0) AIC=3917.126\n",
      "[141500.0, 141500.0, 141500.0, 141500.0, 141500.0]\n",
      "ARIMA(0, 1, 0) AIC=3450.461\n"
     ]
    },
    {
     "name": "stderr",
     "output_type": "stream",
     "text": [
      " 71%|███████   | 261/370 [33:43<13:54,  7.66s/it]"
     ]
    },
    {
     "name": "stdout",
     "output_type": "stream",
     "text": [
      "Best ARIMA(0, 1, 0) AIC=3450.461\n",
      "[35050.0, 35050.0, 35050.0, 35050.0, 35050.0]\n",
      "ARIMA(0, 1, 0) AIC=3903.454\n",
      "ARIMA(2, 1, 2) AIC=3901.123\n",
      "Best ARIMA(2, 1, 2) AIC=3901.123\n"
     ]
    },
    {
     "name": "stderr",
     "output_type": "stream",
     "text": [
      " 71%|███████   | 262/370 [33:52<14:08,  7.86s/it]"
     ]
    },
    {
     "name": "stdout",
     "output_type": "stream",
     "text": [
      "[105407.28557929948, 106646.26753418229, 107298.9911405369, 106969.5817053636, 105921.05053497103]\n",
      "ARIMA(0, 1, 0) AIC=3385.084\n",
      "ARIMA(2, 1, 2) AIC=3383.691\n",
      "Best ARIMA(2, 1, 2) AIC=3383.691\n"
     ]
    },
    {
     "name": "stderr",
     "output_type": "stream",
     "text": [
      " 71%|███████   | 263/370 [33:59<13:36,  7.63s/it]"
     ]
    },
    {
     "name": "stdout",
     "output_type": "stream",
     "text": [
      "[21377.520357628546, 21327.017648129513, 21433.219422007605, 21621.8018391824, 21761.402247188213]\n",
      "ARIMA(0, 1, 0) AIC=3751.501\n",
      "ARIMA(2, 1, 3) AIC=3751.447\n",
      "ARIMA(3, 1, 2) AIC=3751.235\n"
     ]
    },
    {
     "name": "stderr",
     "output_type": "stream",
     "text": [
      " 71%|███████▏  | 264/370 [34:06<13:26,  7.61s/it]"
     ]
    },
    {
     "name": "stdout",
     "output_type": "stream",
     "text": [
      "Best ARIMA(3, 1, 2) AIC=3751.235\n",
      "[62984.07799826523, 62945.95274417579, 62940.500139082455, 62924.445825451985, 62922.68220134453]\n",
      "ARIMA(0, 1, 0) AIC=3745.988\n",
      "ARIMA(2, 1, 3) AIC=3741.498\n",
      "Best ARIMA(2, 1, 3) AIC=3741.498\n"
     ]
    },
    {
     "name": "stderr",
     "output_type": "stream",
     "text": [
      " 72%|███████▏  | 265/370 [34:15<13:36,  7.77s/it]"
     ]
    },
    {
     "name": "stdout",
     "output_type": "stream",
     "text": [
      "[91975.04192709595, 91966.62956357744, 91959.2017969657, 91958.18549194152, 91955.25538754722]\n",
      "ARIMA(0, 1, 0) AIC=3965.465\n"
     ]
    },
    {
     "name": "stderr",
     "output_type": "stream",
     "text": [
      " 72%|███████▏  | 266/370 [34:21<12:54,  7.45s/it]"
     ]
    },
    {
     "name": "stdout",
     "output_type": "stream",
     "text": [
      "Best ARIMA(0, 1, 0) AIC=3965.465\n",
      "[118700.0, 118700.0, 118700.0, 118700.0, 118700.0]\n",
      "ARIMA(0, 1, 0) AIC=3274.705\n",
      "ARIMA(0, 1, 3) AIC=3272.957\n"
     ]
    },
    {
     "name": "stderr",
     "output_type": "stream",
     "text": [
      " 72%|███████▏  | 267/370 [34:28<12:31,  7.30s/it]"
     ]
    },
    {
     "name": "stdout",
     "output_type": "stream",
     "text": [
      "Best ARIMA(0, 1, 3) AIC=3272.957\n",
      "[17486.797366738134, 17562.018488685306, 17624.550604077638, 17624.550604077638, 17624.550604077638]\n",
      "ARIMA(0, 1, 0) AIC=2857.477\n",
      "ARIMA(0, 2, 1) AIC=2851.565\n"
     ]
    },
    {
     "name": "stderr",
     "output_type": "stream",
     "text": [
      " 72%|███████▏  | 268/370 [34:36<12:29,  7.35s/it]"
     ]
    },
    {
     "name": "stdout",
     "output_type": "stream",
     "text": [
      "Best ARIMA(0, 2, 1) AIC=2851.565\n",
      "[4672.996330165989, 4655.992660331978, 4638.988990497967, 4621.985320663956, 4604.9816508299455]\n",
      "ARIMA(0, 1, 0) AIC=3297.679\n"
     ]
    },
    {
     "name": "stderr",
     "output_type": "stream",
     "text": [
      " 73%|███████▎  | 269/370 [34:43<12:29,  7.42s/it]"
     ]
    },
    {
     "name": "stdout",
     "output_type": "stream",
     "text": [
      "Best ARIMA(0, 1, 0) AIC=3297.679\n",
      "[30650.0, 30650.0, 30650.0, 30650.0, 30650.0]\n",
      "ARIMA(0, 1, 0) AIC=3308.256\n",
      "ARIMA(0, 1, 2) AIC=3302.084\n",
      "ARIMA(0, 1, 3) AIC=3301.064\n",
      "ARIMA(1, 1, 3) AIC=3292.114\n",
      "Best ARIMA(1, 1, 3) AIC=3292.114\n"
     ]
    },
    {
     "name": "stderr",
     "output_type": "stream",
     "text": [
      " 73%|███████▎  | 270/370 [34:53<13:23,  8.04s/it]"
     ]
    },
    {
     "name": "stdout",
     "output_type": "stream",
     "text": [
      "[18747.648335179132, 18551.36237215673, 18752.421549998013, 18578.084547503313, 18729.250939235153]\n",
      "ARIMA(0, 1, 0) AIC=3705.817\n",
      "ARIMA(2, 1, 2) AIC=3705.186\n",
      "Best ARIMA(2, 1, 2) AIC=3705.186\n"
     ]
    },
    {
     "name": "stderr",
     "output_type": "stream",
     "text": [
      " 73%|███████▎  | 271/370 [35:01<13:28,  8.17s/it]"
     ]
    },
    {
     "name": "stdout",
     "output_type": "stream",
     "text": [
      "[60045.32118889376, 60087.157599764745, 60142.23418195429, 60106.731021939835, 60051.75968013091]\n",
      "ARIMA(0, 1, 0) AIC=3272.517\n"
     ]
    },
    {
     "name": "stderr",
     "output_type": "stream",
     "text": [
      " 74%|███████▎  | 272/370 [35:08<12:49,  7.85s/it]"
     ]
    },
    {
     "name": "stdout",
     "output_type": "stream",
     "text": [
      "Best ARIMA(0, 1, 0) AIC=3272.517\n",
      "[14300.0, 14300.0, 14300.0, 14300.0, 14300.0]\n",
      "ARIMA(0, 1, 0) AIC=3324.184\n"
     ]
    },
    {
     "name": "stderr",
     "output_type": "stream",
     "text": [
      " 74%|███████▍  | 273/370 [35:16<12:38,  7.82s/it]"
     ]
    },
    {
     "name": "stdout",
     "output_type": "stream",
     "text": [
      "Best ARIMA(0, 1, 0) AIC=3324.184\n",
      "[25150.0, 25150.0, 25150.0, 25150.0, 25150.0]\n",
      "ARIMA(0, 1, 0) AIC=3727.890\n",
      "ARIMA(0, 1, 3) AIC=3725.991\n"
     ]
    },
    {
     "name": "stderr",
     "output_type": "stream",
     "text": [
      " 74%|███████▍  | 274/370 [35:23<12:11,  7.62s/it]"
     ]
    },
    {
     "name": "stdout",
     "output_type": "stream",
     "text": [
      "Best ARIMA(0, 1, 3) AIC=3725.991\n",
      "[50618.113327066836, 50356.8965438902, 50570.88658036108, 50570.88658036108, 50570.88658036108]\n",
      "ARIMA(0, 1, 0) AIC=3738.370\n",
      "ARIMA(0, 2, 1) AIC=3732.441\n"
     ]
    },
    {
     "name": "stderr",
     "output_type": "stream",
     "text": [
      " 74%|███████▍  | 275/370 [35:31<12:15,  7.74s/it]"
     ]
    },
    {
     "name": "stdout",
     "output_type": "stream",
     "text": [
      "Best ARIMA(0, 2, 1) AIC=3732.441\n",
      "[23062.096601486923, 22824.193202973845, 22586.28980446077, 22348.38640594769, 22110.483007434614]\n",
      "ARIMA(0, 1, 0) AIC=3503.014\n",
      "ARIMA(1, 1, 1) AIC=3502.827\n",
      "Best ARIMA(1, 1, 1) AIC=3502.827\n"
     ]
    },
    {
     "name": "stderr",
     "output_type": "stream",
     "text": [
      " 75%|███████▍  | 276/370 [35:39<12:15,  7.82s/it]"
     ]
    },
    {
     "name": "stdout",
     "output_type": "stream",
     "text": [
      "[34477.56312086383, 34550.25394603095, 34618.37853932514, 34682.22373850714, 34742.05836300152]\n",
      "ARIMA(0, 1, 0) AIC=3487.712\n",
      "ARIMA(0, 1, 3) AIC=3486.285\n",
      "ARIMA(2, 1, 3) AIC=3485.390\n",
      "Best ARIMA(2, 1, 3) AIC=3485.390\n"
     ]
    },
    {
     "name": "stderr",
     "output_type": "stream",
     "text": [
      " 75%|███████▍  | 277/370 [35:47<11:59,  7.74s/it]"
     ]
    },
    {
     "name": "stdout",
     "output_type": "stream",
     "text": [
      "[43890.51689813309, 43955.92018976246, 43761.44418610336, 43836.9658106835, 43905.701064891946]\n",
      "ARIMA(0, 1, 0) AIC=3901.562\n",
      "ARIMA(2, 1, 1) AIC=3901.161\n",
      "ARIMA(2, 1, 2) AIC=3891.711\n",
      "Best ARIMA(2, 1, 2) AIC=3891.711\n"
     ]
    },
    {
     "name": "stderr",
     "output_type": "stream",
     "text": [
      " 75%|███████▌  | 278/370 [35:55<11:49,  7.71s/it]"
     ]
    },
    {
     "name": "stdout",
     "output_type": "stream",
     "text": [
      "[48232.473765329974, 47355.596023802646, 46877.29967709805, 46943.97592241871, 47498.11217577027]\n",
      "ARIMA(0, 1, 0) AIC=3343.302\n",
      "ARIMA(0, 1, 1) AIC=3342.560\n",
      "ARIMA(0, 2, 1) AIC=3340.172\n",
      "ARIMA(0, 2, 2) AIC=3337.516\n",
      "ARIMA(0, 2, 3) AIC=3336.964\n",
      "ARIMA(2, 1, 3) AIC=3335.695\n",
      "Best ARIMA(2, 1, 3) AIC=3335.695\n"
     ]
    },
    {
     "name": "stderr",
     "output_type": "stream",
     "text": [
      " 75%|███████▌  | 279/370 [36:03<11:50,  7.81s/it]"
     ]
    },
    {
     "name": "stdout",
     "output_type": "stream",
     "text": [
      "[14194.163372107629, 14315.09122300033, 14437.589212809906, 14514.601179466785, 14524.64998068108]\n",
      "ARIMA(0, 1, 0) AIC=3471.711\n"
     ]
    },
    {
     "name": "stderr",
     "output_type": "stream",
     "text": [
      " 76%|███████▌  | 280/370 [36:10<11:45,  7.84s/it]"
     ]
    },
    {
     "name": "stdout",
     "output_type": "stream",
     "text": [
      "Best ARIMA(0, 1, 0) AIC=3471.711\n",
      "[32300.0, 32300.0, 32300.0, 32300.0, 32300.0]\n",
      "ARIMA(0, 1, 0) AIC=3539.669\n"
     ]
    },
    {
     "name": "stderr",
     "output_type": "stream",
     "text": [
      " 76%|███████▌  | 281/370 [36:19<11:48,  7.96s/it]"
     ]
    },
    {
     "name": "stdout",
     "output_type": "stream",
     "text": [
      "Best ARIMA(0, 1, 0) AIC=3539.669\n",
      "[45550.0, 45550.0, 45550.0, 45550.0, 45550.0]\n",
      "ARIMA(0, 1, 0) AIC=3423.561\n",
      "ARIMA(1, 1, 1) AIC=3419.873\n",
      "ARIMA(2, 1, 3) AIC=3418.288\n",
      "ARIMA(3, 1, 2) AIC=3417.968\n",
      "Best ARIMA(3, 1, 2) AIC=3417.968\n"
     ]
    },
    {
     "name": "stderr",
     "output_type": "stream",
     "text": [
      " 76%|███████▌  | 282/370 [36:27<11:44,  8.00s/it]"
     ]
    },
    {
     "name": "stdout",
     "output_type": "stream",
     "text": [
      "[19390.013356452102, 19656.964623178217, 19695.120094979004, 19903.982099969315, 19961.239015587642]\n",
      "ARIMA(0, 1, 0) AIC=3482.639\n"
     ]
    },
    {
     "name": "stderr",
     "output_type": "stream",
     "text": [
      " 76%|███████▋  | 283/370 [36:35<11:29,  7.92s/it]"
     ]
    },
    {
     "name": "stdout",
     "output_type": "stream",
     "text": [
      "Best ARIMA(0, 1, 0) AIC=3482.639\n",
      "[37650.0, 37650.0, 37650.0, 37650.0, 37650.0]\n",
      "ARIMA(0, 1, 0) AIC=3421.642\n",
      "ARIMA(2, 1, 2) AIC=3418.469\n",
      "Best ARIMA(2, 1, 2) AIC=3418.469\n"
     ]
    },
    {
     "name": "stderr",
     "output_type": "stream",
     "text": [
      " 77%|███████▋  | 284/370 [36:43<11:25,  7.97s/it]"
     ]
    },
    {
     "name": "stdout",
     "output_type": "stream",
     "text": [
      "[34211.00676804478, 34264.12432613323, 34292.979419909054, 34314.70609751957, 34329.63517759365]\n",
      "ARIMA(0, 1, 0) AIC=3019.971\n",
      "ARIMA(0, 1, 2) AIC=3016.783\n"
     ]
    },
    {
     "name": "stderr",
     "output_type": "stream",
     "text": [
      " 77%|███████▋  | 285/370 [36:49<10:43,  7.57s/it]"
     ]
    },
    {
     "name": "stdout",
     "output_type": "stream",
     "text": [
      "Best ARIMA(0, 1, 2) AIC=3016.783\n",
      "[9022.644772194846, 9066.973838577713, 9066.973838577713, 9066.973838577713, 9066.973838577713]\n",
      "ARIMA(0, 1, 0) AIC=3949.519\n"
     ]
    },
    {
     "name": "stderr",
     "output_type": "stream",
     "text": [
      " 77%|███████▋  | 286/370 [36:57<10:38,  7.60s/it]"
     ]
    },
    {
     "name": "stdout",
     "output_type": "stream",
     "text": [
      "Best ARIMA(0, 1, 0) AIC=3949.519\n",
      "[58400.0, 58400.0, 58400.0, 58400.0, 58400.0]\n",
      "ARIMA(0, 1, 0) AIC=3620.819\n",
      "ARIMA(1, 1, 2) AIC=3619.412\n",
      "ARIMA(2, 1, 2) AIC=3616.825\n",
      "Best ARIMA(2, 1, 2) AIC=3616.825\n"
     ]
    },
    {
     "name": "stderr",
     "output_type": "stream",
     "text": [
      " 78%|███████▊  | 287/370 [37:05<10:43,  7.75s/it]"
     ]
    },
    {
     "name": "stdout",
     "output_type": "stream",
     "text": [
      "[67319.04741542191, 67191.90702283794, 67306.75740890186, 67219.35499503455, 67270.7787623931]\n",
      "ARIMA(0, 1, 0) AIC=3407.873\n"
     ]
    },
    {
     "name": "stderr",
     "output_type": "stream",
     "text": [
      " 78%|███████▊  | 288/370 [37:11<09:58,  7.30s/it]"
     ]
    },
    {
     "name": "stdout",
     "output_type": "stream",
     "text": [
      "Best ARIMA(0, 1, 0) AIC=3407.873\n",
      "[42400.0, 42400.0, 42400.0, 42400.0, 42400.0]\n",
      "ARIMA(0, 1, 0) AIC=4008.934\n",
      "ARIMA(2, 1, 3) AIC=4002.434\n",
      "ARIMA(3, 1, 2) AIC=4001.919\n",
      "Best ARIMA(3, 1, 2) AIC=4001.919\n"
     ]
    },
    {
     "name": "stderr",
     "output_type": "stream",
     "text": [
      " 78%|███████▊  | 289/370 [37:19<10:03,  7.45s/it]"
     ]
    },
    {
     "name": "stdout",
     "output_type": "stream",
     "text": [
      "[66881.17059197742, 67068.78413195378, 67083.45874532385, 66900.4529520052, 66899.84017637717]\n",
      "ARIMA(0, 1, 0) AIC=3038.737\n",
      "ARIMA(0, 1, 1) AIC=3036.573\n",
      "ARIMA(0, 1, 3) AIC=3034.244\n",
      "ARIMA(0, 2, 1) AIC=3031.905\n",
      "ARIMA(0, 2, 2) AIC=3029.609\n",
      "ARIMA(3, 2, 1) AIC=3027.157\n",
      "Best ARIMA(3, 2, 1) AIC=3027.157\n"
     ]
    },
    {
     "name": "stderr",
     "output_type": "stream",
     "text": [
      " 78%|███████▊  | 290/370 [37:26<09:38,  7.24s/it]"
     ]
    },
    {
     "name": "stdout",
     "output_type": "stream",
     "text": [
      "[6733.607086987453, 6772.470179257849, 6792.875140711764, 6811.486989041011, 6830.576934887266]\n",
      "ARIMA(0, 1, 0) AIC=3057.794\n",
      "ARIMA(0, 2, 1) AIC=3054.526\n"
     ]
    },
    {
     "name": "stderr",
     "output_type": "stream",
     "text": [
      " 79%|███████▊  | 291/370 [37:33<09:36,  7.30s/it]"
     ]
    },
    {
     "name": "stdout",
     "output_type": "stream",
     "text": [
      "Best ARIMA(0, 2, 1) AIC=3054.526\n",
      "[11228.168604483797, 11206.337208967596, 11184.505813451395, 11162.674417935194, 11140.843022418992]\n",
      "ARIMA(0, 1, 0) AIC=3490.717\n",
      "ARIMA(0, 1, 3) AIC=3490.398\n",
      "ARIMA(1, 1, 1) AIC=3485.365\n",
      "Best ARIMA(1, 1, 1) AIC=3485.365\n",
      "[36495.93820697638, 36303.61684362532, 36122.36043960593, 35951.53238688425, 35790.532703841]\n"
     ]
    },
    {
     "name": "stderr",
     "output_type": "stream",
     "text": [
      " 79%|███████▉  | 292/370 [37:41<09:48,  7.54s/it]"
     ]
    },
    {
     "name": "stdout",
     "output_type": "stream",
     "text": [
      "ARIMA(0, 1, 0) AIC=3783.404\n",
      "ARIMA(1, 1, 2) AIC=3782.319\n",
      "ARIMA(2, 1, 1) AIC=3782.022\n",
      "ARIMA(2, 1, 2) AIC=3775.631\n",
      "Best ARIMA(2, 1, 2) AIC=3775.631\n"
     ]
    },
    {
     "name": "stderr",
     "output_type": "stream",
     "text": [
      " 79%|███████▉  | 293/370 [37:49<09:50,  7.67s/it]"
     ]
    },
    {
     "name": "stdout",
     "output_type": "stream",
     "text": [
      "[53600.28067468418, 54051.221470099204, 54570.65427472535, 55065.79866130235, 55449.805374015305]\n",
      "ARIMA(0, 1, 0) AIC=3817.612\n",
      "ARIMA(2, 1, 2) AIC=3813.650\n",
      "Best ARIMA(2, 1, 2) AIC=3813.650\n"
     ]
    },
    {
     "name": "stderr",
     "output_type": "stream",
     "text": [
      " 79%|███████▉  | 294/370 [37:58<10:07,  7.99s/it]"
     ]
    },
    {
     "name": "stdout",
     "output_type": "stream",
     "text": [
      "[82128.04649998096, 82025.37343899159, 81927.72245844395, 82038.82855767787, 82107.31968460753]\n",
      "ARIMA(0, 1, 0) AIC=3765.636\n",
      "ARIMA(0, 1, 1) AIC=3755.696\n",
      "ARIMA(0, 1, 3) AIC=3731.530\n",
      "ARIMA(2, 1, 3) AIC=3729.268\n",
      "ARIMA(3, 2, 2) AIC=3728.323\n",
      "ARIMA(3, 2, 3) AIC=3726.732\n",
      "Best ARIMA(3, 2, 3) AIC=3726.732\n"
     ]
    },
    {
     "name": "stderr",
     "output_type": "stream",
     "text": [
      " 80%|███████▉  | 295/370 [38:04<09:20,  7.47s/it]"
     ]
    },
    {
     "name": "stdout",
     "output_type": "stream",
     "text": [
      "[23851.38884034369, 24359.111330237873, 25006.37907707072, 23499.374020063024, 25102.0229297788]\n",
      "ARIMA(0, 1, 0) AIC=2675.777\n",
      "ARIMA(0, 2, 1) AIC=2671.603\n",
      "ARIMA(2, 2, 3) AIC=2671.390\n",
      "Best ARIMA(2, 2, 3) AIC=2671.390\n"
     ]
    },
    {
     "name": "stderr",
     "output_type": "stream",
     "text": [
      " 80%|████████  | 296/370 [38:13<09:36,  7.79s/it]"
     ]
    },
    {
     "name": "stdout",
     "output_type": "stream",
     "text": [
      "[4270.064902593784, 4251.543548718156, 4281.389802841305, 4255.38682146758, 4243.981872155697]\n",
      "ARIMA(0, 1, 0) AIC=3508.029\n",
      "ARIMA(0, 1, 1) AIC=3507.119\n",
      "ARIMA(0, 2, 2) AIC=3504.089\n",
      "ARIMA(1, 2, 1) AIC=3503.491\n",
      "ARIMA(2, 2, 3) AIC=3501.248\n",
      "Best ARIMA(2, 2, 3) AIC=3501.248\n"
     ]
    },
    {
     "name": "stderr",
     "output_type": "stream",
     "text": [
      " 80%|████████  | 297/370 [38:20<09:12,  7.57s/it]"
     ]
    },
    {
     "name": "stdout",
     "output_type": "stream",
     "text": [
      "[15990.42774520237, 16582.13279386338, 16155.029242941173, 16315.603924611201, 16641.934369399863]\n",
      "ARIMA(0, 1, 0) AIC=2539.451\n",
      "ARIMA(0, 2, 1) AIC=2534.648\n"
     ]
    },
    {
     "name": "stderr",
     "output_type": "stream",
     "text": [
      " 81%|████████  | 298/370 [38:27<09:01,  7.52s/it]"
     ]
    },
    {
     "name": "stdout",
     "output_type": "stream",
     "text": [
      "Best ARIMA(0, 2, 1) AIC=2534.648\n",
      "[3836.10688686517, 3827.21377373034, 3818.32066059551, 3809.42754746068, 3800.5344343258503]\n",
      "ARIMA(0, 1, 0) AIC=3728.141\n",
      "ARIMA(0, 1, 1) AIC=3727.968\n"
     ]
    },
    {
     "name": "stderr",
     "output_type": "stream",
     "text": [
      " 81%|████████  | 299/370 [38:35<09:00,  7.61s/it]"
     ]
    },
    {
     "name": "stdout",
     "output_type": "stream",
     "text": [
      "Best ARIMA(0, 1, 1) AIC=3727.968\n",
      "[50553.71151762953, 50553.71151762953, 50553.71151762953, 50553.71151762953, 50553.71151762953]\n",
      "ARIMA(0, 1, 0) AIC=3234.144\n",
      "ARIMA(0, 2, 1) AIC=3220.872\n",
      "ARIMA(0, 2, 3) AIC=3217.710\n",
      "Best ARIMA(0, 2, 3) AIC=3217.710\n"
     ]
    },
    {
     "name": "stderr",
     "output_type": "stream",
     "text": [
      " 81%|████████  | 300/370 [38:42<08:40,  7.44s/it]"
     ]
    },
    {
     "name": "stdout",
     "output_type": "stream",
     "text": [
      "[27901.873128247073, 28422.388688027655, 28949.64729051469, 29476.905893001727, 30004.164495488763]\n",
      "ARIMA(0, 1, 0) AIC=3317.528\n",
      "ARIMA(0, 1, 1) AIC=3317.355\n",
      "ARIMA(0, 1, 2) AIC=3315.800\n",
      "ARIMA(2, 1, 3) AIC=3306.728\n",
      "ARIMA(3, 1, 2) AIC=3306.134\n",
      "Best ARIMA(3, 1, 2) AIC=3306.134\n"
     ]
    },
    {
     "name": "stderr",
     "output_type": "stream",
     "text": [
      " 81%|████████▏ | 301/370 [38:50<08:36,  7.49s/it]"
     ]
    },
    {
     "name": "stdout",
     "output_type": "stream",
     "text": [
      "[18413.12945813876, 18527.093705760166, 18769.300880293682, 18964.114333109377, 19011.130325559243]\n",
      "ARIMA(0, 1, 0) AIC=3545.758\n"
     ]
    },
    {
     "name": "stderr",
     "output_type": "stream",
     "text": [
      " 82%|████████▏ | 302/370 [38:57<08:27,  7.46s/it]"
     ]
    },
    {
     "name": "stdout",
     "output_type": "stream",
     "text": [
      "Best ARIMA(0, 1, 0) AIC=3545.758\n",
      "[34500.0, 34500.0, 34500.0, 34500.0, 34500.0]\n",
      "ARIMA(0, 1, 0) AIC=3162.836\n",
      "ARIMA(0, 1, 1) AIC=3162.021\n",
      "ARIMA(0, 1, 2) AIC=3160.316\n",
      "ARIMA(1, 1, 3) AIC=3160.135\n",
      "ARIMA(2, 1, 0) AIC=3159.248\n",
      "ARIMA(2, 1, 2) AIC=3154.101\n",
      "ARIMA(2, 1, 3) AIC=3153.924\n",
      "Best ARIMA(2, 1, 3) AIC=3153.924\n"
     ]
    },
    {
     "name": "stderr",
     "output_type": "stream",
     "text": [
      " 82%|████████▏ | 303/370 [39:04<08:09,  7.31s/it]"
     ]
    },
    {
     "name": "stdout",
     "output_type": "stream",
     "text": [
      "[18586.92444054549, 18584.188405516586, 18551.393178046797, 18538.514293529766, 18562.008006415166]\n",
      "ARIMA(0, 1, 0) AIC=3819.534\n",
      "ARIMA(2, 1, 2) AIC=3815.628\n",
      "Best ARIMA(2, 1, 2) AIC=3815.628\n"
     ]
    },
    {
     "name": "stderr",
     "output_type": "stream",
     "text": [
      " 82%|████████▏ | 304/370 [39:12<08:16,  7.52s/it]"
     ]
    },
    {
     "name": "stdout",
     "output_type": "stream",
     "text": [
      "[81084.91604519232, 80975.85845924873, 81386.12417887614, 81823.25572930406, 81779.58665659775]\n",
      "ARIMA(0, 1, 0) AIC=2874.172\n",
      "ARIMA(0, 2, 1) AIC=2867.442\n"
     ]
    },
    {
     "name": "stderr",
     "output_type": "stream",
     "text": [
      " 82%|████████▏ | 305/370 [39:19<08:04,  7.45s/it]"
     ]
    },
    {
     "name": "stdout",
     "output_type": "stream",
     "text": [
      "Best ARIMA(0, 2, 1) AIC=2867.442\n",
      "[6950.095878332041, 6970.191756664082, 6990.287634996123, 7010.383513328165, 7030.479391660206]\n",
      "ARIMA(0, 1, 0) AIC=2776.269\n",
      "ARIMA(0, 2, 1) AIC=2769.908\n"
     ]
    },
    {
     "name": "stderr",
     "output_type": "stream",
     "text": [
      " 83%|████████▎ | 306/370 [39:27<07:53,  7.40s/it]"
     ]
    },
    {
     "name": "stdout",
     "output_type": "stream",
     "text": [
      "Best ARIMA(0, 2, 1) AIC=2769.908\n",
      "[9197.461651255306, 9214.923302510611, 9232.384953765917, 9249.846605021223, 9267.308256276528]\n",
      "ARIMA(0, 1, 0) AIC=2783.364\n",
      "ARIMA(0, 2, 1) AIC=2780.239\n"
     ]
    },
    {
     "name": "stderr",
     "output_type": "stream",
     "text": [
      " 83%|████████▎ | 307/370 [39:35<07:54,  7.53s/it]"
     ]
    },
    {
     "name": "stdout",
     "output_type": "stream",
     "text": [
      "Best ARIMA(0, 2, 1) AIC=2780.239\n",
      "[7006.311254313708, 7002.622508627415, 6998.933762941123, 6995.245017254831, 6991.556271568538]\n",
      "ARIMA(0, 1, 0) AIC=3133.507\n",
      "ARIMA(0, 2, 1) AIC=3127.943\n"
     ]
    },
    {
     "name": "stderr",
     "output_type": "stream",
     "text": [
      " 83%|████████▎ | 308/370 [39:42<07:40,  7.43s/it]"
     ]
    },
    {
     "name": "stdout",
     "output_type": "stream",
     "text": [
      "Best ARIMA(0, 2, 1) AIC=3127.943\n",
      "[11884.902294315463, 11919.804588630928, 11954.706882946393, 11989.609177261858, 12024.511471577323]\n",
      "ARIMA(0, 1, 0) AIC=3646.758\n",
      "ARIMA(2, 1, 2) AIC=3639.679\n",
      "Best ARIMA(2, 1, 2) AIC=3639.679\n"
     ]
    },
    {
     "name": "stderr",
     "output_type": "stream",
     "text": [
      " 84%|████████▎ | 309/370 [39:50<07:55,  7.79s/it]"
     ]
    },
    {
     "name": "stdout",
     "output_type": "stream",
     "text": [
      "[38165.205575160115, 37927.06845475395, 37796.772811413146, 37779.067820596676, 37872.156994543555]\n",
      "ARIMA(0, 1, 0) AIC=3131.510\n",
      "ARIMA(2, 1, 2) AIC=3124.582\n",
      "Best ARIMA(2, 1, 2) AIC=3124.582\n"
     ]
    },
    {
     "name": "stderr",
     "output_type": "stream",
     "text": [
      " 84%|████████▍ | 310/370 [39:58<07:50,  7.85s/it]"
     ]
    },
    {
     "name": "stdout",
     "output_type": "stream",
     "text": [
      "[13844.749050023738, 13873.990134134878, 14089.576445701427, 14165.093014875993, 13990.003444148888]\n",
      "ARIMA(0, 1, 0) AIC=3267.437\n",
      "ARIMA(1, 1, 1) AIC=3266.288\n",
      "ARIMA(3, 1, 3) AIC=3266.005\n",
      "Best ARIMA(3, 1, 3) AIC=3266.005\n"
     ]
    },
    {
     "name": "stderr",
     "output_type": "stream",
     "text": [
      " 84%|████████▍ | 311/370 [40:07<07:50,  7.98s/it]"
     ]
    },
    {
     "name": "stdout",
     "output_type": "stream",
     "text": [
      "[20681.771784116117, 20507.562078347582, 20397.863811942865, 20390.329726010317, 20329.028622151156]\n",
      "ARIMA(0, 1, 0) AIC=3525.976\n"
     ]
    },
    {
     "name": "stderr",
     "output_type": "stream",
     "text": [
      " 84%|████████▍ | 312/370 [40:14<07:37,  7.89s/it]"
     ]
    },
    {
     "name": "stdout",
     "output_type": "stream",
     "text": [
      "Best ARIMA(0, 1, 0) AIC=3525.976\n",
      "[38650.0, 38650.0, 38650.0, 38650.0, 38650.0]\n",
      "ARIMA(0, 1, 0) AIC=3067.958\n",
      "ARIMA(2, 1, 3) AIC=3065.597\n",
      "Best ARIMA(2, 1, 3) AIC=3065.597\n"
     ]
    },
    {
     "name": "stderr",
     "output_type": "stream",
     "text": [
      " 85%|████████▍ | 313/370 [40:23<07:36,  8.01s/it]"
     ]
    },
    {
     "name": "stdout",
     "output_type": "stream",
     "text": [
      "[18754.677524505554, 18627.09430575337, 18488.63427133701, 18561.579993853793, 18719.80743573547]\n",
      "ARIMA(0, 1, 0) AIC=2667.169\n",
      "ARIMA(0, 1, 1) AIC=2665.905\n",
      "ARIMA(0, 2, 1) AIC=2662.677\n",
      "ARIMA(0, 2, 2) AIC=2661.309\n",
      "ARIMA(2, 1, 3) AIC=2655.558\n",
      "Best ARIMA(2, 1, 3) AIC=2655.558\n"
     ]
    },
    {
     "name": "stderr",
     "output_type": "stream",
     "text": [
      " 85%|████████▍ | 314/370 [40:31<07:34,  8.11s/it]"
     ]
    },
    {
     "name": "stdout",
     "output_type": "stream",
     "text": [
      "[4921.827063924502, 4920.243297567655, 4914.513507409216, 4906.999957339228, 4900.764039848049]\n",
      "ARIMA(0, 1, 0) AIC=3622.527\n",
      "ARIMA(0, 1, 2) AIC=3621.307\n",
      "ARIMA(2, 1, 2) AIC=3613.644\n",
      "ARIMA(3, 1, 2) AIC=3610.565\n",
      "Best ARIMA(3, 1, 2) AIC=3610.565\n"
     ]
    },
    {
     "name": "stderr",
     "output_type": "stream",
     "text": [
      " 85%|████████▌ | 315/370 [40:39<07:24,  8.09s/it]"
     ]
    },
    {
     "name": "stdout",
     "output_type": "stream",
     "text": [
      "[28563.419045039413, 28436.140257146806, 28485.098639226355, 28655.982495349497, 28825.598759861914]\n",
      "ARIMA(0, 1, 0) AIC=3253.257\n",
      "ARIMA(1, 1, 1) AIC=3253.101\n"
     ]
    },
    {
     "name": "stderr",
     "output_type": "stream",
     "text": [
      " 85%|████████▌ | 316/370 [40:47<07:21,  8.18s/it]"
     ]
    },
    {
     "name": "stdout",
     "output_type": "stream",
     "text": [
      "Best ARIMA(1, 1, 1) AIC=3253.101\n",
      "[19877.808187109866, 19948.769491161158, 19879.01772193598, 19947.5805728459, 19880.186375148627]\n",
      "ARIMA(0, 1, 0) AIC=3598.138\n",
      "ARIMA(1, 1, 3) AIC=3591.615\n",
      "ARIMA(2, 1, 3) AIC=3589.511\n",
      "ARIMA(3, 1, 2) AIC=3589.508\n",
      "Best ARIMA(3, 1, 2) AIC=3589.508\n"
     ]
    },
    {
     "name": "stderr",
     "output_type": "stream",
     "text": [
      " 86%|████████▌ | 317/370 [40:54<06:47,  7.69s/it]"
     ]
    },
    {
     "name": "stdout",
     "output_type": "stream",
     "text": [
      "[16389.177541774483, 16567.68612966278, 16276.287919379154, 16591.22167808965, 16303.658794101144]\n",
      "ARIMA(0, 1, 0) AIC=3402.947\n",
      "ARIMA(2, 1, 3) AIC=3399.534\n",
      "Best ARIMA(2, 1, 3) AIC=3399.534\n"
     ]
    },
    {
     "name": "stderr",
     "output_type": "stream",
     "text": [
      " 86%|████████▌ | 318/370 [41:03<06:55,  7.99s/it]"
     ]
    },
    {
     "name": "stdout",
     "output_type": "stream",
     "text": [
      "[70628.59851911, 70762.65901091865, 70891.01781053694, 71002.38536453215, 71087.59439686473]\n",
      "ARIMA(0, 1, 0) AIC=3311.728\n"
     ]
    },
    {
     "name": "stderr",
     "output_type": "stream",
     "text": [
      " 86%|████████▌ | 319/370 [41:09<06:20,  7.47s/it]"
     ]
    },
    {
     "name": "stdout",
     "output_type": "stream",
     "text": [
      "Best ARIMA(0, 1, 0) AIC=3311.728\n",
      "[34900.0, 34900.0, 34900.0, 34900.0, 34900.0]\n",
      "ARIMA(0, 1, 0) AIC=3154.029\n",
      "ARIMA(0, 1, 2) AIC=3142.734\n",
      "ARIMA(0, 1, 3) AIC=3135.090\n",
      "ARIMA(1, 1, 2) AIC=3132.418\n",
      "ARIMA(3, 1, 0) AIC=3130.687\n"
     ]
    },
    {
     "name": "stderr",
     "output_type": "stream",
     "text": [
      " 86%|████████▋ | 320/370 [41:16<06:02,  7.26s/it]"
     ]
    },
    {
     "name": "stdout",
     "output_type": "stream",
     "text": [
      "Best ARIMA(3, 1, 0) AIC=3130.687\n",
      "[33306.88503635366, 33535.515835269856, 33782.77368928582, 33938.14567256745, 34053.8370222819]\n",
      "ARIMA(0, 1, 0) AIC=3510.415\n",
      "ARIMA(2, 1, 2) AIC=3510.062\n",
      "Best ARIMA(2, 1, 2) AIC=3510.062\n"
     ]
    },
    {
     "name": "stderr",
     "output_type": "stream",
     "text": [
      " 87%|████████▋ | 321/370 [41:23<05:53,  7.21s/it]"
     ]
    },
    {
     "name": "stdout",
     "output_type": "stream",
     "text": [
      "[27536.913565177998, 27360.90577278068, 27289.803001646418, 27463.96944222672, 27520.007626865103]\n",
      "ARIMA(0, 1, 0) AIC=2549.059\n",
      "ARIMA(0, 2, 1) AIC=2545.300\n",
      "ARIMA(2, 2, 3) AIC=2542.574\n",
      "Best ARIMA(2, 2, 3) AIC=2542.574\n"
     ]
    },
    {
     "name": "stderr",
     "output_type": "stream",
     "text": [
      " 87%|████████▋ | 322/370 [41:31<05:54,  7.38s/it]"
     ]
    },
    {
     "name": "stdout",
     "output_type": "stream",
     "text": [
      "[5348.28404240023, 5361.84199605447, 5364.173511456303, 5350.525029002577, 5372.183496380594]\n",
      "ARIMA(0, 1, 0) AIC=3497.479\n",
      "ARIMA(0, 1, 2) AIC=3493.282\n"
     ]
    },
    {
     "name": "stderr",
     "output_type": "stream",
     "text": [
      " 87%|████████▋ | 323/370 [41:37<05:32,  7.07s/it]"
     ]
    },
    {
     "name": "stdout",
     "output_type": "stream",
     "text": [
      "Best ARIMA(0, 1, 2) AIC=3493.282\n",
      "[25875.39485693088, 25805.54017884099, 25805.54017884099, 25805.54017884099, 25805.54017884099]\n",
      "ARIMA(0, 1, 0) AIC=2861.379\n",
      "ARIMA(0, 2, 1) AIC=2860.993\n"
     ]
    },
    {
     "name": "stderr",
     "output_type": "stream",
     "text": [
      " 88%|████████▊ | 324/370 [41:45<05:38,  7.35s/it]"
     ]
    },
    {
     "name": "stdout",
     "output_type": "stream",
     "text": [
      "Best ARIMA(0, 2, 1) AIC=2860.993\n",
      "[12105.057998576176, 12110.115997152352, 12115.173995728528, 12120.231994304704, 12125.28999288088]\n",
      "ARIMA(0, 1, 0) AIC=3010.301\n"
     ]
    },
    {
     "name": "stderr",
     "output_type": "stream",
     "text": [
      " 88%|████████▊ | 325/370 [41:52<05:30,  7.34s/it]"
     ]
    },
    {
     "name": "stdout",
     "output_type": "stream",
     "text": [
      "Best ARIMA(0, 1, 0) AIC=3010.301\n",
      "[12700.0, 12700.0, 12700.0, 12700.0, 12700.0]\n",
      "ARIMA(0, 1, 0) AIC=3337.934\n",
      "ARIMA(2, 1, 2) AIC=3336.329\n",
      "Best ARIMA(2, 1, 2) AIC=3336.329\n"
     ]
    },
    {
     "name": "stderr",
     "output_type": "stream",
     "text": [
      " 88%|████████▊ | 326/370 [41:59<05:14,  7.15s/it]"
     ]
    },
    {
     "name": "stdout",
     "output_type": "stream",
     "text": [
      "[26738.056815208955, 26768.588294252564, 26737.825064707922, 26651.921223462905, 26525.7694253049]\n",
      "ARIMA(0, 1, 0) AIC=3283.197\n"
     ]
    },
    {
     "name": "stderr",
     "output_type": "stream",
     "text": [
      " 88%|████████▊ | 327/370 [42:06<05:08,  7.18s/it]"
     ]
    },
    {
     "name": "stdout",
     "output_type": "stream",
     "text": [
      "Best ARIMA(0, 1, 0) AIC=3283.197\n",
      "[16750.0, 16750.0, 16750.0, 16750.0, 16750.0]\n",
      "ARIMA(0, 1, 0) AIC=3351.406\n",
      "ARIMA(2, 1, 2) AIC=3349.584\n",
      "Best ARIMA(2, 1, 2) AIC=3349.584\n"
     ]
    },
    {
     "name": "stderr",
     "output_type": "stream",
     "text": [
      " 89%|████████▊ | 328/370 [42:14<05:07,  7.32s/it]"
     ]
    },
    {
     "name": "stdout",
     "output_type": "stream",
     "text": [
      "[25589.151901298963, 25583.035334050302, 25506.295317395558, 25635.046349018132, 25503.47593860556]\n",
      "ARIMA(0, 1, 0) AIC=3764.005\n",
      "ARIMA(2, 1, 2) AIC=3761.976\n",
      "Best ARIMA(2, 1, 2) AIC=3761.976\n"
     ]
    },
    {
     "name": "stderr",
     "output_type": "stream",
     "text": [
      " 89%|████████▉ | 329/370 [42:22<05:10,  7.58s/it]"
     ]
    },
    {
     "name": "stdout",
     "output_type": "stream",
     "text": [
      "[53337.72971017977, 53529.564979196555, 53597.65179888143, 53517.64524017559, 53327.13082584075]\n",
      "ARIMA(0, 1, 0) AIC=3625.912\n",
      "ARIMA(2, 1, 2) AIC=3622.411\n",
      "Best ARIMA(2, 1, 2) AIC=3622.411\n"
     ]
    },
    {
     "name": "stderr",
     "output_type": "stream",
     "text": [
      " 89%|████████▉ | 330/370 [42:30<05:09,  7.73s/it]"
     ]
    },
    {
     "name": "stdout",
     "output_type": "stream",
     "text": [
      "[49262.63119573707, 49026.34117727598, 48828.94160453166, 49014.05310132024, 49234.52790578404]\n",
      "ARIMA(0, 1, 0) AIC=3615.817\n",
      "ARIMA(2, 1, 2) AIC=3615.122\n",
      "Best ARIMA(2, 1, 2) AIC=3615.122\n"
     ]
    },
    {
     "name": "stderr",
     "output_type": "stream",
     "text": [
      " 89%|████████▉ | 331/370 [42:38<05:04,  7.81s/it]"
     ]
    },
    {
     "name": "stdout",
     "output_type": "stream",
     "text": [
      "[41911.34381085066, 41986.70567712511, 42089.612016986095, 42036.087408427506, 41923.543800380685]\n",
      "ARIMA(0, 1, 0) AIC=3483.023\n",
      "ARIMA(2, 1, 3) AIC=3482.080\n",
      "Best ARIMA(2, 1, 3) AIC=3482.080\n"
     ]
    },
    {
     "name": "stderr",
     "output_type": "stream",
     "text": [
      " 90%|████████▉ | 332/370 [42:46<05:03,  8.00s/it]"
     ]
    },
    {
     "name": "stdout",
     "output_type": "stream",
     "text": [
      "[45767.30125946513, 45874.880584143015, 45982.28637931224, 45829.01914612666, 45788.441040839956]\n",
      "ARIMA(0, 1, 0) AIC=2738.283\n",
      "ARIMA(0, 1, 3) AIC=2736.361\n",
      "ARIMA(0, 2, 1) AIC=2736.090\n",
      "ARIMA(1, 2, 2) AIC=2734.240\n",
      "ARIMA(2, 1, 3) AIC=2733.799\n",
      "ARIMA(3, 1, 2) AIC=2733.505\n",
      "ARIMA(3, 1, 3) AIC=2732.436\n",
      "Best ARIMA(3, 1, 3) AIC=2732.436\n"
     ]
    },
    {
     "name": "stderr",
     "output_type": "stream",
     "text": [
      " 90%|█████████ | 333/370 [42:54<04:53,  7.93s/it]"
     ]
    },
    {
     "name": "stdout",
     "output_type": "stream",
     "text": [
      "[9348.963337262792, 9339.609482748701, 9393.398157748421, 9361.063223876668, 9356.091362920082]\n",
      "ARIMA(0, 1, 0) AIC=3051.288\n",
      "ARIMA(0, 1, 3) AIC=3050.213\n"
     ]
    },
    {
     "name": "stderr",
     "output_type": "stream",
     "text": [
      " 90%|█████████ | 334/370 [43:01<04:37,  7.71s/it]"
     ]
    },
    {
     "name": "stdout",
     "output_type": "stream",
     "text": [
      "Best ARIMA(0, 1, 3) AIC=3050.213\n",
      "[10972.16375286529, 11057.855768919911, 11030.751923102456, 11030.751923102456, 11030.751923102456]\n",
      "ARIMA(0, 1, 0) AIC=2791.400\n",
      "ARIMA(0, 2, 1) AIC=2789.212\n"
     ]
    },
    {
     "name": "stderr",
     "output_type": "stream",
     "text": [
      " 91%|█████████ | 335/370 [43:09<04:27,  7.63s/it]"
     ]
    },
    {
     "name": "stdout",
     "output_type": "stream",
     "text": [
      "Best ARIMA(0, 2, 1) AIC=2789.212\n",
      "[8226.749625406357, 8213.499250812716, 8200.248876219075, 8186.998501625435, 8173.748127031795]\n",
      "ARIMA(0, 1, 0) AIC=2947.792\n",
      "ARIMA(3, 1, 3) AIC=2946.745\n",
      "Best ARIMA(3, 1, 3) AIC=2946.745\n"
     ]
    },
    {
     "name": "stderr",
     "output_type": "stream",
     "text": [
      " 91%|█████████ | 336/370 [43:17<04:19,  7.64s/it]"
     ]
    },
    {
     "name": "stdout",
     "output_type": "stream",
     "text": [
      "[13530.01756628821, 13554.60787699926, 13533.304057277139, 13502.336010283754, 13511.543971878558]\n",
      "ARIMA(0, 1, 0) AIC=2967.987\n"
     ]
    },
    {
     "name": "stderr",
     "output_type": "stream",
     "text": [
      " 91%|█████████ | 337/370 [43:23<04:01,  7.33s/it]"
     ]
    },
    {
     "name": "stdout",
     "output_type": "stream",
     "text": [
      "Best ARIMA(0, 1, 0) AIC=2967.987\n",
      "[7110.0, 7110.0, 7110.0, 7110.0, 7110.0]\n",
      "ARIMA(0, 1, 0) AIC=3280.076\n",
      "ARIMA(0, 1, 2) AIC=3275.009\n",
      "ARIMA(0, 1, 3) AIC=3274.130\n",
      "ARIMA(2, 1, 3) AIC=3266.009\n",
      "Best ARIMA(2, 1, 3) AIC=3266.009\n"
     ]
    },
    {
     "name": "stderr",
     "output_type": "stream",
     "text": [
      " 91%|█████████▏| 338/370 [43:31<03:59,  7.49s/it]"
     ]
    },
    {
     "name": "stdout",
     "output_type": "stream",
     "text": [
      "[18358.1281802109, 18438.74994936954, 18295.557645860936, 18208.850546973666, 18284.1805595339]\n",
      "ARIMA(0, 1, 0) AIC=3696.747\n",
      "ARIMA(1, 1, 2) AIC=3694.706\n",
      "Best ARIMA(1, 1, 2) AIC=3694.706\n"
     ]
    },
    {
     "name": "stderr",
     "output_type": "stream",
     "text": [
      " 92%|█████████▏| 339/370 [43:38<03:47,  7.35s/it]"
     ]
    },
    {
     "name": "stdout",
     "output_type": "stream",
     "text": [
      "[35881.968871946, 35713.90240848002, 35561.309721553225, 35422.766150019976, 35296.97820041531]\n",
      "ARIMA(0, 1, 0) AIC=3659.430\n",
      "ARIMA(0, 1, 1) AIC=3656.649\n"
     ]
    },
    {
     "name": "stderr",
     "output_type": "stream",
     "text": [
      " 92%|█████████▏| 340/370 [43:45<03:38,  7.30s/it]"
     ]
    },
    {
     "name": "stdout",
     "output_type": "stream",
     "text": [
      "Best ARIMA(0, 1, 1) AIC=3656.649\n",
      "[47571.919640087646, 47571.919640087646, 47571.919640087646, 47571.919640087646, 47571.919640087646]\n",
      "ARIMA(0, 1, 0) AIC=4100.612\n",
      "ARIMA(0, 2, 1) AIC=4095.907\n",
      "ARIMA(0, 2, 2) AIC=4093.513\n",
      "ARIMA(3, 2, 3) AIC=4089.596\n",
      "Best ARIMA(3, 2, 3) AIC=4089.596\n"
     ]
    },
    {
     "name": "stderr",
     "output_type": "stream",
     "text": [
      " 92%|█████████▏| 341/370 [43:53<03:36,  7.47s/it]"
     ]
    },
    {
     "name": "stdout",
     "output_type": "stream",
     "text": [
      "[58673.90864285569, 57752.55321236798, 58022.09438762171, 59068.41747513173, 59289.28291731794]\n",
      "ARIMA(0, 1, 0) AIC=3134.895\n",
      "ARIMA(2, 1, 2) AIC=3131.388\n",
      "ARIMA(2, 2, 3) AIC=3130.604\n",
      "Best ARIMA(2, 2, 3) AIC=3130.604\n"
     ]
    },
    {
     "name": "stderr",
     "output_type": "stream",
     "text": [
      " 92%|█████████▏| 342/370 [44:01<03:32,  7.59s/it]"
     ]
    },
    {
     "name": "stdout",
     "output_type": "stream",
     "text": [
      "[8948.691430795106, 8843.112726487636, 8850.804164132802, 8957.346414917018, 9001.53730979334]\n",
      "ARIMA(0, 1, 0) AIC=3398.362\n",
      "ARIMA(0, 1, 1) AIC=3398.056\n",
      "ARIMA(2, 1, 2) AIC=3393.332\n",
      "Best ARIMA(2, 1, 2) AIC=3393.332\n"
     ]
    },
    {
     "name": "stderr",
     "output_type": "stream",
     "text": [
      " 93%|█████████▎| 343/370 [44:08<03:24,  7.56s/it]"
     ]
    },
    {
     "name": "stdout",
     "output_type": "stream",
     "text": [
      "[16197.73194777479, 16281.761786743351, 16106.72260155379, 16098.643206201165, 16268.479852017565]\n",
      "ARIMA(0, 1, 0) AIC=2868.056\n",
      "ARIMA(0, 2, 1) AIC=2864.327\n",
      "ARIMA(2, 1, 2) AIC=2859.342\n",
      "ARIMA(2, 2, 3) AIC=2855.313\n",
      "Best ARIMA(2, 2, 3) AIC=2855.313\n"
     ]
    },
    {
     "name": "stderr",
     "output_type": "stream",
     "text": [
      " 93%|█████████▎| 344/370 [44:16<03:18,  7.64s/it]"
     ]
    },
    {
     "name": "stdout",
     "output_type": "stream",
     "text": [
      "[6052.068903417096, 5940.340975757836, 5994.590762118137, 6055.3862683513835, 5948.391294201923]\n",
      "ARIMA(0, 1, 0) AIC=3285.305\n"
     ]
    },
    {
     "name": "stderr",
     "output_type": "stream",
     "text": [
      " 93%|█████████▎| 345/370 [44:23<03:05,  7.40s/it]"
     ]
    },
    {
     "name": "stdout",
     "output_type": "stream",
     "text": [
      "Best ARIMA(0, 1, 0) AIC=3285.305\n",
      "[24100.0, 24100.0, 24100.0, 24100.0, 24100.0]\n",
      "ARIMA(0, 1, 0) AIC=3425.661\n"
     ]
    },
    {
     "name": "stderr",
     "output_type": "stream",
     "text": [
      " 94%|█████████▎| 346/370 [44:31<03:00,  7.52s/it]"
     ]
    },
    {
     "name": "stdout",
     "output_type": "stream",
     "text": [
      "Best ARIMA(0, 1, 0) AIC=3425.661\n",
      "[40550.0, 40550.0, 40550.0, 40550.0, 40550.0]\n",
      "ARIMA(0, 1, 0) AIC=2794.201\n",
      "ARIMA(0, 1, 3) AIC=2793.358\n",
      "ARIMA(0, 2, 1) AIC=2790.425\n",
      "ARIMA(2, 1, 3) AIC=2786.231\n",
      "ARIMA(3, 1, 2) AIC=2785.405\n",
      "Best ARIMA(3, 1, 2) AIC=2785.405\n"
     ]
    },
    {
     "name": "stderr",
     "output_type": "stream",
     "text": [
      " 94%|█████████▍| 347/370 [44:39<02:55,  7.61s/it]"
     ]
    },
    {
     "name": "stdout",
     "output_type": "stream",
     "text": [
      "[8759.272539847221, 8797.617010605454, 8756.319708141968, 8775.279608895093, 8780.275744517596]\n",
      "ARIMA(0, 1, 0) AIC=3305.954\n"
     ]
    },
    {
     "name": "stderr",
     "output_type": "stream",
     "text": [
      " 94%|█████████▍| 348/370 [44:46<02:42,  7.39s/it]"
     ]
    },
    {
     "name": "stdout",
     "output_type": "stream",
     "text": [
      "Best ARIMA(0, 1, 0) AIC=3305.954\n",
      "[21250.0, 21250.0, 21250.0, 21250.0, 21250.0]\n",
      "ARIMA(0, 1, 0) AIC=3626.158\n",
      "ARIMA(0, 1, 2) AIC=3617.840\n",
      "ARIMA(0, 1, 3) AIC=3616.893\n",
      "ARIMA(2, 1, 3) AIC=3615.277\n",
      "ARIMA(3, 1, 2) AIC=3610.693\n",
      "Best ARIMA(3, 1, 2) AIC=3610.693\n"
     ]
    },
    {
     "name": "stderr",
     "output_type": "stream",
     "text": [
      " 94%|█████████▍| 349/370 [44:55<02:46,  7.93s/it]"
     ]
    },
    {
     "name": "stdout",
     "output_type": "stream",
     "text": [
      "[25719.971918418552, 25797.340852824203, 25874.36055427504, 25725.495674224854, 25803.917172281446]\n",
      "ARIMA(0, 1, 0) AIC=2735.336\n",
      "ARIMA(0, 2, 1) AIC=2730.268\n"
     ]
    },
    {
     "name": "stderr",
     "output_type": "stream",
     "text": [
      " 95%|█████████▍| 350/370 [45:02<02:36,  7.84s/it]"
     ]
    },
    {
     "name": "stdout",
     "output_type": "stream",
     "text": [
      "Best ARIMA(0, 2, 1) AIC=2730.268\n",
      "[3433.8057200077756, 3422.611440015551, 3411.4171600233267, 3400.2228800311022, 3389.028600038878]\n",
      "ARIMA(0, 1, 0) AIC=2694.379\n",
      "ARIMA(0, 1, 1) AIC=2690.604\n",
      "ARIMA(0, 2, 1) AIC=2690.329\n",
      "ARIMA(0, 2, 2) AIC=2686.091\n"
     ]
    },
    {
     "name": "stderr",
     "output_type": "stream",
     "text": [
      " 95%|█████████▍| 351/370 [45:10<02:29,  7.85s/it]"
     ]
    },
    {
     "name": "stdout",
     "output_type": "stream",
     "text": [
      "Best ARIMA(0, 2, 2) AIC=2686.091\n",
      "[5319.975171622798, 5315.824510989878, 5311.673850356958, 5307.523189724037, 5303.372529091117]\n",
      "ARIMA(0, 1, 0) AIC=2872.120\n",
      "ARIMA(0, 2, 1) AIC=2870.791\n"
     ]
    },
    {
     "name": "stderr",
     "output_type": "stream",
     "text": [
      " 95%|█████████▌| 352/370 [45:17<02:17,  7.65s/it]"
     ]
    },
    {
     "name": "stdout",
     "output_type": "stream",
     "text": [
      "Best ARIMA(0, 2, 1) AIC=2870.791\n",
      "[6828.166833011368, 6806.333666022737, 6784.500499034106, 6762.667332045475, 6740.834165056844]\n",
      "ARIMA(0, 1, 0) AIC=3820.281\n",
      "ARIMA(2, 1, 3) AIC=3819.220\n",
      "ARIMA(3, 1, 2) AIC=3819.105\n",
      "Best ARIMA(3, 1, 2) AIC=3819.105\n"
     ]
    },
    {
     "name": "stderr",
     "output_type": "stream",
     "text": [
      " 95%|█████████▌| 353/370 [45:27<02:17,  8.11s/it]"
     ]
    },
    {
     "name": "stdout",
     "output_type": "stream",
     "text": [
      "[52881.035355347136, 52950.151924768434, 52997.5921506706, 52920.60916314232, 52889.29991364421]\n",
      "ARIMA(0, 1, 0) AIC=3426.501\n",
      "ARIMA(2, 1, 2) AIC=3424.628\n",
      "ARIMA(2, 1, 3) AIC=3421.690\n",
      "Best ARIMA(2, 1, 3) AIC=3421.690\n"
     ]
    },
    {
     "name": "stderr",
     "output_type": "stream",
     "text": [
      " 96%|█████████▌| 354/370 [45:34<02:07,  8.00s/it]"
     ]
    },
    {
     "name": "stdout",
     "output_type": "stream",
     "text": [
      "[23071.777947592025, 22862.522901726756, 22686.14941721959, 22552.224446704146, 22467.639549843087]\n",
      "ARIMA(0, 1, 0) AIC=3184.882\n",
      "ARIMA(0, 1, 3) AIC=3183.953\n",
      "ARIMA(3, 1, 0) AIC=3183.925\n"
     ]
    },
    {
     "name": "stderr",
     "output_type": "stream",
     "text": [
      " 96%|█████████▌| 355/370 [45:41<01:53,  7.54s/it]"
     ]
    },
    {
     "name": "stdout",
     "output_type": "stream",
     "text": [
      "Best ARIMA(3, 1, 0) AIC=3183.925\n",
      "[22267.419381046482, 21943.66174181317, 21771.511148702517, 21725.84055932653, 21767.094881181125]\n",
      "ARIMA(0, 1, 0) AIC=3350.157\n",
      "ARIMA(0, 1, 3) AIC=3342.182\n",
      "ARIMA(2, 2, 3) AIC=3337.683\n",
      "Best ARIMA(2, 2, 3) AIC=3337.683\n"
     ]
    },
    {
     "name": "stderr",
     "output_type": "stream",
     "text": [
      " 96%|█████████▌| 356/370 [45:48<01:43,  7.37s/it]"
     ]
    },
    {
     "name": "stdout",
     "output_type": "stream",
     "text": [
      "[9455.21932626296, 9538.471778195088, 9375.836779251173, 9518.174702081118, 9572.889791040545]\n",
      "ARIMA(0, 1, 0) AIC=3372.921\n",
      "ARIMA(0, 1, 1) AIC=3372.371\n",
      "ARIMA(0, 1, 2) AIC=3344.740\n",
      "ARIMA(0, 1, 3) AIC=3338.134\n",
      "ARIMA(1, 1, 2) AIC=3332.725\n",
      "ARIMA(3, 1, 2) AIC=3332.665\n",
      "ARIMA(3, 1, 3) AIC=3328.514\n",
      "Best ARIMA(3, 1, 3) AIC=3328.514\n"
     ]
    },
    {
     "name": "stderr",
     "output_type": "stream",
     "text": [
      " 96%|█████████▋| 357/370 [45:56<01:40,  7.72s/it]"
     ]
    },
    {
     "name": "stdout",
     "output_type": "stream",
     "text": [
      "[38551.8851670811, 38567.712639012694, 38520.104701943455, 38522.70344410605, 38527.013558886196]\n",
      "ARIMA(0, 1, 0) AIC=3249.988\n",
      "ARIMA(0, 2, 1) AIC=3249.661\n",
      "ARIMA(2, 1, 3) AIC=3246.797\n",
      "Best ARIMA(2, 1, 3) AIC=3246.797\n"
     ]
    },
    {
     "name": "stderr",
     "output_type": "stream",
     "text": [
      " 97%|█████████▋| 358/370 [46:04<01:31,  7.65s/it]"
     ]
    },
    {
     "name": "stdout",
     "output_type": "stream",
     "text": [
      "[14382.786780992054, 14528.576453975164, 14596.103686922059, 14560.61935610459, 14435.890875905014]\n",
      "ARIMA(0, 1, 0) AIC=3439.409\n",
      "ARIMA(2, 1, 0) AIC=3438.823\n"
     ]
    },
    {
     "name": "stderr",
     "output_type": "stream",
     "text": [
      " 97%|█████████▋| 359/370 [46:10<01:20,  7.33s/it]"
     ]
    },
    {
     "name": "stdout",
     "output_type": "stream",
     "text": [
      "Best ARIMA(2, 1, 0) AIC=3438.823\n",
      "[9907.453368126411, 10061.392999915579, 10061.802664531562, 10042.262891649372, 10041.87757254355]\n",
      "ARIMA(0, 1, 0) AIC=3244.866\n"
     ]
    },
    {
     "name": "stderr",
     "output_type": "stream",
     "text": [
      " 97%|█████████▋| 360/370 [46:18<01:14,  7.47s/it]"
     ]
    },
    {
     "name": "stdout",
     "output_type": "stream",
     "text": [
      "Best ARIMA(0, 1, 0) AIC=3244.866\n",
      "[29500.0, 29500.0, 29500.0, 29500.0, 29500.0]\n",
      "ARIMA(0, 1, 0) AIC=2582.075\n",
      "ARIMA(0, 2, 1) AIC=2576.581\n"
     ]
    },
    {
     "name": "stderr",
     "output_type": "stream",
     "text": [
      " 98%|█████████▊| 361/370 [46:25<01:05,  7.24s/it]"
     ]
    },
    {
     "name": "stdout",
     "output_type": "stream",
     "text": [
      "Best ARIMA(0, 2, 1) AIC=2576.581\n",
      "[9061.10701860131, 9072.214037202617, 9083.321055803925, 9094.428074405232, 9105.53509300654]\n",
      "ARIMA(0, 1, 0) AIC=3520.520\n",
      "ARIMA(2, 1, 2) AIC=3516.798\n",
      "Best ARIMA(2, 1, 2) AIC=3516.798\n"
     ]
    },
    {
     "name": "stderr",
     "output_type": "stream",
     "text": [
      " 98%|█████████▊| 362/370 [46:33<00:59,  7.42s/it]"
     ]
    },
    {
     "name": "stdout",
     "output_type": "stream",
     "text": [
      "[28980.36728949526, 29115.95121657618, 29290.06952916801, 29482.508603375176, 29671.834861129268]\n",
      "ARIMA(0, 1, 0) AIC=3695.958\n",
      "ARIMA(1, 1, 1) AIC=3695.713\n",
      "ARIMA(1, 1, 2) AIC=3687.744\n",
      "ARIMA(2, 1, 1) AIC=3687.498\n",
      "ARIMA(2, 1, 2) AIC=3687.165\n",
      "ARIMA(3, 1, 3) AIC=3686.568\n",
      "Best ARIMA(3, 1, 3) AIC=3686.568\n"
     ]
    },
    {
     "name": "stderr",
     "output_type": "stream",
     "text": [
      " 98%|█████████▊| 363/370 [46:41<00:54,  7.80s/it]"
     ]
    },
    {
     "name": "stdout",
     "output_type": "stream",
     "text": [
      "[37531.31530733181, 37765.68990389348, 37825.927512443384, 38167.630961465096, 38301.25096658526]\n",
      "ARIMA(0, 1, 0) AIC=2134.429\n",
      "ARIMA(0, 2, 1) AIC=2132.391\n"
     ]
    },
    {
     "name": "stderr",
     "output_type": "stream",
     "text": [
      " 98%|█████████▊| 364/370 [46:49<00:46,  7.76s/it]"
     ]
    },
    {
     "name": "stdout",
     "output_type": "stream",
     "text": [
      "Best ARIMA(0, 2, 1) AIC=2132.391\n",
      "[1839.7388222873758, 1839.4776445747516, 1839.2164668621274, 1838.9552891495032, 1838.694111436879]\n",
      "ARIMA(0, 1, 0) AIC=2751.761\n",
      "ARIMA(0, 2, 1) AIC=2748.894\n",
      "ARIMA(1, 2, 2) AIC=2744.581\n"
     ]
    },
    {
     "name": "stderr",
     "output_type": "stream",
     "text": [
      " 99%|█████████▊| 365/370 [46:56<00:37,  7.47s/it]"
     ]
    },
    {
     "name": "stdout",
     "output_type": "stream",
     "text": [
      "Best ARIMA(1, 2, 2) AIC=2744.581\n",
      "[7667.587737333304, 7655.03735859478, 7651.174904457784, 7639.867276745433, 7634.939839022002]\n",
      "ARIMA(0, 1, 0) AIC=2542.288\n",
      "ARIMA(0, 1, 1) AIC=2540.139\n",
      "ARIMA(0, 2, 1) AIC=2538.298\n",
      "ARIMA(0, 2, 2) AIC=2536.371\n",
      "ARIMA(2, 2, 3) AIC=2536.092\n",
      "ARIMA(3, 2, 3) AIC=2519.837\n",
      "Best ARIMA(3, 2, 3) AIC=2519.837\n"
     ]
    },
    {
     "name": "stderr",
     "output_type": "stream",
     "text": [
      " 99%|█████████▉| 366/370 [47:03<00:29,  7.40s/it]"
     ]
    },
    {
     "name": "stdout",
     "output_type": "stream",
     "text": [
      "[4943.217698059556, 4886.347540229674, 4925.4259942441895, 4937.682471043257, 4909.493247680013]\n",
      "ARIMA(0, 1, 0) AIC=3044.367\n",
      "ARIMA(0, 1, 1) AIC=3040.196\n",
      "ARIMA(0, 1, 2) AIC=3035.602\n",
      "ARIMA(0, 1, 3) AIC=3034.196\n",
      "ARIMA(0, 2, 3) AIC=3031.604\n",
      "ARIMA(1, 1, 3) AIC=3031.074\n",
      "ARIMA(3, 2, 1) AIC=3029.847\n",
      "Best ARIMA(3, 2, 1) AIC=3029.847\n"
     ]
    },
    {
     "name": "stderr",
     "output_type": "stream",
     "text": [
      " 99%|█████████▉| 367/370 [47:10<00:21,  7.21s/it]"
     ]
    },
    {
     "name": "stdout",
     "output_type": "stream",
     "text": [
      "[8177.819673713867, 8179.859282127737, 8311.682424322686, 8294.09385796857, 8329.401264775532]\n",
      "ARIMA(0, 1, 0) AIC=2844.206\n",
      "ARIMA(0, 2, 1) AIC=2838.580\n"
     ]
    },
    {
     "name": "stderr",
     "output_type": "stream",
     "text": [
      " 99%|█████████▉| 368/370 [47:18<00:14,  7.38s/it]"
     ]
    },
    {
     "name": "stdout",
     "output_type": "stream",
     "text": [
      "Best ARIMA(0, 2, 1) AIC=2838.580\n",
      "[7134.325562466685, 7148.651124933371, 7162.976687400056, 7177.3022498667415, 7191.627812333427]\n",
      "ARIMA(0, 1, 0) AIC=3473.265\n"
     ]
    },
    {
     "name": "stderr",
     "output_type": "stream",
     "text": [
      "100%|█████████▉| 369/370 [47:25<00:07,  7.33s/it]"
     ]
    },
    {
     "name": "stdout",
     "output_type": "stream",
     "text": [
      "Best ARIMA(0, 1, 0) AIC=3473.265\n",
      "[42850.0, 42850.0, 42850.0, 42850.0, 42850.0]\n",
      "ARIMA(0, 1, 0) AIC=3835.544\n",
      "ARIMA(0, 1, 3) AIC=3835.058\n",
      "ARIMA(2, 1, 2) AIC=3830.276\n",
      "ARIMA(2, 1, 3) AIC=3830.081\n",
      "Best ARIMA(2, 1, 3) AIC=3830.081\n"
     ]
    },
    {
     "name": "stderr",
     "output_type": "stream",
     "text": [
      "100%|██████████| 370/370 [47:31<00:00,  7.71s/it]"
     ]
    },
    {
     "name": "stdout",
     "output_type": "stream",
     "text": [
      "[50122.589176369875, 50340.55982641156, 50439.564730706275, 50269.12839944403, 50197.091256743995]\n"
     ]
    },
    {
     "name": "stderr",
     "output_type": "stream",
     "text": [
      "\n"
     ]
    },
    {
     "data": {
      "text/plain": [
       "0"
      ]
     },
     "execution_count": 8,
     "metadata": {},
     "output_type": "execute_result"
    }
   ],
   "source": [
    "# model = LinearRegression()\n",
    "p_values=[0,1,2,3]\n",
    "d_values=[1,2]\n",
    "q_values=[0,1,2,3]\n",
    "warnings.filterwarnings(\"ignore\")\n",
    "\n",
    "for code in tqdm(stock_list['종목코드'].values):\n",
    "    data = fdr.DataReader(code, start = start_date, end = end_date)[['Close']].reset_index()\n",
    "    data = pd.merge(Business_days, data, how = 'outer')\n",
    "    data.Close = data.Close.ffill()\n",
    "    data.Close = data.Close.bfill()\n",
    "    data.index = data[\"Date\"]\n",
    "    arima_data = data['Close'][:]\n",
    "    # arima_data = list(arima_data)\n",
    "    \n",
    "\n",
    "    predictions=evaluate_models(arima_data,p_values,d_values,q_values)    \n",
    "    predictions=list(predictions)\n",
    "    # print(predictions)\n",
    "    # forecast = get_predict(arima_data) #(0,1,0)인수 나오는것 처리해야함\n",
    "    # predictions = list(forecast)\n",
    "    # print(predictions)\n",
    "\n",
    "    sample_submission.loc[0:4,code] = predictions \n",
    "sample_submission.isna().sum().sum()"
   ]
  },
  {
   "cell_type": "code",
   "execution_count": 9,
   "metadata": {},
   "outputs": [
    {
     "data": {
      "text/html": [
       "<div>\n",
       "<style scoped>\n",
       "    .dataframe tbody tr th:only-of-type {\n",
       "        vertical-align: middle;\n",
       "    }\n",
       "\n",
       "    .dataframe tbody tr th {\n",
       "        vertical-align: top;\n",
       "    }\n",
       "\n",
       "    .dataframe thead th {\n",
       "        text-align: right;\n",
       "    }\n",
       "</style>\n",
       "<table border=\"1\" class=\"dataframe\">\n",
       "  <thead>\n",
       "    <tr style=\"text-align: right;\">\n",
       "      <th></th>\n",
       "      <th>Day</th>\n",
       "      <th>000060</th>\n",
       "      <th>000080</th>\n",
       "      <th>000100</th>\n",
       "      <th>000120</th>\n",
       "      <th>000150</th>\n",
       "      <th>000240</th>\n",
       "      <th>000250</th>\n",
       "      <th>000270</th>\n",
       "      <th>000660</th>\n",
       "      <th>...</th>\n",
       "      <th>330860</th>\n",
       "      <th>336260</th>\n",
       "      <th>336370</th>\n",
       "      <th>347860</th>\n",
       "      <th>348150</th>\n",
       "      <th>348210</th>\n",
       "      <th>352820</th>\n",
       "      <th>357780</th>\n",
       "      <th>363280</th>\n",
       "      <th>950130</th>\n",
       "    </tr>\n",
       "  </thead>\n",
       "  <tbody>\n",
       "    <tr>\n",
       "      <th>0</th>\n",
       "      <td>2021-11-01</td>\n",
       "      <td>27537.914115</td>\n",
       "      <td>34800.0</td>\n",
       "      <td>59974.878579</td>\n",
       "      <td>141714.407640</td>\n",
       "      <td>103000.0</td>\n",
       "      <td>16662.046560</td>\n",
       "      <td>47133.794342</td>\n",
       "      <td>85670.437427</td>\n",
       "      <td>103000.0</td>\n",
       "      <td>...</td>\n",
       "      <td>49262.631196</td>\n",
       "      <td>52145.424434</td>\n",
       "      <td>82300.0</td>\n",
       "      <td>35881.968872</td>\n",
       "      <td>25719.971918</td>\n",
       "      <td>53337.729710</td>\n",
       "      <td>335000.0</td>\n",
       "      <td>261561.328844</td>\n",
       "      <td>27153.174713</td>\n",
       "      <td>17090.161904</td>\n",
       "    </tr>\n",
       "    <tr>\n",
       "      <th>1</th>\n",
       "      <td>2021-11-02</td>\n",
       "      <td>27742.684358</td>\n",
       "      <td>34800.0</td>\n",
       "      <td>60108.296456</td>\n",
       "      <td>141922.323942</td>\n",
       "      <td>103000.0</td>\n",
       "      <td>16680.166558</td>\n",
       "      <td>46976.254603</td>\n",
       "      <td>85592.444685</td>\n",
       "      <td>103000.0</td>\n",
       "      <td>...</td>\n",
       "      <td>49026.341177</td>\n",
       "      <td>52261.574028</td>\n",
       "      <td>82300.0</td>\n",
       "      <td>35713.902408</td>\n",
       "      <td>25797.340853</td>\n",
       "      <td>53529.564979</td>\n",
       "      <td>335000.0</td>\n",
       "      <td>262163.426061</td>\n",
       "      <td>27174.982867</td>\n",
       "      <td>17089.194023</td>\n",
       "    </tr>\n",
       "    <tr>\n",
       "      <th>2</th>\n",
       "      <td>2021-11-03</td>\n",
       "      <td>27802.818237</td>\n",
       "      <td>34800.0</td>\n",
       "      <td>60063.370424</td>\n",
       "      <td>142333.739391</td>\n",
       "      <td>103000.0</td>\n",
       "      <td>16734.130852</td>\n",
       "      <td>46916.180771</td>\n",
       "      <td>85112.195029</td>\n",
       "      <td>103000.0</td>\n",
       "      <td>...</td>\n",
       "      <td>48828.941605</td>\n",
       "      <td>52218.410411</td>\n",
       "      <td>82300.0</td>\n",
       "      <td>35561.309722</td>\n",
       "      <td>25874.360554</td>\n",
       "      <td>53597.651799</td>\n",
       "      <td>335000.0</td>\n",
       "      <td>262425.821417</td>\n",
       "      <td>27215.049381</td>\n",
       "      <td>17089.098802</td>\n",
       "    </tr>\n",
       "    <tr>\n",
       "      <th>3</th>\n",
       "      <td>2021-11-04</td>\n",
       "      <td>27778.803535</td>\n",
       "      <td>34800.0</td>\n",
       "      <td>59932.621088</td>\n",
       "      <td>142771.702910</td>\n",
       "      <td>103000.0</td>\n",
       "      <td>16769.094642</td>\n",
       "      <td>47076.849110</td>\n",
       "      <td>85275.621162</td>\n",
       "      <td>103000.0</td>\n",
       "      <td>...</td>\n",
       "      <td>49014.053101</td>\n",
       "      <td>52200.266267</td>\n",
       "      <td>82300.0</td>\n",
       "      <td>35422.766150</td>\n",
       "      <td>25725.495674</td>\n",
       "      <td>53517.645240</td>\n",
       "      <td>335000.0</td>\n",
       "      <td>261938.664056</td>\n",
       "      <td>27215.539268</td>\n",
       "      <td>17089.089434</td>\n",
       "    </tr>\n",
       "    <tr>\n",
       "      <th>4</th>\n",
       "      <td>2021-11-05</td>\n",
       "      <td>27764.960244</td>\n",
       "      <td>34800.0</td>\n",
       "      <td>59950.481531</td>\n",
       "      <td>142832.886577</td>\n",
       "      <td>103000.0</td>\n",
       "      <td>16751.262458</td>\n",
       "      <td>47113.523958</td>\n",
       "      <td>85703.786144</td>\n",
       "      <td>103000.0</td>\n",
       "      <td>...</td>\n",
       "      <td>49234.527906</td>\n",
       "      <td>52225.440281</td>\n",
       "      <td>82300.0</td>\n",
       "      <td>35296.978200</td>\n",
       "      <td>25803.917172</td>\n",
       "      <td>53327.130826</td>\n",
       "      <td>335000.0</td>\n",
       "      <td>261501.765215</td>\n",
       "      <td>27210.655072</td>\n",
       "      <td>17089.088512</td>\n",
       "    </tr>\n",
       "    <tr>\n",
       "      <th>5</th>\n",
       "      <td>2021-11-29</td>\n",
       "      <td>0.000000</td>\n",
       "      <td>0.0</td>\n",
       "      <td>0.000000</td>\n",
       "      <td>0.000000</td>\n",
       "      <td>0.0</td>\n",
       "      <td>0.000000</td>\n",
       "      <td>0.000000</td>\n",
       "      <td>0.000000</td>\n",
       "      <td>0.0</td>\n",
       "      <td>...</td>\n",
       "      <td>0.000000</td>\n",
       "      <td>0.000000</td>\n",
       "      <td>0.0</td>\n",
       "      <td>0.000000</td>\n",
       "      <td>0.000000</td>\n",
       "      <td>0.000000</td>\n",
       "      <td>0.0</td>\n",
       "      <td>0.000000</td>\n",
       "      <td>0.000000</td>\n",
       "      <td>0.000000</td>\n",
       "    </tr>\n",
       "    <tr>\n",
       "      <th>6</th>\n",
       "      <td>2021-11-30</td>\n",
       "      <td>0.000000</td>\n",
       "      <td>0.0</td>\n",
       "      <td>0.000000</td>\n",
       "      <td>0.000000</td>\n",
       "      <td>0.0</td>\n",
       "      <td>0.000000</td>\n",
       "      <td>0.000000</td>\n",
       "      <td>0.000000</td>\n",
       "      <td>0.0</td>\n",
       "      <td>...</td>\n",
       "      <td>0.000000</td>\n",
       "      <td>0.000000</td>\n",
       "      <td>0.0</td>\n",
       "      <td>0.000000</td>\n",
       "      <td>0.000000</td>\n",
       "      <td>0.000000</td>\n",
       "      <td>0.0</td>\n",
       "      <td>0.000000</td>\n",
       "      <td>0.000000</td>\n",
       "      <td>0.000000</td>\n",
       "    </tr>\n",
       "    <tr>\n",
       "      <th>7</th>\n",
       "      <td>2021-12-01</td>\n",
       "      <td>0.000000</td>\n",
       "      <td>0.0</td>\n",
       "      <td>0.000000</td>\n",
       "      <td>0.000000</td>\n",
       "      <td>0.0</td>\n",
       "      <td>0.000000</td>\n",
       "      <td>0.000000</td>\n",
       "      <td>0.000000</td>\n",
       "      <td>0.0</td>\n",
       "      <td>...</td>\n",
       "      <td>0.000000</td>\n",
       "      <td>0.000000</td>\n",
       "      <td>0.0</td>\n",
       "      <td>0.000000</td>\n",
       "      <td>0.000000</td>\n",
       "      <td>0.000000</td>\n",
       "      <td>0.0</td>\n",
       "      <td>0.000000</td>\n",
       "      <td>0.000000</td>\n",
       "      <td>0.000000</td>\n",
       "    </tr>\n",
       "    <tr>\n",
       "      <th>8</th>\n",
       "      <td>2021-12-02</td>\n",
       "      <td>0.000000</td>\n",
       "      <td>0.0</td>\n",
       "      <td>0.000000</td>\n",
       "      <td>0.000000</td>\n",
       "      <td>0.0</td>\n",
       "      <td>0.000000</td>\n",
       "      <td>0.000000</td>\n",
       "      <td>0.000000</td>\n",
       "      <td>0.0</td>\n",
       "      <td>...</td>\n",
       "      <td>0.000000</td>\n",
       "      <td>0.000000</td>\n",
       "      <td>0.0</td>\n",
       "      <td>0.000000</td>\n",
       "      <td>0.000000</td>\n",
       "      <td>0.000000</td>\n",
       "      <td>0.0</td>\n",
       "      <td>0.000000</td>\n",
       "      <td>0.000000</td>\n",
       "      <td>0.000000</td>\n",
       "    </tr>\n",
       "    <tr>\n",
       "      <th>9</th>\n",
       "      <td>2021-12-03</td>\n",
       "      <td>0.000000</td>\n",
       "      <td>0.0</td>\n",
       "      <td>0.000000</td>\n",
       "      <td>0.000000</td>\n",
       "      <td>0.0</td>\n",
       "      <td>0.000000</td>\n",
       "      <td>0.000000</td>\n",
       "      <td>0.000000</td>\n",
       "      <td>0.0</td>\n",
       "      <td>...</td>\n",
       "      <td>0.000000</td>\n",
       "      <td>0.000000</td>\n",
       "      <td>0.0</td>\n",
       "      <td>0.000000</td>\n",
       "      <td>0.000000</td>\n",
       "      <td>0.000000</td>\n",
       "      <td>0.0</td>\n",
       "      <td>0.000000</td>\n",
       "      <td>0.000000</td>\n",
       "      <td>0.000000</td>\n",
       "    </tr>\n",
       "  </tbody>\n",
       "</table>\n",
       "<p>10 rows × 371 columns</p>\n",
       "</div>"
      ],
      "text/plain": [
       "          Day        000060   000080        000100         000120    000150  \\\n",
       "0  2021-11-01  27537.914115  34800.0  59974.878579  141714.407640  103000.0   \n",
       "1  2021-11-02  27742.684358  34800.0  60108.296456  141922.323942  103000.0   \n",
       "2  2021-11-03  27802.818237  34800.0  60063.370424  142333.739391  103000.0   \n",
       "3  2021-11-04  27778.803535  34800.0  59932.621088  142771.702910  103000.0   \n",
       "4  2021-11-05  27764.960244  34800.0  59950.481531  142832.886577  103000.0   \n",
       "5  2021-11-29      0.000000      0.0      0.000000       0.000000       0.0   \n",
       "6  2021-11-30      0.000000      0.0      0.000000       0.000000       0.0   \n",
       "7  2021-12-01      0.000000      0.0      0.000000       0.000000       0.0   \n",
       "8  2021-12-02      0.000000      0.0      0.000000       0.000000       0.0   \n",
       "9  2021-12-03      0.000000      0.0      0.000000       0.000000       0.0   \n",
       "\n",
       "         000240        000250        000270    000660  ...        330860  \\\n",
       "0  16662.046560  47133.794342  85670.437427  103000.0  ...  49262.631196   \n",
       "1  16680.166558  46976.254603  85592.444685  103000.0  ...  49026.341177   \n",
       "2  16734.130852  46916.180771  85112.195029  103000.0  ...  48828.941605   \n",
       "3  16769.094642  47076.849110  85275.621162  103000.0  ...  49014.053101   \n",
       "4  16751.262458  47113.523958  85703.786144  103000.0  ...  49234.527906   \n",
       "5      0.000000      0.000000      0.000000       0.0  ...      0.000000   \n",
       "6      0.000000      0.000000      0.000000       0.0  ...      0.000000   \n",
       "7      0.000000      0.000000      0.000000       0.0  ...      0.000000   \n",
       "8      0.000000      0.000000      0.000000       0.0  ...      0.000000   \n",
       "9      0.000000      0.000000      0.000000       0.0  ...      0.000000   \n",
       "\n",
       "         336260   336370        347860        348150        348210    352820  \\\n",
       "0  52145.424434  82300.0  35881.968872  25719.971918  53337.729710  335000.0   \n",
       "1  52261.574028  82300.0  35713.902408  25797.340853  53529.564979  335000.0   \n",
       "2  52218.410411  82300.0  35561.309722  25874.360554  53597.651799  335000.0   \n",
       "3  52200.266267  82300.0  35422.766150  25725.495674  53517.645240  335000.0   \n",
       "4  52225.440281  82300.0  35296.978200  25803.917172  53327.130826  335000.0   \n",
       "5      0.000000      0.0      0.000000      0.000000      0.000000       0.0   \n",
       "6      0.000000      0.0      0.000000      0.000000      0.000000       0.0   \n",
       "7      0.000000      0.0      0.000000      0.000000      0.000000       0.0   \n",
       "8      0.000000      0.0      0.000000      0.000000      0.000000       0.0   \n",
       "9      0.000000      0.0      0.000000      0.000000      0.000000       0.0   \n",
       "\n",
       "          357780        363280        950130  \n",
       "0  261561.328844  27153.174713  17090.161904  \n",
       "1  262163.426061  27174.982867  17089.194023  \n",
       "2  262425.821417  27215.049381  17089.098802  \n",
       "3  261938.664056  27215.539268  17089.089434  \n",
       "4  261501.765215  27210.655072  17089.088512  \n",
       "5       0.000000      0.000000      0.000000  \n",
       "6       0.000000      0.000000      0.000000  \n",
       "7       0.000000      0.000000      0.000000  \n",
       "8       0.000000      0.000000      0.000000  \n",
       "9       0.000000      0.000000      0.000000  \n",
       "\n",
       "[10 rows x 371 columns]"
      ]
     },
     "execution_count": 9,
     "metadata": {},
     "output_type": "execute_result"
    }
   ],
   "source": [
    "sample_submission"
   ]
  },
  {
   "cell_type": "code",
   "execution_count": 10,
   "metadata": {},
   "outputs": [
    {
     "name": "stdout",
     "output_type": "stream",
     "text": [
      "WEEKDAY of \"start_date\" : 0\n",
      "NUM of WEEKS to \"end_date\" : 44\n",
      "HOW MANY \"Business_days\" : (5, 1)\n"
     ]
    },
    {
     "data": {
      "text/html": [
       "<div>\n",
       "<style scoped>\n",
       "    .dataframe tbody tr th:only-of-type {\n",
       "        vertical-align: middle;\n",
       "    }\n",
       "\n",
       "    .dataframe tbody tr th {\n",
       "        vertical-align: top;\n",
       "    }\n",
       "\n",
       "    .dataframe thead th {\n",
       "        text-align: right;\n",
       "    }\n",
       "</style>\n",
       "<table border=\"1\" class=\"dataframe\">\n",
       "  <thead>\n",
       "    <tr style=\"text-align: right;\">\n",
       "      <th></th>\n",
       "      <th>Date</th>\n",
       "    </tr>\n",
       "  </thead>\n",
       "  <tbody>\n",
       "    <tr>\n",
       "      <th>0</th>\n",
       "      <td>2021-11-01</td>\n",
       "    </tr>\n",
       "    <tr>\n",
       "      <th>1</th>\n",
       "      <td>2021-11-02</td>\n",
       "    </tr>\n",
       "    <tr>\n",
       "      <th>2</th>\n",
       "      <td>2021-11-03</td>\n",
       "    </tr>\n",
       "    <tr>\n",
       "      <th>3</th>\n",
       "      <td>2021-11-04</td>\n",
       "    </tr>\n",
       "    <tr>\n",
       "      <th>4</th>\n",
       "      <td>2021-11-05</td>\n",
       "    </tr>\n",
       "  </tbody>\n",
       "</table>\n",
       "</div>"
      ],
      "text/plain": [
       "        Date\n",
       "0 2021-11-01\n",
       "1 2021-11-02\n",
       "2 2021-11-03\n",
       "3 2021-11-04\n",
       "4 2021-11-05"
      ]
     },
     "metadata": {},
     "output_type": "display_data"
    },
    {
     "name": "stderr",
     "output_type": "stream",
     "text": [
      "100%|██████████| 370/370 [01:05<00:00,  5.67it/s]"
     ]
    },
    {
     "name": "stdout",
     "output_type": "stream",
     "text": [
      "[[27537.914114823987 34800.0 59974.87857923791 ... 261561.32884400574\n",
      "  27153.174712683995 17090.161904395427]\n",
      " [27742.68435843273 34800.0 60108.29645632018 ... 262163.4260609309\n",
      "  27174.982867336483 17089.19402314418]\n",
      " [27802.818236518513 34800.0 60063.37042351088 ... 262425.8214172892\n",
      "  27215.049381244324 17089.098802061344]\n",
      " [27778.803534601488 34800.0 59932.62108833865 ... 261938.66405647554\n",
      "  27215.53926820737 17089.08943412018]\n",
      " [27764.960244338483 34800.0 59950.48153059793 ... 261501.76521533277\n",
      "  27210.655072139743 17089.08851249317]]\n",
      "35.69770501538279\n"
     ]
    },
    {
     "name": "stderr",
     "output_type": "stream",
     "text": [
      "\n"
     ]
    }
   ],
   "source": [
    "\n",
    "start_date = '20211101'\n",
    "end_date = '20211105'\n",
    "\n",
    "start_weekday = pd.to_datetime(start_date).weekday()\n",
    "max_weeknum = pd.to_datetime(end_date).strftime('%V')\n",
    "Business_days = pd.DataFrame(pd.date_range(start_date,end_date,freq='B'), columns = ['Date'])\n",
    "\n",
    "print(f'WEEKDAY of \"start_date\" : {start_weekday}')\n",
    "print(f'NUM of WEEKS to \"end_date\" : {max_weeknum}')\n",
    "print(f'HOW MANY \"Business_days\" : {Business_days.shape}', )\n",
    "display(Business_days.head())\n",
    "\n",
    "real=[]\n",
    "real_data=pd.read_csv('C:\\\\Users\\\\user\\\\Desktop\\\\computing\\\\outside\\\\dacon\\\\stock_predict2\\\\open\\\\sample_submission.csv')\n",
    "for code in tqdm(stock_list['종목코드'].values):\n",
    "    data = fdr.DataReader(code, start = start_date, end = end_date)[['Close']].reset_index()\n",
    "    data = pd.merge(Business_days, data, how = 'outer')\n",
    "    data['weekday'] = data.Date.apply(lambda x : x.weekday())\n",
    "    data['weeknum'] = data.Date.apply(lambda x : x.strftime('%V'))\n",
    "    data.Close = data.Close.ffill()\n",
    "    data.Close = data.Close.bfill()\n",
    "\n",
    "    real_data_close = pd.pivot_table(data = data, values = 'Close', columns = 'weekday', index = 'weeknum')\n",
    "    real_data_close_flatten = np.ravel(real_data_close.to_numpy())\n",
    "    # print(real_data_close_flatten)\n",
    "    \n",
    "\n",
    "    real_data.loc[:4,code]=real_data_close_flatten\n",
    "\n",
    "type(real_data)\n",
    "type(sample_submission)\n",
    "\n",
    "label_np = real_data.to_numpy()[0:5,1:]\n",
    "pred_np = sample_submission.to_numpy()[0:5, 1:]\n",
    "print(pred_np)\n",
    "\n",
    "\n",
    "result=np.mean(abs(label_np-pred_np)/label_np)*100\n",
    "print(result)"
   ]
  },
  {
   "cell_type": "code",
   "execution_count": 11,
   "metadata": {},
   "outputs": [
    {
     "name": "stdout",
     "output_type": "stream",
     "text": [
      "WEEKDAY of \"start_date\" : 6\n",
      "NUM of WEEKS to \"end_date\" : 47\n",
      "HOW MANY \"Business_days\" : (385, 1)\n"
     ]
    },
    {
     "data": {
      "text/html": [
       "<div>\n",
       "<style scoped>\n",
       "    .dataframe tbody tr th:only-of-type {\n",
       "        vertical-align: middle;\n",
       "    }\n",
       "\n",
       "    .dataframe tbody tr th {\n",
       "        vertical-align: top;\n",
       "    }\n",
       "\n",
       "    .dataframe thead th {\n",
       "        text-align: right;\n",
       "    }\n",
       "</style>\n",
       "<table border=\"1\" class=\"dataframe\">\n",
       "  <thead>\n",
       "    <tr style=\"text-align: right;\">\n",
       "      <th></th>\n",
       "      <th>Date</th>\n",
       "    </tr>\n",
       "  </thead>\n",
       "  <tbody>\n",
       "    <tr>\n",
       "      <th>0</th>\n",
       "      <td>2020-06-08</td>\n",
       "    </tr>\n",
       "    <tr>\n",
       "      <th>1</th>\n",
       "      <td>2020-06-09</td>\n",
       "    </tr>\n",
       "    <tr>\n",
       "      <th>2</th>\n",
       "      <td>2020-06-10</td>\n",
       "    </tr>\n",
       "    <tr>\n",
       "      <th>3</th>\n",
       "      <td>2020-06-11</td>\n",
       "    </tr>\n",
       "    <tr>\n",
       "      <th>4</th>\n",
       "      <td>2020-06-12</td>\n",
       "    </tr>\n",
       "  </tbody>\n",
       "</table>\n",
       "</div>"
      ],
      "text/plain": [
       "        Date\n",
       "0 2020-06-08\n",
       "1 2020-06-09\n",
       "2 2020-06-10\n",
       "3 2020-06-11\n",
       "4 2020-06-12"
      ]
     },
     "metadata": {},
     "output_type": "display_data"
    },
    {
     "data": {
      "text/html": [
       "<div>\n",
       "<style scoped>\n",
       "    .dataframe tbody tr th:only-of-type {\n",
       "        vertical-align: middle;\n",
       "    }\n",
       "\n",
       "    .dataframe tbody tr th {\n",
       "        vertical-align: top;\n",
       "    }\n",
       "\n",
       "    .dataframe thead th {\n",
       "        text-align: right;\n",
       "    }\n",
       "</style>\n",
       "<table border=\"1\" class=\"dataframe\">\n",
       "  <thead>\n",
       "    <tr style=\"text-align: right;\">\n",
       "      <th></th>\n",
       "      <th>Date</th>\n",
       "    </tr>\n",
       "  </thead>\n",
       "  <tbody>\n",
       "    <tr>\n",
       "      <th>380</th>\n",
       "      <td>2021-11-22</td>\n",
       "    </tr>\n",
       "    <tr>\n",
       "      <th>381</th>\n",
       "      <td>2021-11-23</td>\n",
       "    </tr>\n",
       "    <tr>\n",
       "      <th>382</th>\n",
       "      <td>2021-11-24</td>\n",
       "    </tr>\n",
       "    <tr>\n",
       "      <th>383</th>\n",
       "      <td>2021-11-25</td>\n",
       "    </tr>\n",
       "    <tr>\n",
       "      <th>384</th>\n",
       "      <td>2021-11-26</td>\n",
       "    </tr>\n",
       "  </tbody>\n",
       "</table>\n",
       "</div>"
      ],
      "text/plain": [
       "          Date\n",
       "380 2021-11-22\n",
       "381 2021-11-23\n",
       "382 2021-11-24\n",
       "383 2021-11-25\n",
       "384 2021-11-26"
      ]
     },
     "metadata": {},
     "output_type": "display_data"
    }
   ],
   "source": [
    "# start_date = '20210101'\n",
    "start_date = '20200607'\n",
    "end_date = '20211126'\n",
    "\n",
    "start_weekday = pd.to_datetime(start_date).weekday()\n",
    "max_weeknum = pd.to_datetime(end_date).strftime('%V')\n",
    "Business_days = pd.DataFrame(pd.date_range(start_date,end_date,freq='B'), columns = ['Date'])\n",
    "\n",
    "print(f'WEEKDAY of \"start_date\" : {start_weekday}')\n",
    "print(f'NUM of WEEKS to \"end_date\" : {max_weeknum}')\n",
    "print(f'HOW MANY \"Business_days\" : {Business_days.shape}', )\n",
    "display(Business_days.head())\n",
    "display(Business_days.tail())\n",
    "\n"
   ]
  },
  {
   "cell_type": "code",
   "execution_count": 12,
   "metadata": {},
   "outputs": [
    {
     "name": "stderr",
     "output_type": "stream",
     "text": [
      "  0%|          | 0/370 [00:00<?, ?it/s]"
     ]
    },
    {
     "name": "stdout",
     "output_type": "stream",
     "text": [
      "ARIMA(0, 1, 0) AIC=6355.505\n",
      "ARIMA(2, 1, 2) AIC=6353.652\n",
      "Best ARIMA(2, 1, 2) AIC=6353.652\n"
     ]
    },
    {
     "name": "stderr",
     "output_type": "stream",
     "text": [
      "  0%|          | 1/370 [00:22<2:15:53, 22.09s/it]"
     ]
    },
    {
     "name": "stdout",
     "output_type": "stream",
     "text": [
      "[72214.42308887134, 72316.71792806406, 72509.30787009413, 72678.84125214306, 72752.92500751543]\n",
      "ARIMA(0, 1, 0) AIC=6999.244\n"
     ]
    },
    {
     "name": "stderr",
     "output_type": "stream",
     "text": [
      "  1%|          | 2/370 [00:41<2:06:44, 20.66s/it]"
     ]
    },
    {
     "name": "stdout",
     "output_type": "stream",
     "text": [
      "Best ARIMA(0, 1, 0) AIC=6999.244\n",
      "[115500.0, 115500.0, 115500.0, 115500.0, 115500.0]\n",
      "ARIMA(0, 1, 0) AIC=7810.497\n",
      "ARIMA(2, 1, 2) AIC=7810.338\n",
      "Best ARIMA(2, 1, 2) AIC=7810.338\n"
     ]
    },
    {
     "name": "stderr",
     "output_type": "stream",
     "text": [
      "  1%|          | 3/370 [01:02<2:06:29, 20.68s/it]"
     ]
    },
    {
     "name": "stdout",
     "output_type": "stream",
     "text": [
      "[388719.3736119315, 388085.3528906109, 387765.17429828533, 387840.0287548633, 388284.561155453]\n",
      "ARIMA(0, 1, 0) AIC=7017.206\n"
     ]
    },
    {
     "name": "stderr",
     "output_type": "stream",
     "text": [
      "  1%|          | 4/370 [01:22<2:04:11, 20.36s/it]"
     ]
    },
    {
     "name": "stdout",
     "output_type": "stream",
     "text": [
      "Best ARIMA(0, 1, 0) AIC=7017.206\n",
      "[125500.0, 125500.0, 125500.0, 125500.0, 125500.0]\n",
      "ARIMA(0, 1, 0) AIC=8481.676\n",
      "ARIMA(0, 1, 4) AIC=8468.807\n"
     ]
    },
    {
     "name": "stderr",
     "output_type": "stream",
     "text": [
      "  1%|▏         | 5/370 [01:43<2:04:45, 20.51s/it]"
     ]
    },
    {
     "name": "stdout",
     "output_type": "stream",
     "text": [
      "Best ARIMA(0, 1, 4) AIC=8468.807\n",
      "[867781.0226346564, 867379.5465810709, 867942.4517837061, 870445.9308399447, 870445.9308399447]\n",
      "ARIMA(0, 1, 0) AIC=6142.361\n",
      "ARIMA(0, 1, 1) AIC=6141.489\n",
      "ARIMA(2, 1, 2) AIC=6139.573\n",
      "Best ARIMA(2, 1, 2) AIC=6139.573\n"
     ]
    },
    {
     "name": "stderr",
     "output_type": "stream",
     "text": [
      "  2%|▏         | 6/370 [02:01<1:59:22, 19.68s/it]"
     ]
    },
    {
     "name": "stdout",
     "output_type": "stream",
     "text": [
      "[66556.75518019282, 66729.22331029228, 66630.21786299499, 66611.62653370872, 66717.95880095327]\n",
      "ARIMA(0, 1, 0) AIC=8628.723\n"
     ]
    },
    {
     "name": "stderr",
     "output_type": "stream",
     "text": [
      "  2%|▏         | 7/370 [02:19<1:55:48, 19.14s/it]"
     ]
    },
    {
     "name": "stdout",
     "output_type": "stream",
     "text": [
      "Best ARIMA(0, 1, 0) AIC=8628.723\n",
      "[721000.0, 721000.0, 721000.0, 721000.0, 721000.0]\n",
      "ARIMA(0, 1, 0) AIC=8292.095\n"
     ]
    },
    {
     "name": "stderr",
     "output_type": "stream",
     "text": [
      "  2%|▏         | 8/370 [02:39<1:58:18, 19.61s/it]"
     ]
    },
    {
     "name": "stdout",
     "output_type": "stream",
     "text": [
      "Best ARIMA(0, 1, 0) AIC=8292.095\n",
      "[713000.0, 713000.0, 713000.0, 713000.0, 713000.0]\n",
      "ARIMA(0, 1, 0) AIC=7492.188\n",
      "ARIMA(2, 1, 2) AIC=7491.075\n",
      "Best ARIMA(2, 1, 2) AIC=7491.075\n"
     ]
    },
    {
     "name": "stderr",
     "output_type": "stream",
     "text": [
      "  2%|▏         | 9/370 [02:59<1:58:12, 19.65s/it]"
     ]
    },
    {
     "name": "stdout",
     "output_type": "stream",
     "text": [
      "[204953.6073804886, 205532.33664284126, 205228.0834529348, 205123.57065662413, 205544.10499634972]\n",
      "ARIMA(0, 1, 0) AIC=7938.171\n",
      "ARIMA(1, 1, 4) AIC=7936.953\n",
      "ARIMA(2, 1, 2) AIC=7936.252\n",
      "ARIMA(2, 1, 3) AIC=7935.950\n",
      "ARIMA(3, 1, 2) AIC=7935.751\n",
      "Best ARIMA(3, 1, 2) AIC=7935.751\n"
     ]
    },
    {
     "name": "stderr",
     "output_type": "stream",
     "text": [
      "  3%|▎         | 10/370 [03:19<1:58:27, 19.74s/it]"
     ]
    },
    {
     "name": "stdout",
     "output_type": "stream",
     "text": [
      "[214123.07352033054, 215827.8265726818, 215790.6533903744, 214396.05685497707, 214663.04439751938]\n",
      "ARIMA(0, 1, 0) AIC=6793.417\n",
      "ARIMA(2, 1, 4) AIC=6792.500\n",
      "ARIMA(3, 1, 3) AIC=6791.402\n",
      "Best ARIMA(3, 1, 3) AIC=6791.402\n"
     ]
    },
    {
     "name": "stderr",
     "output_type": "stream",
     "text": [
      "  3%|▎         | 11/370 [03:37<1:54:27, 19.13s/it]"
     ]
    },
    {
     "name": "stdout",
     "output_type": "stream",
     "text": [
      "[80552.74168926106, 80953.14439756621, 80757.87003796693, 80918.16516699872, 80990.97849091346]\n",
      "ARIMA(0, 1, 0) AIC=7682.680\n",
      "ARIMA(2, 1, 2) AIC=7680.519\n",
      "Best ARIMA(2, 1, 2) AIC=7680.519\n"
     ]
    },
    {
     "name": "stderr",
     "output_type": "stream",
     "text": [
      "  3%|▎         | 12/370 [04:00<2:01:46, 20.41s/it]"
     ]
    },
    {
     "name": "stdout",
     "output_type": "stream",
     "text": [
      "[270932.1975070103, 270998.3087411968, 271978.25838554744, 270618.1486737827, 271434.7435322534]\n",
      "ARIMA(0, 1, 0) AIC=7333.818\n"
     ]
    },
    {
     "name": "stderr",
     "output_type": "stream",
     "text": [
      "  4%|▎         | 13/370 [04:20<2:00:16, 20.21s/it]"
     ]
    },
    {
     "name": "stdout",
     "output_type": "stream",
     "text": [
      "Best ARIMA(0, 1, 0) AIC=7333.818\n",
      "[122000.0, 122000.0, 122000.0, 122000.0, 122000.0]\n",
      "ARIMA(0, 1, 0) AIC=7033.518\n",
      "ARIMA(2, 1, 2) AIC=7028.372\n",
      "Best ARIMA(2, 1, 2) AIC=7028.372\n"
     ]
    },
    {
     "name": "stderr",
     "output_type": "stream",
     "text": [
      "  4%|▍         | 14/370 [04:42<2:03:09, 20.76s/it]"
     ]
    },
    {
     "name": "stdout",
     "output_type": "stream",
     "text": [
      "[111198.9222410435, 111463.82394929866, 111611.25816170174, 111568.03277490131, 111397.8083269973]\n",
      "ARIMA(0, 1, 0) AIC=7757.475\n",
      "ARIMA(2, 1, 2) AIC=7748.914\n",
      "ARIMA(2, 1, 3) AIC=7742.557\n",
      "ARIMA(3, 1, 3) AIC=7742.464\n",
      "Best ARIMA(3, 1, 3) AIC=7742.464\n"
     ]
    },
    {
     "name": "stderr",
     "output_type": "stream",
     "text": [
      "  4%|▍         | 15/370 [05:03<2:02:56, 20.78s/it]"
     ]
    },
    {
     "name": "stdout",
     "output_type": "stream",
     "text": [
      "[232401.99837950955, 233833.13809737773, 233655.3573375222, 233502.43937989042, 234500.01967853968]\n",
      "ARIMA(0, 1, 0) AIC=7791.421\n",
      "ARIMA(2, 1, 2) AIC=7790.417\n",
      "Best ARIMA(2, 1, 2) AIC=7790.417\n"
     ]
    },
    {
     "name": "stderr",
     "output_type": "stream",
     "text": [
      "  4%|▍         | 16/370 [05:22<2:00:33, 20.43s/it]"
     ]
    },
    {
     "name": "stdout",
     "output_type": "stream",
     "text": [
      "[208866.4839836037, 208411.1526238334, 209165.0472039857, 208557.86129924245, 208679.9533023164]\n",
      "ARIMA(0, 1, 0) AIC=8788.256\n"
     ]
    },
    {
     "name": "stderr",
     "output_type": "stream",
     "text": [
      "  5%|▍         | 17/370 [05:44<2:01:55, 20.72s/it]"
     ]
    },
    {
     "name": "stdout",
     "output_type": "stream",
     "text": [
      "Best ARIMA(0, 1, 0) AIC=8788.256\n",
      "[1142000.0, 1142000.0, 1142000.0, 1142000.0, 1142000.0]\n",
      "ARIMA(0, 1, 0) AIC=7468.484\n",
      "ARIMA(3, 1, 3) AIC=7467.827\n",
      "Best ARIMA(3, 1, 3) AIC=7467.827\n"
     ]
    },
    {
     "name": "stderr",
     "output_type": "stream",
     "text": [
      "  5%|▍         | 18/370 [06:07<2:05:21, 21.37s/it]"
     ]
    },
    {
     "name": "stdout",
     "output_type": "stream",
     "text": [
      "[309282.93487145886, 309041.73187365476, 308659.3495801982, 308301.46844305703, 307865.6833669049]\n",
      "ARIMA(0, 1, 0) AIC=6230.131\n",
      "ARIMA(0, 1, 4) AIC=6229.735\n",
      "ARIMA(1, 1, 2) AIC=6228.162\n",
      "ARIMA(2, 1, 1) AIC=6227.912\n",
      "ARIMA(4, 1, 3) AIC=6227.906\n",
      "Best ARIMA(4, 1, 3) AIC=6227.906\n"
     ]
    },
    {
     "name": "stderr",
     "output_type": "stream",
     "text": [
      "  5%|▌         | 19/370 [06:26<2:00:55, 20.67s/it]"
     ]
    },
    {
     "name": "stdout",
     "output_type": "stream",
     "text": [
      "[55872.12820742174, 55862.729306440866, 55885.87066012081, 56031.6247919015, 55960.28470372753]\n",
      "ARIMA(0, 1, 0) AIC=5906.424\n",
      "ARIMA(0, 1, 2) AIC=5897.882\n",
      "ARIMA(1, 1, 2) AIC=5896.245\n",
      "Best ARIMA(1, 1, 2) AIC=5896.245\n"
     ]
    },
    {
     "name": "stderr",
     "output_type": "stream",
     "text": [
      "  5%|▌         | 20/370 [06:46<1:59:51, 20.55s/it]"
     ]
    },
    {
     "name": "stdout",
     "output_type": "stream",
     "text": [
      "[36765.306039462856, 36869.388134221, 36915.82082683955, 36936.535196096025, 36945.7762086132]\n",
      "ARIMA(0, 1, 0) AIC=7719.845\n",
      "ARIMA(1, 1, 2) AIC=7718.822\n",
      "ARIMA(1, 1, 4) AIC=7710.932\n",
      "ARIMA(2, 1, 4) AIC=7710.361\n",
      "ARIMA(4, 1, 2) AIC=7709.037\n",
      "ARIMA(4, 1, 4) AIC=7697.254\n",
      "Best ARIMA(4, 1, 4) AIC=7697.254\n"
     ]
    },
    {
     "name": "stderr",
     "output_type": "stream",
     "text": [
      "  6%|▌         | 21/370 [07:07<2:00:55, 20.79s/it]"
     ]
    },
    {
     "name": "stdout",
     "output_type": "stream",
     "text": [
      "[254462.81073437838, 253661.5631800379, 256032.6556946503, 255473.89660809358, 254538.22537620825]\n",
      "ARIMA(0, 1, 0) AIC=8696.479\n",
      "ARIMA(1, 1, 3) AIC=8696.421\n",
      "ARIMA(2, 1, 3) AIC=8695.461\n",
      "ARIMA(3, 1, 3) AIC=8694.264\n",
      "Best ARIMA(3, 1, 3) AIC=8694.264\n"
     ]
    },
    {
     "name": "stderr",
     "output_type": "stream",
     "text": [
      "  6%|▌         | 22/370 [07:29<2:02:10, 21.07s/it]"
     ]
    },
    {
     "name": "stdout",
     "output_type": "stream",
     "text": [
      "[701532.6229744379, 695491.7758666079, 696145.2915817879, 701257.3630696486, 694495.0693512589]\n",
      "ARIMA(0, 1, 0) AIC=6281.905\n",
      "ARIMA(0, 2, 1) AIC=6271.440\n",
      "ARIMA(2, 2, 3) AIC=6265.375\n",
      "Best ARIMA(2, 2, 3) AIC=6265.375\n"
     ]
    },
    {
     "name": "stderr",
     "output_type": "stream",
     "text": [
      "  6%|▌         | 23/370 [07:51<2:03:32, 21.36s/it]"
     ]
    },
    {
     "name": "stdout",
     "output_type": "stream",
     "text": [
      "[24147.538727122934, 24090.579371492873, 23781.403546843136, 23718.372896119712, 23426.169291540336]\n",
      "ARIMA(0, 1, 0) AIC=5672.133\n"
     ]
    },
    {
     "name": "stderr",
     "output_type": "stream",
     "text": [
      "  6%|▋         | 24/370 [08:09<1:58:13, 20.50s/it]"
     ]
    },
    {
     "name": "stdout",
     "output_type": "stream",
     "text": [
      "Best ARIMA(0, 1, 0) AIC=5672.133\n",
      "[22050.0, 22050.0, 22050.0, 22050.0, 22050.0]\n",
      "ARIMA(0, 1, 0) AIC=6622.718\n",
      "ARIMA(0, 1, 1) AIC=6621.784\n",
      "ARIMA(1, 1, 0) AIC=6621.665\n",
      "ARIMA(3, 1, 3) AIC=6620.645\n",
      "Best ARIMA(3, 1, 3) AIC=6620.645\n"
     ]
    },
    {
     "name": "stderr",
     "output_type": "stream",
     "text": [
      "  7%|▋         | 25/370 [08:29<1:56:32, 20.27s/it]"
     ]
    },
    {
     "name": "stdout",
     "output_type": "stream",
     "text": [
      "[63345.12170909979, 63344.60033446878, 63465.52042011663, 63590.751738996056, 63642.7803378747]\n",
      "ARIMA(0, 1, 0) AIC=7245.986\n",
      "ARIMA(2, 1, 2) AIC=7240.627\n",
      "Best ARIMA(2, 1, 2) AIC=7240.627\n"
     ]
    },
    {
     "name": "stderr",
     "output_type": "stream",
     "text": [
      "  7%|▋         | 26/370 [08:52<2:00:00, 20.93s/it]"
     ]
    },
    {
     "name": "stdout",
     "output_type": "stream",
     "text": [
      "[149708.9979927089, 149903.19446767727, 150187.37820051337, 149999.45930254192, 149721.9413018234]\n",
      "ARIMA(0, 1, 0) AIC=7247.372\n",
      "ARIMA(3, 1, 2) AIC=7247.180\n",
      "Best ARIMA(3, 1, 2) AIC=7247.180\n"
     ]
    },
    {
     "name": "stderr",
     "output_type": "stream",
     "text": [
      "  7%|▋         | 27/370 [09:15<2:04:04, 21.70s/it]"
     ]
    },
    {
     "name": "stdout",
     "output_type": "stream",
     "text": [
      "[170623.0513340233, 170614.67132682176, 170469.07569915286, 170744.9806535961, 170378.21688480634]\n",
      "ARIMA(0, 1, 0) AIC=7478.884\n"
     ]
    },
    {
     "name": "stderr",
     "output_type": "stream",
     "text": [
      "  8%|▊         | 28/370 [09:37<2:04:00, 21.76s/it]"
     ]
    },
    {
     "name": "stdout",
     "output_type": "stream",
     "text": [
      "Best ARIMA(0, 1, 0) AIC=7478.884\n",
      "[169500.0, 169500.0, 169500.0, 169500.0, 169500.0]\n",
      "ARIMA(0, 1, 0) AIC=6087.023\n",
      "ARIMA(0, 1, 2) AIC=6084.214\n",
      "ARIMA(1, 1, 1) AIC=6082.758\n",
      "ARIMA(1, 1, 2) AIC=6082.593\n",
      "ARIMA(3, 1, 3) AIC=6080.210\n",
      "ARIMA(3, 1, 4) AIC=6078.943\n",
      "Best ARIMA(3, 1, 4) AIC=6078.943\n"
     ]
    },
    {
     "name": "stderr",
     "output_type": "stream",
     "text": [
      "  8%|▊         | 29/370 [09:57<2:01:22, 21.36s/it]"
     ]
    },
    {
     "name": "stdout",
     "output_type": "stream",
     "text": [
      "[41826.77108042994, 41975.44566629637, 42020.82602040976, 42126.635353442354, 42127.444293434506]\n",
      "ARIMA(0, 1, 0) AIC=7239.349\n"
     ]
    },
    {
     "name": "stderr",
     "output_type": "stream",
     "text": [
      "  8%|▊         | 30/370 [10:16<1:55:46, 20.43s/it]"
     ]
    },
    {
     "name": "stdout",
     "output_type": "stream",
     "text": [
      "Best ARIMA(0, 1, 0) AIC=7239.349\n",
      "[120000.0, 120000.0, 120000.0, 120000.0, 120000.0]\n",
      "ARIMA(0, 1, 0) AIC=7239.162\n",
      "ARIMA(1, 1, 1) AIC=7230.695\n",
      "Best ARIMA(1, 1, 1) AIC=7230.695\n"
     ]
    },
    {
     "name": "stderr",
     "output_type": "stream",
     "text": [
      "  8%|▊         | 31/370 [10:35<1:52:45, 19.96s/it]"
     ]
    },
    {
     "name": "stdout",
     "output_type": "stream",
     "text": [
      "[159663.77610877427, 159050.76696880942, 159616.89190267358, 159094.06537391891, 159576.9050490837]\n",
      "ARIMA(0, 1, 0) AIC=7803.479\n"
     ]
    },
    {
     "name": "stderr",
     "output_type": "stream",
     "text": [
      "  9%|▊         | 32/370 [10:55<1:52:21, 19.95s/it]"
     ]
    },
    {
     "name": "stdout",
     "output_type": "stream",
     "text": [
      "Best ARIMA(0, 1, 0) AIC=7803.479\n",
      "[372000.0, 372000.0, 372000.0, 372000.0, 372000.0]\n",
      "ARIMA(0, 1, 0) AIC=6136.043\n",
      "ARIMA(0, 1, 1) AIC=6135.320\n",
      "ARIMA(0, 1, 2) AIC=6127.043\n",
      "ARIMA(0, 1, 3) AIC=6126.924\n",
      "ARIMA(0, 2, 3) AIC=6121.492\n",
      "ARIMA(0, 2, 4) AIC=6121.275\n",
      "ARIMA(1, 2, 4) AIC=6119.588\n",
      "ARIMA(3, 2, 2) AIC=6119.450\n",
      "Best ARIMA(3, 2, 2) AIC=6119.450\n"
     ]
    },
    {
     "name": "stderr",
     "output_type": "stream",
     "text": [
      "  9%|▉         | 33/370 [11:14<1:50:42, 19.71s/it]"
     ]
    },
    {
     "name": "stdout",
     "output_type": "stream",
     "text": [
      "[22913.06790996189, 23035.94341223978, 22956.635002140225, 23127.648669614104, 23053.711687974286]\n",
      "ARIMA(0, 1, 0) AIC=6803.884\n",
      "ARIMA(0, 1, 3) AIC=6801.282\n",
      "ARIMA(2, 1, 3) AIC=6801.098\n",
      "ARIMA(3, 1, 0) AIC=6800.409\n"
     ]
    },
    {
     "name": "stderr",
     "output_type": "stream",
     "text": [
      "  9%|▉         | 34/370 [11:35<1:52:19, 20.06s/it]"
     ]
    },
    {
     "name": "stdout",
     "output_type": "stream",
     "text": [
      "Best ARIMA(3, 1, 0) AIC=6800.409\n",
      "[84835.35595760848, 85012.08904685879, 85224.34534442029, 85210.06507319714, 85192.28739798033]\n",
      "ARIMA(0, 1, 0) AIC=6199.841\n",
      "ARIMA(0, 1, 3) AIC=6199.722\n",
      "ARIMA(0, 1, 4) AIC=6196.357\n",
      "ARIMA(1, 1, 1) AIC=6186.299\n",
      "ARIMA(2, 1, 2) AIC=6185.117\n",
      "ARIMA(3, 1, 3) AIC=6176.912\n",
      "Best ARIMA(3, 1, 3) AIC=6176.912\n"
     ]
    },
    {
     "name": "stderr",
     "output_type": "stream",
     "text": [
      "  9%|▉         | 35/370 [11:56<1:54:44, 20.55s/it]"
     ]
    },
    {
     "name": "stdout",
     "output_type": "stream",
     "text": [
      "[83707.69276158512, 83859.98851567536, 83812.27116087693, 83846.89041091752, 83912.9624025676]\n",
      "ARIMA(0, 1, 0) AIC=5865.188\n",
      "ARIMA(2, 1, 2) AIC=5862.856\n",
      "Best ARIMA(2, 1, 2) AIC=5862.856\n"
     ]
    },
    {
     "name": "stderr",
     "output_type": "stream",
     "text": [
      " 10%|▉         | 36/370 [12:18<1:55:36, 20.77s/it]"
     ]
    },
    {
     "name": "stdout",
     "output_type": "stream",
     "text": [
      "[27355.17570748509, 27369.76525072091, 27221.215632992775, 27241.94317588865, 27376.120891003517]\n",
      "ARIMA(0, 1, 0) AIC=7215.256\n",
      "ARIMA(0, 1, 4) AIC=7212.814\n",
      "ARIMA(2, 1, 2) AIC=7206.740\n",
      "ARIMA(2, 1, 4) AIC=7204.825\n",
      "Best ARIMA(2, 1, 4) AIC=7204.825\n"
     ]
    },
    {
     "name": "stderr",
     "output_type": "stream",
     "text": [
      " 10%|█         | 37/370 [12:39<1:56:57, 21.07s/it]"
     ]
    },
    {
     "name": "stdout",
     "output_type": "stream",
     "text": [
      "[206575.35507574672, 206828.25083163255, 207178.18471237912, 207377.0339191438, 207487.59468303475]\n",
      "ARIMA(0, 1, 0) AIC=7986.667\n"
     ]
    },
    {
     "name": "stderr",
     "output_type": "stream",
     "text": [
      " 10%|█         | 38/370 [13:00<1:56:25, 21.04s/it]"
     ]
    },
    {
     "name": "stdout",
     "output_type": "stream",
     "text": [
      "Best ARIMA(0, 1, 0) AIC=7986.667\n",
      "[520000.0, 520000.0, 520000.0, 520000.0, 520000.0]\n",
      "ARIMA(0, 1, 0) AIC=7067.277\n",
      "ARIMA(3, 1, 3) AIC=7066.950\n",
      "ARIMA(4, 1, 4) AIC=7063.235\n",
      "Best ARIMA(4, 1, 4) AIC=7063.235\n"
     ]
    },
    {
     "name": "stderr",
     "output_type": "stream",
     "text": [
      " 11%|█         | 39/370 [1:55:02<16:16:25, 177.00s/it]  "
     ]
    },
    {
     "name": "stdout",
     "output_type": "stream",
     "text": [
      "[93998.83147612364, 94284.34610841691, 93987.60379029656, 93629.42689577943, 93808.45113946246]\n"
     ]
    },
    {
     "name": "stderr",
     "output_type": "stream",
     "text": [
      "\n"
     ]
    },
    {
     "ename": "ConnectionError",
     "evalue": "HTTPSConnectionPool(host='fchart.stock.naver.com', port=443): Max retries exceeded with url: /sise.nhn?timeframe=day&count=6000&requestType=0&symbol=326030 (Caused by NewConnectionError('<urllib3.connection.HTTPSConnection object at 0x00000192B32B8790>: Failed to establish a new connection: [Errno 11001] getaddrinfo failed'))",
     "output_type": "error",
     "traceback": [
      "\u001b[1;31m---------------------------------------------------------------------------\u001b[0m",
      "\u001b[1;31mgaierror\u001b[0m                                  Traceback (most recent call last)",
      "\u001b[1;32m~\\.conda\\envs\\stockpredict\\lib\\site-packages\\urllib3\\connection.py\u001b[0m in \u001b[0;36m_new_conn\u001b[1;34m(self)\u001b[0m\n\u001b[0;32m    168\u001b[0m         \u001b[1;32mtry\u001b[0m\u001b[1;33m:\u001b[0m\u001b[1;33m\u001b[0m\u001b[1;33m\u001b[0m\u001b[0m\n\u001b[1;32m--> 169\u001b[1;33m             conn = connection.create_connection(\n\u001b[0m\u001b[0;32m    170\u001b[0m                 \u001b[1;33m(\u001b[0m\u001b[0mself\u001b[0m\u001b[1;33m.\u001b[0m\u001b[0m_dns_host\u001b[0m\u001b[1;33m,\u001b[0m \u001b[0mself\u001b[0m\u001b[1;33m.\u001b[0m\u001b[0mport\u001b[0m\u001b[1;33m)\u001b[0m\u001b[1;33m,\u001b[0m \u001b[0mself\u001b[0m\u001b[1;33m.\u001b[0m\u001b[0mtimeout\u001b[0m\u001b[1;33m,\u001b[0m \u001b[1;33m**\u001b[0m\u001b[0mextra_kw\u001b[0m\u001b[1;33m\u001b[0m\u001b[1;33m\u001b[0m\u001b[0m\n",
      "\u001b[1;32m~\\.conda\\envs\\stockpredict\\lib\\site-packages\\urllib3\\util\\connection.py\u001b[0m in \u001b[0;36mcreate_connection\u001b[1;34m(address, timeout, source_address, socket_options)\u001b[0m\n\u001b[0;32m     72\u001b[0m \u001b[1;33m\u001b[0m\u001b[0m\n\u001b[1;32m---> 73\u001b[1;33m     \u001b[1;32mfor\u001b[0m \u001b[0mres\u001b[0m \u001b[1;32min\u001b[0m \u001b[0msocket\u001b[0m\u001b[1;33m.\u001b[0m\u001b[0mgetaddrinfo\u001b[0m\u001b[1;33m(\u001b[0m\u001b[0mhost\u001b[0m\u001b[1;33m,\u001b[0m \u001b[0mport\u001b[0m\u001b[1;33m,\u001b[0m \u001b[0mfamily\u001b[0m\u001b[1;33m,\u001b[0m \u001b[0msocket\u001b[0m\u001b[1;33m.\u001b[0m\u001b[0mSOCK_STREAM\u001b[0m\u001b[1;33m)\u001b[0m\u001b[1;33m:\u001b[0m\u001b[1;33m\u001b[0m\u001b[1;33m\u001b[0m\u001b[0m\n\u001b[0m\u001b[0;32m     74\u001b[0m         \u001b[0maf\u001b[0m\u001b[1;33m,\u001b[0m \u001b[0msocktype\u001b[0m\u001b[1;33m,\u001b[0m \u001b[0mproto\u001b[0m\u001b[1;33m,\u001b[0m \u001b[0mcanonname\u001b[0m\u001b[1;33m,\u001b[0m \u001b[0msa\u001b[0m \u001b[1;33m=\u001b[0m \u001b[0mres\u001b[0m\u001b[1;33m\u001b[0m\u001b[1;33m\u001b[0m\u001b[0m\n",
      "\u001b[1;32m~\\.conda\\envs\\stockpredict\\lib\\socket.py\u001b[0m in \u001b[0;36mgetaddrinfo\u001b[1;34m(host, port, family, type, proto, flags)\u001b[0m\n\u001b[0;32m    917\u001b[0m     \u001b[0maddrlist\u001b[0m \u001b[1;33m=\u001b[0m \u001b[1;33m[\u001b[0m\u001b[1;33m]\u001b[0m\u001b[1;33m\u001b[0m\u001b[1;33m\u001b[0m\u001b[0m\n\u001b[1;32m--> 918\u001b[1;33m     \u001b[1;32mfor\u001b[0m \u001b[0mres\u001b[0m \u001b[1;32min\u001b[0m \u001b[0m_socket\u001b[0m\u001b[1;33m.\u001b[0m\u001b[0mgetaddrinfo\u001b[0m\u001b[1;33m(\u001b[0m\u001b[0mhost\u001b[0m\u001b[1;33m,\u001b[0m \u001b[0mport\u001b[0m\u001b[1;33m,\u001b[0m \u001b[0mfamily\u001b[0m\u001b[1;33m,\u001b[0m \u001b[0mtype\u001b[0m\u001b[1;33m,\u001b[0m \u001b[0mproto\u001b[0m\u001b[1;33m,\u001b[0m \u001b[0mflags\u001b[0m\u001b[1;33m)\u001b[0m\u001b[1;33m:\u001b[0m\u001b[1;33m\u001b[0m\u001b[1;33m\u001b[0m\u001b[0m\n\u001b[0m\u001b[0;32m    919\u001b[0m         \u001b[0maf\u001b[0m\u001b[1;33m,\u001b[0m \u001b[0msocktype\u001b[0m\u001b[1;33m,\u001b[0m \u001b[0mproto\u001b[0m\u001b[1;33m,\u001b[0m \u001b[0mcanonname\u001b[0m\u001b[1;33m,\u001b[0m \u001b[0msa\u001b[0m \u001b[1;33m=\u001b[0m \u001b[0mres\u001b[0m\u001b[1;33m\u001b[0m\u001b[1;33m\u001b[0m\u001b[0m\n",
      "\u001b[1;31mgaierror\u001b[0m: [Errno 11001] getaddrinfo failed",
      "\nDuring handling of the above exception, another exception occurred:\n",
      "\u001b[1;31mNewConnectionError\u001b[0m                        Traceback (most recent call last)",
      "\u001b[1;32m~\\.conda\\envs\\stockpredict\\lib\\site-packages\\urllib3\\connectionpool.py\u001b[0m in \u001b[0;36murlopen\u001b[1;34m(self, method, url, body, headers, retries, redirect, assert_same_host, timeout, pool_timeout, release_conn, chunked, body_pos, **response_kw)\u001b[0m\n\u001b[0;32m    698\u001b[0m             \u001b[1;31m# Make the request on the httplib connection object.\u001b[0m\u001b[1;33m\u001b[0m\u001b[1;33m\u001b[0m\u001b[1;33m\u001b[0m\u001b[0m\n\u001b[1;32m--> 699\u001b[1;33m             httplib_response = self._make_request(\n\u001b[0m\u001b[0;32m    700\u001b[0m                 \u001b[0mconn\u001b[0m\u001b[1;33m,\u001b[0m\u001b[1;33m\u001b[0m\u001b[1;33m\u001b[0m\u001b[0m\n",
      "\u001b[1;32m~\\.conda\\envs\\stockpredict\\lib\\site-packages\\urllib3\\connectionpool.py\u001b[0m in \u001b[0;36m_make_request\u001b[1;34m(self, conn, method, url, timeout, chunked, **httplib_request_kw)\u001b[0m\n\u001b[0;32m    381\u001b[0m         \u001b[1;32mtry\u001b[0m\u001b[1;33m:\u001b[0m\u001b[1;33m\u001b[0m\u001b[1;33m\u001b[0m\u001b[0m\n\u001b[1;32m--> 382\u001b[1;33m             \u001b[0mself\u001b[0m\u001b[1;33m.\u001b[0m\u001b[0m_validate_conn\u001b[0m\u001b[1;33m(\u001b[0m\u001b[0mconn\u001b[0m\u001b[1;33m)\u001b[0m\u001b[1;33m\u001b[0m\u001b[1;33m\u001b[0m\u001b[0m\n\u001b[0m\u001b[0;32m    383\u001b[0m         \u001b[1;32mexcept\u001b[0m \u001b[1;33m(\u001b[0m\u001b[0mSocketTimeout\u001b[0m\u001b[1;33m,\u001b[0m \u001b[0mBaseSSLError\u001b[0m\u001b[1;33m)\u001b[0m \u001b[1;32mas\u001b[0m \u001b[0me\u001b[0m\u001b[1;33m:\u001b[0m\u001b[1;33m\u001b[0m\u001b[1;33m\u001b[0m\u001b[0m\n",
      "\u001b[1;32m~\\.conda\\envs\\stockpredict\\lib\\site-packages\\urllib3\\connectionpool.py\u001b[0m in \u001b[0;36m_validate_conn\u001b[1;34m(self, conn)\u001b[0m\n\u001b[0;32m   1009\u001b[0m         \u001b[1;32mif\u001b[0m \u001b[1;32mnot\u001b[0m \u001b[0mgetattr\u001b[0m\u001b[1;33m(\u001b[0m\u001b[0mconn\u001b[0m\u001b[1;33m,\u001b[0m \u001b[1;34m\"sock\"\u001b[0m\u001b[1;33m,\u001b[0m \u001b[1;32mNone\u001b[0m\u001b[1;33m)\u001b[0m\u001b[1;33m:\u001b[0m  \u001b[1;31m# AppEngine might not have  `.sock`\u001b[0m\u001b[1;33m\u001b[0m\u001b[1;33m\u001b[0m\u001b[0m\n\u001b[1;32m-> 1010\u001b[1;33m             \u001b[0mconn\u001b[0m\u001b[1;33m.\u001b[0m\u001b[0mconnect\u001b[0m\u001b[1;33m(\u001b[0m\u001b[1;33m)\u001b[0m\u001b[1;33m\u001b[0m\u001b[1;33m\u001b[0m\u001b[0m\n\u001b[0m\u001b[0;32m   1011\u001b[0m \u001b[1;33m\u001b[0m\u001b[0m\n",
      "\u001b[1;32m~\\.conda\\envs\\stockpredict\\lib\\site-packages\\urllib3\\connection.py\u001b[0m in \u001b[0;36mconnect\u001b[1;34m(self)\u001b[0m\n\u001b[0;32m    352\u001b[0m         \u001b[1;31m# Add certificate verification\u001b[0m\u001b[1;33m\u001b[0m\u001b[1;33m\u001b[0m\u001b[1;33m\u001b[0m\u001b[0m\n\u001b[1;32m--> 353\u001b[1;33m         \u001b[0mconn\u001b[0m \u001b[1;33m=\u001b[0m \u001b[0mself\u001b[0m\u001b[1;33m.\u001b[0m\u001b[0m_new_conn\u001b[0m\u001b[1;33m(\u001b[0m\u001b[1;33m)\u001b[0m\u001b[1;33m\u001b[0m\u001b[1;33m\u001b[0m\u001b[0m\n\u001b[0m\u001b[0;32m    354\u001b[0m         \u001b[0mhostname\u001b[0m \u001b[1;33m=\u001b[0m \u001b[0mself\u001b[0m\u001b[1;33m.\u001b[0m\u001b[0mhost\u001b[0m\u001b[1;33m\u001b[0m\u001b[1;33m\u001b[0m\u001b[0m\n",
      "\u001b[1;32m~\\.conda\\envs\\stockpredict\\lib\\site-packages\\urllib3\\connection.py\u001b[0m in \u001b[0;36m_new_conn\u001b[1;34m(self)\u001b[0m\n\u001b[0;32m    180\u001b[0m         \u001b[1;32mexcept\u001b[0m \u001b[0mSocketError\u001b[0m \u001b[1;32mas\u001b[0m \u001b[0me\u001b[0m\u001b[1;33m:\u001b[0m\u001b[1;33m\u001b[0m\u001b[1;33m\u001b[0m\u001b[0m\n\u001b[1;32m--> 181\u001b[1;33m             raise NewConnectionError(\n\u001b[0m\u001b[0;32m    182\u001b[0m                 \u001b[0mself\u001b[0m\u001b[1;33m,\u001b[0m \u001b[1;34m\"Failed to establish a new connection: %s\"\u001b[0m \u001b[1;33m%\u001b[0m \u001b[0me\u001b[0m\u001b[1;33m\u001b[0m\u001b[1;33m\u001b[0m\u001b[0m\n",
      "\u001b[1;31mNewConnectionError\u001b[0m: <urllib3.connection.HTTPSConnection object at 0x00000192B32B8790>: Failed to establish a new connection: [Errno 11001] getaddrinfo failed",
      "\nDuring handling of the above exception, another exception occurred:\n",
      "\u001b[1;31mMaxRetryError\u001b[0m                             Traceback (most recent call last)",
      "\u001b[1;32m~\\.conda\\envs\\stockpredict\\lib\\site-packages\\requests\\adapters.py\u001b[0m in \u001b[0;36msend\u001b[1;34m(self, request, stream, timeout, verify, cert, proxies)\u001b[0m\n\u001b[0;32m    438\u001b[0m             \u001b[1;32mif\u001b[0m \u001b[1;32mnot\u001b[0m \u001b[0mchunked\u001b[0m\u001b[1;33m:\u001b[0m\u001b[1;33m\u001b[0m\u001b[1;33m\u001b[0m\u001b[0m\n\u001b[1;32m--> 439\u001b[1;33m                 resp = conn.urlopen(\n\u001b[0m\u001b[0;32m    440\u001b[0m                     \u001b[0mmethod\u001b[0m\u001b[1;33m=\u001b[0m\u001b[0mrequest\u001b[0m\u001b[1;33m.\u001b[0m\u001b[0mmethod\u001b[0m\u001b[1;33m,\u001b[0m\u001b[1;33m\u001b[0m\u001b[1;33m\u001b[0m\u001b[0m\n",
      "\u001b[1;32m~\\.conda\\envs\\stockpredict\\lib\\site-packages\\urllib3\\connectionpool.py\u001b[0m in \u001b[0;36murlopen\u001b[1;34m(self, method, url, body, headers, retries, redirect, assert_same_host, timeout, pool_timeout, release_conn, chunked, body_pos, **response_kw)\u001b[0m\n\u001b[0;32m    754\u001b[0m \u001b[1;33m\u001b[0m\u001b[0m\n\u001b[1;32m--> 755\u001b[1;33m             retries = retries.increment(\n\u001b[0m\u001b[0;32m    756\u001b[0m                 \u001b[0mmethod\u001b[0m\u001b[1;33m,\u001b[0m \u001b[0murl\u001b[0m\u001b[1;33m,\u001b[0m \u001b[0merror\u001b[0m\u001b[1;33m=\u001b[0m\u001b[0me\u001b[0m\u001b[1;33m,\u001b[0m \u001b[0m_pool\u001b[0m\u001b[1;33m=\u001b[0m\u001b[0mself\u001b[0m\u001b[1;33m,\u001b[0m \u001b[0m_stacktrace\u001b[0m\u001b[1;33m=\u001b[0m\u001b[0msys\u001b[0m\u001b[1;33m.\u001b[0m\u001b[0mexc_info\u001b[0m\u001b[1;33m(\u001b[0m\u001b[1;33m)\u001b[0m\u001b[1;33m[\u001b[0m\u001b[1;36m2\u001b[0m\u001b[1;33m]\u001b[0m\u001b[1;33m\u001b[0m\u001b[1;33m\u001b[0m\u001b[0m\n",
      "\u001b[1;32m~\\.conda\\envs\\stockpredict\\lib\\site-packages\\urllib3\\util\\retry.py\u001b[0m in \u001b[0;36mincrement\u001b[1;34m(self, method, url, response, error, _pool, _stacktrace)\u001b[0m\n\u001b[0;32m    573\u001b[0m         \u001b[1;32mif\u001b[0m \u001b[0mnew_retry\u001b[0m\u001b[1;33m.\u001b[0m\u001b[0mis_exhausted\u001b[0m\u001b[1;33m(\u001b[0m\u001b[1;33m)\u001b[0m\u001b[1;33m:\u001b[0m\u001b[1;33m\u001b[0m\u001b[1;33m\u001b[0m\u001b[0m\n\u001b[1;32m--> 574\u001b[1;33m             \u001b[1;32mraise\u001b[0m \u001b[0mMaxRetryError\u001b[0m\u001b[1;33m(\u001b[0m\u001b[0m_pool\u001b[0m\u001b[1;33m,\u001b[0m \u001b[0murl\u001b[0m\u001b[1;33m,\u001b[0m \u001b[0merror\u001b[0m \u001b[1;32mor\u001b[0m \u001b[0mResponseError\u001b[0m\u001b[1;33m(\u001b[0m\u001b[0mcause\u001b[0m\u001b[1;33m)\u001b[0m\u001b[1;33m)\u001b[0m\u001b[1;33m\u001b[0m\u001b[1;33m\u001b[0m\u001b[0m\n\u001b[0m\u001b[0;32m    575\u001b[0m \u001b[1;33m\u001b[0m\u001b[0m\n",
      "\u001b[1;31mMaxRetryError\u001b[0m: HTTPSConnectionPool(host='fchart.stock.naver.com', port=443): Max retries exceeded with url: /sise.nhn?timeframe=day&count=6000&requestType=0&symbol=326030 (Caused by NewConnectionError('<urllib3.connection.HTTPSConnection object at 0x00000192B32B8790>: Failed to establish a new connection: [Errno 11001] getaddrinfo failed'))",
      "\nDuring handling of the above exception, another exception occurred:\n",
      "\u001b[1;31mConnectionError\u001b[0m                           Traceback (most recent call last)",
      "\u001b[1;32m<ipython-input-12-48613600df28>\u001b[0m in \u001b[0;36m<module>\u001b[1;34m\u001b[0m\n\u001b[0;32m      6\u001b[0m \u001b[1;33m\u001b[0m\u001b[0m\n\u001b[0;32m      7\u001b[0m \u001b[1;32mfor\u001b[0m \u001b[0mcode\u001b[0m \u001b[1;32min\u001b[0m \u001b[0mtqdm\u001b[0m\u001b[1;33m(\u001b[0m\u001b[0mstock_list\u001b[0m\u001b[1;33m[\u001b[0m\u001b[1;34m'종목코드'\u001b[0m\u001b[1;33m]\u001b[0m\u001b[1;33m.\u001b[0m\u001b[0mvalues\u001b[0m\u001b[1;33m)\u001b[0m\u001b[1;33m:\u001b[0m\u001b[1;33m\u001b[0m\u001b[1;33m\u001b[0m\u001b[0m\n\u001b[1;32m----> 8\u001b[1;33m     \u001b[0mdata\u001b[0m \u001b[1;33m=\u001b[0m \u001b[0mfdr\u001b[0m\u001b[1;33m.\u001b[0m\u001b[0mDataReader\u001b[0m\u001b[1;33m(\u001b[0m\u001b[0mcode\u001b[0m\u001b[1;33m,\u001b[0m \u001b[0mstart\u001b[0m \u001b[1;33m=\u001b[0m \u001b[0mstart_date\u001b[0m\u001b[1;33m,\u001b[0m \u001b[0mend\u001b[0m \u001b[1;33m=\u001b[0m \u001b[0mend_date\u001b[0m\u001b[1;33m)\u001b[0m\u001b[1;33m[\u001b[0m\u001b[1;33m[\u001b[0m\u001b[1;34m'Close'\u001b[0m\u001b[1;33m]\u001b[0m\u001b[1;33m]\u001b[0m\u001b[1;33m.\u001b[0m\u001b[0mreset_index\u001b[0m\u001b[1;33m(\u001b[0m\u001b[1;33m)\u001b[0m\u001b[1;33m\u001b[0m\u001b[1;33m\u001b[0m\u001b[0m\n\u001b[0m\u001b[0;32m      9\u001b[0m     \u001b[0mdata\u001b[0m \u001b[1;33m=\u001b[0m \u001b[0mpd\u001b[0m\u001b[1;33m.\u001b[0m\u001b[0mmerge\u001b[0m\u001b[1;33m(\u001b[0m\u001b[0mBusiness_days\u001b[0m\u001b[1;33m,\u001b[0m \u001b[0mdata\u001b[0m\u001b[1;33m,\u001b[0m \u001b[0mhow\u001b[0m \u001b[1;33m=\u001b[0m \u001b[1;34m'outer'\u001b[0m\u001b[1;33m)\u001b[0m\u001b[1;33m\u001b[0m\u001b[1;33m\u001b[0m\u001b[0m\n\u001b[0;32m     10\u001b[0m     \u001b[0mdata\u001b[0m\u001b[1;33m.\u001b[0m\u001b[0mClose\u001b[0m \u001b[1;33m=\u001b[0m \u001b[0mdata\u001b[0m\u001b[1;33m.\u001b[0m\u001b[0mClose\u001b[0m\u001b[1;33m.\u001b[0m\u001b[0mffill\u001b[0m\u001b[1;33m(\u001b[0m\u001b[1;33m)\u001b[0m\u001b[1;33m\u001b[0m\u001b[1;33m\u001b[0m\u001b[0m\n",
      "\u001b[1;32m~\\.conda\\envs\\stockpredict\\lib\\site-packages\\FinanceDataReader\\data.py\u001b[0m in \u001b[0;36mDataReader\u001b[1;34m(symbol, start, end, exchange, data_source)\u001b[0m\n\u001b[0;32m     31\u001b[0m     \u001b[1;32mif\u001b[0m \u001b[1;33m(\u001b[0m\u001b[0msymbol\u001b[0m\u001b[1;33m[\u001b[0m\u001b[1;33m:\u001b[0m\u001b[1;36m5\u001b[0m\u001b[1;33m]\u001b[0m\u001b[1;33m.\u001b[0m\u001b[0misdigit\u001b[0m\u001b[1;33m(\u001b[0m\u001b[1;33m)\u001b[0m \u001b[1;32mand\u001b[0m \u001b[0mexchange\u001b[0m\u001b[1;33m==\u001b[0m\u001b[1;32mNone\u001b[0m\u001b[1;33m)\u001b[0m \u001b[1;32mor\u001b[0m\u001b[0;31m \u001b[0m\u001b[0;31m\\\u001b[0m\u001b[1;33m\u001b[0m\u001b[1;33m\u001b[0m\u001b[0m\n\u001b[0;32m     32\u001b[0m        \u001b[1;33m(\u001b[0m\u001b[0msymbol\u001b[0m\u001b[1;33m[\u001b[0m\u001b[1;33m:\u001b[0m\u001b[1;36m5\u001b[0m\u001b[1;33m]\u001b[0m\u001b[1;33m.\u001b[0m\u001b[0misdigit\u001b[0m\u001b[1;33m(\u001b[0m\u001b[1;33m)\u001b[0m \u001b[1;32mand\u001b[0m \u001b[0mexchange\u001b[0m \u001b[1;32mand\u001b[0m \u001b[0mexchange\u001b[0m\u001b[1;33m.\u001b[0m\u001b[0mupper\u001b[0m\u001b[1;33m(\u001b[0m\u001b[1;33m)\u001b[0m \u001b[1;32min\u001b[0m \u001b[1;33m[\u001b[0m\u001b[1;34m'KRX'\u001b[0m\u001b[1;33m,\u001b[0m \u001b[1;34m'한국거래소'\u001b[0m\u001b[1;33m]\u001b[0m\u001b[1;33m)\u001b[0m\u001b[1;33m:\u001b[0m\u001b[1;33m\u001b[0m\u001b[1;33m\u001b[0m\u001b[0m\n\u001b[1;32m---> 33\u001b[1;33m         \u001b[1;32mreturn\u001b[0m \u001b[0mNaverDailyReader\u001b[0m\u001b[1;33m(\u001b[0m\u001b[0msymbol\u001b[0m\u001b[1;33m,\u001b[0m \u001b[0mstart\u001b[0m\u001b[1;33m,\u001b[0m \u001b[0mend\u001b[0m\u001b[1;33m,\u001b[0m \u001b[0mexchange\u001b[0m\u001b[1;33m,\u001b[0m \u001b[0mdata_source\u001b[0m\u001b[1;33m)\u001b[0m\u001b[1;33m.\u001b[0m\u001b[0mread\u001b[0m\u001b[1;33m(\u001b[0m\u001b[1;33m)\u001b[0m\u001b[1;33m\u001b[0m\u001b[1;33m\u001b[0m\u001b[0m\n\u001b[0m\u001b[0;32m     34\u001b[0m \u001b[1;33m\u001b[0m\u001b[0m\n\u001b[0;32m     35\u001b[0m     \u001b[1;31m# KRX-DELISTING\u001b[0m\u001b[1;33m\u001b[0m\u001b[1;33m\u001b[0m\u001b[1;33m\u001b[0m\u001b[0m\n",
      "\u001b[1;32m~\\.conda\\envs\\stockpredict\\lib\\site-packages\\FinanceDataReader\\naver\\data.py\u001b[0m in \u001b[0;36mread\u001b[1;34m(self)\u001b[0m\n\u001b[0;32m     14\u001b[0m     \u001b[1;32mdef\u001b[0m \u001b[0mread\u001b[0m\u001b[1;33m(\u001b[0m\u001b[0mself\u001b[0m\u001b[1;33m)\u001b[0m\u001b[1;33m:\u001b[0m\u001b[1;33m\u001b[0m\u001b[1;33m\u001b[0m\u001b[0m\n\u001b[0;32m     15\u001b[0m         \u001b[0murl\u001b[0m \u001b[1;33m=\u001b[0m \u001b[1;34m'https://fchart.stock.naver.com/sise.nhn?timeframe=day&count=6000&requestType=0&symbol='\u001b[0m\u001b[1;33m\u001b[0m\u001b[1;33m\u001b[0m\u001b[0m\n\u001b[1;32m---> 16\u001b[1;33m         \u001b[0mr\u001b[0m \u001b[1;33m=\u001b[0m \u001b[0mrequests\u001b[0m\u001b[1;33m.\u001b[0m\u001b[0mget\u001b[0m\u001b[1;33m(\u001b[0m\u001b[0murl\u001b[0m \u001b[1;33m+\u001b[0m \u001b[0mself\u001b[0m\u001b[1;33m.\u001b[0m\u001b[0msymbol\u001b[0m\u001b[1;33m)\u001b[0m\u001b[1;33m\u001b[0m\u001b[1;33m\u001b[0m\u001b[0m\n\u001b[0m\u001b[0;32m     17\u001b[0m \u001b[1;33m\u001b[0m\u001b[0m\n\u001b[0;32m     18\u001b[0m         \u001b[0mdata_list\u001b[0m \u001b[1;33m=\u001b[0m \u001b[0mre\u001b[0m\u001b[1;33m.\u001b[0m\u001b[0mfindall\u001b[0m\u001b[1;33m(\u001b[0m\u001b[1;34m'<item data=\\\"(.*?)\\\" />'\u001b[0m\u001b[1;33m,\u001b[0m \u001b[0mr\u001b[0m\u001b[1;33m.\u001b[0m\u001b[0mtext\u001b[0m\u001b[1;33m,\u001b[0m \u001b[0mre\u001b[0m\u001b[1;33m.\u001b[0m\u001b[0mDOTALL\u001b[0m\u001b[1;33m)\u001b[0m\u001b[1;33m\u001b[0m\u001b[1;33m\u001b[0m\u001b[0m\n",
      "\u001b[1;32m~\\.conda\\envs\\stockpredict\\lib\\site-packages\\requests\\api.py\u001b[0m in \u001b[0;36mget\u001b[1;34m(url, params, **kwargs)\u001b[0m\n\u001b[0;32m     73\u001b[0m     \"\"\"\n\u001b[0;32m     74\u001b[0m \u001b[1;33m\u001b[0m\u001b[0m\n\u001b[1;32m---> 75\u001b[1;33m     \u001b[1;32mreturn\u001b[0m \u001b[0mrequest\u001b[0m\u001b[1;33m(\u001b[0m\u001b[1;34m'get'\u001b[0m\u001b[1;33m,\u001b[0m \u001b[0murl\u001b[0m\u001b[1;33m,\u001b[0m \u001b[0mparams\u001b[0m\u001b[1;33m=\u001b[0m\u001b[0mparams\u001b[0m\u001b[1;33m,\u001b[0m \u001b[1;33m**\u001b[0m\u001b[0mkwargs\u001b[0m\u001b[1;33m)\u001b[0m\u001b[1;33m\u001b[0m\u001b[1;33m\u001b[0m\u001b[0m\n\u001b[0m\u001b[0;32m     76\u001b[0m \u001b[1;33m\u001b[0m\u001b[0m\n\u001b[0;32m     77\u001b[0m \u001b[1;33m\u001b[0m\u001b[0m\n",
      "\u001b[1;32m~\\.conda\\envs\\stockpredict\\lib\\site-packages\\requests\\api.py\u001b[0m in \u001b[0;36mrequest\u001b[1;34m(method, url, **kwargs)\u001b[0m\n\u001b[0;32m     59\u001b[0m     \u001b[1;31m# cases, and look like a memory leak in others.\u001b[0m\u001b[1;33m\u001b[0m\u001b[1;33m\u001b[0m\u001b[1;33m\u001b[0m\u001b[0m\n\u001b[0;32m     60\u001b[0m     \u001b[1;32mwith\u001b[0m \u001b[0msessions\u001b[0m\u001b[1;33m.\u001b[0m\u001b[0mSession\u001b[0m\u001b[1;33m(\u001b[0m\u001b[1;33m)\u001b[0m \u001b[1;32mas\u001b[0m \u001b[0msession\u001b[0m\u001b[1;33m:\u001b[0m\u001b[1;33m\u001b[0m\u001b[1;33m\u001b[0m\u001b[0m\n\u001b[1;32m---> 61\u001b[1;33m         \u001b[1;32mreturn\u001b[0m \u001b[0msession\u001b[0m\u001b[1;33m.\u001b[0m\u001b[0mrequest\u001b[0m\u001b[1;33m(\u001b[0m\u001b[0mmethod\u001b[0m\u001b[1;33m=\u001b[0m\u001b[0mmethod\u001b[0m\u001b[1;33m,\u001b[0m \u001b[0murl\u001b[0m\u001b[1;33m=\u001b[0m\u001b[0murl\u001b[0m\u001b[1;33m,\u001b[0m \u001b[1;33m**\u001b[0m\u001b[0mkwargs\u001b[0m\u001b[1;33m)\u001b[0m\u001b[1;33m\u001b[0m\u001b[1;33m\u001b[0m\u001b[0m\n\u001b[0m\u001b[0;32m     62\u001b[0m \u001b[1;33m\u001b[0m\u001b[0m\n\u001b[0;32m     63\u001b[0m \u001b[1;33m\u001b[0m\u001b[0m\n",
      "\u001b[1;32m~\\.conda\\envs\\stockpredict\\lib\\site-packages\\requests\\sessions.py\u001b[0m in \u001b[0;36mrequest\u001b[1;34m(self, method, url, params, data, headers, cookies, files, auth, timeout, allow_redirects, proxies, hooks, stream, verify, cert, json)\u001b[0m\n\u001b[0;32m    540\u001b[0m         }\n\u001b[0;32m    541\u001b[0m         \u001b[0msend_kwargs\u001b[0m\u001b[1;33m.\u001b[0m\u001b[0mupdate\u001b[0m\u001b[1;33m(\u001b[0m\u001b[0msettings\u001b[0m\u001b[1;33m)\u001b[0m\u001b[1;33m\u001b[0m\u001b[1;33m\u001b[0m\u001b[0m\n\u001b[1;32m--> 542\u001b[1;33m         \u001b[0mresp\u001b[0m \u001b[1;33m=\u001b[0m \u001b[0mself\u001b[0m\u001b[1;33m.\u001b[0m\u001b[0msend\u001b[0m\u001b[1;33m(\u001b[0m\u001b[0mprep\u001b[0m\u001b[1;33m,\u001b[0m \u001b[1;33m**\u001b[0m\u001b[0msend_kwargs\u001b[0m\u001b[1;33m)\u001b[0m\u001b[1;33m\u001b[0m\u001b[1;33m\u001b[0m\u001b[0m\n\u001b[0m\u001b[0;32m    543\u001b[0m \u001b[1;33m\u001b[0m\u001b[0m\n\u001b[0;32m    544\u001b[0m         \u001b[1;32mreturn\u001b[0m \u001b[0mresp\u001b[0m\u001b[1;33m\u001b[0m\u001b[1;33m\u001b[0m\u001b[0m\n",
      "\u001b[1;32m~\\.conda\\envs\\stockpredict\\lib\\site-packages\\requests\\sessions.py\u001b[0m in \u001b[0;36msend\u001b[1;34m(self, request, **kwargs)\u001b[0m\n\u001b[0;32m    653\u001b[0m \u001b[1;33m\u001b[0m\u001b[0m\n\u001b[0;32m    654\u001b[0m         \u001b[1;31m# Send the request\u001b[0m\u001b[1;33m\u001b[0m\u001b[1;33m\u001b[0m\u001b[1;33m\u001b[0m\u001b[0m\n\u001b[1;32m--> 655\u001b[1;33m         \u001b[0mr\u001b[0m \u001b[1;33m=\u001b[0m \u001b[0madapter\u001b[0m\u001b[1;33m.\u001b[0m\u001b[0msend\u001b[0m\u001b[1;33m(\u001b[0m\u001b[0mrequest\u001b[0m\u001b[1;33m,\u001b[0m \u001b[1;33m**\u001b[0m\u001b[0mkwargs\u001b[0m\u001b[1;33m)\u001b[0m\u001b[1;33m\u001b[0m\u001b[1;33m\u001b[0m\u001b[0m\n\u001b[0m\u001b[0;32m    656\u001b[0m \u001b[1;33m\u001b[0m\u001b[0m\n\u001b[0;32m    657\u001b[0m         \u001b[1;31m# Total elapsed time of the request (approximately)\u001b[0m\u001b[1;33m\u001b[0m\u001b[1;33m\u001b[0m\u001b[1;33m\u001b[0m\u001b[0m\n",
      "\u001b[1;32m~\\.conda\\envs\\stockpredict\\lib\\site-packages\\requests\\adapters.py\u001b[0m in \u001b[0;36msend\u001b[1;34m(self, request, stream, timeout, verify, cert, proxies)\u001b[0m\n\u001b[0;32m    514\u001b[0m                 \u001b[1;32mraise\u001b[0m \u001b[0mSSLError\u001b[0m\u001b[1;33m(\u001b[0m\u001b[0me\u001b[0m\u001b[1;33m,\u001b[0m \u001b[0mrequest\u001b[0m\u001b[1;33m=\u001b[0m\u001b[0mrequest\u001b[0m\u001b[1;33m)\u001b[0m\u001b[1;33m\u001b[0m\u001b[1;33m\u001b[0m\u001b[0m\n\u001b[0;32m    515\u001b[0m \u001b[1;33m\u001b[0m\u001b[0m\n\u001b[1;32m--> 516\u001b[1;33m             \u001b[1;32mraise\u001b[0m \u001b[0mConnectionError\u001b[0m\u001b[1;33m(\u001b[0m\u001b[0me\u001b[0m\u001b[1;33m,\u001b[0m \u001b[0mrequest\u001b[0m\u001b[1;33m=\u001b[0m\u001b[0mrequest\u001b[0m\u001b[1;33m)\u001b[0m\u001b[1;33m\u001b[0m\u001b[1;33m\u001b[0m\u001b[0m\n\u001b[0m\u001b[0;32m    517\u001b[0m \u001b[1;33m\u001b[0m\u001b[0m\n\u001b[0;32m    518\u001b[0m         \u001b[1;32mexcept\u001b[0m \u001b[0mClosedPoolError\u001b[0m \u001b[1;32mas\u001b[0m \u001b[0me\u001b[0m\u001b[1;33m:\u001b[0m\u001b[1;33m\u001b[0m\u001b[1;33m\u001b[0m\u001b[0m\n",
      "\u001b[1;31mConnectionError\u001b[0m: HTTPSConnectionPool(host='fchart.stock.naver.com', port=443): Max retries exceeded with url: /sise.nhn?timeframe=day&count=6000&requestType=0&symbol=326030 (Caused by NewConnectionError('<urllib3.connection.HTTPSConnection object at 0x00000192B32B8790>: Failed to establish a new connection: [Errno 11001] getaddrinfo failed'))"
     ]
    }
   ],
   "source": [
    "# model = LinearRegression()\n",
    "p_values=[0,1,2,3,4]\n",
    "d_values=[1,2]\n",
    "q_values=[0,1,2,3,4]\n",
    "warnings.filterwarnings(\"ignore\")\n",
    "\n",
    "for code in tqdm(stock_list['종목코드'].values):\n",
    "    data = fdr.DataReader(code, start = start_date, end = end_date)[['Close']].reset_index()\n",
    "    data = pd.merge(Business_days, data, how = 'outer')\n",
    "    data.Close = data.Close.ffill()\n",
    "    data.Close = data.Close.bfill()\n",
    "    data.index = data[\"Date\"]\n",
    "    arima_data = data['Close'][:]\n",
    "    # arima_data = list(arima_data)\n",
    "    \n",
    "\n",
    "    predictions=evaluate_models(arima_data,p_values,d_values,q_values)    \n",
    "    predictions=list(predictions)\n",
    "    # print(predictions)\n",
    "    # forecast = get_predict(arima_data) #(0,1,0)인수 나오는것 처리해야함\n",
    "    # predictions = list(forecast)\n",
    "    # print(predictions)\n",
    "\n",
    "    sample_submission.loc[5:9,code] = predictions \n",
    "sample_submission.isna().sum().sum()"
   ]
  },
  {
   "cell_type": "code",
   "execution_count": null,
   "metadata": {},
   "outputs": [],
   "source": [
    "sample_submission.to_csv('Final.csv',index=False)\n",
    "sample_submission"
   ]
  }
 ],
 "metadata": {
  "interpreter": {
   "hash": "b3ba2566441a7c06988d0923437866b63cedc61552a5af99d1f4fb67d367b25f"
  },
  "kernelspec": {
   "display_name": "Python 3.8.8 64-bit ('base': conda)",
   "language": "python",
   "name": "python3"
  },
  "language_info": {
   "codemirror_mode": {
    "name": "ipython",
    "version": 3
   },
   "file_extension": ".py",
   "mimetype": "text/x-python",
   "name": "python",
   "nbconvert_exporter": "python",
   "pygments_lexer": "ipython3",
   "version": "3.8.11"
  },
  "orig_nbformat": 4
 },
 "nbformat": 4,
 "nbformat_minor": 2
}
