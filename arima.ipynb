{
 "cells": [
  {
   "cell_type": "code",
   "execution_count": 3,
   "id": "12f43b20",
   "metadata": {
    "ExecuteTime": {
     "end_time": "2021-11-24T06:32:55.369534Z",
     "start_time": "2021-11-24T06:32:53.906375Z"
    }
   },
   "outputs": [
    {
     "name": "stderr",
     "output_type": "stream",
     "text": [
      "<ipython-input-3-c929ec775ba6>:10: FutureWarning: The pandas.datetime class is deprecated and will be removed from pandas in a future version. Import from datetime module instead.\n",
      "  from pandas import datetime\n"
     ]
    }
   ],
   "source": [
    "import pandas as pd\n",
    "import numpy as np\n",
    "import os\n",
    "import FinanceDataReader as fdr\n",
    "\n",
    "from sklearn.linear_model import LinearRegression\n",
    "from tqdm import tqdm\n",
    "import matplotlib.pyplot as plt\n",
    "from statsmodels.tsa.arima.model import ARIMA\n",
    "from pandas import datetime\n",
    "from pmdarima.arima import auto_arima"
   ]
  },
  {
   "cell_type": "code",
   "execution_count": 4,
   "id": "1a386e34",
   "metadata": {
    "ExecuteTime": {
     "end_time": "2021-11-24T06:32:56.327353Z",
     "start_time": "2021-11-24T06:32:56.290452Z"
    }
   },
   "outputs": [],
   "source": [
    "path = './open'\n",
    "list_name = 'stock_list.csv'\n",
    "sample_name = 'sample_submission.csv'\n",
    "sample_submission = pd.read_csv(os.path.join(path,sample_name))\n",
    "\n",
    "stock_list = pd.read_csv(os.path.join(path,list_name))\n",
    "stock_list['종목코드'] = stock_list['종목코드'].apply(lambda x : str(x).zfill(6))\n"
   ]
  },
  {
   "cell_type": "code",
   "execution_count": 5,
   "id": "9a375903",
   "metadata": {
    "ExecuteTime": {
     "end_time": "2021-11-24T07:03:42.140209Z",
     "start_time": "2021-11-24T07:03:42.113457Z"
    }
   },
   "outputs": [
    {
     "name": "stdout",
     "output_type": "stream",
     "text": [
      "WEEKDAY of \"start_date\" : 6\n",
      "NUM of WEEKS to \"end_date\" : 43\n",
      "HOW MANY \"Business_days\" : (365, 1)\n"
     ]
    },
    {
     "data": {
      "text/html": [
       "<div>\n",
       "<style scoped>\n",
       "    .dataframe tbody tr th:only-of-type {\n",
       "        vertical-align: middle;\n",
       "    }\n",
       "\n",
       "    .dataframe tbody tr th {\n",
       "        vertical-align: top;\n",
       "    }\n",
       "\n",
       "    .dataframe thead th {\n",
       "        text-align: right;\n",
       "    }\n",
       "</style>\n",
       "<table border=\"1\" class=\"dataframe\">\n",
       "  <thead>\n",
       "    <tr style=\"text-align: right;\">\n",
       "      <th></th>\n",
       "      <th>Date</th>\n",
       "    </tr>\n",
       "  </thead>\n",
       "  <tbody>\n",
       "    <tr>\n",
       "      <th>0</th>\n",
       "      <td>2020-06-08</td>\n",
       "    </tr>\n",
       "    <tr>\n",
       "      <th>1</th>\n",
       "      <td>2020-06-09</td>\n",
       "    </tr>\n",
       "    <tr>\n",
       "      <th>2</th>\n",
       "      <td>2020-06-10</td>\n",
       "    </tr>\n",
       "    <tr>\n",
       "      <th>3</th>\n",
       "      <td>2020-06-11</td>\n",
       "    </tr>\n",
       "    <tr>\n",
       "      <th>4</th>\n",
       "      <td>2020-06-12</td>\n",
       "    </tr>\n",
       "  </tbody>\n",
       "</table>\n",
       "</div>"
      ],
      "text/plain": [
       "        Date\n",
       "0 2020-06-08\n",
       "1 2020-06-09\n",
       "2 2020-06-10\n",
       "3 2020-06-11\n",
       "4 2020-06-12"
      ]
     },
     "metadata": {},
     "output_type": "display_data"
    },
    {
     "data": {
      "text/html": [
       "<div>\n",
       "<style scoped>\n",
       "    .dataframe tbody tr th:only-of-type {\n",
       "        vertical-align: middle;\n",
       "    }\n",
       "\n",
       "    .dataframe tbody tr th {\n",
       "        vertical-align: top;\n",
       "    }\n",
       "\n",
       "    .dataframe thead th {\n",
       "        text-align: right;\n",
       "    }\n",
       "</style>\n",
       "<table border=\"1\" class=\"dataframe\">\n",
       "  <thead>\n",
       "    <tr style=\"text-align: right;\">\n",
       "      <th></th>\n",
       "      <th>Date</th>\n",
       "    </tr>\n",
       "  </thead>\n",
       "  <tbody>\n",
       "    <tr>\n",
       "      <th>360</th>\n",
       "      <td>2021-10-25</td>\n",
       "    </tr>\n",
       "    <tr>\n",
       "      <th>361</th>\n",
       "      <td>2021-10-26</td>\n",
       "    </tr>\n",
       "    <tr>\n",
       "      <th>362</th>\n",
       "      <td>2021-10-27</td>\n",
       "    </tr>\n",
       "    <tr>\n",
       "      <th>363</th>\n",
       "      <td>2021-10-28</td>\n",
       "    </tr>\n",
       "    <tr>\n",
       "      <th>364</th>\n",
       "      <td>2021-10-29</td>\n",
       "    </tr>\n",
       "  </tbody>\n",
       "</table>\n",
       "</div>"
      ],
      "text/plain": [
       "          Date\n",
       "360 2021-10-25\n",
       "361 2021-10-26\n",
       "362 2021-10-27\n",
       "363 2021-10-28\n",
       "364 2021-10-29"
      ]
     },
     "metadata": {},
     "output_type": "display_data"
    }
   ],
   "source": [
    "# start_date = '20210101'\n",
    "start_date = '20200607'\n",
    "end_date = '20211031'\n",
    "\n",
    "start_weekday = pd.to_datetime(start_date).weekday()\n",
    "max_weeknum = pd.to_datetime(end_date).strftime('%V')\n",
    "Business_days = pd.DataFrame(pd.date_range(start_date,end_date,freq='B'), columns = ['Date'])\n",
    "\n",
    "print(f'WEEKDAY of \"start_date\" : {start_weekday}')\n",
    "print(f'NUM of WEEKS to \"end_date\" : {max_weeknum}')\n",
    "print(f'HOW MANY \"Business_days\" : {Business_days.shape}', )\n",
    "display(Business_days.head())\n",
    "display(Business_days.tail())\n",
    "\n",
    "sample_submission = pd.read_csv(os.path.join(path,sample_name))"
   ]
  },
  {
   "cell_type": "code",
   "execution_count": 6,
   "id": "0b4dddb1",
   "metadata": {
    "ExecuteTime": {
     "end_time": "2021-11-24T06:55:20.404125Z",
     "start_time": "2021-11-24T06:45:35.386739Z"
    }
   },
   "outputs": [
    {
     "name": "stderr",
     "output_type": "stream",
     "text": [
      "  0%|          | 1/370 [00:16<1:40:41, 16.37s/it]"
     ]
    },
    {
     "name": "stdout",
     "output_type": "stream",
     "text": [
      "[70779.54356190517, 70626.00937177452, 70997.44784087701, 70546.1579610684, 70613.6611725553]\n"
     ]
    },
    {
     "name": "stderr",
     "output_type": "stream",
     "text": [
      "  1%|          | 2/370 [00:39<2:05:48, 20.51s/it]"
     ]
    },
    {
     "name": "stdout",
     "output_type": "stream",
     "text": [
      "[107603.67549241486, 108026.76878418593, 108940.46594206976, 108874.57376992254, 110686.27101148949]\n"
     ]
    },
    {
     "name": "stderr",
     "output_type": "stream",
     "text": [
      "  1%|          | 3/370 [00:56<1:53:52, 18.62s/it]"
     ]
    },
    {
     "name": "stdout",
     "output_type": "stream",
     "text": [
      "[412698.80443633936, 411013.8715024174, 416539.7269053236, 416870.63959749497, 416422.61859123746]\n"
     ]
    },
    {
     "name": "stderr",
     "output_type": "stream",
     "text": [
      "  1%|          | 4/370 [01:01<1:22:09, 13.47s/it]"
     ]
    },
    {
     "name": "stdout",
     "output_type": "stream",
     "text": [
      "[127043.16173710674, 125644.34842574662, 126758.16600362385, 128290.16517384395, 127924.09529792384]\n"
     ]
    },
    {
     "name": "stderr",
     "output_type": "stream",
     "text": [
      "  1%|▏         | 5/370 [01:57<2:55:07, 28.79s/it]"
     ]
    },
    {
     "name": "stdout",
     "output_type": "stream",
     "text": [
      "[895771.551682996, 895502.7480176338, 899002.742980243, 903474.6584291148, 896323.271538725]\n"
     ]
    },
    {
     "name": "stderr",
     "output_type": "stream",
     "text": [
      "  2%|▏         | 6/370 [02:21<2:44:25, 27.10s/it]"
     ]
    },
    {
     "name": "stdout",
     "output_type": "stream",
     "text": [
      "[65191.927705098875, 64824.998423410485, 65260.68307145167, 64967.15342675572, 65108.20495783036]\n"
     ]
    },
    {
     "name": "stderr",
     "output_type": "stream",
     "text": [
      "  2%|▏         | 7/370 [02:29<2:05:18, 20.71s/it]"
     ]
    },
    {
     "name": "stdout",
     "output_type": "stream",
     "text": [
      "[851628.8853839678, 854779.8500974699, 858913.752917783, 857396.4880579368, 861855.848787321]\n"
     ]
    },
    {
     "name": "stderr",
     "output_type": "stream",
     "text": [
      "  2%|▏         | 8/370 [02:38<1:42:46, 17.04s/it]"
     ]
    },
    {
     "name": "stdout",
     "output_type": "stream",
     "text": [
      "[754040.8799393189, 754418.4106836583, 758922.4637779865, 761964.8638426992, 756483.8088241649]\n"
     ]
    },
    {
     "name": "stderr",
     "output_type": "stream",
     "text": [
      "  2%|▏         | 9/370 [02:48<1:29:21, 14.85s/it]"
     ]
    },
    {
     "name": "stdout",
     "output_type": "stream",
     "text": [
      "[210240.10151437818, 211437.3499325476, 211941.9445762796, 212491.8637214525, 210771.67643620426]\n"
     ]
    },
    {
     "name": "stderr",
     "output_type": "stream",
     "text": [
      "  3%|▎         | 10/370 [02:54<1:13:42, 12.28s/it]"
     ]
    },
    {
     "name": "stdout",
     "output_type": "stream",
     "text": [
      "[216779.5129977621, 215125.87608005432, 217429.03004618132, 215405.7711373234, 213459.9375394293]\n"
     ]
    },
    {
     "name": "stderr",
     "output_type": "stream",
     "text": [
      "  3%|▎         | 11/370 [03:10<1:20:17, 13.42s/it]"
     ]
    },
    {
     "name": "stdout",
     "output_type": "stream",
     "text": [
      "[87006.9458015465, 88168.70984731824, 88441.02987538718, 88947.38555409898, 89290.2957379939]\n"
     ]
    },
    {
     "name": "stderr",
     "output_type": "stream",
     "text": [
      "  3%|▎         | 12/370 [03:18<1:09:58, 11.73s/it]"
     ]
    },
    {
     "name": "stdout",
     "output_type": "stream",
     "text": [
      "[297820.68854170706, 302277.6679242835, 303001.7771881239, 299249.56466962636, 296678.71451094747]\n"
     ]
    },
    {
     "name": "stderr",
     "output_type": "stream",
     "text": [
      "  4%|▎         | 13/370 [03:22<55:59,  9.41s/it]  "
     ]
    },
    {
     "name": "stdout",
     "output_type": "stream",
     "text": [
      "[123483.64237429961, 121488.66504223854, 123739.30985318034, 121079.98257442506, 121597.62982200905]\n"
     ]
    },
    {
     "name": "stderr",
     "output_type": "stream",
     "text": [
      "  4%|▍         | 14/370 [04:21<2:23:29, 24.18s/it]"
     ]
    },
    {
     "name": "stdout",
     "output_type": "stream",
     "text": [
      "[116807.94848421602, 116549.94191304834, 117525.93891458654, 116776.97722492128, 114334.54492596265]\n"
     ]
    },
    {
     "name": "stderr",
     "output_type": "stream",
     "text": [
      "  4%|▍         | 15/370 [04:30<1:56:45, 19.73s/it]"
     ]
    },
    {
     "name": "stdout",
     "output_type": "stream",
     "text": [
      "[262815.3212144178, 264464.37553773617, 264878.58970746933, 263976.4022319655, 262098.33398740416]\n"
     ]
    },
    {
     "name": "stderr",
     "output_type": "stream",
     "text": [
      "  4%|▍         | 16/370 [04:36<1:31:35, 15.52s/it]"
     ]
    },
    {
     "name": "stdout",
     "output_type": "stream",
     "text": [
      "[242921.15226837096, 243235.2229672255, 244429.93542034074, 244445.5677709403, 242619.7662642755]\n"
     ]
    },
    {
     "name": "stderr",
     "output_type": "stream",
     "text": [
      "  5%|▍         | 17/370 [04:48<1:26:00, 14.62s/it]"
     ]
    },
    {
     "name": "stdout",
     "output_type": "stream",
     "text": [
      "[1170012.8560592406, 1179117.370574691, 1147113.4361922098, 1077176.9233029287, 1052034.8670944031]\n"
     ]
    },
    {
     "name": "stderr",
     "output_type": "stream",
     "text": [
      "  5%|▍         | 18/370 [05:00<1:21:01, 13.81s/it]"
     ]
    },
    {
     "name": "stdout",
     "output_type": "stream",
     "text": [
      "[317989.43831558386, 316437.4620165185, 316500.0984740667, 316930.59575287305, 316361.4450082676]\n"
     ]
    },
    {
     "name": "stderr",
     "output_type": "stream",
     "text": [
      "  5%|▌         | 19/370 [05:08<1:10:05, 11.98s/it]"
     ]
    },
    {
     "name": "stdout",
     "output_type": "stream",
     "text": [
      "[57932.24211977584, 58288.286006980474, 58373.33880242673, 58214.95184884903, 57994.59301007281]\n"
     ]
    },
    {
     "name": "stderr",
     "output_type": "stream",
     "text": [
      "  5%|▌         | 20/370 [05:30<1:27:14, 14.96s/it]"
     ]
    },
    {
     "name": "stdout",
     "output_type": "stream",
     "text": [
      "[38783.60598069777, 39015.33679051055, 39180.25489059659, 39008.839999541335, 38792.84573301014]\n"
     ]
    },
    {
     "name": "stderr",
     "output_type": "stream",
     "text": [
      "  6%|▌         | 21/370 [06:27<2:41:14, 27.72s/it]"
     ]
    },
    {
     "name": "stdout",
     "output_type": "stream",
     "text": [
      "[246409.02955508692, 247186.56473764713, 247820.4087808136, 246507.2860866626, 242970.12795263514]\n"
     ]
    },
    {
     "name": "stderr",
     "output_type": "stream",
     "text": [
      "  6%|▌         | 22/370 [06:50<2:32:14, 26.25s/it]"
     ]
    },
    {
     "name": "stdout",
     "output_type": "stream",
     "text": [
      "[626017.9190866483, 622868.0883647387, 626591.8504784455, 631062.5783762344, 618454.4973418204]\n"
     ]
    },
    {
     "name": "stderr",
     "output_type": "stream",
     "text": [
      "  6%|▌         | 23/370 [06:57<1:58:39, 20.52s/it]"
     ]
    },
    {
     "name": "stdout",
     "output_type": "stream",
     "text": [
      "[27540.994179126727, 26429.050352340495, 26640.852528583113, 25820.25536586828, 26053.351702027216]\n"
     ]
    },
    {
     "name": "stderr",
     "output_type": "stream",
     "text": [
      "  6%|▋         | 24/370 [07:02<1:31:47, 15.92s/it]"
     ]
    },
    {
     "name": "stdout",
     "output_type": "stream",
     "text": [
      "[22640.903150919334, 22619.727057564087, 22463.39722094122, 22531.21334350129, 22510.977651211422]\n"
     ]
    },
    {
     "name": "stderr",
     "output_type": "stream",
     "text": [
      "  7%|▋         | 25/370 [07:18<1:31:39, 15.94s/it]"
     ]
    },
    {
     "name": "stdout",
     "output_type": "stream",
     "text": [
      "[68930.80340505023, 68864.29622290055, 68852.6742488175, 68484.9452861387, 68295.02826401041]\n"
     ]
    },
    {
     "name": "stderr",
     "output_type": "stream",
     "text": [
      "  7%|▋         | 26/370 [07:29<1:22:32, 14.40s/it]"
     ]
    },
    {
     "name": "stdout",
     "output_type": "stream",
     "text": [
      "[154364.40829308334, 155149.08758755433, 154954.26844921804, 156897.45546397232, 153545.3383449673]\n"
     ]
    },
    {
     "name": "stderr",
     "output_type": "stream",
     "text": [
      "  7%|▋         | 27/370 [07:45<1:23:55, 14.68s/it]"
     ]
    },
    {
     "name": "stdout",
     "output_type": "stream",
     "text": [
      "[166846.95178265075, 165891.51772205599, 168659.2507484075, 167795.5364782152, 171260.24172419094]\n"
     ]
    },
    {
     "name": "stderr",
     "output_type": "stream",
     "text": [
      "  8%|▊         | 28/370 [07:53<1:12:14, 12.67s/it]"
     ]
    },
    {
     "name": "stdout",
     "output_type": "stream",
     "text": [
      "[186133.30354992722, 188426.0317271468, 185902.3965933187, 182263.98766187986, 182993.3741504265]\n"
     ]
    },
    {
     "name": "stderr",
     "output_type": "stream",
     "text": [
      "  8%|▊         | 29/370 [08:02<1:06:29, 11.70s/it]"
     ]
    },
    {
     "name": "stdout",
     "output_type": "stream",
     "text": [
      "[45409.475290850816, 45667.19686965873, 45752.3644719962, 45535.079140451846, 45292.01227339168]\n"
     ]
    },
    {
     "name": "stderr",
     "output_type": "stream",
     "text": [
      "  8%|▊         | 30/370 [08:13<1:05:02, 11.48s/it]"
     ]
    },
    {
     "name": "stdout",
     "output_type": "stream",
     "text": [
      "[125029.3693253768, 124152.02512023682, 124424.47823709823, 124813.2962935723, 122026.315189315]\n"
     ]
    },
    {
     "name": "stderr",
     "output_type": "stream",
     "text": [
      "  8%|▊         | 31/370 [08:17<52:53,  9.36s/it]  "
     ]
    },
    {
     "name": "stdout",
     "output_type": "stream",
     "text": [
      "[143196.03954255732, 142150.04444787125, 141817.07602818203, 139867.79330798748, 139848.86081119635]\n"
     ]
    },
    {
     "name": "stderr",
     "output_type": "stream",
     "text": [
      "  9%|▊         | 32/370 [09:01<1:50:14, 19.57s/it]"
     ]
    },
    {
     "name": "stdout",
     "output_type": "stream",
     "text": [
      "[330365.16826260445, 330151.9758049611, 338527.25599877466, 342457.5327379889, 335329.3665508708]\n"
     ]
    },
    {
     "name": "stderr",
     "output_type": "stream",
     "text": [
      "  9%|▉         | 33/370 [09:13<1:37:43, 17.40s/it]"
     ]
    },
    {
     "name": "stdout",
     "output_type": "stream",
     "text": [
      "[24605.069305646826, 25352.00876304179, 25437.616117054353, 25433.49582077039, 25549.68853517577]\n"
     ]
    },
    {
     "name": "stderr",
     "output_type": "stream",
     "text": [
      "  9%|▉         | 34/370 [09:27<1:30:57, 16.24s/it]"
     ]
    },
    {
     "name": "stdout",
     "output_type": "stream",
     "text": [
      "[99995.53820246662, 102674.13141262934, 102242.94425984379, 103140.12240668718, 100477.22663909994]\n"
     ]
    },
    {
     "name": "stderr",
     "output_type": "stream",
     "text": [
      "  9%|▉         | 35/370 [09:49<1:40:54, 18.07s/it]"
     ]
    },
    {
     "name": "stdout",
     "output_type": "stream",
     "text": [
      "[81710.60899479358, 81965.41712203727, 81888.72922198597, 81606.36507910526, 81242.92141646505]\n"
     ]
    },
    {
     "name": "stderr",
     "output_type": "stream",
     "text": [
      " 10%|▉         | 36/370 [09:54<1:19:19, 14.25s/it]"
     ]
    },
    {
     "name": "stdout",
     "output_type": "stream",
     "text": [
      "[31023.279911101294, 31220.070384874958, 31146.980334327673, 30799.140230612516, 30661.660351059178]\n"
     ]
    },
    {
     "name": "stderr",
     "output_type": "stream",
     "text": [
      " 10%|█         | 37/370 [10:24<1:44:39, 18.86s/it]"
     ]
    },
    {
     "name": "stdout",
     "output_type": "stream",
     "text": [
      "[235514.9566720348, 237932.14065870774, 237909.69115714985, 240808.90861773858, 230436.923559605]\n"
     ]
    },
    {
     "name": "stderr",
     "output_type": "stream",
     "text": [
      " 10%|█         | 38/370 [10:35<1:32:16, 16.68s/it]"
     ]
    },
    {
     "name": "stdout",
     "output_type": "stream",
     "text": [
      "[531347.9712070472, 533638.3519641274, 530123.7545608332, 526968.0279587982, 511878.7917051419]\n"
     ]
    },
    {
     "name": "stderr",
     "output_type": "stream",
     "text": [
      " 11%|█         | 39/370 [10:45<1:19:56, 14.49s/it]"
     ]
    },
    {
     "name": "stdout",
     "output_type": "stream",
     "text": [
      "[101565.45218604212, 103960.17515007955, 105335.26354955703, 105626.83524538361, 104214.17195321467]\n"
     ]
    },
    {
     "name": "stderr",
     "output_type": "stream",
     "text": [
      " 11%|█         | 40/370 [12:11<3:18:20, 36.06s/it]"
     ]
    },
    {
     "name": "stdout",
     "output_type": "stream",
     "text": [
      "[97524.86859455792, 96564.03816608076, 98207.78126605393, 97384.33832719151, 95709.20489736756]\n"
     ]
    },
    {
     "name": "stderr",
     "output_type": "stream",
     "text": [
      " 11%|█         | 41/370 [12:50<3:22:02, 36.85s/it]"
     ]
    },
    {
     "name": "stdout",
     "output_type": "stream",
     "text": [
      "[227280.89610299226, 227718.72470120835, 229116.66576513165, 224814.51558694278, 223199.97619928152]\n"
     ]
    },
    {
     "name": "stderr",
     "output_type": "stream",
     "text": [
      " 11%|█▏        | 42/370 [12:59<2:35:13, 28.40s/it]"
     ]
    },
    {
     "name": "stdout",
     "output_type": "stream",
     "text": [
      "[30727.083719228267, 30506.35713941074, 30533.587154281926, 30642.012008419384, 30521.44858584113]\n"
     ]
    },
    {
     "name": "stderr",
     "output_type": "stream",
     "text": [
      " 12%|█▏        | 43/370 [13:04<1:57:34, 21.57s/it]"
     ]
    },
    {
     "name": "stdout",
     "output_type": "stream",
     "text": [
      "[14777.988204104133, 14656.61216727885, 14783.294685981171, 14708.500623848286, 14511.90671737348]\n"
     ]
    },
    {
     "name": "stderr",
     "output_type": "stream",
     "text": [
      " 12%|█▏        | 44/370 [13:20<1:47:15, 19.74s/it]"
     ]
    },
    {
     "name": "stdout",
     "output_type": "stream",
     "text": [
      "[19994.15409259711, 19983.033246403447, 20142.798041109727, 20092.79804110973, 20610.094086883815]\n"
     ]
    },
    {
     "name": "stderr",
     "output_type": "stream",
     "text": [
      " 12%|█▏        | 45/370 [14:20<2:52:45, 31.89s/it]"
     ]
    },
    {
     "name": "stdout",
     "output_type": "stream",
     "text": [
      "[13294.469975988408, 13327.797350410343, 13554.954942076565, 13690.170446799963, 13648.337451667083]\n"
     ]
    },
    {
     "name": "stderr",
     "output_type": "stream",
     "text": [
      " 12%|█▏        | 46/370 [14:37<2:28:39, 27.53s/it]"
     ]
    },
    {
     "name": "stdout",
     "output_type": "stream",
     "text": [
      "[40848.61147992582, 41003.963579189294, 41971.68101396564, 41392.1578318633, 40622.92052408769]\n"
     ]
    },
    {
     "name": "stderr",
     "output_type": "stream",
     "text": [
      " 13%|█▎        | 47/370 [14:52<2:07:15, 23.64s/it]"
     ]
    },
    {
     "name": "stdout",
     "output_type": "stream",
     "text": [
      "[11258.804131363315, 11331.141229934661, 11367.409273722433, 11414.320107628622, 11385.605687865458]\n"
     ]
    },
    {
     "name": "stderr",
     "output_type": "stream",
     "text": [
      " 13%|█▎        | 48/370 [15:10<1:58:09, 22.02s/it]"
     ]
    },
    {
     "name": "stdout",
     "output_type": "stream",
     "text": [
      "[169098.45650686437, 169665.62514092604, 169253.7016572047, 168494.44388076378, 167837.94117569772]\n"
     ]
    },
    {
     "name": "stderr",
     "output_type": "stream",
     "text": [
      " 13%|█▎        | 49/370 [15:30<1:53:47, 21.27s/it]"
     ]
    },
    {
     "name": "stdout",
     "output_type": "stream",
     "text": [
      "[44183.54057989259, 44673.22533285459, 44928.58821135752, 44637.95948172982, 44448.21295464263]\n"
     ]
    },
    {
     "name": "stderr",
     "output_type": "stream",
     "text": [
      " 14%|█▎        | 50/370 [15:53<1:56:53, 21.92s/it]"
     ]
    },
    {
     "name": "stdout",
     "output_type": "stream",
     "text": [
      "[385760.3531183196, 386969.36140499136, 386813.4824211804, 385588.3588987492, 381380.7359615129]\n"
     ]
    },
    {
     "name": "stderr",
     "output_type": "stream",
     "text": [
      " 14%|█▍        | 51/370 [17:00<3:08:41, 35.49s/it]"
     ]
    },
    {
     "name": "stdout",
     "output_type": "stream",
     "text": [
      "[14599.627770263784, 14572.933050008754, 14434.123533432257, 14698.831415449451, 14575.27245648641]\n"
     ]
    },
    {
     "name": "stderr",
     "output_type": "stream",
     "text": [
      " 14%|█▍        | 52/370 [18:39<4:48:42, 54.47s/it]"
     ]
    },
    {
     "name": "stdout",
     "output_type": "stream",
     "text": [
      "[171029.81428651907, 168989.98662670134, 167393.54937464482, 165900.86588958, 163841.30216730933]\n"
     ]
    },
    {
     "name": "stderr",
     "output_type": "stream",
     "text": [
      " 14%|█▍        | 53/370 [19:12<4:13:58, 48.07s/it]"
     ]
    },
    {
     "name": "stdout",
     "output_type": "stream",
     "text": [
      "[79219.64005144722, 79710.63941896145, 79167.52979496396, 78583.45002124166, 77474.31732723696]\n"
     ]
    },
    {
     "name": "stderr",
     "output_type": "stream",
     "text": [
      " 15%|█▍        | 54/370 [19:49<3:55:40, 44.75s/it]"
     ]
    },
    {
     "name": "stdout",
     "output_type": "stream",
     "text": [
      "[50260.33143719037, 50452.66028792424, 50434.760389345276, 50301.48879306885, 50022.44991049288]\n"
     ]
    },
    {
     "name": "stderr",
     "output_type": "stream",
     "text": [
      " 15%|█▍        | 55/370 [22:29<6:55:45, 79.19s/it]"
     ]
    },
    {
     "name": "stdout",
     "output_type": "stream",
     "text": [
      "[42058.60489406651, 42022.65981541206, 42123.96511527449, 42406.754993946226, 42013.381743352176]\n"
     ]
    },
    {
     "name": "stderr",
     "output_type": "stream",
     "text": [
      " 15%|█▌        | 56/370 [22:51<5:25:18, 62.16s/it]"
     ]
    },
    {
     "name": "stdout",
     "output_type": "stream",
     "text": [
      "[8870.33434102889, 8882.981673701714, 8910.11765516015, 8935.727798701053, 8924.80402561863]\n"
     ]
    },
    {
     "name": "stderr",
     "output_type": "stream",
     "text": [
      " 15%|█▌        | 57/370 [23:06<4:10:14, 47.97s/it]"
     ]
    },
    {
     "name": "stdout",
     "output_type": "stream",
     "text": [
      "[27985.365564015043, 28006.466897159877, 28006.86000399371, 27833.32852070838, 27605.597906530293]\n"
     ]
    },
    {
     "name": "stderr",
     "output_type": "stream",
     "text": [
      " 16%|█▌        | 58/370 [23:45<3:54:43, 45.14s/it]"
     ]
    },
    {
     "name": "stdout",
     "output_type": "stream",
     "text": [
      "[86751.89420465926, 86888.24836385822, 87334.83344588021, 86723.31858237875, 86181.10023505063]\n"
     ]
    },
    {
     "name": "stderr",
     "output_type": "stream",
     "text": [
      " 16%|█▌        | 59/370 [24:19<3:37:51, 42.03s/it]"
     ]
    },
    {
     "name": "stdout",
     "output_type": "stream",
     "text": [
      "[62687.48134575108, 63818.28625593931, 63924.5118035472, 63965.95685017796, 63098.26377482217]\n"
     ]
    },
    {
     "name": "stderr",
     "output_type": "stream",
     "text": [
      " 16%|█▌        | 60/370 [25:22<4:09:53, 48.37s/it]"
     ]
    },
    {
     "name": "stdout",
     "output_type": "stream",
     "text": [
      "[211700.66223863096, 213554.20216437455, 214529.20234667617, 216265.43920286125, 217039.0770574764]\n"
     ]
    },
    {
     "name": "stderr",
     "output_type": "stream",
     "text": [
      " 16%|█▋        | 61/370 [26:07<4:02:46, 47.14s/it]"
     ]
    },
    {
     "name": "stdout",
     "output_type": "stream",
     "text": [
      "[59171.819106959956, 59088.92045724782, 58848.013677717776, 59006.24239897919, 59490.72527176993]\n"
     ]
    },
    {
     "name": "stderr",
     "output_type": "stream",
     "text": [
      " 17%|█▋        | 62/370 [26:44<3:46:09, 44.06s/it]"
     ]
    },
    {
     "name": "stdout",
     "output_type": "stream",
     "text": [
      "[50740.1698705725, 50981.10477325316, 50796.20975558366, 50232.90015276764, 49664.39328036874]\n"
     ]
    },
    {
     "name": "stderr",
     "output_type": "stream",
     "text": [
      " 17%|█▋        | 63/370 [27:15<3:26:34, 40.37s/it]"
     ]
    },
    {
     "name": "stdout",
     "output_type": "stream",
     "text": [
      "[25827.618105584923, 25245.792591635396, 25803.73932053295, 25711.73077905172, 25756.50124219314]\n"
     ]
    },
    {
     "name": "stderr",
     "output_type": "stream",
     "text": [
      " 17%|█▋        | 64/370 [27:43<3:06:38, 36.60s/it]"
     ]
    },
    {
     "name": "stdout",
     "output_type": "stream",
     "text": [
      "[168437.06918044202, 169558.0425452336, 171146.2775160711, 169699.16324542504, 168468.6746383552]\n"
     ]
    },
    {
     "name": "stderr",
     "output_type": "stream",
     "text": [
      " 18%|█▊        | 65/370 [28:27<3:16:27, 38.65s/it]"
     ]
    },
    {
     "name": "stdout",
     "output_type": "stream",
     "text": [
      "[119391.68269160108, 118332.1633878166, 118049.3993306911, 116732.91901176065, 115682.24214267831]\n"
     ]
    },
    {
     "name": "stderr",
     "output_type": "stream",
     "text": [
      " 18%|█▊        | 66/370 [29:45<4:15:40, 50.46s/it]"
     ]
    },
    {
     "name": "stdout",
     "output_type": "stream",
     "text": [
      "[38457.335892181174, 38577.15046346796, 38287.37922009853, 38726.733313119956, 38205.76344185357]\n"
     ]
    },
    {
     "name": "stderr",
     "output_type": "stream",
     "text": [
      " 18%|█▊        | 67/370 [30:16<3:46:30, 44.85s/it]"
     ]
    },
    {
     "name": "stdout",
     "output_type": "stream",
     "text": [
      "[56907.527123805565, 57311.82300483127, 57483.11925653522, 57257.11341027201, 56927.708195382285]\n"
     ]
    },
    {
     "name": "stderr",
     "output_type": "stream",
     "text": [
      " 18%|█▊        | 68/370 [31:19<4:11:50, 50.04s/it]"
     ]
    },
    {
     "name": "stdout",
     "output_type": "stream",
     "text": [
      "[61006.05366281918, 60789.697309361465, 61117.956766772644, 60970.660650097714, 60468.83692457952]\n"
     ]
    },
    {
     "name": "stderr",
     "output_type": "stream",
     "text": [
      " 19%|█▊        | 69/370 [31:41<3:29:18, 41.72s/it]"
     ]
    },
    {
     "name": "stdout",
     "output_type": "stream",
     "text": [
      "[39762.47171950077, 39796.743416015626, 39879.28819458184, 39781.26752277326, 39841.05539779622]\n"
     ]
    },
    {
     "name": "stderr",
     "output_type": "stream",
     "text": [
      " 19%|█▉        | 70/370 [32:23<3:29:18, 41.86s/it]"
     ]
    },
    {
     "name": "stdout",
     "output_type": "stream",
     "text": [
      "[144351.41500107158, 144727.60518211013, 143808.35759483327, 143275.36270252528, 141648.02856473843]\n"
     ]
    },
    {
     "name": "stderr",
     "output_type": "stream",
     "text": [
      " 19%|█▉        | 71/370 [33:52<4:38:35, 55.90s/it]"
     ]
    },
    {
     "name": "stdout",
     "output_type": "stream",
     "text": [
      "[42174.85974719348, 42514.85651428607, 42551.54633684126, 42625.74893638938, 42132.74706944887]\n"
     ]
    },
    {
     "name": "stderr",
     "output_type": "stream",
     "text": [
      " 19%|█▉        | 72/370 [34:04<3:32:34, 42.80s/it]"
     ]
    },
    {
     "name": "stdout",
     "output_type": "stream",
     "text": [
      "[7763.7556130969, 7680.795829720717, 7627.8297851845, 7633.868429281672, 7708.582777564327]\n"
     ]
    },
    {
     "name": "stderr",
     "output_type": "stream",
     "text": [
      " 20%|█▉        | 73/370 [34:38<3:18:19, 40.07s/it]"
     ]
    },
    {
     "name": "stdout",
     "output_type": "stream",
     "text": [
      "[34843.81738964069, 35193.80241075463, 35056.546542119526, 34915.80394862182, 34786.012302837305]\n"
     ]
    },
    {
     "name": "stderr",
     "output_type": "stream",
     "text": [
      " 20%|██        | 74/370 [34:48<2:34:15, 31.27s/it]"
     ]
    },
    {
     "name": "stdout",
     "output_type": "stream",
     "text": [
      "[6054.245946554435, 5810.415707436067, 5757.117519831147, 5686.895885681518, 5695.681806749288]\n"
     ]
    },
    {
     "name": "stderr",
     "output_type": "stream",
     "text": [
      " 20%|██        | 75/370 [35:27<2:44:22, 33.43s/it]"
     ]
    },
    {
     "name": "stdout",
     "output_type": "stream",
     "text": [
      "[33225.89023148186, 33354.53877819467, 33357.796849262006, 33269.41899643992, 33094.124929460144]\n"
     ]
    },
    {
     "name": "stderr",
     "output_type": "stream",
     "text": [
      " 21%|██        | 76/370 [35:59<2:42:36, 33.19s/it]"
     ]
    },
    {
     "name": "stdout",
     "output_type": "stream",
     "text": [
      "[60417.27348113166, 60764.085409678075, 60634.60208560122, 60239.40706332131, 58034.5965776122]\n"
     ]
    },
    {
     "name": "stderr",
     "output_type": "stream",
     "text": [
      " 21%|██        | 77/370 [36:27<2:33:13, 31.38s/it]"
     ]
    },
    {
     "name": "stdout",
     "output_type": "stream",
     "text": [
      "[47731.44050897103, 47835.06223120871, 47925.09026745909, 48058.30159754413, 47778.66065767345]\n"
     ]
    },
    {
     "name": "stderr",
     "output_type": "stream",
     "text": [
      " 21%|██        | 78/370 [38:49<5:14:36, 64.64s/it]"
     ]
    },
    {
     "name": "stdout",
     "output_type": "stream",
     "text": [
      "[268736.6404009378, 267935.8264547995, 268445.98167667526, 266986.56725185394, 264219.3706882465]\n"
     ]
    },
    {
     "name": "stderr",
     "output_type": "stream",
     "text": [
      " 21%|██▏       | 79/370 [39:17<4:20:41, 53.75s/it]"
     ]
    },
    {
     "name": "stdout",
     "output_type": "stream",
     "text": [
      "[99421.01159135155, 99527.46721807598, 100140.17458394343, 100254.36732565542, 100043.96396783504]\n"
     ]
    },
    {
     "name": "stderr",
     "output_type": "stream",
     "text": [
      " 22%|██▏       | 80/370 [39:44<3:40:49, 45.69s/it]"
     ]
    },
    {
     "name": "stdout",
     "output_type": "stream",
     "text": [
      "[608823.4828491362, 601671.7488464885, 599460.9306823948, 602837.0186990715, 592624.3814314506]\n"
     ]
    },
    {
     "name": "stderr",
     "output_type": "stream",
     "text": [
      " 22%|██▏       | 81/370 [40:04<3:03:05, 38.01s/it]"
     ]
    },
    {
     "name": "stdout",
     "output_type": "stream",
     "text": [
      "[41309.26267780246, 41271.58571537918, 41361.85788031692, 41275.02078604655, 41197.29923403659]\n"
     ]
    },
    {
     "name": "stderr",
     "output_type": "stream",
     "text": [
      " 22%|██▏       | 82/370 [40:31<2:46:08, 34.61s/it]"
     ]
    },
    {
     "name": "stdout",
     "output_type": "stream",
     "text": [
      "[102228.24471358453, 102929.26676303126, 102925.29653661368, 104128.92786454644, 103373.51615176102]\n"
     ]
    },
    {
     "name": "stderr",
     "output_type": "stream",
     "text": [
      " 22%|██▏       | 83/370 [41:04<2:43:45, 34.24s/it]"
     ]
    },
    {
     "name": "stdout",
     "output_type": "stream",
     "text": [
      "[32390.91140634866, 32404.064764149938, 32575.70872774234, 32567.290164347072, 32305.191629069686]\n"
     ]
    },
    {
     "name": "stderr",
     "output_type": "stream",
     "text": [
      " 23%|██▎       | 84/370 [41:26<2:25:25, 30.51s/it]"
     ]
    },
    {
     "name": "stdout",
     "output_type": "stream",
     "text": [
      "[87646.08603919182, 88953.54737223682, 88583.49700210366, 87514.61511927993, 86549.72133576941]\n"
     ]
    },
    {
     "name": "stderr",
     "output_type": "stream",
     "text": [
      " 23%|██▎       | 85/370 [42:06<2:38:26, 33.36s/it]"
     ]
    },
    {
     "name": "stdout",
     "output_type": "stream",
     "text": [
      "[13247.567005840549, 13227.615509781372, 13299.90872567318, 13367.090983888209, 13367.11200919736]\n"
     ]
    },
    {
     "name": "stderr",
     "output_type": "stream",
     "text": [
      " 23%|██▎       | 86/370 [42:31<2:26:11, 30.89s/it]"
     ]
    },
    {
     "name": "stdout",
     "output_type": "stream",
     "text": [
      "[69505.10617980703, 68341.37080163973, 69085.29062675571, 69211.98839861553, 69656.67641519563]\n"
     ]
    },
    {
     "name": "stderr",
     "output_type": "stream",
     "text": [
      " 24%|██▎       | 87/370 [43:14<2:42:33, 34.47s/it]"
     ]
    },
    {
     "name": "stdout",
     "output_type": "stream",
     "text": [
      "[24867.48154780213, 25232.395218227546, 25143.523241287352, 25355.132558503195, 25451.625907042027]\n"
     ]
    },
    {
     "name": "stderr",
     "output_type": "stream",
     "text": [
      " 24%|██▍       | 88/370 [43:27<2:11:33, 27.99s/it]"
     ]
    },
    {
     "name": "stdout",
     "output_type": "stream",
     "text": [
      "[120724.0764779929, 124423.5935718546, 123636.97429350067, 125600.65417286583, 125345.74734040168]\n"
     ]
    },
    {
     "name": "stderr",
     "output_type": "stream",
     "text": [
      " 24%|██▍       | 89/370 [43:44<1:55:29, 24.66s/it]"
     ]
    },
    {
     "name": "stdout",
     "output_type": "stream",
     "text": [
      "[270193.62914166535, 268566.3979483885, 269633.6111964541, 268465.87299317535, 267227.93503035844]\n"
     ]
    },
    {
     "name": "stderr",
     "output_type": "stream",
     "text": [
      " 24%|██▍       | 90/370 [43:58<1:40:56, 21.63s/it]"
     ]
    },
    {
     "name": "stdout",
     "output_type": "stream",
     "text": [
      "[4800.227414236152, 4737.705615479755, 4730.96974743568, 4779.198805534975, 4743.305670729518]\n"
     ]
    },
    {
     "name": "stderr",
     "output_type": "stream",
     "text": [
      " 25%|██▍       | 91/370 [44:10<1:26:28, 18.60s/it]"
     ]
    },
    {
     "name": "stdout",
     "output_type": "stream",
     "text": [
      "[57772.371385086866, 56780.588568267514, 56465.944825028215, 56077.939206024676, 56037.7866285525]\n"
     ]
    },
    {
     "name": "stderr",
     "output_type": "stream",
     "text": [
      " 25%|██▍       | 92/370 [44:32<1:31:41, 19.79s/it]"
     ]
    },
    {
     "name": "stdout",
     "output_type": "stream",
     "text": [
      "[74860.15203638244, 76191.37925226433, 75957.893241713, 76256.84252130376, 75591.28474942388]\n"
     ]
    },
    {
     "name": "stderr",
     "output_type": "stream",
     "text": [
      " 25%|██▌       | 93/370 [44:53<1:32:14, 19.98s/it]"
     ]
    },
    {
     "name": "stdout",
     "output_type": "stream",
     "text": [
      "[45010.77471777511, 45299.413870183336, 45364.74200913176, 45464.82230788034, 45740.34171676838]\n"
     ]
    },
    {
     "name": "stderr",
     "output_type": "stream",
     "text": [
      " 25%|██▌       | 94/370 [45:17<1:38:00, 21.30s/it]"
     ]
    },
    {
     "name": "stdout",
     "output_type": "stream",
     "text": [
      "[21312.54462164319, 21183.659384539777, 21403.814162344333, 20908.44967272501, 20834.93047304552]\n"
     ]
    },
    {
     "name": "stderr",
     "output_type": "stream",
     "text": [
      " 26%|██▌       | 95/370 [45:51<1:55:00, 25.09s/it]"
     ]
    },
    {
     "name": "stdout",
     "output_type": "stream",
     "text": [
      "[30460.88558029726, 30410.572139678767, 30519.760068924883, 30558.0555954658, 30390.883098317816]\n"
     ]
    },
    {
     "name": "stderr",
     "output_type": "stream",
     "text": [
      " 26%|██▌       | 96/370 [47:18<3:19:15, 43.63s/it]"
     ]
    },
    {
     "name": "stdout",
     "output_type": "stream",
     "text": [
      "[33036.73878819661, 32741.64063323061, 33178.654869849684, 33141.61654178347, 32812.03199829245]\n"
     ]
    },
    {
     "name": "stderr",
     "output_type": "stream",
     "text": [
      " 26%|██▌       | 97/370 [47:36<2:44:11, 36.09s/it]"
     ]
    },
    {
     "name": "stdout",
     "output_type": "stream",
     "text": [
      "[50627.950933431144, 50863.13334187881, 52341.09794359737, 52970.36113971745, 51512.288625094894]\n"
     ]
    },
    {
     "name": "stderr",
     "output_type": "stream",
     "text": [
      " 26%|██▋       | 98/370 [48:00<2:26:13, 32.26s/it]"
     ]
    },
    {
     "name": "stdout",
     "output_type": "stream",
     "text": [
      "[37525.38886196466, 37659.96672244253, 37400.44903164205, 37548.58078046193, 37049.59568202567]\n"
     ]
    },
    {
     "name": "stderr",
     "output_type": "stream",
     "text": [
      " 27%|██▋       | 99/370 [48:15<2:03:01, 27.24s/it]"
     ]
    },
    {
     "name": "stdout",
     "output_type": "stream",
     "text": [
      "[17264.72288865455, 17384.787903898836, 17319.642214870808, 16999.542109632297, 17395.01049379529]\n"
     ]
    },
    {
     "name": "stderr",
     "output_type": "stream",
     "text": [
      " 27%|██▋       | 100/370 [48:44<2:04:42, 27.71s/it]"
     ]
    },
    {
     "name": "stdout",
     "output_type": "stream",
     "text": [
      "[103937.55456348897, 104907.03889605167, 104820.37297328269, 104253.6893091439, 103816.52246350245]\n"
     ]
    },
    {
     "name": "stderr",
     "output_type": "stream",
     "text": [
      " 27%|██▋       | 101/370 [49:20<2:15:45, 30.28s/it]"
     ]
    },
    {
     "name": "stdout",
     "output_type": "stream",
     "text": [
      "[108184.25557230118, 107919.47376507458, 108316.53728702113, 108607.44880541698, 107188.36291322958]\n"
     ]
    },
    {
     "name": "stderr",
     "output_type": "stream",
     "text": [
      " 28%|██▊       | 102/370 [49:39<1:58:55, 26.62s/it]"
     ]
    },
    {
     "name": "stdout",
     "output_type": "stream",
     "text": [
      "[6422.627460301871, 6404.186300019679, 6409.463314239464, 6433.284417039031, 6381.056447665803]\n"
     ]
    },
    {
     "name": "stderr",
     "output_type": "stream",
     "text": [
      " 28%|██▊       | 103/370 [50:11<2:06:04, 28.33s/it]"
     ]
    },
    {
     "name": "stdout",
     "output_type": "stream",
     "text": [
      "[85392.37299926371, 85399.22044366362, 85166.32965440389, 86636.93092558385, 85371.79480807233]\n"
     ]
    },
    {
     "name": "stderr",
     "output_type": "stream",
     "text": [
      " 28%|██▊       | 104/370 [52:51<5:01:01, 67.90s/it]"
     ]
    },
    {
     "name": "stdout",
     "output_type": "stream",
     "text": [
      "[34978.6946452782, 35225.921413295306, 35378.08440179096, 35843.6135423578, 35775.03844425342]\n"
     ]
    },
    {
     "name": "stderr",
     "output_type": "stream",
     "text": [
      " 28%|██▊       | 105/370 [53:06<3:49:53, 52.05s/it]"
     ]
    },
    {
     "name": "stdout",
     "output_type": "stream",
     "text": [
      "[125687.52285279319, 125849.39241390376, 127252.63249773806, 125191.42589381388, 123277.97080422407]\n"
     ]
    },
    {
     "name": "stderr",
     "output_type": "stream",
     "text": [
      " 29%|██▊       | 106/370 [53:19<2:57:24, 40.32s/it]"
     ]
    },
    {
     "name": "stdout",
     "output_type": "stream",
     "text": [
      "[3419.2846510373697, 3445.577938008823, 3468.0831158259502, 3458.7456129236452, 3426.380325583684]\n"
     ]
    },
    {
     "name": "stderr",
     "output_type": "stream",
     "text": [
      " 29%|██▉       | 107/370 [54:02<3:00:12, 41.11s/it]"
     ]
    },
    {
     "name": "stdout",
     "output_type": "stream",
     "text": [
      "[340016.39761360676, 339566.2274481401, 340675.7830942537, 342377.7521867113, 342762.8607324641]\n"
     ]
    },
    {
     "name": "stderr",
     "output_type": "stream",
     "text": [
      " 29%|██▉       | 108/370 [54:39<2:54:31, 39.97s/it]"
     ]
    },
    {
     "name": "stdout",
     "output_type": "stream",
     "text": [
      "[333513.5339739326, 337403.0315392065, 338991.46910622244, 338863.3247484701, 339159.96862728515]\n"
     ]
    },
    {
     "name": "stderr",
     "output_type": "stream",
     "text": [
      " 29%|██▉       | 109/370 [55:39<3:19:06, 45.77s/it]"
     ]
    },
    {
     "name": "stdout",
     "output_type": "stream",
     "text": [
      "[390258.61313206406, 391159.18523709296, 394460.22757698555, 393527.7914396241, 393447.66497433814]\n"
     ]
    },
    {
     "name": "stderr",
     "output_type": "stream",
     "text": [
      " 30%|██▉       | 110/370 [56:09<2:58:11, 41.12s/it]"
     ]
    },
    {
     "name": "stdout",
     "output_type": "stream",
     "text": [
      "[28662.30912172709, 28684.233080883732, 28985.83590893711, 29060.741006670043, 28806.83600758845]\n"
     ]
    },
    {
     "name": "stderr",
     "output_type": "stream",
     "text": [
      " 30%|███       | 111/370 [56:51<2:59:07, 41.50s/it]"
     ]
    },
    {
     "name": "stdout",
     "output_type": "stream",
     "text": [
      "[186684.58189527114, 190263.74469168944, 187890.7860317769, 188134.0214232465, 187197.89503904575]\n"
     ]
    },
    {
     "name": "stderr",
     "output_type": "stream",
     "text": [
      " 30%|███       | 112/370 [57:09<2:28:13, 34.47s/it]"
     ]
    },
    {
     "name": "stdout",
     "output_type": "stream",
     "text": [
      "[62975.870318637244, 64266.60855560487, 64683.00672066195, 65511.49718047744, 65500.8543695149]\n"
     ]
    },
    {
     "name": "stderr",
     "output_type": "stream",
     "text": [
      " 31%|███       | 113/370 [58:06<2:55:53, 41.06s/it]"
     ]
    },
    {
     "name": "stdout",
     "output_type": "stream",
     "text": [
      "[24394.945200691956, 24525.68117733901, 24793.766555416503, 24922.920098644918, 24762.558405589843]\n"
     ]
    },
    {
     "name": "stderr",
     "output_type": "stream",
     "text": [
      " 31%|███       | 114/370 [58:47<2:55:46, 41.20s/it]"
     ]
    },
    {
     "name": "stdout",
     "output_type": "stream",
     "text": [
      "[165884.83439858168, 163825.50329160038, 162230.8885287066, 162847.1540453735, 159197.85116806845]\n"
     ]
    },
    {
     "name": "stderr",
     "output_type": "stream",
     "text": [
      " 31%|███       | 115/370 [1:01:30<5:29:47, 77.60s/it]"
     ]
    },
    {
     "name": "stdout",
     "output_type": "stream",
     "text": [
      "[101600.06759633301, 103224.445278423, 99772.59389013908, 97738.10137112322, 97604.1378048452]\n"
     ]
    },
    {
     "name": "stderr",
     "output_type": "stream",
     "text": [
      " 31%|███▏      | 116/370 [1:02:41<5:20:47, 75.78s/it]"
     ]
    },
    {
     "name": "stdout",
     "output_type": "stream",
     "text": [
      "[58986.647019613265, 58906.78497981138, 59463.844411205246, 59224.60865766564, 59995.8547765479]\n"
     ]
    },
    {
     "name": "stderr",
     "output_type": "stream",
     "text": [
      " 32%|███▏      | 117/370 [1:02:56<4:02:09, 57.43s/it]"
     ]
    },
    {
     "name": "stdout",
     "output_type": "stream",
     "text": [
      "[711341.2299066387, 738393.2650610105, 729567.3192943124, 722997.693590133, 731239.5384278444]\n"
     ]
    },
    {
     "name": "stderr",
     "output_type": "stream",
     "text": [
      " 32%|███▏      | 118/370 [1:03:22<3:21:47, 48.05s/it]"
     ]
    },
    {
     "name": "stdout",
     "output_type": "stream",
     "text": [
      "[249525.97429240544, 254718.2076924816, 254333.48653730174, 251068.11875550137, 248902.6177717531]\n"
     ]
    },
    {
     "name": "stderr",
     "output_type": "stream",
     "text": [
      " 32%|███▏      | 119/370 [1:03:38<2:39:59, 38.24s/it]"
     ]
    },
    {
     "name": "stdout",
     "output_type": "stream",
     "text": [
      "[23015.586354501353, 22981.33700792357, 23051.20972094581, 22859.76167719293, 22815.563833540687]\n"
     ]
    },
    {
     "name": "stderr",
     "output_type": "stream",
     "text": [
      " 32%|███▏      | 120/370 [1:04:14<2:36:44, 37.62s/it]"
     ]
    },
    {
     "name": "stdout",
     "output_type": "stream",
     "text": [
      "[98185.56237453043, 98157.90942167235, 98491.07404979912, 98883.00758407924, 98322.68329009172]\n"
     ]
    },
    {
     "name": "stderr",
     "output_type": "stream",
     "text": [
      " 33%|███▎      | 121/370 [1:04:33<2:12:55, 32.03s/it]"
     ]
    },
    {
     "name": "stdout",
     "output_type": "stream",
     "text": [
      "[87132.34911829051, 89177.09291280218, 88779.04245213816, 88726.36245549406, 89088.30400386985]\n"
     ]
    },
    {
     "name": "stderr",
     "output_type": "stream",
     "text": [
      " 33%|███▎      | 122/370 [1:05:05<2:13:20, 32.26s/it]"
     ]
    },
    {
     "name": "stdout",
     "output_type": "stream",
     "text": [
      "[80777.62468833063, 83490.02795131975, 82022.3156250149, 76578.44876217554, 73311.03605810134]\n"
     ]
    },
    {
     "name": "stderr",
     "output_type": "stream",
     "text": [
      " 33%|███▎      | 123/370 [1:05:31<2:04:52, 30.33s/it]"
     ]
    },
    {
     "name": "stdout",
     "output_type": "stream",
     "text": [
      "[44608.192136299185, 44650.72470936964, 44920.542349417214, 44707.9824595695, 44442.06680927573]\n"
     ]
    },
    {
     "name": "stderr",
     "output_type": "stream",
     "text": [
      " 34%|███▎      | 124/370 [1:05:55<1:56:28, 28.41s/it]"
     ]
    },
    {
     "name": "stdout",
     "output_type": "stream",
     "text": [
      "[104534.63253872395, 103990.20067621117, 103599.00827184113, 103237.56753896414, 102919.52936621939]\n"
     ]
    },
    {
     "name": "stderr",
     "output_type": "stream",
     "text": [
      " 34%|███▍      | 125/370 [1:06:08<1:36:57, 23.74s/it]"
     ]
    },
    {
     "name": "stdout",
     "output_type": "stream",
     "text": [
      "[9019.203526535479, 9033.338788592602, 9018.861893725152, 9121.73734740608, 9036.99496138379]\n"
     ]
    },
    {
     "name": "stderr",
     "output_type": "stream",
     "text": [
      " 34%|███▍      | 126/370 [1:06:28<1:31:48, 22.58s/it]"
     ]
    },
    {
     "name": "stdout",
     "output_type": "stream",
     "text": [
      "[102951.4402967604, 102951.47883892195, 102950.5836351075, 102950.44205492476, 102955.7453206291]\n"
     ]
    },
    {
     "name": "stderr",
     "output_type": "stream",
     "text": [
      " 34%|███▍      | 127/370 [1:07:04<1:47:38, 26.58s/it]"
     ]
    },
    {
     "name": "stdout",
     "output_type": "stream",
     "text": [
      "[35495.53493903899, 36021.66424364583, 35835.462685386614, 35310.81699814992, 35086.990264443244]\n"
     ]
    },
    {
     "name": "stderr",
     "output_type": "stream",
     "text": [
      " 35%|███▍      | 128/370 [1:07:21<1:36:11, 23.85s/it]"
     ]
    },
    {
     "name": "stdout",
     "output_type": "stream",
     "text": [
      "[62618.55794186586, 63307.579090221625, 63098.36768429335, 63031.439369235355, 62147.9560201683]\n"
     ]
    },
    {
     "name": "stderr",
     "output_type": "stream",
     "text": [
      " 35%|███▍      | 129/370 [1:08:26<2:24:42, 36.03s/it]"
     ]
    },
    {
     "name": "stdout",
     "output_type": "stream",
     "text": [
      "[26927.37046428089, 27344.989349647665, 27517.824363434178, 27773.73640204466, 26965.987040189568]\n"
     ]
    },
    {
     "name": "stderr",
     "output_type": "stream",
     "text": [
      " 35%|███▌      | 130/370 [1:10:06<3:41:09, 55.29s/it]"
     ]
    },
    {
     "name": "stdout",
     "output_type": "stream",
     "text": [
      "[34775.19589511611, 35046.58150656325, 35266.50108655768, 34810.25907458311, 34884.87346913736]\n"
     ]
    },
    {
     "name": "stderr",
     "output_type": "stream",
     "text": [
      " 35%|███▌      | 131/370 [1:10:36<3:10:18, 47.77s/it]"
     ]
    },
    {
     "name": "stdout",
     "output_type": "stream",
     "text": [
      "[2340.5724303304137, 2333.9985023103322, 2353.044625297125, 2335.1013087176425, 2327.303735555414]\n"
     ]
    },
    {
     "name": "stderr",
     "output_type": "stream",
     "text": [
      " 36%|███▌      | 132/370 [1:11:21<3:05:32, 46.78s/it]"
     ]
    },
    {
     "name": "stdout",
     "output_type": "stream",
     "text": [
      "[2224.7099396872613, 2222.085890731738, 2219.186833997912, 2216.2948768832052, 2230.1819508452313]\n"
     ]
    },
    {
     "name": "stderr",
     "output_type": "stream",
     "text": [
      " 36%|███▌      | 133/370 [1:11:43<2:36:19, 39.58s/it]"
     ]
    },
    {
     "name": "stdout",
     "output_type": "stream",
     "text": [
      "[89914.36592994707, 89456.18268910672, 89872.6721725135, 90161.45843356704, 89312.78081191627]\n"
     ]
    },
    {
     "name": "stderr",
     "output_type": "stream",
     "text": [
      " 36%|███▌      | 134/370 [1:12:37<2:52:23, 43.83s/it]"
     ]
    },
    {
     "name": "stdout",
     "output_type": "stream",
     "text": [
      "[48194.30847988913, 48531.8476813832, 48426.24345207794, 48580.338791641145, 48327.581374269685]\n"
     ]
    },
    {
     "name": "stderr",
     "output_type": "stream",
     "text": [
      " 36%|███▋      | 135/370 [1:13:33<3:05:48, 47.44s/it]"
     ]
    },
    {
     "name": "stdout",
     "output_type": "stream",
     "text": [
      "[39703.652620867, 39687.90200327732, 39768.04692731976, 39597.77733219554, 39604.833048690285]\n"
     ]
    },
    {
     "name": "stderr",
     "output_type": "stream",
     "text": [
      " 37%|███▋      | 136/370 [1:13:56<2:36:46, 40.20s/it]"
     ]
    },
    {
     "name": "stdout",
     "output_type": "stream",
     "text": [
      "[34029.55101015459, 34104.37360441685, 34070.12651669757, 33993.159797009714, 34379.90241787391]\n"
     ]
    },
    {
     "name": "stderr",
     "output_type": "stream",
     "text": [
      " 37%|███▋      | 137/370 [1:14:45<2:45:38, 42.65s/it]"
     ]
    },
    {
     "name": "stdout",
     "output_type": "stream",
     "text": [
      "[73819.1290518473, 76281.711667423, 77952.19190310028, 78098.79544437383, 78498.80275327581]\n"
     ]
    },
    {
     "name": "stderr",
     "output_type": "stream",
     "text": [
      " 37%|███▋      | 138/370 [1:15:02<2:15:51, 35.14s/it]"
     ]
    },
    {
     "name": "stdout",
     "output_type": "stream",
     "text": [
      "[26916.15534197997, 26563.961698297775, 26350.332143730688, 26210.38640160128, 25935.846324554048]\n"
     ]
    },
    {
     "name": "stderr",
     "output_type": "stream",
     "text": [
      " 38%|███▊      | 139/370 [1:15:18<1:52:19, 29.18s/it]"
     ]
    },
    {
     "name": "stdout",
     "output_type": "stream",
     "text": [
      "[25743.197519921254, 25688.423706631664, 26058.11086467309, 25867.698882503413, 25488.09337306422]\n"
     ]
    },
    {
     "name": "stderr",
     "output_type": "stream",
     "text": [
      " 38%|███▊      | 140/370 [1:15:33<1:35:42, 24.97s/it]"
     ]
    },
    {
     "name": "stdout",
     "output_type": "stream",
     "text": [
      "[17273.941270845044, 17151.694605635108, 17262.47849670873, 17251.21675623795, 17239.808978823985]\n"
     ]
    },
    {
     "name": "stderr",
     "output_type": "stream",
     "text": [
      " 38%|███▊      | 141/370 [1:16:00<1:38:05, 25.70s/it]"
     ]
    },
    {
     "name": "stdout",
     "output_type": "stream",
     "text": [
      "[286617.9331752888, 286360.59527497465, 285619.4321840914, 284575.2486770011, 280855.3420997715]\n"
     ]
    },
    {
     "name": "stderr",
     "output_type": "stream",
     "text": [
      " 38%|███▊      | 142/370 [1:16:19<1:30:05, 23.71s/it]"
     ]
    },
    {
     "name": "stdout",
     "output_type": "stream",
     "text": [
      "[5528.013566040433, 5590.153482356998, 5543.97826348397, 5612.638124648428, 5569.9096873238295]\n"
     ]
    },
    {
     "name": "stderr",
     "output_type": "stream",
     "text": [
      " 39%|███▊      | 143/370 [1:17:11<2:01:03, 32.00s/it]"
     ]
    },
    {
     "name": "stdout",
     "output_type": "stream",
     "text": [
      "[483578.8804274917, 484773.3889313902, 486220.8820504868, 485815.09447750915, 482757.87660936016]\n"
     ]
    },
    {
     "name": "stderr",
     "output_type": "stream",
     "text": [
      " 39%|███▉      | 144/370 [1:17:33<1:49:06, 28.97s/it]"
     ]
    },
    {
     "name": "stdout",
     "output_type": "stream",
     "text": [
      "[42551.97559007891, 42970.64519292053, 42708.419554465625, 42982.26897418425, 42881.76922647435]\n"
     ]
    },
    {
     "name": "stderr",
     "output_type": "stream",
     "text": [
      " 39%|███▉      | 145/370 [1:17:59<1:46:00, 28.27s/it]"
     ]
    },
    {
     "name": "stdout",
     "output_type": "stream",
     "text": [
      "[61403.62611453609, 61462.998226435135, 61349.482500311395, 61610.73201569544, 61101.88147001887]\n"
     ]
    },
    {
     "name": "stderr",
     "output_type": "stream",
     "text": [
      " 39%|███▉      | 146/370 [1:18:48<2:08:42, 34.47s/it]"
     ]
    },
    {
     "name": "stdout",
     "output_type": "stream",
     "text": [
      "[144671.3615257379, 144360.90911234697, 143311.5511612704, 143008.12745413816, 143374.81244793357]\n"
     ]
    },
    {
     "name": "stderr",
     "output_type": "stream",
     "text": [
      " 40%|███▉      | 147/370 [1:19:48<2:36:28, 42.10s/it]"
     ]
    },
    {
     "name": "stdout",
     "output_type": "stream",
     "text": [
      "[83602.05616078681, 85831.33534410821, 85256.88833213042, 85236.13424409818, 84020.74267626987]\n"
     ]
    },
    {
     "name": "stderr",
     "output_type": "stream",
     "text": [
      " 40%|████      | 148/370 [1:20:40<2:46:26, 44.99s/it]"
     ]
    },
    {
     "name": "stdout",
     "output_type": "stream",
     "text": [
      "[33156.43980913183, 32925.25735915894, 32771.4224261812, 32790.2892107078, 32679.252836832162]\n"
     ]
    },
    {
     "name": "stderr",
     "output_type": "stream",
     "text": [
      " 40%|████      | 149/370 [1:21:02<2:20:48, 38.23s/it]"
     ]
    },
    {
     "name": "stdout",
     "output_type": "stream",
     "text": [
      "[84620.69766581318, 84933.49994609559, 85005.91394264944, 85169.48038605759, 84458.16158292686]\n"
     ]
    },
    {
     "name": "stderr",
     "output_type": "stream",
     "text": [
      " 41%|████      | 150/370 [1:21:15<1:52:33, 30.70s/it]"
     ]
    },
    {
     "name": "stdout",
     "output_type": "stream",
     "text": [
      "[10072.520670629554, 10079.504405294338, 10087.770179383946, 10085.519177225891, 10104.073493595588]\n"
     ]
    },
    {
     "name": "stderr",
     "output_type": "stream",
     "text": [
      " 41%|████      | 151/370 [1:21:34<1:38:48, 27.07s/it]"
     ]
    },
    {
     "name": "stdout",
     "output_type": "stream",
     "text": [
      "[80386.47527283497, 82133.48062913484, 82701.53340382445, 83805.24744344642, 82391.14134968886]\n"
     ]
    },
    {
     "name": "stderr",
     "output_type": "stream",
     "text": [
      " 41%|████      | 152/370 [1:21:55<1:31:38, 25.22s/it]"
     ]
    },
    {
     "name": "stdout",
     "output_type": "stream",
     "text": [
      "[46065.30078537492, 46348.257122524294, 46190.081178029446, 46268.321491394934, 46043.025320309396]\n"
     ]
    },
    {
     "name": "stderr",
     "output_type": "stream",
     "text": [
      " 41%|████▏     | 153/370 [1:22:36<1:48:52, 30.10s/it]"
     ]
    },
    {
     "name": "stdout",
     "output_type": "stream",
     "text": [
      "[184554.30880433987, 181964.18010507434, 181419.04170689473, 179404.7299082838, 177539.88482691714]\n"
     ]
    },
    {
     "name": "stderr",
     "output_type": "stream",
     "text": [
      " 42%|████▏     | 154/370 [1:23:01<1:42:34, 28.49s/it]"
     ]
    },
    {
     "name": "stdout",
     "output_type": "stream",
     "text": [
      "[16846.85715451628, 16866.065140799987, 17082.524418596964, 16923.660172427375, 16823.62315340435]\n"
     ]
    },
    {
     "name": "stderr",
     "output_type": "stream",
     "text": [
      " 42%|████▏     | 155/370 [1:23:43<1:56:54, 32.63s/it]"
     ]
    },
    {
     "name": "stdout",
     "output_type": "stream",
     "text": [
      "[45907.87206614334, 45996.65093371308, 46104.2208492449, 46040.24388561001, 45755.590370909376]\n"
     ]
    },
    {
     "name": "stderr",
     "output_type": "stream",
     "text": [
      " 42%|████▏     | 156/370 [1:24:01<1:40:53, 28.29s/it]"
     ]
    },
    {
     "name": "stdout",
     "output_type": "stream",
     "text": [
      "[11471.942219373976, 11512.250225337857, 11378.566531481627, 11352.47421046081, 11062.65739445545]\n"
     ]
    },
    {
     "name": "stderr",
     "output_type": "stream",
     "text": [
      " 42%|████▏     | 157/370 [1:24:49<2:01:17, 34.17s/it]"
     ]
    },
    {
     "name": "stdout",
     "output_type": "stream",
     "text": [
      "[102443.46066527755, 105103.17690855195, 105717.7915244817, 106569.5928498927, 105237.55133647929]\n"
     ]
    },
    {
     "name": "stderr",
     "output_type": "stream",
     "text": [
      " 43%|████▎     | 158/370 [1:25:28<2:05:18, 35.47s/it]"
     ]
    },
    {
     "name": "stdout",
     "output_type": "stream",
     "text": [
      "[29227.95782411059, 29498.27259498574, 29634.357566838542, 29781.65690180363, 29163.60782822323]\n"
     ]
    },
    {
     "name": "stderr",
     "output_type": "stream",
     "text": [
      " 43%|████▎     | 159/370 [1:25:46<1:46:29, 30.28s/it]"
     ]
    },
    {
     "name": "stdout",
     "output_type": "stream",
     "text": [
      "[75378.29828702877, 75945.58617899287, 73090.14349230524, 73541.31252471649, 73403.9610456867]\n"
     ]
    },
    {
     "name": "stderr",
     "output_type": "stream",
     "text": [
      " 43%|████▎     | 160/370 [1:26:03<1:32:16, 26.36s/it]"
     ]
    },
    {
     "name": "stdout",
     "output_type": "stream",
     "text": [
      "[32693.713196687186, 34119.512000329465, 34671.07733028697, 35084.49075173214, 34294.53256378778]\n"
     ]
    },
    {
     "name": "stderr",
     "output_type": "stream",
     "text": [
      " 44%|████▎     | 161/370 [1:26:36<1:38:01, 28.14s/it]"
     ]
    },
    {
     "name": "stdout",
     "output_type": "stream",
     "text": [
      "[5194.44626093922, 5221.5822348280435, 5210.052594568328, 5191.1729728327355, 5231.759537947824]\n"
     ]
    },
    {
     "name": "stderr",
     "output_type": "stream",
     "text": [
      " 44%|████▍     | 162/370 [1:26:50<1:23:02, 23.96s/it]"
     ]
    },
    {
     "name": "stdout",
     "output_type": "stream",
     "text": [
      "[10754.494398933213, 10895.48342610045, 11002.062844822938, 11017.977872714728, 10766.59977749132]\n"
     ]
    },
    {
     "name": "stderr",
     "output_type": "stream",
     "text": [
      " 44%|████▍     | 163/370 [1:27:39<1:48:51, 31.55s/it]"
     ]
    },
    {
     "name": "stdout",
     "output_type": "stream",
     "text": [
      "[74180.36281626354, 74126.52609912457, 73908.34573489273, 73640.80498451204, 73341.73992017838]\n"
     ]
    },
    {
     "name": "stderr",
     "output_type": "stream",
     "text": [
      " 44%|████▍     | 164/370 [1:27:59<1:36:22, 28.07s/it]"
     ]
    },
    {
     "name": "stdout",
     "output_type": "stream",
     "text": [
      "[9079.857236384869, 9121.584036953751, 9149.673363295144, 9166.544251042927, 9077.356171134526]\n"
     ]
    },
    {
     "name": "stderr",
     "output_type": "stream",
     "text": [
      " 45%|████▍     | 165/370 [1:28:35<1:44:29, 30.58s/it]"
     ]
    },
    {
     "name": "stdout",
     "output_type": "stream",
     "text": [
      "[30595.07584933633, 30431.662496741035, 30344.724385836806, 30219.922424009503, 30570.99007800176]\n"
     ]
    },
    {
     "name": "stderr",
     "output_type": "stream",
     "text": [
      " 45%|████▍     | 166/370 [1:29:23<2:01:22, 35.70s/it]"
     ]
    },
    {
     "name": "stdout",
     "output_type": "stream",
     "text": [
      "[117595.78991936616, 117843.9436167337, 117883.64464994213, 116925.24183396247, 115959.56510639089]\n"
     ]
    },
    {
     "name": "stderr",
     "output_type": "stream",
     "text": [
      " 45%|████▌     | 167/370 [1:30:07<2:09:16, 38.21s/it]"
     ]
    },
    {
     "name": "stdout",
     "output_type": "stream",
     "text": [
      "[13556.427987195792, 13382.091118147084, 13283.640427075552, 13245.434653319158, 13241.487382600828]\n"
     ]
    },
    {
     "name": "stderr",
     "output_type": "stream",
     "text": [
      " 45%|████▌     | 168/370 [1:31:54<3:17:37, 58.70s/it]"
     ]
    },
    {
     "name": "stdout",
     "output_type": "stream",
     "text": [
      "[589357.2830810907, 595951.3267373221, 587046.9576908238, 564170.109879049, 540145.6873401485]\n"
     ]
    },
    {
     "name": "stderr",
     "output_type": "stream",
     "text": [
      " 46%|████▌     | 169/370 [1:32:09<2:33:23, 45.79s/it]"
     ]
    },
    {
     "name": "stdout",
     "output_type": "stream",
     "text": [
      "[5676.23645089184, 5701.249163573848, 5694.889623585505, 5722.416721801826, 5719.820730921643]\n"
     ]
    },
    {
     "name": "stderr",
     "output_type": "stream",
     "text": [
      " 46%|████▌     | 170/370 [1:32:29<2:06:22, 37.91s/it]"
     ]
    },
    {
     "name": "stdout",
     "output_type": "stream",
     "text": [
      "[128680.3126967433, 127804.10292599669, 126827.7983392152, 126868.82402111618, 124073.06911632775]\n"
     ]
    },
    {
     "name": "stderr",
     "output_type": "stream",
     "text": [
      " 46%|████▌     | 171/370 [1:32:45<1:43:38, 31.25s/it]"
     ]
    },
    {
     "name": "stdout",
     "output_type": "stream",
     "text": [
      "[103229.14761561964, 103229.7839361502, 103228.93122980658, 103231.23211974655, 103231.27050368994]\n"
     ]
    },
    {
     "name": "stderr",
     "output_type": "stream",
     "text": [
      " 46%|████▋     | 172/370 [1:33:02<1:29:08, 27.01s/it]"
     ]
    },
    {
     "name": "stdout",
     "output_type": "stream",
     "text": [
      "[24069.81384239436, 24074.49777465262, 24107.203904474318, 24039.723191828678, 24154.791249001562]\n"
     ]
    },
    {
     "name": "stderr",
     "output_type": "stream",
     "text": [
      " 47%|████▋     | 173/370 [1:33:46<1:45:33, 32.15s/it]"
     ]
    },
    {
     "name": "stdout",
     "output_type": "stream",
     "text": [
      "[167865.91432443718, 170051.90392992855, 167436.23595934128, 166095.9744066771, 165084.13892383242]\n"
     ]
    },
    {
     "name": "stderr",
     "output_type": "stream",
     "text": [
      " 47%|████▋     | 174/370 [1:34:25<1:52:19, 34.39s/it]"
     ]
    },
    {
     "name": "stdout",
     "output_type": "stream",
     "text": [
      "[106881.97699457617, 106812.61029034338, 106731.18225670313, 106684.70007908186, 106700.38126302067]\n"
     ]
    },
    {
     "name": "stderr",
     "output_type": "stream",
     "text": [
      " 47%|████▋     | 175/370 [1:34:41<1:32:58, 28.61s/it]"
     ]
    },
    {
     "name": "stdout",
     "output_type": "stream",
     "text": [
      "[20460.27231805215, 20693.125106461983, 20528.369791852143, 20042.08217258866, 19949.93950284529]\n"
     ]
    },
    {
     "name": "stderr",
     "output_type": "stream",
     "text": [
      " 48%|████▊     | 176/370 [1:35:00<1:23:24, 25.80s/it]"
     ]
    },
    {
     "name": "stdout",
     "output_type": "stream",
     "text": [
      "[64517.51333022749, 64098.99335971486, 65753.21147870283, 64994.76628001155, 65265.77886952201]\n"
     ]
    },
    {
     "name": "stderr",
     "output_type": "stream",
     "text": [
      " 48%|████▊     | 177/370 [1:36:52<2:46:17, 51.70s/it]"
     ]
    },
    {
     "name": "stdout",
     "output_type": "stream",
     "text": [
      "[27534.54922499878, 27430.710929919376, 27516.367071715544, 27474.042192488832, 27455.416181252458]\n"
     ]
    },
    {
     "name": "stderr",
     "output_type": "stream",
     "text": [
      " 48%|████▊     | 178/370 [1:37:11<2:13:43, 41.79s/it]"
     ]
    },
    {
     "name": "stdout",
     "output_type": "stream",
     "text": [
      "[297173.1396423465, 293176.75472738984, 289395.84646000044, 288957.26351474214, 290686.67341281974]\n"
     ]
    },
    {
     "name": "stderr",
     "output_type": "stream",
     "text": [
      " 48%|████▊     | 179/370 [1:37:27<1:48:39, 34.13s/it]"
     ]
    },
    {
     "name": "stdout",
     "output_type": "stream",
     "text": [
      "[13094.73623829749, 13090.245371710851, 13094.234488089616, 13086.159260294462, 13110.339842396861]\n"
     ]
    },
    {
     "name": "stderr",
     "output_type": "stream",
     "text": [
      " 49%|████▊     | 180/370 [1:39:58<3:39:07, 69.20s/it]"
     ]
    },
    {
     "name": "stdout",
     "output_type": "stream",
     "text": [
      "[693823.0886104257, 703837.037660664, 707485.9919118662, 701206.515909448, 685910.1122940396]\n"
     ]
    },
    {
     "name": "stderr",
     "output_type": "stream",
     "text": [
      " 49%|████▉     | 181/370 [1:40:12<2:45:59, 52.69s/it]"
     ]
    },
    {
     "name": "stdout",
     "output_type": "stream",
     "text": [
      "[13749.851616561893, 13768.569202860434, 13788.57828229859, 13837.598364975775, 13931.289963142775]\n"
     ]
    },
    {
     "name": "stderr",
     "output_type": "stream",
     "text": [
      " 49%|████▉     | 182/370 [1:41:21<3:00:39, 57.66s/it]"
     ]
    },
    {
     "name": "stdout",
     "output_type": "stream",
     "text": [
      "[45663.54613879025, 45911.61803358145, 45669.757224351815, 45432.28134458677, 44896.8349243731]\n"
     ]
    },
    {
     "name": "stderr",
     "output_type": "stream",
     "text": [
      " 49%|████▉     | 183/370 [1:41:43<2:26:17, 46.94s/it]"
     ]
    },
    {
     "name": "stdout",
     "output_type": "stream",
     "text": [
      "[158725.9029777543, 158652.8431420605, 157548.10361327673, 159184.8735588183, 158223.39159730214]\n"
     ]
    },
    {
     "name": "stderr",
     "output_type": "stream",
     "text": [
      " 50%|████▉     | 184/370 [1:41:58<1:55:36, 37.29s/it]"
     ]
    },
    {
     "name": "stdout",
     "output_type": "stream",
     "text": [
      "[83065.82534333554, 83992.8386706453, 85179.11122902947, 84966.90924921139, 85049.75432154043]\n"
     ]
    },
    {
     "name": "stderr",
     "output_type": "stream",
     "text": [
      " 50%|█████     | 185/370 [1:43:11<2:27:40, 47.89s/it]"
     ]
    },
    {
     "name": "stdout",
     "output_type": "stream",
     "text": [
      "[60216.93250744117, 60272.88851715744, 59956.190864880795, 60264.698678217515, 59780.788389700654]\n"
     ]
    },
    {
     "name": "stderr",
     "output_type": "stream",
     "text": [
      " 50%|█████     | 186/370 [1:43:33<2:03:14, 40.19s/it]"
     ]
    },
    {
     "name": "stdout",
     "output_type": "stream",
     "text": [
      "[87849.79263767357, 87077.71535426237, 87802.40702778885, 86954.79946149295, 86284.30100370584]\n"
     ]
    },
    {
     "name": "stderr",
     "output_type": "stream",
     "text": [
      " 51%|█████     | 187/370 [1:45:33<3:16:10, 64.32s/it]"
     ]
    },
    {
     "name": "stdout",
     "output_type": "stream",
     "text": [
      "[78940.56484766555, 78310.17447795522, 79528.82002322355, 81492.93833055445, 80812.74627343245]\n"
     ]
    },
    {
     "name": "stderr",
     "output_type": "stream",
     "text": [
      " 51%|█████     | 188/370 [1:45:52<2:33:30, 50.61s/it]"
     ]
    },
    {
     "name": "stdout",
     "output_type": "stream",
     "text": [
      "[406428.05953028053, 408494.740667789, 410459.1331800525, 411353.79078681313, 408890.6212480207]\n"
     ]
    },
    {
     "name": "stderr",
     "output_type": "stream",
     "text": [
      " 51%|█████     | 189/370 [1:46:27<2:18:17, 45.84s/it]"
     ]
    },
    {
     "name": "stdout",
     "output_type": "stream",
     "text": [
      "[120815.16477349929, 119813.96212291822, 121549.91269410105, 120087.83543245307, 118939.66088459635]\n"
     ]
    },
    {
     "name": "stderr",
     "output_type": "stream",
     "text": [
      " 51%|█████▏    | 190/370 [1:48:06<3:05:41, 61.89s/it]"
     ]
    },
    {
     "name": "stdout",
     "output_type": "stream",
     "text": [
      "[108752.46454139768, 104523.2988696845, 109955.52383570012, 111037.31899956866, 110069.82418053076]\n"
     ]
    },
    {
     "name": "stderr",
     "output_type": "stream",
     "text": [
      " 52%|█████▏    | 191/370 [1:48:38<2:38:07, 53.00s/it]"
     ]
    },
    {
     "name": "stdout",
     "output_type": "stream",
     "text": [
      "[386640.9731039183, 386095.8929753835, 386797.46902634244, 387393.06339335215, 384478.69369393797]\n"
     ]
    },
    {
     "name": "stderr",
     "output_type": "stream",
     "text": [
      " 52%|█████▏    | 192/370 [1:48:59<2:08:33, 43.33s/it]"
     ]
    },
    {
     "name": "stdout",
     "output_type": "stream",
     "text": [
      "[42278.37354512685, 41723.78177713072, 40944.32390814813, 38810.51554218933, 38969.50103603614]\n"
     ]
    },
    {
     "name": "stderr",
     "output_type": "stream",
     "text": [
      " 52%|█████▏    | 193/370 [1:49:38<2:03:49, 41.98s/it]"
     ]
    },
    {
     "name": "stdout",
     "output_type": "stream",
     "text": [
      "[52762.18328834244, 51475.640459645816, 51141.345451584355, 50438.881375483696, 49736.420667985905]\n"
     ]
    },
    {
     "name": "stderr",
     "output_type": "stream",
     "text": [
      " 52%|█████▏    | 194/370 [1:50:37<2:18:16, 47.14s/it]"
     ]
    },
    {
     "name": "stdout",
     "output_type": "stream",
     "text": [
      "[179378.0096528783, 179401.28635843203, 178876.86055201353, 176836.80707392812, 175036.81702343308]\n"
     ]
    },
    {
     "name": "stderr",
     "output_type": "stream",
     "text": [
      " 53%|█████▎    | 195/370 [1:50:59<1:55:11, 39.49s/it]"
     ]
    },
    {
     "name": "stdout",
     "output_type": "stream",
     "text": [
      "[70652.87710749697, 70299.57241763025, 70619.4454783914, 69903.36763169, 68962.72719573927]\n"
     ]
    },
    {
     "name": "stderr",
     "output_type": "stream",
     "text": [
      " 53%|█████▎    | 196/370 [1:51:36<1:52:37, 38.84s/it]"
     ]
    },
    {
     "name": "stdout",
     "output_type": "stream",
     "text": [
      "[182842.64499328236, 183481.11665932598, 186234.9606618013, 187693.28527876153, 185030.2817630229]\n"
     ]
    },
    {
     "name": "stderr",
     "output_type": "stream",
     "text": [
      " 53%|█████▎    | 197/370 [1:52:05<1:43:29, 35.89s/it]"
     ]
    },
    {
     "name": "stdout",
     "output_type": "stream",
     "text": [
      "[185043.3410921142, 185598.1913191969, 185534.49487785436, 185780.9238878838, 183443.96892066824]\n"
     ]
    },
    {
     "name": "stderr",
     "output_type": "stream",
     "text": [
      " 54%|█████▎    | 198/370 [1:52:44<1:45:16, 36.72s/it]"
     ]
    },
    {
     "name": "stdout",
     "output_type": "stream",
     "text": [
      "[88100.15244094274, 86408.37121311542, 86599.95984111947, 85312.14600774412, 84409.80035626411]\n"
     ]
    },
    {
     "name": "stderr",
     "output_type": "stream",
     "text": [
      " 54%|█████▍    | 199/370 [1:53:11<1:36:17, 33.79s/it]"
     ]
    },
    {
     "name": "stdout",
     "output_type": "stream",
     "text": [
      "[175756.92450719955, 174872.35112090933, 176665.1294268069, 176222.50570585782, 177812.1569131134]\n"
     ]
    },
    {
     "name": "stderr",
     "output_type": "stream",
     "text": [
      " 54%|█████▍    | 200/370 [1:58:13<5:23:37, 114.22s/it]"
     ]
    },
    {
     "name": "stdout",
     "output_type": "stream",
     "text": [
      "[264253.31961673714, 262127.77223622293, 264640.70183023653, 268323.19195525354, 267117.9386955889]\n"
     ]
    },
    {
     "name": "stderr",
     "output_type": "stream",
     "text": [
      " 54%|█████▍    | 201/370 [1:58:40<4:08:01, 88.06s/it] "
     ]
    },
    {
     "name": "stdout",
     "output_type": "stream",
     "text": [
      "[41427.99413841764, 41350.674200267895, 41479.1488667974, 41456.54586090827, 41683.41919415389]\n"
     ]
    },
    {
     "name": "stderr",
     "output_type": "stream",
     "text": [
      " 55%|█████▍    | 202/370 [1:59:02<3:11:19, 68.33s/it]"
     ]
    },
    {
     "name": "stdout",
     "output_type": "stream",
     "text": [
      "[126690.45093227449, 124509.94706924738, 124916.5771853128, 124569.48054811009, 123919.75097566599]\n"
     ]
    },
    {
     "name": "stderr",
     "output_type": "stream",
     "text": [
      " 55%|█████▍    | 203/370 [1:59:36<2:41:50, 58.15s/it]"
     ]
    },
    {
     "name": "stdout",
     "output_type": "stream",
     "text": [
      "[282935.12466795853, 285420.37277848064, 287467.36405904335, 287521.630813434, 285918.7793722518]\n"
     ]
    },
    {
     "name": "stderr",
     "output_type": "stream",
     "text": [
      " 55%|█████▌    | 204/370 [2:00:10<2:20:20, 50.72s/it]"
     ]
    },
    {
     "name": "stdout",
     "output_type": "stream",
     "text": [
      "[41651.118139488644, 42369.29328874135, 42287.67984426758, 41979.620630369085, 41711.23221641098]\n"
     ]
    },
    {
     "name": "stderr",
     "output_type": "stream",
     "text": [
      " 55%|█████▌    | 205/370 [2:00:32<1:56:09, 42.24s/it]"
     ]
    },
    {
     "name": "stdout",
     "output_type": "stream",
     "text": [
      "[68652.5474439488, 67799.71867977556, 68474.78389685611, 68255.4473779431, 67900.35474360548]\n"
     ]
    },
    {
     "name": "stderr",
     "output_type": "stream",
     "text": [
      " 56%|█████▌    | 206/370 [2:00:48<1:33:54, 34.36s/it]"
     ]
    },
    {
     "name": "stdout",
     "output_type": "stream",
     "text": [
      "[112513.28618897239, 110119.70381990576, 110918.0450015222, 111401.98725810977, 114983.44412819816]\n"
     ]
    },
    {
     "name": "stderr",
     "output_type": "stream",
     "text": [
      " 56%|█████▌    | 207/370 [2:01:06<1:20:05, 29.48s/it]"
     ]
    },
    {
     "name": "stdout",
     "output_type": "stream",
     "text": [
      "[87926.79831112595, 85562.76750891462, 86783.97674431867, 86109.84122855705, 87184.49177233779]\n"
     ]
    },
    {
     "name": "stderr",
     "output_type": "stream",
     "text": [
      " 56%|█████▌    | 208/370 [2:02:31<2:04:37, 46.16s/it]"
     ]
    },
    {
     "name": "stdout",
     "output_type": "stream",
     "text": [
      "[20727.38592472761, 19256.58795478902, 19594.87927539435, 19855.492750687823, 19521.26554861816]\n"
     ]
    },
    {
     "name": "stderr",
     "output_type": "stream",
     "text": [
      " 56%|█████▋    | 209/370 [2:03:00<1:49:34, 40.84s/it]"
     ]
    },
    {
     "name": "stdout",
     "output_type": "stream",
     "text": [
      "[19119.679206225897, 19035.673807190193, 19067.888153458018, 19102.36195035577, 19015.104179157745]\n"
     ]
    },
    {
     "name": "stderr",
     "output_type": "stream",
     "text": [
      " 57%|█████▋    | 210/370 [2:03:51<1:57:18, 43.99s/it]"
     ]
    },
    {
     "name": "stdout",
     "output_type": "stream",
     "text": [
      "[125920.68414017165, 128686.42056821652, 130711.12757007458, 127888.26721381703, 126909.15502625449]\n"
     ]
    },
    {
     "name": "stderr",
     "output_type": "stream",
     "text": [
      " 57%|█████▋    | 211/370 [2:04:16<1:41:40, 38.37s/it]"
     ]
    },
    {
     "name": "stdout",
     "output_type": "stream",
     "text": [
      "[47586.61785644802, 47311.49031358513, 47406.69331678215, 47372.44114106014, 47304.38177196942]\n"
     ]
    },
    {
     "name": "stderr",
     "output_type": "stream",
     "text": [
      " 57%|█████▋    | 212/370 [2:04:39<1:28:36, 33.65s/it]"
     ]
    },
    {
     "name": "stdout",
     "output_type": "stream",
     "text": [
      "[17936.11278898714, 18079.377635854406, 18032.869390926215, 17865.758911529534, 17904.278442086827]\n"
     ]
    },
    {
     "name": "stderr",
     "output_type": "stream",
     "text": [
      " 58%|█████▊    | 213/370 [2:05:11<1:26:59, 33.25s/it]"
     ]
    },
    {
     "name": "stdout",
     "output_type": "stream",
     "text": [
      "[35342.398685349894, 35279.762397608276, 35500.922785673116, 35759.76663465867, 35613.30228898303]\n"
     ]
    },
    {
     "name": "stderr",
     "output_type": "stream",
     "text": [
      " 58%|█████▊    | 214/370 [2:05:28<1:13:14, 28.17s/it]"
     ]
    },
    {
     "name": "stdout",
     "output_type": "stream",
     "text": [
      "[82257.92594002424, 85389.2394909168, 85398.65806626799, 84064.47742204867, 80869.73949586385]\n"
     ]
    },
    {
     "name": "stderr",
     "output_type": "stream",
     "text": [
      " 58%|█████▊    | 215/370 [2:06:04<1:19:28, 30.77s/it]"
     ]
    },
    {
     "name": "stdout",
     "output_type": "stream",
     "text": [
      "[176121.92519678944, 176742.98882447998, 179999.60634620933, 180697.78599323798, 180713.05091802325]\n"
     ]
    },
    {
     "name": "stderr",
     "output_type": "stream",
     "text": [
      " 58%|█████▊    | 216/370 [2:06:36<1:19:51, 31.11s/it]"
     ]
    },
    {
     "name": "stdout",
     "output_type": "stream",
     "text": [
      "[126237.31903956583, 124308.51272399303, 128684.44025630406, 130115.53481448142, 126899.42917234842]\n"
     ]
    },
    {
     "name": "stderr",
     "output_type": "stream",
     "text": [
      " 59%|█████▊    | 217/370 [2:07:14<1:24:07, 32.99s/it]"
     ]
    },
    {
     "name": "stdout",
     "output_type": "stream",
     "text": [
      "[20032.65453503099, 19919.925196643773, 20257.830840917104, 19950.030613503535, 19960.21187618028]\n"
     ]
    },
    {
     "name": "stderr",
     "output_type": "stream",
     "text": [
      " 59%|█████▉    | 218/370 [2:08:09<1:40:52, 39.82s/it]"
     ]
    },
    {
     "name": "stdout",
     "output_type": "stream",
     "text": [
      "[35591.32978954347, 35456.17154952065, 35687.22610614901, 35326.832056563886, 35205.21500089295]\n"
     ]
    },
    {
     "name": "stderr",
     "output_type": "stream",
     "text": [
      " 59%|█████▉    | 219/370 [2:08:25<1:21:49, 32.51s/it]"
     ]
    },
    {
     "name": "stdout",
     "output_type": "stream",
     "text": [
      "[52106.745852476684, 50718.407737348825, 51286.273332478995, 52043.22164700632, 51333.66612409863]\n"
     ]
    },
    {
     "name": "stderr",
     "output_type": "stream",
     "text": [
      " 59%|█████▉    | 220/370 [2:08:48<1:14:03, 29.62s/it]"
     ]
    },
    {
     "name": "stdout",
     "output_type": "stream",
     "text": [
      "[77400.6025293694, 77457.03609187112, 78719.34764581645, 79954.46331829957, 79433.52501585975]\n"
     ]
    },
    {
     "name": "stderr",
     "output_type": "stream",
     "text": [
      " 60%|█████▉    | 221/370 [2:09:05<1:04:21, 25.92s/it]"
     ]
    },
    {
     "name": "stdout",
     "output_type": "stream",
     "text": [
      "[20911.377377079123, 20510.982759445393, 20799.360427250216, 20762.984570718567, 20729.94404087895]\n"
     ]
    },
    {
     "name": "stderr",
     "output_type": "stream",
     "text": [
      " 60%|██████    | 222/370 [2:09:26<1:00:23, 24.49s/it]"
     ]
    },
    {
     "name": "stdout",
     "output_type": "stream",
     "text": [
      "[52536.44645021233, 52179.80835172272, 54141.871152868, 55991.63002477163, 55846.87674605978]\n"
     ]
    },
    {
     "name": "stderr",
     "output_type": "stream",
     "text": [
      " 60%|██████    | 223/370 [2:09:49<58:53, 24.03s/it]  "
     ]
    },
    {
     "name": "stdout",
     "output_type": "stream",
     "text": [
      "[22929.56901493997, 22573.95200050774, 23351.41462400735, 23298.24647325932, 23351.230501823105]\n"
     ]
    },
    {
     "name": "stderr",
     "output_type": "stream",
     "text": [
      " 61%|██████    | 224/370 [2:10:22<1:05:14, 26.81s/it]"
     ]
    },
    {
     "name": "stdout",
     "output_type": "stream",
     "text": [
      "[35787.072037243626, 35985.78007698895, 36219.81771607613, 35772.20519892437, 35671.59150425423]\n"
     ]
    },
    {
     "name": "stderr",
     "output_type": "stream",
     "text": [
      " 61%|██████    | 225/370 [2:10:56<1:09:45, 28.87s/it]"
     ]
    },
    {
     "name": "stdout",
     "output_type": "stream",
     "text": [
      "[107052.8381516008, 106953.10872189535, 107433.40544883415, 107016.3446472961, 109504.64593940238]\n"
     ]
    },
    {
     "name": "stderr",
     "output_type": "stream",
     "text": [
      " 61%|██████    | 226/370 [2:11:24<1:08:40, 28.62s/it]"
     ]
    },
    {
     "name": "stdout",
     "output_type": "stream",
     "text": [
      "[59667.99453370874, 58599.90723628636, 58500.53215303061, 57092.057864949435, 59097.75881752659]\n"
     ]
    },
    {
     "name": "stderr",
     "output_type": "stream",
     "text": [
      " 61%|██████▏   | 227/370 [2:12:24<1:30:23, 37.93s/it]"
     ]
    },
    {
     "name": "stdout",
     "output_type": "stream",
     "text": [
      "[46095.01591124235, 46013.44495635215, 46282.812807855415, 45896.53645543785, 45760.06198831569]\n"
     ]
    },
    {
     "name": "stderr",
     "output_type": "stream",
     "text": [
      " 62%|██████▏   | 228/370 [2:12:48<1:19:55, 33.77s/it]"
     ]
    },
    {
     "name": "stdout",
     "output_type": "stream",
     "text": [
      "[37999.260117351594, 37929.49930346516, 38241.7034990768, 38016.67617088072, 37921.861854640665]\n"
     ]
    },
    {
     "name": "stderr",
     "output_type": "stream",
     "text": [
      " 62%|██████▏   | 229/370 [2:13:19<1:17:26, 32.95s/it]"
     ]
    },
    {
     "name": "stdout",
     "output_type": "stream",
     "text": [
      "[157164.56250169486, 156046.64606347357, 154942.4468655608, 152832.93512061168, 150372.1145588794]\n"
     ]
    },
    {
     "name": "stderr",
     "output_type": "stream",
     "text": [
      " 62%|██████▏   | 230/370 [2:13:37<1:06:12, 28.38s/it]"
     ]
    },
    {
     "name": "stdout",
     "output_type": "stream",
     "text": [
      "[50320.85555784142, 51107.86059672984, 51847.960556573016, 51991.90817149661, 51404.95846046387]\n"
     ]
    },
    {
     "name": "stderr",
     "output_type": "stream",
     "text": [
      " 62%|██████▏   | 231/370 [2:13:54<58:24, 25.22s/it]  "
     ]
    },
    {
     "name": "stdout",
     "output_type": "stream",
     "text": [
      "[59475.55524990816, 59157.251633881475, 61294.410546865605, 60531.82010897474, 60729.34223589842]\n"
     ]
    },
    {
     "name": "stderr",
     "output_type": "stream",
     "text": [
      " 63%|██████▎   | 232/370 [2:14:09<50:43, 22.06s/it]"
     ]
    },
    {
     "name": "stdout",
     "output_type": "stream",
     "text": [
      "[66442.80479744881, 66210.76001974536, 67696.05117151048, 67117.40612562862, 67922.58059817474]\n"
     ]
    },
    {
     "name": "stderr",
     "output_type": "stream",
     "text": [
      " 63%|██████▎   | 233/370 [2:14:33<51:38, 22.62s/it]"
     ]
    },
    {
     "name": "stdout",
     "output_type": "stream",
     "text": [
      "[6697.120509121482, 6691.982001924481, 6690.445804127777, 6691.694834076241, 6622.557713012167]\n"
     ]
    },
    {
     "name": "stderr",
     "output_type": "stream",
     "text": [
      " 63%|██████▎   | 234/370 [2:15:41<1:22:06, 36.22s/it]"
     ]
    },
    {
     "name": "stdout",
     "output_type": "stream",
     "text": [
      "[158599.5045809816, 158861.8161322068, 158519.11591423757, 157852.6959788478, 157131.53124542272]\n"
     ]
    },
    {
     "name": "stderr",
     "output_type": "stream",
     "text": [
      " 64%|██████▎   | 235/370 [2:16:57<1:48:22, 48.16s/it]"
     ]
    },
    {
     "name": "stdout",
     "output_type": "stream",
     "text": [
      "[6500.686155803694, 6515.542994124553, 6529.331323084164, 6501.695063341496, 6605.744431455766]\n"
     ]
    },
    {
     "name": "stderr",
     "output_type": "stream",
     "text": [
      " 64%|██████▍   | 236/370 [2:17:13<1:26:03, 38.53s/it]"
     ]
    },
    {
     "name": "stdout",
     "output_type": "stream",
     "text": [
      "[49434.50605624827, 49792.03849101251, 51011.98848253272, 50665.90534064646, 51250.90124082663]\n"
     ]
    },
    {
     "name": "stderr",
     "output_type": "stream",
     "text": [
      " 64%|██████▍   | 237/370 [2:17:31<1:11:33, 32.28s/it]"
     ]
    },
    {
     "name": "stdout",
     "output_type": "stream",
     "text": [
      "[24648.82550123118, 24680.4383960352, 24481.29145975903, 23687.76487203968, 23879.38330561647]\n"
     ]
    },
    {
     "name": "stderr",
     "output_type": "stream",
     "text": [
      " 64%|██████▍   | 238/370 [2:18:15<1:18:54, 35.87s/it]"
     ]
    },
    {
     "name": "stdout",
     "output_type": "stream",
     "text": [
      "[23015.27235233259, 23032.595530286162, 23047.792225460675, 22915.08823089909, 22905.186904251357]\n"
     ]
    },
    {
     "name": "stderr",
     "output_type": "stream",
     "text": [
      " 65%|██████▍   | 239/370 [2:20:02<2:04:37, 57.08s/it]"
     ]
    },
    {
     "name": "stdout",
     "output_type": "stream",
     "text": [
      "[46337.99882111971, 46419.60417209832, 46894.55287389498, 46687.33845300725, 47675.64850642203]\n"
     ]
    },
    {
     "name": "stderr",
     "output_type": "stream",
     "text": [
      " 65%|██████▍   | 240/370 [2:20:14<1:34:48, 43.76s/it]"
     ]
    },
    {
     "name": "stdout",
     "output_type": "stream",
     "text": [
      "[15526.20965202668, 15464.123740954175, 15476.51380380339, 15471.312769488495, 15549.814567511308]\n"
     ]
    },
    {
     "name": "stderr",
     "output_type": "stream",
     "text": [
      " 65%|██████▌   | 241/370 [2:20:31<1:16:36, 35.63s/it]"
     ]
    },
    {
     "name": "stdout",
     "output_type": "stream",
     "text": [
      "[44311.15568521385, 45258.843455268405, 45295.57402831307, 45054.228558405484, 46100.369469318495]\n"
     ]
    },
    {
     "name": "stderr",
     "output_type": "stream",
     "text": [
      " 65%|██████▌   | 242/370 [2:21:21<1:24:55, 39.81s/it]"
     ]
    },
    {
     "name": "stdout",
     "output_type": "stream",
     "text": [
      "[17807.780672503348, 17766.06636608984, 17740.304706374474, 18173.059011081332, 17794.850525472237]\n"
     ]
    },
    {
     "name": "stderr",
     "output_type": "stream",
     "text": [
      " 66%|██████▌   | 243/370 [2:21:48<1:16:33, 36.17s/it]"
     ]
    },
    {
     "name": "stdout",
     "output_type": "stream",
     "text": [
      "[27237.933188015904, 27262.948630469287, 27346.940401184507, 27328.111159450436, 27142.79203952051]\n"
     ]
    },
    {
     "name": "stderr",
     "output_type": "stream",
     "text": [
      " 66%|██████▌   | 244/370 [2:22:31<1:20:15, 38.22s/it]"
     ]
    },
    {
     "name": "stdout",
     "output_type": "stream",
     "text": [
      "[72609.82536117542, 74189.36822967508, 70953.28507487186, 72573.77777563596, 73308.00793848516]\n"
     ]
    },
    {
     "name": "stderr",
     "output_type": "stream",
     "text": [
      " 66%|██████▌   | 245/370 [2:22:53<1:09:16, 33.25s/it]"
     ]
    },
    {
     "name": "stdout",
     "output_type": "stream",
     "text": [
      "[30736.60021289066, 30768.461682928846, 30597.145616188413, 30317.924382972906, 30716.59193135183]\n"
     ]
    },
    {
     "name": "stderr",
     "output_type": "stream",
     "text": [
      " 66%|██████▋   | 246/370 [2:23:08<57:26, 27.79s/it]  "
     ]
    },
    {
     "name": "stdout",
     "output_type": "stream",
     "text": [
      "[51195.96583000315, 50924.37795489952, 51003.11872944471, 51029.395638703754, 52854.24019524706]\n"
     ]
    },
    {
     "name": "stderr",
     "output_type": "stream",
     "text": [
      " 67%|██████▋   | 247/370 [2:23:20<47:32, 23.19s/it]"
     ]
    },
    {
     "name": "stdout",
     "output_type": "stream",
     "text": [
      "[99012.14401081628, 98131.90591823055, 98980.24673553207, 97240.06676694134, 97643.42652505334]\n"
     ]
    },
    {
     "name": "stderr",
     "output_type": "stream",
     "text": [
      " 67%|██████▋   | 248/370 [2:23:51<51:51, 25.50s/it]"
     ]
    },
    {
     "name": "stdout",
     "output_type": "stream",
     "text": [
      "[68047.2759365749, 68023.96918087464, 68593.70187632802, 68551.48341466518, 68726.29838920396]\n"
     ]
    },
    {
     "name": "stderr",
     "output_type": "stream",
     "text": [
      " 67%|██████▋   | 249/370 [2:24:44<1:08:01, 33.74s/it]"
     ]
    },
    {
     "name": "stdout",
     "output_type": "stream",
     "text": [
      "[31961.14295835926, 31969.516004028184, 31837.59889586358, 31685.373165590452, 31335.633803091154]\n"
     ]
    },
    {
     "name": "stderr",
     "output_type": "stream",
     "text": [
      " 68%|██████▊   | 250/370 [2:25:00<56:36, 28.31s/it]  "
     ]
    },
    {
     "name": "stdout",
     "output_type": "stream",
     "text": [
      "[14889.003682917031, 14861.908037503827, 14685.368408106593, 13727.941804833112, 14249.028522014687]\n"
     ]
    },
    {
     "name": "stderr",
     "output_type": "stream",
     "text": [
      " 68%|██████▊   | 251/370 [2:26:16<1:24:44, 42.73s/it]"
     ]
    },
    {
     "name": "stdout",
     "output_type": "stream",
     "text": [
      "[164590.21194964898, 163999.11022687136, 168281.5449111474, 167579.67969260737, 177149.7823136601]\n"
     ]
    },
    {
     "name": "stderr",
     "output_type": "stream",
     "text": [
      " 68%|██████▊   | 252/370 [2:26:36<1:10:41, 35.95s/it]"
     ]
    },
    {
     "name": "stdout",
     "output_type": "stream",
     "text": [
      "[78662.61555459397, 78847.8084805107, 80192.99360658266, 79469.49836158237, 78967.79774519669]\n"
     ]
    },
    {
     "name": "stderr",
     "output_type": "stream",
     "text": [
      " 68%|██████▊   | 253/370 [2:27:14<1:10:52, 36.34s/it]"
     ]
    },
    {
     "name": "stdout",
     "output_type": "stream",
     "text": [
      "[24841.75275491617, 24847.34005584474, 25261.08120954008, 24712.360171599463, 24676.014689054122]\n"
     ]
    },
    {
     "name": "stderr",
     "output_type": "stream",
     "text": [
      " 69%|██████▊   | 254/370 [2:28:26<1:31:12, 47.17s/it]"
     ]
    },
    {
     "name": "stdout",
     "output_type": "stream",
     "text": [
      "[25014.250814782616, 25550.106415092465, 25984.666574527415, 26445.709386850554, 26917.131648008522]\n"
     ]
    },
    {
     "name": "stderr",
     "output_type": "stream",
     "text": [
      " 69%|██████▉   | 255/370 [2:29:13<1:30:08, 47.03s/it]"
     ]
    },
    {
     "name": "stdout",
     "output_type": "stream",
     "text": [
      "[5934.648906025233, 6007.0555781025905, 6084.394869873708, 6290.680667766704, 5949.343724427911]\n"
     ]
    },
    {
     "name": "stderr",
     "output_type": "stream",
     "text": [
      " 69%|██████▉   | 256/370 [2:29:25<1:09:36, 36.64s/it]"
     ]
    },
    {
     "name": "stdout",
     "output_type": "stream",
     "text": [
      "[128515.68582258606, 125133.39023058781, 117506.3617935887, 110551.07063493416, 111403.09046257376]\n"
     ]
    },
    {
     "name": "stderr",
     "output_type": "stream",
     "text": [
      " 69%|██████▉   | 257/370 [2:29:40<56:42, 30.11s/it]  "
     ]
    },
    {
     "name": "stdout",
     "output_type": "stream",
     "text": [
      "[13413.541792546572, 13049.875609295867, 12965.936767578492, 13193.357505625949, 13242.126914836404]\n"
     ]
    },
    {
     "name": "stderr",
     "output_type": "stream",
     "text": [
      " 70%|██████▉   | 258/370 [2:29:59<49:42, 26.63s/it]"
     ]
    },
    {
     "name": "stdout",
     "output_type": "stream",
     "text": [
      "[55650.948587333085, 52914.07442434218, 51293.67094652555, 51562.519158803, 52830.90354684456]\n"
     ]
    },
    {
     "name": "stderr",
     "output_type": "stream",
     "text": [
      " 70%|███████   | 259/370 [2:30:12<42:01, 22.71s/it]"
     ]
    },
    {
     "name": "stdout",
     "output_type": "stream",
     "text": [
      "[9785.943709389467, 9734.972628106567, 9797.895016695533, 9865.851325637976, 9915.654111803531]\n"
     ]
    },
    {
     "name": "stderr",
     "output_type": "stream",
     "text": [
      " 70%|███████   | 260/370 [2:30:35<41:44, 22.77s/it]"
     ]
    },
    {
     "name": "stdout",
     "output_type": "stream",
     "text": [
      "[138868.66579862317, 140658.20830203232, 140947.3226908426, 140554.6036789624, 139632.7076164009]\n"
     ]
    },
    {
     "name": "stderr",
     "output_type": "stream",
     "text": [
      " 71%|███████   | 261/370 [2:30:56<40:34, 22.34s/it]"
     ]
    },
    {
     "name": "stdout",
     "output_type": "stream",
     "text": [
      "[35639.9201750369, 35710.22268294711, 35747.581670505846, 35739.17501118321, 35423.189997021815]\n"
     ]
    },
    {
     "name": "stderr",
     "output_type": "stream",
     "text": [
      " 71%|███████   | 262/370 [2:31:20<41:06, 22.84s/it]"
     ]
    },
    {
     "name": "stdout",
     "output_type": "stream",
     "text": [
      "[104288.15558772377, 106088.04978737743, 107871.0374460773, 108548.06693025646, 106983.17273626053]\n"
     ]
    },
    {
     "name": "stderr",
     "output_type": "stream",
     "text": [
      " 71%|███████   | 263/370 [2:31:43<40:34, 22.75s/it]"
     ]
    },
    {
     "name": "stdout",
     "output_type": "stream",
     "text": [
      "[21489.73841333896, 21333.210778553424, 21472.145677874636, 21550.800120725668, 22307.702299117525]\n"
     ]
    },
    {
     "name": "stderr",
     "output_type": "stream",
     "text": [
      " 71%|███████▏  | 264/370 [2:32:58<1:08:08, 38.57s/it]"
     ]
    },
    {
     "name": "stdout",
     "output_type": "stream",
     "text": [
      "[63076.92354543493, 63359.99638489093, 63791.00566876542, 63848.61459006387, 63497.53996521577]\n"
     ]
    },
    {
     "name": "stderr",
     "output_type": "stream",
     "text": [
      " 72%|███████▏  | 265/370 [2:33:17<56:51, 32.49s/it]  "
     ]
    },
    {
     "name": "stdout",
     "output_type": "stream",
     "text": [
      "[92102.27017853636, 91830.03005721218, 93238.2529270268, 94440.93696655794, 94265.54651941061]\n"
     ]
    },
    {
     "name": "stderr",
     "output_type": "stream",
     "text": [
      " 72%|███████▏  | 266/370 [2:33:30<46:03, 26.58s/it]"
     ]
    },
    {
     "name": "stdout",
     "output_type": "stream",
     "text": [
      "[124059.59372434189, 124553.26435083634, 124673.6725858821, 126894.4883301022, 132247.52915643936]\n"
     ]
    },
    {
     "name": "stderr",
     "output_type": "stream",
     "text": [
      " 72%|███████▏  | 267/370 [2:33:45<39:40, 23.11s/it]"
     ]
    },
    {
     "name": "stdout",
     "output_type": "stream",
     "text": [
      "[18116.022125411393, 17887.454043671492, 17049.11366370786, 17023.898893428253, 17420.472761944133]\n"
     ]
    },
    {
     "name": "stderr",
     "output_type": "stream",
     "text": [
      " 72%|███████▏  | 268/370 [2:33:57<33:55, 19.95s/it]"
     ]
    },
    {
     "name": "stdout",
     "output_type": "stream",
     "text": [
      "[4549.3814754836085, 4500.450625202589, 4537.576417970104, 4506.525846373088, 4497.406351711188]\n"
     ]
    },
    {
     "name": "stderr",
     "output_type": "stream",
     "text": [
      " 73%|███████▎  | 269/370 [2:34:23<36:30, 21.69s/it]"
     ]
    },
    {
     "name": "stdout",
     "output_type": "stream",
     "text": [
      "[31633.259940034295, 31439.15702924815, 31479.55682581375, 31483.26895148637, 31588.62753114136]\n"
     ]
    },
    {
     "name": "stderr",
     "output_type": "stream",
     "text": [
      " 73%|███████▎  | 270/370 [2:34:38<32:55, 19.76s/it]"
     ]
    },
    {
     "name": "stdout",
     "output_type": "stream",
     "text": [
      "[18933.2353430027, 18891.958404165493, 19028.849715433218, 18748.86326958357, 18635.915874947535]\n"
     ]
    },
    {
     "name": "stderr",
     "output_type": "stream",
     "text": [
      " 73%|███████▎  | 271/370 [2:34:56<31:37, 19.16s/it]"
     ]
    },
    {
     "name": "stdout",
     "output_type": "stream",
     "text": [
      "[65240.99650709946, 64929.65588324122, 65596.43576390918, 65518.371104574086, 66044.23635185168]\n"
     ]
    },
    {
     "name": "stderr",
     "output_type": "stream",
     "text": [
      " 74%|███████▎  | 272/370 [2:35:30<38:41, 23.69s/it]"
     ]
    },
    {
     "name": "stdout",
     "output_type": "stream",
     "text": [
      "[14813.608968483712, 15031.58379320192, 14993.85985512882, 14924.600962553552, 14735.835178336052]\n"
     ]
    },
    {
     "name": "stderr",
     "output_type": "stream",
     "text": [
      " 74%|███████▍  | 273/370 [2:35:43<33:12, 20.54s/it]"
     ]
    },
    {
     "name": "stdout",
     "output_type": "stream",
     "text": [
      "[25336.255042391716, 25222.183041411292, 25149.577062793425, 25070.03296152999, 25744.431726664017]\n"
     ]
    },
    {
     "name": "stderr",
     "output_type": "stream",
     "text": [
      " 74%|███████▍  | 274/370 [2:36:01<31:14, 19.53s/it]"
     ]
    },
    {
     "name": "stdout",
     "output_type": "stream",
     "text": [
      "[48418.66389354342, 48839.10877990309, 51098.56992289923, 51042.71763000359, 52031.559822357995]\n"
     ]
    },
    {
     "name": "stderr",
     "output_type": "stream",
     "text": [
      " 74%|███████▍  | 275/370 [2:36:17<29:32, 18.66s/it]"
     ]
    },
    {
     "name": "stdout",
     "output_type": "stream",
     "text": [
      "[26646.49099021469, 25662.32191818772, 25930.64986017544, 23782.797675968064, 23881.80210132063]\n"
     ]
    },
    {
     "name": "stderr",
     "output_type": "stream",
     "text": [
      " 75%|███████▍  | 276/370 [2:36:54<37:50, 24.16s/it]"
     ]
    },
    {
     "name": "stdout",
     "output_type": "stream",
     "text": [
      "[34997.619709271064, 35270.064239526946, 35145.33331852708, 35043.35694148615, 34782.37326916633]\n"
     ]
    },
    {
     "name": "stderr",
     "output_type": "stream",
     "text": [
      " 75%|███████▍  | 277/370 [2:37:15<35:45, 23.07s/it]"
     ]
    },
    {
     "name": "stdout",
     "output_type": "stream",
     "text": [
      "[43932.339241736176, 44451.40277911907, 44364.324532264334, 44430.19938817118, 44341.35515601912]\n"
     ]
    },
    {
     "name": "stderr",
     "output_type": "stream",
     "text": [
      " 75%|███████▌  | 278/370 [2:37:30<31:51, 20.77s/it]"
     ]
    },
    {
     "name": "stdout",
     "output_type": "stream",
     "text": [
      "[49216.38365989238, 50482.64363546261, 49561.336023189455, 49135.62217855336, 49569.86922312306]\n"
     ]
    },
    {
     "name": "stderr",
     "output_type": "stream",
     "text": [
      " 75%|███████▌  | 279/370 [2:37:57<34:19, 22.63s/it]"
     ]
    },
    {
     "name": "stdout",
     "output_type": "stream",
     "text": [
      "[15073.560209090585, 15177.355893754873, 15029.069112663363, 14807.3504383648, 14890.317492478378]\n"
     ]
    },
    {
     "name": "stderr",
     "output_type": "stream",
     "text": [
      " 76%|███████▌  | 280/370 [2:38:20<34:01, 22.68s/it]"
     ]
    },
    {
     "name": "stdout",
     "output_type": "stream",
     "text": [
      "[32447.4662835801, 32374.92400390258, 32422.28677170592, 32306.095280852613, 32220.421838749513]\n"
     ]
    },
    {
     "name": "stderr",
     "output_type": "stream",
     "text": [
      " 76%|███████▌  | 281/370 [2:39:08<44:57, 30.31s/it]"
     ]
    },
    {
     "name": "stdout",
     "output_type": "stream",
     "text": [
      "[45471.28205150246, 45280.94310264251, 45386.73339656141, 45153.680989426284, 45213.81621966683]\n"
     ]
    },
    {
     "name": "stderr",
     "output_type": "stream",
     "text": [
      " 76%|███████▌  | 282/370 [2:39:24<38:08, 26.01s/it]"
     ]
    },
    {
     "name": "stdout",
     "output_type": "stream",
     "text": [
      "[20265.66029788367, 20204.82692401884, 20396.265559482283, 20120.20132473707, 20484.03223554615]\n"
     ]
    },
    {
     "name": "stderr",
     "output_type": "stream",
     "text": [
      " 76%|███████▋  | 283/370 [2:39:43<34:33, 23.84s/it]"
     ]
    },
    {
     "name": "stdout",
     "output_type": "stream",
     "text": [
      "[39925.53959479811, 39630.97735384631, 39816.55836761854, 39716.60293529148, 39362.529249707375]\n"
     ]
    },
    {
     "name": "stderr",
     "output_type": "stream",
     "text": [
      " 77%|███████▋  | 284/370 [2:41:12<1:02:19, 43.48s/it]"
     ]
    },
    {
     "name": "stdout",
     "output_type": "stream",
     "text": [
      "[34912.07872113251, 34819.12171739312, 35219.78627200626, 35325.13715497794, 34902.184945619425]\n"
     ]
    },
    {
     "name": "stderr",
     "output_type": "stream",
     "text": [
      " 77%|███████▋  | 285/370 [2:41:57<1:02:15, 43.95s/it]"
     ]
    },
    {
     "name": "stdout",
     "output_type": "stream",
     "text": [
      "[9198.622331025372, 9141.050841803548, 8952.948641687097, 8913.016726099837, 8941.394980297784]\n"
     ]
    },
    {
     "name": "stderr",
     "output_type": "stream",
     "text": [
      " 77%|███████▋  | 286/370 [2:42:23<53:51, 38.47s/it]  "
     ]
    },
    {
     "name": "stdout",
     "output_type": "stream",
     "text": [
      "[64678.36619265889, 64533.26297992862, 65057.86822955162, 63940.17221513787, 63280.0374938532]\n"
     ]
    },
    {
     "name": "stderr",
     "output_type": "stream",
     "text": [
      " 78%|███████▊  | 287/370 [2:42:50<48:40, 35.19s/it]"
     ]
    },
    {
     "name": "stdout",
     "output_type": "stream",
     "text": [
      "[69945.54614090362, 69455.8479554501, 68979.47759902585, 67902.81614928906, 67881.21167358688]\n"
     ]
    },
    {
     "name": "stderr",
     "output_type": "stream",
     "text": [
      " 78%|███████▊  | 288/370 [2:43:06<39:55, 29.22s/it]"
     ]
    },
    {
     "name": "stdout",
     "output_type": "stream",
     "text": [
      "[45281.66350338754, 44967.820573597994, 45401.071488826594, 45955.47470382355, 46962.002127657455]\n"
     ]
    },
    {
     "name": "stderr",
     "output_type": "stream",
     "text": [
      " 78%|███████▊  | 289/370 [2:43:30<37:38, 27.88s/it]"
     ]
    },
    {
     "name": "stdout",
     "output_type": "stream",
     "text": [
      "[67293.86658841587, 67822.10386578803, 68684.03237388562, 68347.70202121267, 67518.17085484102]\n"
     ]
    },
    {
     "name": "stderr",
     "output_type": "stream",
     "text": [
      " 78%|███████▊  | 290/370 [2:43:43<31:16, 23.46s/it]"
     ]
    },
    {
     "name": "stdout",
     "output_type": "stream",
     "text": [
      "[6556.366314316714, 6570.925391836501, 6561.842216695832, 6697.91872524351, 6849.055164731844]\n"
     ]
    },
    {
     "name": "stderr",
     "output_type": "stream",
     "text": [
      " 79%|███████▊  | 291/370 [2:43:57<26:59, 20.50s/it]"
     ]
    },
    {
     "name": "stdout",
     "output_type": "stream",
     "text": [
      "[11508.811462642028, 11588.172938757645, 11717.445904462465, 11561.094299903916, 11635.65424738443]\n"
     ]
    },
    {
     "name": "stderr",
     "output_type": "stream",
     "text": [
      " 79%|███████▉  | 292/370 [2:44:22<28:17, 21.76s/it]"
     ]
    },
    {
     "name": "stdout",
     "output_type": "stream",
     "text": [
      "[36869.60923450128, 37116.94640915567, 37389.17717281488, 37366.78273573663, 37300.99305353161]\n"
     ]
    },
    {
     "name": "stderr",
     "output_type": "stream",
     "text": [
      " 79%|███████▉  | 293/370 [2:44:43<27:43, 21.60s/it]"
     ]
    },
    {
     "name": "stdout",
     "output_type": "stream",
     "text": [
      "[57412.140118957366, 57249.0971112392, 57273.087190523795, 56985.88666821457, 56734.62674857914]\n"
     ]
    },
    {
     "name": "stderr",
     "output_type": "stream",
     "text": [
      " 79%|███████▉  | 294/370 [2:45:02<26:24, 20.85s/it]"
     ]
    },
    {
     "name": "stdout",
     "output_type": "stream",
     "text": [
      "[82019.58900905687, 83177.10061721246, 83204.60052680621, 84380.83596993386, 84057.9358692234]\n"
     ]
    },
    {
     "name": "stderr",
     "output_type": "stream",
     "text": [
      " 80%|███████▉  | 295/370 [2:45:24<26:35, 21.27s/it]"
     ]
    },
    {
     "name": "stdout",
     "output_type": "stream",
     "text": [
      "[27181.390764692344, 25468.885969005103, 26287.07462001227, 27858.916772609184, 29851.813666078015]\n"
     ]
    },
    {
     "name": "stderr",
     "output_type": "stream",
     "text": [
      " 80%|████████  | 296/370 [2:45:46<26:19, 21.35s/it]"
     ]
    },
    {
     "name": "stdout",
     "output_type": "stream",
     "text": [
      "[4434.197674099675, 4343.39560306784, 4340.687586041726, 4276.196330172788, 4270.289884524476]\n"
     ]
    },
    {
     "name": "stderr",
     "output_type": "stream",
     "text": [
      " 80%|████████  | 297/370 [2:46:26<32:42, 26.89s/it]"
     ]
    },
    {
     "name": "stdout",
     "output_type": "stream",
     "text": [
      "[17634.222306217274, 17541.478695496855, 17641.98172391818, 17572.3533839799, 17690.547505206727]\n"
     ]
    },
    {
     "name": "stderr",
     "output_type": "stream",
     "text": [
      " 81%|████████  | 298/370 [2:46:43<28:55, 24.10s/it]"
     ]
    },
    {
     "name": "stdout",
     "output_type": "stream",
     "text": [
      "[4038.444274571959, 4025.601461914183, 4021.326040625779, 4005.918493787795, 3989.8589920352874]\n"
     ]
    },
    {
     "name": "stderr",
     "output_type": "stream",
     "text": [
      " 81%|████████  | 299/370 [2:47:00<25:53, 21.88s/it]"
     ]
    },
    {
     "name": "stdout",
     "output_type": "stream",
     "text": [
      "[51725.47717876947, 51741.00006070701, 51765.65285095517, 51598.13750540359, 51345.46475866805]\n"
     ]
    },
    {
     "name": "stderr",
     "output_type": "stream",
     "text": [
      " 81%|████████  | 300/370 [2:47:31<28:46, 24.67s/it]"
     ]
    },
    {
     "name": "stdout",
     "output_type": "stream",
     "text": [
      "[27169.532773024992, 27092.334531715696, 27381.763371323173, 27807.950660440853, 27940.308779591523]\n"
     ]
    },
    {
     "name": "stderr",
     "output_type": "stream",
     "text": [
      " 81%|████████▏ | 301/370 [2:48:11<33:42, 29.31s/it]"
     ]
    },
    {
     "name": "stdout",
     "output_type": "stream",
     "text": [
      "[19186.081814316367, 18938.62565452175, 18733.737582156526, 19001.018978784618, 19487.281232746136]\n"
     ]
    },
    {
     "name": "stderr",
     "output_type": "stream",
     "text": [
      " 82%|████████▏ | 302/370 [2:48:31<30:00, 26.48s/it]"
     ]
    },
    {
     "name": "stdout",
     "output_type": "stream",
     "text": [
      "[33978.66949494801, 34027.51018505235, 33467.790658185164, 33451.73406630755, 33103.96597972492]\n"
     ]
    },
    {
     "name": "stderr",
     "output_type": "stream",
     "text": [
      " 82%|████████▏ | 303/370 [2:48:55<28:36, 25.62s/it]"
     ]
    },
    {
     "name": "stdout",
     "output_type": "stream",
     "text": [
      "[19354.59583475681, 19411.35087328933, 19570.76022451757, 19555.902851912462, 19861.03180293402]\n"
     ]
    },
    {
     "name": "stderr",
     "output_type": "stream",
     "text": [
      " 82%|████████▏ | 304/370 [2:49:52<38:43, 35.21s/it]"
     ]
    },
    {
     "name": "stdout",
     "output_type": "stream",
     "text": [
      "[76793.12239208329, 76161.43198044073, 76862.71191196865, 77494.54889619867, 78357.6570040736]\n"
     ]
    },
    {
     "name": "stderr",
     "output_type": "stream",
     "text": [
      " 82%|████████▏ | 305/370 [2:50:06<31:01, 28.64s/it]"
     ]
    },
    {
     "name": "stdout",
     "output_type": "stream",
     "text": [
      "[7147.371185263546, 7142.244324858689, 7175.624968764205, 7173.595560733906, 7250.407979755331]\n"
     ]
    },
    {
     "name": "stderr",
     "output_type": "stream",
     "text": [
      " 83%|████████▎ | 306/370 [2:50:17<24:59, 23.43s/it]"
     ]
    },
    {
     "name": "stdout",
     "output_type": "stream",
     "text": [
      "[9353.742417201687, 9343.70066504953, 9630.903638338088, 9710.309934616129, 9761.652868007253]\n"
     ]
    },
    {
     "name": "stderr",
     "output_type": "stream",
     "text": [
      " 83%|████████▎ | 307/370 [2:50:29<21:02, 20.03s/it]"
     ]
    },
    {
     "name": "stdout",
     "output_type": "stream",
     "text": [
      "[7290.300822305473, 7253.497058511072, 7240.696794941891, 7319.74204538486, 7316.428107530565]\n"
     ]
    },
    {
     "name": "stderr",
     "output_type": "stream",
     "text": [
      " 83%|████████▎ | 308/370 [2:50:41<18:12, 17.62s/it]"
     ]
    },
    {
     "name": "stdout",
     "output_type": "stream",
     "text": [
      "[11459.683121714268, 11719.426630724098, 11965.116403092394, 11794.814673302542, 11583.060634741929]\n"
     ]
    },
    {
     "name": "stderr",
     "output_type": "stream",
     "text": [
      " 84%|████████▎ | 309/370 [2:51:00<18:25, 18.12s/it]"
     ]
    },
    {
     "name": "stdout",
     "output_type": "stream",
     "text": [
      "[39063.226901845854, 38650.20035897959, 38935.2212996687, 38642.41635561635, 38264.62691203763]\n"
     ]
    },
    {
     "name": "stderr",
     "output_type": "stream",
     "text": [
      " 84%|████████▍ | 310/370 [2:51:17<17:39, 17.66s/it]"
     ]
    },
    {
     "name": "stdout",
     "output_type": "stream",
     "text": [
      "[14606.227389236888, 14516.165078991095, 14541.104313997523, 14381.531214204735, 14561.858808874864]\n"
     ]
    },
    {
     "name": "stderr",
     "output_type": "stream",
     "text": [
      " 84%|████████▍ | 311/370 [2:51:41<19:20, 19.67s/it]"
     ]
    },
    {
     "name": "stdout",
     "output_type": "stream",
     "text": [
      "[20736.44156439676, 20075.07396734275, 20194.68405955014, 20284.754709082707, 20568.441838411076]\n"
     ]
    },
    {
     "name": "stderr",
     "output_type": "stream",
     "text": [
      " 84%|████████▍ | 312/370 [2:51:58<18:04, 18.69s/it]"
     ]
    },
    {
     "name": "stdout",
     "output_type": "stream",
     "text": [
      "[40014.72672195455, 40651.32491319172, 40865.739271738, 40565.739271738, 41187.363175390776]\n"
     ]
    },
    {
     "name": "stderr",
     "output_type": "stream",
     "text": [
      " 85%|████████▍ | 313/370 [2:52:12<16:22, 17.24s/it]"
     ]
    },
    {
     "name": "stdout",
     "output_type": "stream",
     "text": [
      "[18551.644657212117, 18545.288201318257, 18870.63505116901, 18820.587018092756, 18837.090811701175]\n"
     ]
    },
    {
     "name": "stderr",
     "output_type": "stream",
     "text": [
      " 85%|████████▍ | 314/370 [2:52:45<20:41, 22.16s/it]"
     ]
    },
    {
     "name": "stdout",
     "output_type": "stream",
     "text": [
      "[4745.173442669727, 4692.798370274665, 4664.500474394779, 4669.5761304390935, 4710.876443405237]\n"
     ]
    },
    {
     "name": "stderr",
     "output_type": "stream",
     "text": [
      " 85%|████████▌ | 315/370 [2:53:08<20:34, 22.45s/it]"
     ]
    },
    {
     "name": "stdout",
     "output_type": "stream",
     "text": [
      "[29692.249957076718, 29508.56182240875, 30246.102366603434, 29760.30225514813, 29582.28240646031]\n"
     ]
    },
    {
     "name": "stderr",
     "output_type": "stream",
     "text": [
      " 85%|████████▌ | 316/370 [2:53:23<18:10, 20.20s/it]"
     ]
    },
    {
     "name": "stdout",
     "output_type": "stream",
     "text": [
      "[20153.149205775255, 20123.374415487222, 19695.258281094404, 20203.770792250183, 20243.645441987912]\n"
     ]
    },
    {
     "name": "stderr",
     "output_type": "stream",
     "text": [
      " 86%|████████▌ | 317/370 [2:53:39<16:44, 18.96s/it]"
     ]
    },
    {
     "name": "stdout",
     "output_type": "stream",
     "text": [
      "[18177.35437347211, 18243.444906831217, 18608.542686729794, 18547.918842756026, 18815.364092171105]\n"
     ]
    },
    {
     "name": "stderr",
     "output_type": "stream",
     "text": [
      " 86%|████████▌ | 318/370 [2:54:34<25:49, 29.80s/it]"
     ]
    },
    {
     "name": "stdout",
     "output_type": "stream",
     "text": [
      "[70292.34935652721, 70453.75426178373, 70077.86488401362, 69763.15412286718, 70005.72817039877]\n"
     ]
    },
    {
     "name": "stderr",
     "output_type": "stream",
     "text": [
      " 86%|████████▌ | 319/370 [2:54:49<21:29, 25.29s/it]"
     ]
    },
    {
     "name": "stdout",
     "output_type": "stream",
     "text": [
      "[34641.76629920727, 35217.5812056666, 35393.6467523684, 35434.5375906152, 35273.98787403192]\n"
     ]
    },
    {
     "name": "stderr",
     "output_type": "stream",
     "text": [
      " 86%|████████▋ | 320/370 [2:55:09<19:40, 23.61s/it]"
     ]
    },
    {
     "name": "stdout",
     "output_type": "stream",
     "text": [
      "[32806.07239786041, 32902.706890333175, 33137.920015575844, 33467.89759191816, 33449.66286907077]\n"
     ]
    },
    {
     "name": "stderr",
     "output_type": "stream",
     "text": [
      " 87%|████████▋ | 321/370 [2:55:25<17:24, 21.32s/it]"
     ]
    },
    {
     "name": "stdout",
     "output_type": "stream",
     "text": [
      "[27403.94151718677, 27283.236522945353, 27100.644577679097, 26874.629297187632, 27218.25242989788]\n"
     ]
    },
    {
     "name": "stderr",
     "output_type": "stream",
     "text": [
      " 87%|████████▋ | 322/370 [2:56:06<21:49, 27.29s/it]"
     ]
    },
    {
     "name": "stdout",
     "output_type": "stream",
     "text": [
      "[5460.586991025886, 5475.071201307011, 5476.77285186762, 5408.359468469635, 5392.2867681536]\n"
     ]
    },
    {
     "name": "stderr",
     "output_type": "stream",
     "text": [
      " 87%|████████▋ | 323/370 [2:56:23<18:49, 24.04s/it]"
     ]
    },
    {
     "name": "stdout",
     "output_type": "stream",
     "text": [
      "[27869.324881845365, 27399.822954129177, 28199.910138669853, 28742.13330067012, 28271.826342276305]\n"
     ]
    },
    {
     "name": "stderr",
     "output_type": "stream",
     "text": [
      " 88%|████████▊ | 324/370 [2:56:43<17:31, 22.87s/it]"
     ]
    },
    {
     "name": "stdout",
     "output_type": "stream",
     "text": [
      "[12462.439272506816, 12467.618461331505, 12477.150155502688, 12512.246899230475, 12464.17953009668]\n"
     ]
    },
    {
     "name": "stderr",
     "output_type": "stream",
     "text": [
      " 88%|████████▊ | 325/370 [2:56:54<14:40, 19.56s/it]"
     ]
    },
    {
     "name": "stdout",
     "output_type": "stream",
     "text": [
      "[12957.99559282566, 12929.094106209948, 12939.868551643258, 12948.726222140056, 13144.55807104082]\n"
     ]
    },
    {
     "name": "stderr",
     "output_type": "stream",
     "text": [
      " 88%|████████▊ | 326/370 [2:57:09<13:18, 18.14s/it]"
     ]
    },
    {
     "name": "stdout",
     "output_type": "stream",
     "text": [
      "[27262.26636055637, 27191.446412432037, 27295.319795539952, 27093.184138466848, 27570.181043075416]\n"
     ]
    },
    {
     "name": "stderr",
     "output_type": "stream",
     "text": [
      " 88%|████████▊ | 327/370 [2:57:41<15:53, 22.16s/it]"
     ]
    },
    {
     "name": "stdout",
     "output_type": "stream",
     "text": [
      "[18300.060157090906, 18193.36392801779, 18375.207525398953, 17993.12339433289, 18062.94004551558]\n"
     ]
    },
    {
     "name": "stderr",
     "output_type": "stream",
     "text": [
      " 89%|████████▊ | 328/370 [2:58:00<14:46, 21.11s/it]"
     ]
    },
    {
     "name": "stdout",
     "output_type": "stream",
     "text": [
      "[25862.77311206447, 25639.94585663053, 25649.788561760775, 25514.77243476966, 25806.03128817736]\n"
     ]
    },
    {
     "name": "stderr",
     "output_type": "stream",
     "text": [
      " 89%|████████▉ | 329/370 [2:58:37<17:41, 25.90s/it]"
     ]
    },
    {
     "name": "stdout",
     "output_type": "stream",
     "text": [
      "[55586.372855328926, 55194.49203736658, 55546.8078533698, 55985.058407802986, 55893.06097464754]\n"
     ]
    },
    {
     "name": "stderr",
     "output_type": "stream",
     "text": [
      " 89%|████████▉ | 330/370 [2:59:14<19:29, 29.24s/it]"
     ]
    },
    {
     "name": "stdout",
     "output_type": "stream",
     "text": [
      "[49055.11165814337, 49223.144095895535, 49054.837971925954, 48784.61774403697, 49821.42538856156]\n"
     ]
    },
    {
     "name": "stderr",
     "output_type": "stream",
     "text": [
      " 89%|████████▉ | 331/370 [2:59:31<16:43, 25.72s/it]"
     ]
    },
    {
     "name": "stdout",
     "output_type": "stream",
     "text": [
      "[43111.36474094632, 42234.27910246744, 42570.69851847758, 44304.86812563166, 43727.7464542227]\n"
     ]
    },
    {
     "name": "stderr",
     "output_type": "stream",
     "text": [
      " 90%|████████▉ | 332/370 [2:59:47<14:27, 22.82s/it]"
     ]
    },
    {
     "name": "stdout",
     "output_type": "stream",
     "text": [
      "[46067.75886354438, 46143.71498142463, 45327.858966532134, 45243.18892033063, 45275.9262185631]\n"
     ]
    },
    {
     "name": "stderr",
     "output_type": "stream",
     "text": [
      " 90%|█████████ | 333/370 [3:00:06<13:19, 21.60s/it]"
     ]
    },
    {
     "name": "stdout",
     "output_type": "stream",
     "text": [
      "[9630.087056725899, 9658.694250248038, 9660.028198071204, 9667.312327043557, 9615.72261680406]\n"
     ]
    },
    {
     "name": "stderr",
     "output_type": "stream",
     "text": [
      " 90%|█████████ | 334/370 [3:00:25<12:35, 20.98s/it]"
     ]
    },
    {
     "name": "stdout",
     "output_type": "stream",
     "text": [
      "[10628.65809325148, 10345.357975190644, 10427.653587931498, 10500.410218763263, 10847.180060399276]\n"
     ]
    },
    {
     "name": "stderr",
     "output_type": "stream",
     "text": [
      " 91%|█████████ | 335/370 [3:01:01<14:43, 25.25s/it]"
     ]
    },
    {
     "name": "stdout",
     "output_type": "stream",
     "text": [
      "[8344.82770564252, 8376.758637632174, 8290.910090564004, 8310.889121834838, 8213.094601693258]\n"
     ]
    },
    {
     "name": "stderr",
     "output_type": "stream",
     "text": [
      " 91%|█████████ | 336/370 [3:01:14<12:18, 21.72s/it]"
     ]
    },
    {
     "name": "stdout",
     "output_type": "stream",
     "text": [
      "[13469.053888308896, 13471.275303560618, 13548.227698355095, 13550.473266389172, 13606.712551319875]\n"
     ]
    },
    {
     "name": "stderr",
     "output_type": "stream",
     "text": [
      " 91%|█████████ | 337/370 [3:03:09<27:18, 49.65s/it]"
     ]
    },
    {
     "name": "stdout",
     "output_type": "stream",
     "text": [
      "[7194.164954536118, 7112.291421739485, 7134.234148275543, 7113.84924905754, 7162.91041034005]\n"
     ]
    },
    {
     "name": "stderr",
     "output_type": "stream",
     "text": [
      " 91%|█████████▏| 338/370 [3:03:24<20:59, 39.34s/it]"
     ]
    },
    {
     "name": "stdout",
     "output_type": "stream",
     "text": [
      "[19353.68920833186, 19460.65443082563, 19358.362876961968, 19704.696718477313, 19897.844977202447]\n"
     ]
    },
    {
     "name": "stderr",
     "output_type": "stream",
     "text": [
      " 92%|█████████▏| 339/370 [3:03:59<19:37, 37.99s/it]"
     ]
    },
    {
     "name": "stdout",
     "output_type": "stream",
     "text": [
      "[37496.397885801285, 37702.84283917793, 37939.982625845114, 37834.02924540555, 37634.79460705482]\n"
     ]
    },
    {
     "name": "stderr",
     "output_type": "stream",
     "text": [
      " 92%|█████████▏| 340/370 [3:04:36<18:46, 37.54s/it]"
     ]
    },
    {
     "name": "stdout",
     "output_type": "stream",
     "text": [
      "[46841.85088215631, 47024.81598943197, 47652.994801248045, 47787.79413903309, 47660.75363159629]\n"
     ]
    },
    {
     "name": "stderr",
     "output_type": "stream",
     "text": [
      " 92%|█████████▏| 341/370 [3:04:50<14:51, 30.73s/it]"
     ]
    },
    {
     "name": "stdout",
     "output_type": "stream",
     "text": [
      "[60219.34473999058, 60653.32009853554, 63318.52568585952, 62414.672693898014, 62428.77969984371]\n"
     ]
    },
    {
     "name": "stderr",
     "output_type": "stream",
     "text": [
      " 92%|█████████▏| 342/370 [3:05:18<13:52, 29.74s/it]"
     ]
    },
    {
     "name": "stdout",
     "output_type": "stream",
     "text": [
      "[9162.710643348337, 9188.135284018716, 9149.390707058259, 9167.547746821376, 9254.309988385592]\n"
     ]
    },
    {
     "name": "stderr",
     "output_type": "stream",
     "text": [
      " 93%|█████████▎| 343/370 [3:05:34<11:34, 25.71s/it]"
     ]
    },
    {
     "name": "stdout",
     "output_type": "stream",
     "text": [
      "[16936.19930847028, 16943.205911248417, 16922.84848867109, 16785.29144510446, 16818.322705016606]\n"
     ]
    },
    {
     "name": "stderr",
     "output_type": "stream",
     "text": [
      " 93%|█████████▎| 344/370 [3:05:46<09:22, 21.63s/it]"
     ]
    },
    {
     "name": "stdout",
     "output_type": "stream",
     "text": [
      "[6127.035130155635, 6327.165680413707, 6292.042355885855, 6297.980868235805, 6301.888636760732]\n"
     ]
    },
    {
     "name": "stderr",
     "output_type": "stream",
     "text": [
      " 93%|█████████▎| 345/370 [3:05:59<07:57, 19.10s/it]"
     ]
    },
    {
     "name": "stdout",
     "output_type": "stream",
     "text": [
      "[24147.237975430748, 23634.301688573833, 23887.965609393083, 24218.846568230205, 24437.5085904502]\n"
     ]
    },
    {
     "name": "stderr",
     "output_type": "stream",
     "text": [
      " 94%|█████████▎| 346/370 [3:06:25<08:22, 20.94s/it]"
     ]
    },
    {
     "name": "stdout",
     "output_type": "stream",
     "text": [
      "[41934.43062021962, 41400.19626075625, 41860.95401164624, 43075.80680560125, 42754.57171667227]\n"
     ]
    },
    {
     "name": "stderr",
     "output_type": "stream",
     "text": [
      " 94%|█████████▍| 347/370 [3:06:38<07:05, 18.50s/it]"
     ]
    },
    {
     "name": "stdout",
     "output_type": "stream",
     "text": [
      "[8776.04724958039, 8843.617853132395, 8900.549090383949, 8750.051583028875, 8777.332206168934]\n"
     ]
    },
    {
     "name": "stderr",
     "output_type": "stream",
     "text": [
      " 94%|█████████▍| 348/370 [3:06:56<06:47, 18.54s/it]"
     ]
    },
    {
     "name": "stdout",
     "output_type": "stream",
     "text": [
      "[21458.28278168236, 21375.25927812833, 21451.49611419734, 21380.632735425246, 21209.842048458715]\n"
     ]
    },
    {
     "name": "stderr",
     "output_type": "stream",
     "text": [
      " 94%|█████████▍| 349/370 [3:07:28<07:50, 22.39s/it]"
     ]
    },
    {
     "name": "stdout",
     "output_type": "stream",
     "text": [
      "[26452.614250069782, 26228.208137508977, 26842.22222109932, 26701.06993421057, 26195.855162763226]\n"
     ]
    },
    {
     "name": "stderr",
     "output_type": "stream",
     "text": [
      " 95%|█████████▍| 350/370 [3:07:48<07:14, 21.71s/it]"
     ]
    },
    {
     "name": "stdout",
     "output_type": "stream",
     "text": [
      "[3571.052897538762, 3664.9930371238747, 3722.1408305777027, 3762.0129614842785, 3810.6426541276587]\n"
     ]
    },
    {
     "name": "stderr",
     "output_type": "stream",
     "text": [
      " 95%|█████████▍| 351/370 [3:08:01<06:05, 19.24s/it]"
     ]
    },
    {
     "name": "stdout",
     "output_type": "stream",
     "text": [
      "[5403.567334002646, 5375.951522218041, 5394.188813284687, 5414.209824376314, 5550.662882180793]\n"
     ]
    },
    {
     "name": "stderr",
     "output_type": "stream",
     "text": [
      " 95%|█████████▌| 352/370 [3:08:14<05:12, 17.36s/it]"
     ]
    },
    {
     "name": "stdout",
     "output_type": "stream",
     "text": [
      "[6914.3494831819435, 6852.149895314085, 6892.2680383914285, 6859.16032449638, 6936.619163954803]\n"
     ]
    },
    {
     "name": "stderr",
     "output_type": "stream",
     "text": [
      " 95%|█████████▌| 353/370 [3:08:35<05:13, 18.47s/it]"
     ]
    },
    {
     "name": "stdout",
     "output_type": "stream",
     "text": [
      "[54155.36053535534, 54849.998209717065, 54918.51384018793, 54564.67720794669, 54050.15242309178]\n"
     ]
    },
    {
     "name": "stderr",
     "output_type": "stream",
     "text": [
      " 96%|█████████▌| 354/370 [3:08:57<05:09, 19.35s/it]"
     ]
    },
    {
     "name": "stdout",
     "output_type": "stream",
     "text": [
      "[23564.286148146526, 23481.344133884973, 23428.136199525732, 23392.547776949894, 23477.972451032172]\n"
     ]
    },
    {
     "name": "stderr",
     "output_type": "stream",
     "text": [
      " 96%|█████████▌| 355/370 [3:09:12<04:34, 18.30s/it]"
     ]
    },
    {
     "name": "stdout",
     "output_type": "stream",
     "text": [
      "[21762.6459953051, 21939.05854515106, 22292.433202365046, 22354.39793505295, 23172.23261106247]\n"
     ]
    },
    {
     "name": "stderr",
     "output_type": "stream",
     "text": [
      " 96%|█████████▌| 356/370 [3:09:55<05:58, 25.63s/it]"
     ]
    },
    {
     "name": "stdout",
     "output_type": "stream",
     "text": [
      "[9564.395531768874, 9944.271649429582, 9913.044335455761, 10557.573534753881, 10354.222371553707]\n"
     ]
    },
    {
     "name": "stderr",
     "output_type": "stream",
     "text": [
      " 96%|█████████▋| 357/370 [3:10:28<06:00, 27.75s/it]"
     ]
    },
    {
     "name": "stdout",
     "output_type": "stream",
     "text": [
      "[38977.05155262558, 38837.0942657395, 38732.549878084144, 38569.78554733302, 38495.26319468353]\n"
     ]
    },
    {
     "name": "stderr",
     "output_type": "stream",
     "text": [
      " 97%|█████████▋| 358/370 [3:10:39<04:33, 22.83s/it]"
     ]
    },
    {
     "name": "stdout",
     "output_type": "stream",
     "text": [
      "[12627.061646947916, 12537.21739519254, 12524.256915929269, 13031.51771419424, 13764.716650465147]\n"
     ]
    },
    {
     "name": "stderr",
     "output_type": "stream",
     "text": [
      " 97%|█████████▋| 359/370 [3:10:56<03:52, 21.10s/it]"
     ]
    },
    {
     "name": "stdout",
     "output_type": "stream",
     "text": [
      "[10700.008081859334, 10908.210497736214, 10870.952575535717, 10553.917723619112, 10782.557770148067]\n"
     ]
    },
    {
     "name": "stderr",
     "output_type": "stream",
     "text": [
      " 97%|█████████▋| 360/370 [3:11:11<03:12, 19.28s/it]"
     ]
    },
    {
     "name": "stdout",
     "output_type": "stream",
     "text": [
      "[28474.967898693594, 28274.363668426457, 28706.59759057528, 28959.46968479321, 29773.69523554651]\n"
     ]
    },
    {
     "name": "stderr",
     "output_type": "stream",
     "text": [
      " 98%|█████████▊| 361/370 [3:11:23<02:31, 16.86s/it]"
     ]
    },
    {
     "name": "stdout",
     "output_type": "stream",
     "text": [
      "[9170.191661784937, 9197.09946886614, 9309.864274061332, 9320.055935846269, 9295.385472638152]\n"
     ]
    },
    {
     "name": "stderr",
     "output_type": "stream",
     "text": [
      " 98%|█████████▊| 362/370 [3:11:56<02:55, 21.99s/it]"
     ]
    },
    {
     "name": "stdout",
     "output_type": "stream",
     "text": [
      "[29850.113665803994, 29681.93715957832, 29998.299343609124, 29851.704551112703, 29628.970658288243]\n"
     ]
    },
    {
     "name": "stderr",
     "output_type": "stream",
     "text": [
      " 98%|█████████▊| 363/370 [3:12:16<02:28, 21.25s/it]"
     ]
    },
    {
     "name": "stdout",
     "output_type": "stream",
     "text": [
      "[38018.167897349456, 37834.48973829674, 37398.99533005255, 37483.08434887876, 37902.04312595097]\n"
     ]
    },
    {
     "name": "stderr",
     "output_type": "stream",
     "text": [
      " 98%|█████████▊| 364/370 [3:12:26<01:47, 17.89s/it]"
     ]
    },
    {
     "name": "stdout",
     "output_type": "stream",
     "text": [
      "[1908.3227867399517, 1918.0518898297812, 1918.518248333556, 1921.053626532147, 1905.9894637242971]\n"
     ]
    },
    {
     "name": "stderr",
     "output_type": "stream",
     "text": [
      " 99%|█████████▊| 365/370 [3:12:41<01:25, 17.02s/it]"
     ]
    },
    {
     "name": "stdout",
     "output_type": "stream",
     "text": [
      "[8020.375825960203, 8066.440971216132, 8064.099139688379, 8139.456477035786, 8126.054337926733]\n"
     ]
    },
    {
     "name": "stderr",
     "output_type": "stream",
     "text": [
      " 99%|█████████▉| 366/370 [3:13:03<01:13, 18.39s/it]"
     ]
    },
    {
     "name": "stdout",
     "output_type": "stream",
     "text": [
      "[4908.424887455291, 4926.772249586557, 5023.7760054763885, 5076.990660473971, 5097.765224426342]\n"
     ]
    },
    {
     "name": "stderr",
     "output_type": "stream",
     "text": [
      " 99%|█████████▉| 367/370 [3:13:20<00:54, 18.08s/it]"
     ]
    },
    {
     "name": "stdout",
     "output_type": "stream",
     "text": [
      "[7818.541822275222, 8025.425632898028, 7958.356551966114, 8453.520001325924, 8324.789323379428]\n"
     ]
    },
    {
     "name": "stderr",
     "output_type": "stream",
     "text": [
      " 99%|█████████▉| 368/370 [3:13:35<00:34, 17.02s/it]"
     ]
    },
    {
     "name": "stdout",
     "output_type": "stream",
     "text": [
      "[7295.0179236740905, 7259.614526147059, 7210.563952794632, 7297.8777339123335, 7521.607566936847]\n"
     ]
    },
    {
     "name": "stderr",
     "output_type": "stream",
     "text": [
      "100%|█████████▉| 369/370 [3:13:51<00:16, 16.90s/it]"
     ]
    },
    {
     "name": "stdout",
     "output_type": "stream",
     "text": [
      "[43301.122592145846, 43629.24991318133, 44526.54464973909, 44377.16503249101, 43907.9144201846]\n"
     ]
    },
    {
     "name": "stderr",
     "output_type": "stream",
     "text": [
      "100%|██████████| 370/370 [3:14:10<00:00, 31.49s/it]"
     ]
    },
    {
     "name": "stdout",
     "output_type": "stream",
     "text": [
      "[49103.47968685174, 49826.86962481527, 49213.85400871794, 47623.76139579815, 47884.40592810321]\n"
     ]
    },
    {
     "name": "stderr",
     "output_type": "stream",
     "text": [
      "\n"
     ]
    },
    {
     "data": {
      "text/plain": [
       "0"
      ]
     },
     "execution_count": 6,
     "metadata": {},
     "output_type": "execute_result"
    }
   ],
   "source": [
    "# model = LinearRegression()\n",
    "for code in tqdm(stock_list['종목코드'].values):\n",
    "    data = fdr.DataReader(code, start = start_date, end = end_date).reset_index()\n",
    "    data.Close = data.Close.ffill()\n",
    "    data.index = data[\"Date\"]\n",
    "    data.drop('Date', axis=1, inplace=True)\n",
    "    \n",
    "    \n",
    "\n",
    "    \n",
    "#     from statsmodels.tsa.stattools import adfuller\n",
    "#     result = adfuller(data.Close)\n",
    "#     print(result[0])\n",
    "#     print(\"p-value\", result[1])\n",
    "\n",
    "#     plt.plot(data.Close)\n",
    "#     plt.show()\n",
    "\n",
    "#     plt.plot(data.Close.shift())\n",
    "#     plt.show()\n",
    "    \n",
    "#     close_diff = data.Close - data.Close.shift()\n",
    "#     plt.plot(close_diff)\n",
    "#     plt.show()\n",
    "    \n",
    "    \n",
    "#     result = adfuller(close_diff[1:])\n",
    "#     print(result[0])\n",
    "#     print(result[1])\n",
    "    \n",
    "#     import statsmodels.api as sm\n",
    "    \n",
    "#     fig = plt.figure(figsize=(20, 8))\n",
    "#     ax1 = fig.add_subplot(212)\n",
    "#     fig = sm.graphics.tsa.plot_acf(close_diff[1:], ax=ax1)\n",
    "#     plt.show()\n",
    "\n",
    "    \n",
    "    # autoarima\n",
    "    arima_data = data[:-1]\n",
    "    model = auto_arima(arima_data.Close,\n",
    "    start_p=0, start_q=0,d=1,\n",
    "    max_p=4, max_q=4,max_d=2,\n",
    "    m=5,\n",
    "    start_P=0,start_Q=0,D=1,\n",
    "    max_P=2,max_Q=2,max_D=2,\n",
    "                           seasonal=True,\n",
    "                           trace=False,\n",
    "                           error_action='ignore',  \n",
    "                           suppress_warnings=True, \n",
    "                           stepwise=True)\n",
    "    model.fit(arima_data.Close)\n",
    "    forecast = model.predict(n_periods=5) #(0,1,0)인수 나오는것 처리해야함\n",
    "    predictions = list(forecast)\n",
    "    print(predictions)\n",
    "    # print(code)\n",
    "    # break\n",
    "    \n",
    "#     ARIMA(p, d, q)\n",
    "#     d=0 : ARMA(p, q), 정상성 만족\n",
    "#     p=0 : IMA(d,q), d번 차분하면 MA(q)모형을 따르게 됨\n",
    "#     q=0 : ARI(p,d), d번 차분한 시계열이 AR(p)모형을 따르게 됨\n",
    "\n",
    "#     model = ARIMA(arima_data.Close, order=(4, 1, 0))\n",
    "#     model_fit = model.fit()\n",
    "    \n",
    "#     start_index = datetime(2021, 11, 1)\n",
    "#     end_index = datetime(2021, 11, 5)\n",
    "#     forecast = model_fit.forecast(steps=5)\n",
    "    \n",
    "    \n",
    "#     predictions = list(forecast)\n",
    "    sample_submission.loc[0:4,code] = predictions \n",
    "sample_submission.isna().sum().sum()"
   ]
  },
  {
   "cell_type": "code",
   "execution_count": 7,
   "id": "7b882078",
   "metadata": {},
   "outputs": [],
   "source": [
    "columns = list(sample_submission.columns[1:])\n",
    "\n",
    "columns = ['Day'] + [str(x).zfill(6) for x in columns]\n",
    "\n",
    "sample_submission.columns = columns"
   ]
  },
  {
   "cell_type": "code",
   "execution_count": null,
   "id": "fe755b9c",
   "metadata": {},
   "outputs": [],
   "source": []
  },
  {
   "cell_type": "code",
   "execution_count": 8,
   "id": "c90d7c40",
   "metadata": {
    "ExecuteTime": {
     "end_time": "2021-11-24T07:01:46.881596Z",
     "start_time": "2021-11-24T07:01:46.849680Z"
    }
   },
   "outputs": [
    {
     "data": {
      "text/html": [
       "<div>\n",
       "<style scoped>\n",
       "    .dataframe tbody tr th:only-of-type {\n",
       "        vertical-align: middle;\n",
       "    }\n",
       "\n",
       "    .dataframe tbody tr th {\n",
       "        vertical-align: top;\n",
       "    }\n",
       "\n",
       "    .dataframe thead th {\n",
       "        text-align: right;\n",
       "    }\n",
       "</style>\n",
       "<table border=\"1\" class=\"dataframe\">\n",
       "  <thead>\n",
       "    <tr style=\"text-align: right;\">\n",
       "      <th></th>\n",
       "      <th>Day</th>\n",
       "      <th>000060</th>\n",
       "      <th>000080</th>\n",
       "      <th>000100</th>\n",
       "      <th>000120</th>\n",
       "      <th>000150</th>\n",
       "      <th>000240</th>\n",
       "      <th>000250</th>\n",
       "      <th>000270</th>\n",
       "      <th>000660</th>\n",
       "      <th>...</th>\n",
       "      <th>330860</th>\n",
       "      <th>336260</th>\n",
       "      <th>336370</th>\n",
       "      <th>347860</th>\n",
       "      <th>348150</th>\n",
       "      <th>348210</th>\n",
       "      <th>352820</th>\n",
       "      <th>357780</th>\n",
       "      <th>363280</th>\n",
       "      <th>950130</th>\n",
       "    </tr>\n",
       "  </thead>\n",
       "  <tbody>\n",
       "    <tr>\n",
       "      <th>0</th>\n",
       "      <td>2021-11-01</td>\n",
       "      <td>28662.309122</td>\n",
       "      <td>35495.534939</td>\n",
       "      <td>61006.053663</td>\n",
       "      <td>144351.415001</td>\n",
       "      <td>102443.460665</td>\n",
       "      <td>16846.857155</td>\n",
       "      <td>49434.506056</td>\n",
       "      <td>87006.945802</td>\n",
       "      <td>107603.675492</td>\n",
       "      <td>...</td>\n",
       "      <td>49055.111658</td>\n",
       "      <td>50627.950933</td>\n",
       "      <td>80386.475273</td>\n",
       "      <td>37496.397886</td>\n",
       "      <td>26452.614250</td>\n",
       "      <td>55586.372855</td>\n",
       "      <td>330365.168263</td>\n",
       "      <td>264253.319617</td>\n",
       "      <td>27534.549225</td>\n",
       "      <td>17807.780673</td>\n",
       "    </tr>\n",
       "    <tr>\n",
       "      <th>1</th>\n",
       "      <td>2021-11-02</td>\n",
       "      <td>28684.233081</td>\n",
       "      <td>36021.664244</td>\n",
       "      <td>60789.697309</td>\n",
       "      <td>144727.605182</td>\n",
       "      <td>105103.176909</td>\n",
       "      <td>16866.065141</td>\n",
       "      <td>49792.038491</td>\n",
       "      <td>88168.709847</td>\n",
       "      <td>108026.768784</td>\n",
       "      <td>...</td>\n",
       "      <td>49223.144096</td>\n",
       "      <td>50863.133342</td>\n",
       "      <td>82133.480629</td>\n",
       "      <td>37702.842839</td>\n",
       "      <td>26228.208138</td>\n",
       "      <td>55194.492037</td>\n",
       "      <td>330151.975805</td>\n",
       "      <td>262127.772236</td>\n",
       "      <td>27430.710930</td>\n",
       "      <td>17766.066366</td>\n",
       "    </tr>\n",
       "    <tr>\n",
       "      <th>2</th>\n",
       "      <td>2021-11-03</td>\n",
       "      <td>28985.835909</td>\n",
       "      <td>35835.462685</td>\n",
       "      <td>61117.956767</td>\n",
       "      <td>143808.357595</td>\n",
       "      <td>105717.791524</td>\n",
       "      <td>17082.524419</td>\n",
       "      <td>51011.988483</td>\n",
       "      <td>88441.029875</td>\n",
       "      <td>108940.465942</td>\n",
       "      <td>...</td>\n",
       "      <td>49054.837972</td>\n",
       "      <td>52341.097944</td>\n",
       "      <td>82701.533404</td>\n",
       "      <td>37939.982626</td>\n",
       "      <td>26842.222221</td>\n",
       "      <td>55546.807853</td>\n",
       "      <td>338527.255999</td>\n",
       "      <td>264640.701830</td>\n",
       "      <td>27516.367072</td>\n",
       "      <td>17740.304706</td>\n",
       "    </tr>\n",
       "    <tr>\n",
       "      <th>3</th>\n",
       "      <td>2021-11-04</td>\n",
       "      <td>29060.741007</td>\n",
       "      <td>35310.816998</td>\n",
       "      <td>60970.660650</td>\n",
       "      <td>143275.362703</td>\n",
       "      <td>106569.592850</td>\n",
       "      <td>16923.660172</td>\n",
       "      <td>50665.905341</td>\n",
       "      <td>88947.385554</td>\n",
       "      <td>108874.573770</td>\n",
       "      <td>...</td>\n",
       "      <td>48784.617744</td>\n",
       "      <td>52970.361140</td>\n",
       "      <td>83805.247443</td>\n",
       "      <td>37834.029245</td>\n",
       "      <td>26701.069934</td>\n",
       "      <td>55985.058408</td>\n",
       "      <td>342457.532738</td>\n",
       "      <td>268323.191955</td>\n",
       "      <td>27474.042192</td>\n",
       "      <td>18173.059011</td>\n",
       "    </tr>\n",
       "    <tr>\n",
       "      <th>4</th>\n",
       "      <td>2021-11-05</td>\n",
       "      <td>28806.836008</td>\n",
       "      <td>35086.990264</td>\n",
       "      <td>60468.836925</td>\n",
       "      <td>141648.028565</td>\n",
       "      <td>105237.551336</td>\n",
       "      <td>16823.623153</td>\n",
       "      <td>51250.901241</td>\n",
       "      <td>89290.295738</td>\n",
       "      <td>110686.271011</td>\n",
       "      <td>...</td>\n",
       "      <td>49821.425389</td>\n",
       "      <td>51512.288625</td>\n",
       "      <td>82391.141350</td>\n",
       "      <td>37634.794607</td>\n",
       "      <td>26195.855163</td>\n",
       "      <td>55893.060975</td>\n",
       "      <td>335329.366551</td>\n",
       "      <td>267117.938696</td>\n",
       "      <td>27455.416181</td>\n",
       "      <td>17794.850525</td>\n",
       "    </tr>\n",
       "    <tr>\n",
       "      <th>5</th>\n",
       "      <td>2021-11-29</td>\n",
       "      <td>0.000000</td>\n",
       "      <td>0.000000</td>\n",
       "      <td>0.000000</td>\n",
       "      <td>0.000000</td>\n",
       "      <td>0.000000</td>\n",
       "      <td>0.000000</td>\n",
       "      <td>0.000000</td>\n",
       "      <td>0.000000</td>\n",
       "      <td>0.000000</td>\n",
       "      <td>...</td>\n",
       "      <td>0.000000</td>\n",
       "      <td>0.000000</td>\n",
       "      <td>0.000000</td>\n",
       "      <td>0.000000</td>\n",
       "      <td>0.000000</td>\n",
       "      <td>0.000000</td>\n",
       "      <td>0.000000</td>\n",
       "      <td>0.000000</td>\n",
       "      <td>0.000000</td>\n",
       "      <td>0.000000</td>\n",
       "    </tr>\n",
       "    <tr>\n",
       "      <th>6</th>\n",
       "      <td>2021-11-30</td>\n",
       "      <td>0.000000</td>\n",
       "      <td>0.000000</td>\n",
       "      <td>0.000000</td>\n",
       "      <td>0.000000</td>\n",
       "      <td>0.000000</td>\n",
       "      <td>0.000000</td>\n",
       "      <td>0.000000</td>\n",
       "      <td>0.000000</td>\n",
       "      <td>0.000000</td>\n",
       "      <td>...</td>\n",
       "      <td>0.000000</td>\n",
       "      <td>0.000000</td>\n",
       "      <td>0.000000</td>\n",
       "      <td>0.000000</td>\n",
       "      <td>0.000000</td>\n",
       "      <td>0.000000</td>\n",
       "      <td>0.000000</td>\n",
       "      <td>0.000000</td>\n",
       "      <td>0.000000</td>\n",
       "      <td>0.000000</td>\n",
       "    </tr>\n",
       "    <tr>\n",
       "      <th>7</th>\n",
       "      <td>2021-12-01</td>\n",
       "      <td>0.000000</td>\n",
       "      <td>0.000000</td>\n",
       "      <td>0.000000</td>\n",
       "      <td>0.000000</td>\n",
       "      <td>0.000000</td>\n",
       "      <td>0.000000</td>\n",
       "      <td>0.000000</td>\n",
       "      <td>0.000000</td>\n",
       "      <td>0.000000</td>\n",
       "      <td>...</td>\n",
       "      <td>0.000000</td>\n",
       "      <td>0.000000</td>\n",
       "      <td>0.000000</td>\n",
       "      <td>0.000000</td>\n",
       "      <td>0.000000</td>\n",
       "      <td>0.000000</td>\n",
       "      <td>0.000000</td>\n",
       "      <td>0.000000</td>\n",
       "      <td>0.000000</td>\n",
       "      <td>0.000000</td>\n",
       "    </tr>\n",
       "    <tr>\n",
       "      <th>8</th>\n",
       "      <td>2021-12-02</td>\n",
       "      <td>0.000000</td>\n",
       "      <td>0.000000</td>\n",
       "      <td>0.000000</td>\n",
       "      <td>0.000000</td>\n",
       "      <td>0.000000</td>\n",
       "      <td>0.000000</td>\n",
       "      <td>0.000000</td>\n",
       "      <td>0.000000</td>\n",
       "      <td>0.000000</td>\n",
       "      <td>...</td>\n",
       "      <td>0.000000</td>\n",
       "      <td>0.000000</td>\n",
       "      <td>0.000000</td>\n",
       "      <td>0.000000</td>\n",
       "      <td>0.000000</td>\n",
       "      <td>0.000000</td>\n",
       "      <td>0.000000</td>\n",
       "      <td>0.000000</td>\n",
       "      <td>0.000000</td>\n",
       "      <td>0.000000</td>\n",
       "    </tr>\n",
       "    <tr>\n",
       "      <th>9</th>\n",
       "      <td>2021-12-03</td>\n",
       "      <td>0.000000</td>\n",
       "      <td>0.000000</td>\n",
       "      <td>0.000000</td>\n",
       "      <td>0.000000</td>\n",
       "      <td>0.000000</td>\n",
       "      <td>0.000000</td>\n",
       "      <td>0.000000</td>\n",
       "      <td>0.000000</td>\n",
       "      <td>0.000000</td>\n",
       "      <td>...</td>\n",
       "      <td>0.000000</td>\n",
       "      <td>0.000000</td>\n",
       "      <td>0.000000</td>\n",
       "      <td>0.000000</td>\n",
       "      <td>0.000000</td>\n",
       "      <td>0.000000</td>\n",
       "      <td>0.000000</td>\n",
       "      <td>0.000000</td>\n",
       "      <td>0.000000</td>\n",
       "      <td>0.000000</td>\n",
       "    </tr>\n",
       "  </tbody>\n",
       "</table>\n",
       "<p>10 rows × 371 columns</p>\n",
       "</div>"
      ],
      "text/plain": [
       "          Day        000060        000080        000100         000120  \\\n",
       "0  2021-11-01  28662.309122  35495.534939  61006.053663  144351.415001   \n",
       "1  2021-11-02  28684.233081  36021.664244  60789.697309  144727.605182   \n",
       "2  2021-11-03  28985.835909  35835.462685  61117.956767  143808.357595   \n",
       "3  2021-11-04  29060.741007  35310.816998  60970.660650  143275.362703   \n",
       "4  2021-11-05  28806.836008  35086.990264  60468.836925  141648.028565   \n",
       "5  2021-11-29      0.000000      0.000000      0.000000       0.000000   \n",
       "6  2021-11-30      0.000000      0.000000      0.000000       0.000000   \n",
       "7  2021-12-01      0.000000      0.000000      0.000000       0.000000   \n",
       "8  2021-12-02      0.000000      0.000000      0.000000       0.000000   \n",
       "9  2021-12-03      0.000000      0.000000      0.000000       0.000000   \n",
       "\n",
       "          000150        000240        000250        000270         000660  \\\n",
       "0  102443.460665  16846.857155  49434.506056  87006.945802  107603.675492   \n",
       "1  105103.176909  16866.065141  49792.038491  88168.709847  108026.768784   \n",
       "2  105717.791524  17082.524419  51011.988483  88441.029875  108940.465942   \n",
       "3  106569.592850  16923.660172  50665.905341  88947.385554  108874.573770   \n",
       "4  105237.551336  16823.623153  51250.901241  89290.295738  110686.271011   \n",
       "5       0.000000      0.000000      0.000000      0.000000       0.000000   \n",
       "6       0.000000      0.000000      0.000000      0.000000       0.000000   \n",
       "7       0.000000      0.000000      0.000000      0.000000       0.000000   \n",
       "8       0.000000      0.000000      0.000000      0.000000       0.000000   \n",
       "9       0.000000      0.000000      0.000000      0.000000       0.000000   \n",
       "\n",
       "   ...        330860        336260        336370        347860        348150  \\\n",
       "0  ...  49055.111658  50627.950933  80386.475273  37496.397886  26452.614250   \n",
       "1  ...  49223.144096  50863.133342  82133.480629  37702.842839  26228.208138   \n",
       "2  ...  49054.837972  52341.097944  82701.533404  37939.982626  26842.222221   \n",
       "3  ...  48784.617744  52970.361140  83805.247443  37834.029245  26701.069934   \n",
       "4  ...  49821.425389  51512.288625  82391.141350  37634.794607  26195.855163   \n",
       "5  ...      0.000000      0.000000      0.000000      0.000000      0.000000   \n",
       "6  ...      0.000000      0.000000      0.000000      0.000000      0.000000   \n",
       "7  ...      0.000000      0.000000      0.000000      0.000000      0.000000   \n",
       "8  ...      0.000000      0.000000      0.000000      0.000000      0.000000   \n",
       "9  ...      0.000000      0.000000      0.000000      0.000000      0.000000   \n",
       "\n",
       "         348210         352820         357780        363280        950130  \n",
       "0  55586.372855  330365.168263  264253.319617  27534.549225  17807.780673  \n",
       "1  55194.492037  330151.975805  262127.772236  27430.710930  17766.066366  \n",
       "2  55546.807853  338527.255999  264640.701830  27516.367072  17740.304706  \n",
       "3  55985.058408  342457.532738  268323.191955  27474.042192  18173.059011  \n",
       "4  55893.060975  335329.366551  267117.938696  27455.416181  17794.850525  \n",
       "5      0.000000       0.000000       0.000000      0.000000      0.000000  \n",
       "6      0.000000       0.000000       0.000000      0.000000      0.000000  \n",
       "7      0.000000       0.000000       0.000000      0.000000      0.000000  \n",
       "8      0.000000       0.000000       0.000000      0.000000      0.000000  \n",
       "9      0.000000       0.000000       0.000000      0.000000      0.000000  \n",
       "\n",
       "[10 rows x 371 columns]"
      ]
     },
     "execution_count": 8,
     "metadata": {},
     "output_type": "execute_result"
    }
   ],
   "source": [
    "sample_submission"
   ]
  },
  {
   "cell_type": "code",
   "execution_count": 9,
   "id": "7194befe",
   "metadata": {
    "ExecuteTime": {
     "end_time": "2021-11-24T06:44:17.411034Z",
     "start_time": "2021-11-24T06:43:46.008383Z"
    }
   },
   "outputs": [
    {
     "name": "stdout",
     "output_type": "stream",
     "text": [
      "WEEKDAY of \"start_date\" : 0\n",
      "NUM of WEEKS to \"end_date\" : 44\n",
      "HOW MANY \"Business_days\" : (5, 1)\n"
     ]
    },
    {
     "name": "stderr",
     "output_type": "stream",
     "text": [
      "100%|██████████| 370/370 [04:42<00:00,  1.31it/s]"
     ]
    },
    {
     "name": "stdout",
     "output_type": "stream",
     "text": [
      "[[27850 35200 60000 ... 261600 26600 17600]\n",
      " [29250 35050 61700 ... 258600 27100 18100]\n",
      " [30250 34050 61500 ... 253700 26750 18300]\n",
      " [29450 33800 61100 ... 249600 26350 17550]\n",
      " [29550 33450 60600 ... 247800 26050 17550]]\n",
      "[[28662.30912172709 35495.53493903899 61006.05366281918 ...\n",
      "  264253.31961673714 27534.54922499878 17807.780672503348]\n",
      " [28684.233080883732 36021.66424364583 60789.697309361465 ...\n",
      "  262127.77223622293 27430.710929919376 17766.06636608984]\n",
      " [28985.83590893711 35835.462685386614 61117.956766772644 ...\n",
      "  264640.70183023653 27516.367071715544 17740.304706374474]\n",
      " [29060.741006670043 35310.81699814992 60970.660650097714 ...\n",
      "  268323.19195525354 27474.042192488832 18173.059011081332]\n",
      " [28806.83600758845 35086.990264443244 60468.83692457952 ...\n",
      "  267117.9386955889 27455.416181252458 17794.850525472237]]\n",
      "3.8230251184324167\n"
     ]
    },
    {
     "name": "stderr",
     "output_type": "stream",
     "text": [
      "\n"
     ]
    }
   ],
   "source": [
    "\n",
    "start_date = '20211101'\n",
    "end_date = '20211105'\n",
    "\n",
    "start_weekday = pd.to_datetime(start_date).weekday()\n",
    "max_weeknum = pd.to_datetime(end_date).strftime('%V')\n",
    "Business_days = pd.DataFrame(pd.date_range(start_date,end_date,freq='B'), columns = ['Date'])\n",
    "\n",
    "print(f'WEEKDAY of \"start_date\" : {start_weekday}')\n",
    "print(f'NUM of WEEKS to \"end_date\" : {max_weeknum}')\n",
    "print(f'HOW MANY \"Business_days\" : {Business_days.shape}', )\n",
    "\n",
    "\n",
    "real=[]\n",
    "real_data=pd.read_csv('C:\\\\Users\\\\user\\\\Desktop\\\\computing\\\\outside\\\\dacon\\\\stock_predict2\\\\open\\\\sample_submission.csv')\n",
    "for code in tqdm(stock_list['종목코드'].values):\n",
    "    data = fdr.DataReader(code, start = start_date, end = end_date)[['Close']].reset_index()\n",
    "    data = pd.merge(Business_days, data, how = 'outer')\n",
    "    data['weekday'] = data.Date.apply(lambda x : x.weekday())\n",
    "    data['weeknum'] = data.Date.apply(lambda x : x.strftime('%V'))\n",
    "    data.Close = data.Close.ffill()\n",
    "    data.Close = data.Close.bfill()\n",
    "\n",
    "    real_data_close = pd.pivot_table(data = data, values = 'Close', columns = 'weekday', index = 'weeknum')\n",
    "    real_data_close_flatten = np.ravel(real_data_close.to_numpy())\n",
    "    # print(real_data_close_flatten)\n",
    "    \n",
    "\n",
    "    real_data.loc[:4,code]=real_data_close_flatten\n",
    "\n",
    "\n",
    "type(real_data)\n",
    "type(sample_submission)\n",
    "\n",
    "label_np = real_data.to_numpy()[0:5,1:]\n",
    "pred_np = sample_submission.to_numpy()[0:5, 1:]\n",
    "# print(pred_np)\n",
    "print(label_np)\n",
    "print(pred_np)\n",
    "result=np.mean(abs(label_np-pred_np)/label_np)*100\n",
    "print(result)"
   ]
  },
  {
   "cell_type": "code",
   "execution_count": 10,
   "id": "fc6f9567",
   "metadata": {
    "ExecuteTime": {
     "end_time": "2021-11-23T10:46:11.015930Z",
     "start_time": "2021-11-23T10:46:10.996982Z"
    }
   },
   "outputs": [],
   "source": [
    "\n",
    "sample_submission.to_csv('arima.csv',index=False)"
   ]
  },
  {
   "cell_type": "code",
   "execution_count": 11,
   "id": "11050982",
   "metadata": {},
   "outputs": [
    {
     "name": "stdout",
     "output_type": "stream",
     "text": [
      "WEEKDAY of \"start_date\" : 6\n",
      "NUM of WEEKS to \"end_date\" : 47\n",
      "HOW MANY \"Business_days\" : (385, 1)\n"
     ]
    },
    {
     "data": {
      "text/html": [
       "<div>\n",
       "<style scoped>\n",
       "    .dataframe tbody tr th:only-of-type {\n",
       "        vertical-align: middle;\n",
       "    }\n",
       "\n",
       "    .dataframe tbody tr th {\n",
       "        vertical-align: top;\n",
       "    }\n",
       "\n",
       "    .dataframe thead th {\n",
       "        text-align: right;\n",
       "    }\n",
       "</style>\n",
       "<table border=\"1\" class=\"dataframe\">\n",
       "  <thead>\n",
       "    <tr style=\"text-align: right;\">\n",
       "      <th></th>\n",
       "      <th>Date</th>\n",
       "    </tr>\n",
       "  </thead>\n",
       "  <tbody>\n",
       "    <tr>\n",
       "      <th>0</th>\n",
       "      <td>2020-06-08</td>\n",
       "    </tr>\n",
       "    <tr>\n",
       "      <th>1</th>\n",
       "      <td>2020-06-09</td>\n",
       "    </tr>\n",
       "    <tr>\n",
       "      <th>2</th>\n",
       "      <td>2020-06-10</td>\n",
       "    </tr>\n",
       "    <tr>\n",
       "      <th>3</th>\n",
       "      <td>2020-06-11</td>\n",
       "    </tr>\n",
       "    <tr>\n",
       "      <th>4</th>\n",
       "      <td>2020-06-12</td>\n",
       "    </tr>\n",
       "  </tbody>\n",
       "</table>\n",
       "</div>"
      ],
      "text/plain": [
       "        Date\n",
       "0 2020-06-08\n",
       "1 2020-06-09\n",
       "2 2020-06-10\n",
       "3 2020-06-11\n",
       "4 2020-06-12"
      ]
     },
     "metadata": {},
     "output_type": "display_data"
    },
    {
     "data": {
      "text/html": [
       "<div>\n",
       "<style scoped>\n",
       "    .dataframe tbody tr th:only-of-type {\n",
       "        vertical-align: middle;\n",
       "    }\n",
       "\n",
       "    .dataframe tbody tr th {\n",
       "        vertical-align: top;\n",
       "    }\n",
       "\n",
       "    .dataframe thead th {\n",
       "        text-align: right;\n",
       "    }\n",
       "</style>\n",
       "<table border=\"1\" class=\"dataframe\">\n",
       "  <thead>\n",
       "    <tr style=\"text-align: right;\">\n",
       "      <th></th>\n",
       "      <th>Date</th>\n",
       "    </tr>\n",
       "  </thead>\n",
       "  <tbody>\n",
       "    <tr>\n",
       "      <th>380</th>\n",
       "      <td>2021-11-22</td>\n",
       "    </tr>\n",
       "    <tr>\n",
       "      <th>381</th>\n",
       "      <td>2021-11-23</td>\n",
       "    </tr>\n",
       "    <tr>\n",
       "      <th>382</th>\n",
       "      <td>2021-11-24</td>\n",
       "    </tr>\n",
       "    <tr>\n",
       "      <th>383</th>\n",
       "      <td>2021-11-25</td>\n",
       "    </tr>\n",
       "    <tr>\n",
       "      <th>384</th>\n",
       "      <td>2021-11-26</td>\n",
       "    </tr>\n",
       "  </tbody>\n",
       "</table>\n",
       "</div>"
      ],
      "text/plain": [
       "          Date\n",
       "380 2021-11-22\n",
       "381 2021-11-23\n",
       "382 2021-11-24\n",
       "383 2021-11-25\n",
       "384 2021-11-26"
      ]
     },
     "metadata": {},
     "output_type": "display_data"
    }
   ],
   "source": [
    "# start_date = '20210101'\n",
    "start_date = '20200607'\n",
    "end_date = '20211126'\n",
    "\n",
    "start_weekday = pd.to_datetime(start_date).weekday()\n",
    "max_weeknum = pd.to_datetime(end_date).strftime('%V')\n",
    "Business_days = pd.DataFrame(pd.date_range(start_date,end_date,freq='B'), columns = ['Date'])\n",
    "\n",
    "print(f'WEEKDAY of \"start_date\" : {start_weekday}')\n",
    "print(f'NUM of WEEKS to \"end_date\" : {max_weeknum}')\n",
    "print(f'HOW MANY \"Business_days\" : {Business_days.shape}', )\n",
    "display(Business_days.head())\n",
    "display(Business_days.tail())\n"
   ]
  },
  {
   "cell_type": "code",
   "execution_count": 12,
   "id": "59d470b5",
   "metadata": {},
   "outputs": [
    {
     "name": "stderr",
     "output_type": "stream",
     "text": [
      "  0%|          | 1/370 [00:35<3:40:26, 35.84s/it]"
     ]
    },
    {
     "name": "stdout",
     "output_type": "stream",
     "text": [
      "[74112.70338369762, 75801.58543143269, 76063.58748107064, 75749.16196801816, 75087.87451319641]\n"
     ]
    },
    {
     "name": "stderr",
     "output_type": "stream",
     "text": [
      "  1%|          | 2/370 [01:11<3:38:14, 35.58s/it]"
     ]
    },
    {
     "name": "stdout",
     "output_type": "stream",
     "text": [
      "[118426.08436238616, 122223.92208829624, 122108.82239663323, 122343.11141181122, 121097.08751746855]\n"
     ]
    },
    {
     "name": "stderr",
     "output_type": "stream",
     "text": [
      "  1%|          | 3/370 [01:48<3:41:00, 36.13s/it]"
     ]
    },
    {
     "name": "stdout",
     "output_type": "stream",
     "text": [
      "[396737.4776286368, 399692.4261958516, 395282.74336842477, 391959.3317849508, 393317.1188628799]\n"
     ]
    },
    {
     "name": "stderr",
     "output_type": "stream",
     "text": [
      "  1%|          | 4/370 [02:01<2:44:48, 27.02s/it]"
     ]
    },
    {
     "name": "stdout",
     "output_type": "stream",
     "text": [
      "[129231.41276388503, 129557.77098803532, 127308.71841168136, 126332.60044256698, 128374.1222859215]\n"
     ]
    },
    {
     "name": "stderr",
     "output_type": "stream",
     "text": [
      "  1%|▏         | 5/370 [04:14<6:38:34, 65.52s/it]"
     ]
    },
    {
     "name": "stdout",
     "output_type": "stream",
     "text": [
      "[868983.2194404327, 858694.6254313338, 852628.7889898277, 849634.0210256702, 845933.4982342776]\n"
     ]
    },
    {
     "name": "stderr",
     "output_type": "stream",
     "text": [
      "  2%|▏         | 6/370 [04:51<5:37:20, 55.61s/it]"
     ]
    },
    {
     "name": "stdout",
     "output_type": "stream",
     "text": [
      "[68066.06362780262, 69520.27337178, 69554.88084068349, 69089.53389526374, 68688.10632257762]\n"
     ]
    },
    {
     "name": "stderr",
     "output_type": "stream",
     "text": [
      "  2%|▏         | 7/370 [05:14<4:33:27, 45.20s/it]"
     ]
    },
    {
     "name": "stdout",
     "output_type": "stream",
     "text": [
      "[734520.4390490194, 736714.503850979, 732767.0063861223, 730359.5785594258, 728750.3036722599]\n"
     ]
    },
    {
     "name": "stderr",
     "output_type": "stream",
     "text": [
      "  2%|▏         | 8/370 [05:46<4:05:29, 40.69s/it]"
     ]
    },
    {
     "name": "stdout",
     "output_type": "stream",
     "text": [
      "[715058.275190173, 711813.3997700231, 709190.2085605857, 708102.0736652138, 700064.36443193]\n"
     ]
    },
    {
     "name": "stderr",
     "output_type": "stream",
     "text": [
      "  2%|▏         | 9/370 [06:05<3:25:07, 34.09s/it]"
     ]
    },
    {
     "name": "stdout",
     "output_type": "stream",
     "text": [
      "[211359.91866503312, 214094.1508999193, 212976.40931501714, 212309.17596498568, 211025.13821992028]\n"
     ]
    },
    {
     "name": "stderr",
     "output_type": "stream",
     "text": [
      "  3%|▎         | 10/370 [06:29<3:05:20, 30.89s/it]"
     ]
    },
    {
     "name": "stdout",
     "output_type": "stream",
     "text": [
      "[212146.61332600904, 212858.90122739522, 207882.5770320844, 207097.05489996017, 205559.6524173239]\n"
     ]
    },
    {
     "name": "stderr",
     "output_type": "stream",
     "text": [
      "  3%|▎         | 11/370 [06:45<2:37:55, 26.39s/it]"
     ]
    },
    {
     "name": "stdout",
     "output_type": "stream",
     "text": [
      "[83809.20442517697, 84605.76135340688, 82756.34681010935, 82169.60846991932, 81040.56558836653]\n"
     ]
    },
    {
     "name": "stderr",
     "output_type": "stream",
     "text": [
      "  3%|▎         | 12/370 [07:24<2:59:26, 30.07s/it]"
     ]
    },
    {
     "name": "stdout",
     "output_type": "stream",
     "text": [
      "[278727.70050232473, 280478.978849633, 282829.791188536, 279044.06800489215, 277654.7699683094]\n"
     ]
    },
    {
     "name": "stderr",
     "output_type": "stream",
     "text": [
      "  4%|▎         | 13/370 [07:37<2:29:52, 25.19s/it]"
     ]
    },
    {
     "name": "stdout",
     "output_type": "stream",
     "text": [
      "[132297.66297629417, 132958.54879189725, 129876.25661300292, 128984.50671790204, 126787.70713480521]\n"
     ]
    },
    {
     "name": "stderr",
     "output_type": "stream",
     "text": [
      "  4%|▍         | 14/370 [10:16<6:28:32, 65.48s/it]"
     ]
    },
    {
     "name": "stdout",
     "output_type": "stream",
     "text": [
      "[114019.72577731687, 115680.0855130633, 115634.39465267264, 115149.76991747657, 113468.97014129389]\n"
     ]
    },
    {
     "name": "stderr",
     "output_type": "stream",
     "text": [
      "  4%|▍         | 15/370 [10:39<5:12:17, 52.78s/it]"
     ]
    },
    {
     "name": "stdout",
     "output_type": "stream",
     "text": [
      "[241076.5095468776, 245259.32062324352, 243320.11181208456, 242927.73467359977, 241161.007849298]\n"
     ]
    },
    {
     "name": "stderr",
     "output_type": "stream",
     "text": [
      "  4%|▍         | 16/370 [11:02<4:17:24, 43.63s/it]"
     ]
    },
    {
     "name": "stdout",
     "output_type": "stream",
     "text": [
      "[219234.57854369626, 219717.64521592445, 221073.22759323323, 219565.17006972752, 217644.58122255138]\n"
     ]
    },
    {
     "name": "stderr",
     "output_type": "stream",
     "text": [
      "  5%|▍         | 17/370 [11:39<4:05:19, 41.70s/it]"
     ]
    },
    {
     "name": "stdout",
     "output_type": "stream",
     "text": [
      "[1162969.5422256768, 1160401.9429547573, 1158124.250978908, 1154091.8176812183, 1156896.8185055293]\n"
     ]
    },
    {
     "name": "stderr",
     "output_type": "stream",
     "text": [
      "  5%|▍         | 18/370 [12:15<3:53:43, 39.84s/it]"
     ]
    },
    {
     "name": "stdout",
     "output_type": "stream",
     "text": [
      "[310201.3596296922, 310049.7855136469, 310100.489127566, 310448.1871580839, 309990.4582614809]\n"
     ]
    },
    {
     "name": "stderr",
     "output_type": "stream",
     "text": [
      "  5%|▌         | 19/370 [12:37<3:23:04, 34.71s/it]"
     ]
    },
    {
     "name": "stdout",
     "output_type": "stream",
     "text": [
      "[57382.42133239425, 57270.55657688682, 57576.36501358473, 57751.76293705421, 57675.24668108324]\n"
     ]
    },
    {
     "name": "stderr",
     "output_type": "stream",
     "text": [
      "  5%|▌         | 20/370 [13:19<3:34:38, 36.79s/it]"
     ]
    },
    {
     "name": "stdout",
     "output_type": "stream",
     "text": [
      "[37242.180528713354, 37323.459232865396, 37373.33366199482, 37327.07833629755, 37231.1566008957]\n"
     ]
    },
    {
     "name": "stderr",
     "output_type": "stream",
     "text": [
      "  6%|▌         | 21/370 [13:40<3:05:58, 31.97s/it]"
     ]
    },
    {
     "name": "stdout",
     "output_type": "stream",
     "text": [
      "[262435.5119815025, 263370.3498972438, 260546.18522918219, 269295.40587938746, 269986.6209081523]\n"
     ]
    },
    {
     "name": "stderr",
     "output_type": "stream",
     "text": [
      "  6%|▌         | 22/370 [15:41<5:41:10, 58.82s/it]"
     ]
    },
    {
     "name": "stdout",
     "output_type": "stream",
     "text": [
      "[706522.8800802553, 701864.8909435857, 678420.3341889539, 668673.4742377799, 676519.5530651209]\n"
     ]
    },
    {
     "name": "stderr",
     "output_type": "stream",
     "text": [
      "  6%|▌         | 23/370 [15:59<4:29:18, 46.57s/it]"
     ]
    },
    {
     "name": "stdout",
     "output_type": "stream",
     "text": [
      "[24611.43846460618, 24796.647495824065, 24323.586289312836, 23983.021046254846, 24233.54612905645]\n"
     ]
    },
    {
     "name": "stderr",
     "output_type": "stream",
     "text": [
      "  6%|▋         | 24/370 [16:14<3:33:32, 37.03s/it]"
     ]
    },
    {
     "name": "stdout",
     "output_type": "stream",
     "text": [
      "[22327.700271611364, 22402.23479970508, 22384.96438206499, 22159.539280635207, 22015.418794243316]\n"
     ]
    },
    {
     "name": "stderr",
     "output_type": "stream",
     "text": [
      "  7%|▋         | 25/370 [17:29<4:38:19, 48.40s/it]"
     ]
    },
    {
     "name": "stdout",
     "output_type": "stream",
     "text": [
      "[64966.36766440689, 65369.227652473775, 65400.054587886545, 65251.810162257396, 64934.81465206309]\n"
     ]
    },
    {
     "name": "stderr",
     "output_type": "stream",
     "text": [
      "  7%|▋         | 26/370 [18:02<4:11:54, 43.94s/it]"
     ]
    },
    {
     "name": "stdout",
     "output_type": "stream",
     "text": [
      "[155305.1080332704, 156879.80035356985, 154992.5712898467, 155503.68973574834, 154497.66483412785]\n"
     ]
    },
    {
     "name": "stderr",
     "output_type": "stream",
     "text": [
      "  7%|▋         | 27/370 [18:48<4:14:41, 44.55s/it]"
     ]
    },
    {
     "name": "stdout",
     "output_type": "stream",
     "text": [
      "[182391.13094800577, 183864.39140709618, 183830.4467443825, 183771.5051030258, 183756.16138577115]\n"
     ]
    },
    {
     "name": "stderr",
     "output_type": "stream",
     "text": [
      "  8%|▊         | 28/370 [19:08<3:32:12, 37.23s/it]"
     ]
    },
    {
     "name": "stdout",
     "output_type": "stream",
     "text": [
      "[175087.98127688273, 175710.21779865105, 174395.1784911404, 171722.26660190136, 171302.2782461523]\n"
     ]
    },
    {
     "name": "stderr",
     "output_type": "stream",
     "text": [
      "  8%|▊         | 29/370 [19:33<3:10:34, 33.53s/it]"
     ]
    },
    {
     "name": "stdout",
     "output_type": "stream",
     "text": [
      "[42573.593472891094, 42591.28456285454, 42703.47035335341, 42902.04430086571, 42621.69751572262]\n"
     ]
    },
    {
     "name": "stderr",
     "output_type": "stream",
     "text": [
      "  8%|▊         | 30/370 [20:01<2:59:26, 31.67s/it]"
     ]
    },
    {
     "name": "stdout",
     "output_type": "stream",
     "text": [
      "[120111.66928419912, 119209.4200494766, 119293.427949667, 118931.34385899802, 118876.03236748518]\n"
     ]
    },
    {
     "name": "stderr",
     "output_type": "stream",
     "text": [
      "  8%|▊         | 31/370 [20:16<2:30:25, 26.62s/it]"
     ]
    },
    {
     "name": "stdout",
     "output_type": "stream",
     "text": [
      "[166741.36451056946, 165504.4349152488, 167339.25971654773, 166444.240574626, 171425.6738438253]\n"
     ]
    },
    {
     "name": "stderr",
     "output_type": "stream",
     "text": [
      "  9%|▊         | 32/370 [20:34<2:15:24, 24.04s/it]"
     ]
    },
    {
     "name": "stdout",
     "output_type": "stream",
     "text": [
      "[383599.6074202758, 381422.805615403, 382594.78707926575, 379241.510983015, 379626.6637886039]\n"
     ]
    },
    {
     "name": "stderr",
     "output_type": "stream",
     "text": [
      "  9%|▊         | 32/370 [20:47<3:39:38, 38.99s/it]\n"
     ]
    },
    {
     "ename": "KeyboardInterrupt",
     "evalue": "",
     "output_type": "error",
     "traceback": [
      "\u001b[1;31m---------------------------------------------------------------------------\u001b[0m",
      "\u001b[1;31mKeyboardInterrupt\u001b[0m                         Traceback (most recent call last)",
      "\u001b[1;32m<ipython-input-12-2e1ec12098f8>\u001b[0m in \u001b[0;36m<module>\u001b[1;34m\u001b[0m\n\u001b[0;32m     39\u001b[0m     \u001b[1;31m# autoarima\u001b[0m\u001b[1;33m\u001b[0m\u001b[1;33m\u001b[0m\u001b[1;33m\u001b[0m\u001b[0m\n\u001b[0;32m     40\u001b[0m     \u001b[0marima_data\u001b[0m \u001b[1;33m=\u001b[0m \u001b[0mdata\u001b[0m\u001b[1;33m[\u001b[0m\u001b[1;33m:\u001b[0m\u001b[1;33m-\u001b[0m\u001b[1;36m1\u001b[0m\u001b[1;33m]\u001b[0m\u001b[1;33m\u001b[0m\u001b[1;33m\u001b[0m\u001b[0m\n\u001b[1;32m---> 41\u001b[1;33m     model = auto_arima(arima_data.Close,\n\u001b[0m\u001b[0;32m     42\u001b[0m     \u001b[0mstart_p\u001b[0m\u001b[1;33m=\u001b[0m\u001b[1;36m0\u001b[0m\u001b[1;33m,\u001b[0m \u001b[0mstart_q\u001b[0m\u001b[1;33m=\u001b[0m\u001b[1;36m0\u001b[0m\u001b[1;33m,\u001b[0m\u001b[0md\u001b[0m\u001b[1;33m=\u001b[0m\u001b[1;36m1\u001b[0m\u001b[1;33m,\u001b[0m\u001b[1;33m\u001b[0m\u001b[1;33m\u001b[0m\u001b[0m\n\u001b[0;32m     43\u001b[0m     \u001b[0mmax_p\u001b[0m\u001b[1;33m=\u001b[0m\u001b[1;36m4\u001b[0m\u001b[1;33m,\u001b[0m \u001b[0mmax_q\u001b[0m\u001b[1;33m=\u001b[0m\u001b[1;36m4\u001b[0m\u001b[1;33m,\u001b[0m\u001b[0mmax_d\u001b[0m\u001b[1;33m=\u001b[0m\u001b[1;36m2\u001b[0m\u001b[1;33m,\u001b[0m\u001b[1;33m\u001b[0m\u001b[1;33m\u001b[0m\u001b[0m\n",
      "\u001b[1;32m~\\.conda\\envs\\stockpredict\\lib\\site-packages\\pmdarima\\arima\\auto.py\u001b[0m in \u001b[0;36mauto_arima\u001b[1;34m(y, X, start_p, d, start_q, max_p, max_d, max_q, start_P, D, start_Q, max_P, max_D, max_Q, max_order, m, seasonal, stationary, information_criterion, alpha, test, seasonal_test, stepwise, n_jobs, start_params, trend, method, maxiter, offset_test_args, seasonal_test_args, suppress_warnings, error_action, trace, random, random_state, n_fits, return_valid_fits, out_of_sample_size, scoring, scoring_args, with_intercept, sarimax_kwargs, **fit_args)\u001b[0m\n\u001b[0;32m    715\u001b[0m         )\n\u001b[0;32m    716\u001b[0m \u001b[1;33m\u001b[0m\u001b[0m\n\u001b[1;32m--> 717\u001b[1;33m     \u001b[0msorted_res\u001b[0m \u001b[1;33m=\u001b[0m \u001b[0msearch\u001b[0m\u001b[1;33m.\u001b[0m\u001b[0msolve\u001b[0m\u001b[1;33m(\u001b[0m\u001b[1;33m)\u001b[0m\u001b[1;33m\u001b[0m\u001b[1;33m\u001b[0m\u001b[0m\n\u001b[0m\u001b[0;32m    718\u001b[0m     \u001b[1;32mreturn\u001b[0m \u001b[0m_return_wrapper\u001b[0m\u001b[1;33m(\u001b[0m\u001b[0msorted_res\u001b[0m\u001b[1;33m,\u001b[0m \u001b[0mreturn_valid_fits\u001b[0m\u001b[1;33m,\u001b[0m \u001b[0mstart\u001b[0m\u001b[1;33m,\u001b[0m \u001b[0mtrace\u001b[0m\u001b[1;33m)\u001b[0m\u001b[1;33m\u001b[0m\u001b[1;33m\u001b[0m\u001b[0m\n\u001b[0;32m    719\u001b[0m \u001b[1;33m\u001b[0m\u001b[0m\n",
      "\u001b[1;32m~\\.conda\\envs\\stockpredict\\lib\\site-packages\\pmdarima\\arima\\_auto_solvers.py\u001b[0m in \u001b[0;36msolve\u001b[1;34m(self)\u001b[0m\n\u001b[0;32m    349\u001b[0m             \u001b[1;32mif\u001b[0m \u001b[0mQ\u001b[0m \u001b[1;33m<\u001b[0m \u001b[0mmax_Q\u001b[0m \u001b[1;32mand\u001b[0m\u001b[0;31m \u001b[0m\u001b[0;31m\\\u001b[0m\u001b[1;33m\u001b[0m\u001b[1;33m\u001b[0m\u001b[0m\n\u001b[0;32m    350\u001b[0m                     \u001b[0mself\u001b[0m\u001b[1;33m.\u001b[0m\u001b[0mk\u001b[0m \u001b[1;33m<\u001b[0m \u001b[0mself\u001b[0m\u001b[1;33m.\u001b[0m\u001b[0mmax_k\u001b[0m \u001b[1;32mand\u001b[0m\u001b[0;31m \u001b[0m\u001b[0;31m\\\u001b[0m\u001b[1;33m\u001b[0m\u001b[1;33m\u001b[0m\u001b[0m\n\u001b[1;32m--> 351\u001b[1;33m                     \u001b[0mself\u001b[0m\u001b[1;33m.\u001b[0m\u001b[0m_do_fit\u001b[0m\u001b[1;33m(\u001b[0m\u001b[1;33m(\u001b[0m\u001b[0mp\u001b[0m\u001b[1;33m,\u001b[0m \u001b[0md\u001b[0m\u001b[1;33m,\u001b[0m \u001b[0mq\u001b[0m\u001b[1;33m)\u001b[0m\u001b[1;33m,\u001b[0m \u001b[1;33m(\u001b[0m\u001b[0mP\u001b[0m\u001b[1;33m,\u001b[0m \u001b[0mD\u001b[0m\u001b[1;33m,\u001b[0m \u001b[0mQ\u001b[0m \u001b[1;33m+\u001b[0m \u001b[1;36m1\u001b[0m\u001b[1;33m,\u001b[0m \u001b[0mm\u001b[0m\u001b[1;33m)\u001b[0m\u001b[1;33m)\u001b[0m\u001b[1;33m:\u001b[0m\u001b[1;33m\u001b[0m\u001b[1;33m\u001b[0m\u001b[0m\n\u001b[0m\u001b[0;32m    352\u001b[0m                 \u001b[0mQ\u001b[0m \u001b[1;33m+=\u001b[0m \u001b[1;36m1\u001b[0m\u001b[1;33m\u001b[0m\u001b[1;33m\u001b[0m\u001b[0m\n\u001b[0;32m    353\u001b[0m                 \u001b[1;32mcontinue\u001b[0m\u001b[1;33m\u001b[0m\u001b[1;33m\u001b[0m\u001b[0m\n",
      "\u001b[1;32m~\\.conda\\envs\\stockpredict\\lib\\site-packages\\pmdarima\\arima\\_auto_solvers.py\u001b[0m in \u001b[0;36m_do_fit\u001b[1;34m(self, order, seasonal_order, constant)\u001b[0m\n\u001b[0;32m    231\u001b[0m             \u001b[0mself\u001b[0m\u001b[1;33m.\u001b[0m\u001b[0mk\u001b[0m \u001b[1;33m+=\u001b[0m \u001b[1;36m1\u001b[0m\u001b[1;33m\u001b[0m\u001b[1;33m\u001b[0m\u001b[0m\n\u001b[0;32m    232\u001b[0m \u001b[1;33m\u001b[0m\u001b[0m\n\u001b[1;32m--> 233\u001b[1;33m             fit, fit_time, new_ic = self._fit_arima(\n\u001b[0m\u001b[0;32m    234\u001b[0m                 \u001b[0morder\u001b[0m\u001b[1;33m=\u001b[0m\u001b[0morder\u001b[0m\u001b[1;33m,\u001b[0m\u001b[1;33m\u001b[0m\u001b[1;33m\u001b[0m\u001b[0m\n\u001b[0;32m    235\u001b[0m                 \u001b[0mseasonal_order\u001b[0m\u001b[1;33m=\u001b[0m\u001b[0mseasonal_order\u001b[0m\u001b[1;33m,\u001b[0m\u001b[1;33m\u001b[0m\u001b[1;33m\u001b[0m\u001b[0m\n",
      "\u001b[1;32m~\\.conda\\envs\\stockpredict\\lib\\site-packages\\pmdarima\\arima\\_auto_solvers.py\u001b[0m in \u001b[0;36m_fit_candidate_model\u001b[1;34m(y, X, order, seasonal_order, start_params, trend, method, maxiter, fit_params, suppress_warnings, trace, error_action, out_of_sample_size, scoring, scoring_args, with_intercept, information_criterion, **kwargs)\u001b[0m\n\u001b[0;32m    504\u001b[0m \u001b[1;33m\u001b[0m\u001b[0m\n\u001b[0;32m    505\u001b[0m     \u001b[1;32mtry\u001b[0m\u001b[1;33m:\u001b[0m\u001b[1;33m\u001b[0m\u001b[1;33m\u001b[0m\u001b[0m\n\u001b[1;32m--> 506\u001b[1;33m         \u001b[0mfit\u001b[0m\u001b[1;33m.\u001b[0m\u001b[0mfit\u001b[0m\u001b[1;33m(\u001b[0m\u001b[0my\u001b[0m\u001b[1;33m,\u001b[0m \u001b[0mX\u001b[0m\u001b[1;33m=\u001b[0m\u001b[0mX\u001b[0m\u001b[1;33m,\u001b[0m \u001b[1;33m**\u001b[0m\u001b[0mfit_params\u001b[0m\u001b[1;33m)\u001b[0m\u001b[1;33m\u001b[0m\u001b[1;33m\u001b[0m\u001b[0m\n\u001b[0m\u001b[0;32m    507\u001b[0m \u001b[1;33m\u001b[0m\u001b[0m\n\u001b[0;32m    508\u001b[0m     \u001b[1;31m# for non-stationarity errors or singular matrices, return None\u001b[0m\u001b[1;33m\u001b[0m\u001b[1;33m\u001b[0m\u001b[1;33m\u001b[0m\u001b[0m\n",
      "\u001b[1;32m~\\.conda\\envs\\stockpredict\\lib\\site-packages\\pmdarima\\arima\\arima.py\u001b[0m in \u001b[0;36mfit\u001b[1;34m(self, y, X, **fit_args)\u001b[0m\n\u001b[0;32m    595\u001b[0m \u001b[1;33m\u001b[0m\u001b[0m\n\u001b[0;32m    596\u001b[0m         \u001b[1;31m# Internal call\u001b[0m\u001b[1;33m\u001b[0m\u001b[1;33m\u001b[0m\u001b[1;33m\u001b[0m\u001b[0m\n\u001b[1;32m--> 597\u001b[1;33m         \u001b[0mself\u001b[0m\u001b[1;33m.\u001b[0m\u001b[0m_fit\u001b[0m\u001b[1;33m(\u001b[0m\u001b[0my\u001b[0m\u001b[1;33m,\u001b[0m \u001b[0mX\u001b[0m\u001b[1;33m,\u001b[0m \u001b[1;33m**\u001b[0m\u001b[0mfit_args\u001b[0m\u001b[1;33m)\u001b[0m\u001b[1;33m\u001b[0m\u001b[1;33m\u001b[0m\u001b[0m\n\u001b[0m\u001b[0;32m    598\u001b[0m \u001b[1;33m\u001b[0m\u001b[0m\n\u001b[0;32m    599\u001b[0m         \u001b[1;31m# now make a forecast if we're validating to compute the\u001b[0m\u001b[1;33m\u001b[0m\u001b[1;33m\u001b[0m\u001b[1;33m\u001b[0m\u001b[0m\n",
      "\u001b[1;32m~\\.conda\\envs\\stockpredict\\lib\\site-packages\\pmdarima\\arima\\arima.py\u001b[0m in \u001b[0;36m_fit\u001b[1;34m(self, y, X, **fit_args)\u001b[0m\n\u001b[0;32m    516\u001b[0m             \u001b[1;32mwith\u001b[0m \u001b[0mwarnings\u001b[0m\u001b[1;33m.\u001b[0m\u001b[0mcatch_warnings\u001b[0m\u001b[1;33m(\u001b[0m\u001b[0mrecord\u001b[0m\u001b[1;33m=\u001b[0m\u001b[1;32mFalse\u001b[0m\u001b[1;33m)\u001b[0m\u001b[1;33m:\u001b[0m\u001b[1;33m\u001b[0m\u001b[1;33m\u001b[0m\u001b[0m\n\u001b[0;32m    517\u001b[0m                 \u001b[0mwarnings\u001b[0m\u001b[1;33m.\u001b[0m\u001b[0msimplefilter\u001b[0m\u001b[1;33m(\u001b[0m\u001b[1;34m'ignore'\u001b[0m\u001b[1;33m)\u001b[0m\u001b[1;33m\u001b[0m\u001b[1;33m\u001b[0m\u001b[0m\n\u001b[1;32m--> 518\u001b[1;33m                 \u001b[0mfit\u001b[0m\u001b[1;33m,\u001b[0m \u001b[0mself\u001b[0m\u001b[1;33m.\u001b[0m\u001b[0marima_res_\u001b[0m \u001b[1;33m=\u001b[0m \u001b[0m_fit_wrapper\u001b[0m\u001b[1;33m(\u001b[0m\u001b[1;33m)\u001b[0m\u001b[1;33m\u001b[0m\u001b[1;33m\u001b[0m\u001b[0m\n\u001b[0m\u001b[0;32m    519\u001b[0m         \u001b[1;32melse\u001b[0m\u001b[1;33m:\u001b[0m\u001b[1;33m\u001b[0m\u001b[1;33m\u001b[0m\u001b[0m\n\u001b[0;32m    520\u001b[0m             \u001b[0mfit\u001b[0m\u001b[1;33m,\u001b[0m \u001b[0mself\u001b[0m\u001b[1;33m.\u001b[0m\u001b[0marima_res_\u001b[0m \u001b[1;33m=\u001b[0m \u001b[0m_fit_wrapper\u001b[0m\u001b[1;33m(\u001b[0m\u001b[1;33m)\u001b[0m\u001b[1;33m\u001b[0m\u001b[1;33m\u001b[0m\u001b[0m\n",
      "\u001b[1;32m~\\.conda\\envs\\stockpredict\\lib\\site-packages\\pmdarima\\arima\\arima.py\u001b[0m in \u001b[0;36m_fit_wrapper\u001b[1;34m()\u001b[0m\n\u001b[0;32m    506\u001b[0m             \u001b[0mdisp\u001b[0m \u001b[1;33m=\u001b[0m \u001b[0mfit_args\u001b[0m\u001b[1;33m.\u001b[0m\u001b[0mpop\u001b[0m\u001b[1;33m(\u001b[0m\u001b[1;34m\"disp\"\u001b[0m\u001b[1;33m,\u001b[0m \u001b[1;36m0\u001b[0m\u001b[1;33m)\u001b[0m\u001b[1;33m\u001b[0m\u001b[1;33m\u001b[0m\u001b[0m\n\u001b[0;32m    507\u001b[0m \u001b[1;33m\u001b[0m\u001b[0m\n\u001b[1;32m--> 508\u001b[1;33m             return arima, arima.fit(start_params=start_params,\n\u001b[0m\u001b[0;32m    509\u001b[0m                                     \u001b[0mmethod\u001b[0m\u001b[1;33m=\u001b[0m\u001b[0mmethod\u001b[0m\u001b[1;33m,\u001b[0m\u001b[1;33m\u001b[0m\u001b[1;33m\u001b[0m\u001b[0m\n\u001b[0;32m    510\u001b[0m                                     \u001b[0mmaxiter\u001b[0m\u001b[1;33m=\u001b[0m\u001b[0m_maxiter\u001b[0m\u001b[1;33m,\u001b[0m\u001b[1;33m\u001b[0m\u001b[1;33m\u001b[0m\u001b[0m\n",
      "\u001b[1;32m~\\.conda\\envs\\stockpredict\\lib\\site-packages\\statsmodels\\tsa\\statespace\\mlemodel.py\u001b[0m in \u001b[0;36mfit\u001b[1;34m(self, start_params, transformed, includes_fixed, cov_type, cov_kwds, method, maxiter, full_output, disp, callback, return_params, optim_score, optim_complex_step, optim_hessian, flags, low_memory, **kwargs)\u001b[0m\n\u001b[0;32m    702\u001b[0m                 \u001b[0mflags\u001b[0m\u001b[1;33m[\u001b[0m\u001b[1;34m'hessian_method'\u001b[0m\u001b[1;33m]\u001b[0m \u001b[1;33m=\u001b[0m \u001b[0moptim_hessian\u001b[0m\u001b[1;33m\u001b[0m\u001b[1;33m\u001b[0m\u001b[0m\n\u001b[0;32m    703\u001b[0m             \u001b[0mfargs\u001b[0m \u001b[1;33m=\u001b[0m \u001b[1;33m(\u001b[0m\u001b[0mflags\u001b[0m\u001b[1;33m,\u001b[0m\u001b[1;33m)\u001b[0m\u001b[1;33m\u001b[0m\u001b[1;33m\u001b[0m\u001b[0m\n\u001b[1;32m--> 704\u001b[1;33m             mlefit = super(MLEModel, self).fit(start_params, method=method,\n\u001b[0m\u001b[0;32m    705\u001b[0m                                                \u001b[0mfargs\u001b[0m\u001b[1;33m=\u001b[0m\u001b[0mfargs\u001b[0m\u001b[1;33m,\u001b[0m\u001b[1;33m\u001b[0m\u001b[1;33m\u001b[0m\u001b[0m\n\u001b[0;32m    706\u001b[0m                                                \u001b[0mmaxiter\u001b[0m\u001b[1;33m=\u001b[0m\u001b[0mmaxiter\u001b[0m\u001b[1;33m,\u001b[0m\u001b[1;33m\u001b[0m\u001b[1;33m\u001b[0m\u001b[0m\n",
      "\u001b[1;32m~\\.conda\\envs\\stockpredict\\lib\\site-packages\\statsmodels\\base\\model.py\u001b[0m in \u001b[0;36mfit\u001b[1;34m(self, start_params, method, maxiter, full_output, disp, fargs, callback, retall, skip_hessian, **kwargs)\u001b[0m\n\u001b[0;32m    561\u001b[0m \u001b[1;33m\u001b[0m\u001b[0m\n\u001b[0;32m    562\u001b[0m         \u001b[0moptimizer\u001b[0m \u001b[1;33m=\u001b[0m \u001b[0mOptimizer\u001b[0m\u001b[1;33m(\u001b[0m\u001b[1;33m)\u001b[0m\u001b[1;33m\u001b[0m\u001b[1;33m\u001b[0m\u001b[0m\n\u001b[1;32m--> 563\u001b[1;33m         xopt, retvals, optim_settings = optimizer._fit(f, score, start_params,\n\u001b[0m\u001b[0;32m    564\u001b[0m                                                        \u001b[0mfargs\u001b[0m\u001b[1;33m,\u001b[0m \u001b[0mkwargs\u001b[0m\u001b[1;33m,\u001b[0m\u001b[1;33m\u001b[0m\u001b[1;33m\u001b[0m\u001b[0m\n\u001b[0;32m    565\u001b[0m                                                        \u001b[0mhessian\u001b[0m\u001b[1;33m=\u001b[0m\u001b[0mhess\u001b[0m\u001b[1;33m,\u001b[0m\u001b[1;33m\u001b[0m\u001b[1;33m\u001b[0m\u001b[0m\n",
      "\u001b[1;32m~\\.conda\\envs\\stockpredict\\lib\\site-packages\\statsmodels\\base\\optimizer.py\u001b[0m in \u001b[0;36m_fit\u001b[1;34m(self, objective, gradient, start_params, fargs, kwargs, hessian, method, maxiter, full_output, disp, callback, retall)\u001b[0m\n\u001b[0;32m    239\u001b[0m \u001b[1;33m\u001b[0m\u001b[0m\n\u001b[0;32m    240\u001b[0m         \u001b[0mfunc\u001b[0m \u001b[1;33m=\u001b[0m \u001b[0mfit_funcs\u001b[0m\u001b[1;33m[\u001b[0m\u001b[0mmethod\u001b[0m\u001b[1;33m]\u001b[0m\u001b[1;33m\u001b[0m\u001b[1;33m\u001b[0m\u001b[0m\n\u001b[1;32m--> 241\u001b[1;33m         xopt, retvals = func(objective, gradient, start_params, fargs, kwargs,\n\u001b[0m\u001b[0;32m    242\u001b[0m                              \u001b[0mdisp\u001b[0m\u001b[1;33m=\u001b[0m\u001b[0mdisp\u001b[0m\u001b[1;33m,\u001b[0m \u001b[0mmaxiter\u001b[0m\u001b[1;33m=\u001b[0m\u001b[0mmaxiter\u001b[0m\u001b[1;33m,\u001b[0m \u001b[0mcallback\u001b[0m\u001b[1;33m=\u001b[0m\u001b[0mcallback\u001b[0m\u001b[1;33m,\u001b[0m\u001b[1;33m\u001b[0m\u001b[1;33m\u001b[0m\u001b[0m\n\u001b[0;32m    243\u001b[0m                              \u001b[0mretall\u001b[0m\u001b[1;33m=\u001b[0m\u001b[0mretall\u001b[0m\u001b[1;33m,\u001b[0m \u001b[0mfull_output\u001b[0m\u001b[1;33m=\u001b[0m\u001b[0mfull_output\u001b[0m\u001b[1;33m,\u001b[0m\u001b[1;33m\u001b[0m\u001b[1;33m\u001b[0m\u001b[0m\n",
      "\u001b[1;32m~\\.conda\\envs\\stockpredict\\lib\\site-packages\\statsmodels\\base\\optimizer.py\u001b[0m in \u001b[0;36m_fit_lbfgs\u001b[1;34m(f, score, start_params, fargs, kwargs, disp, maxiter, callback, retall, full_output, hess)\u001b[0m\n\u001b[0;32m    649\u001b[0m         \u001b[0mfunc\u001b[0m \u001b[1;33m=\u001b[0m \u001b[0mf\u001b[0m\u001b[1;33m\u001b[0m\u001b[1;33m\u001b[0m\u001b[0m\n\u001b[0;32m    650\u001b[0m \u001b[1;33m\u001b[0m\u001b[0m\n\u001b[1;32m--> 651\u001b[1;33m     retvals = optimize.fmin_l_bfgs_b(func, start_params, maxiter=maxiter,\n\u001b[0m\u001b[0;32m    652\u001b[0m                                      \u001b[0mcallback\u001b[0m\u001b[1;33m=\u001b[0m\u001b[0mcallback\u001b[0m\u001b[1;33m,\u001b[0m \u001b[0margs\u001b[0m\u001b[1;33m=\u001b[0m\u001b[0mfargs\u001b[0m\u001b[1;33m,\u001b[0m\u001b[1;33m\u001b[0m\u001b[1;33m\u001b[0m\u001b[0m\n\u001b[0;32m    653\u001b[0m                                      \u001b[0mbounds\u001b[0m\u001b[1;33m=\u001b[0m\u001b[0mbounds\u001b[0m\u001b[1;33m,\u001b[0m \u001b[0mdisp\u001b[0m\u001b[1;33m=\u001b[0m\u001b[0mdisp\u001b[0m\u001b[1;33m,\u001b[0m\u001b[1;33m\u001b[0m\u001b[1;33m\u001b[0m\u001b[0m\n",
      "\u001b[1;32m~\\.conda\\envs\\stockpredict\\lib\\site-packages\\scipy\\optimize\\lbfgsb.py\u001b[0m in \u001b[0;36mfmin_l_bfgs_b\u001b[1;34m(func, x0, fprime, args, approx_grad, bounds, m, factr, pgtol, epsilon, iprint, maxfun, maxiter, disp, callback, maxls)\u001b[0m\n\u001b[0;32m    195\u001b[0m             'maxls': maxls}\n\u001b[0;32m    196\u001b[0m \u001b[1;33m\u001b[0m\u001b[0m\n\u001b[1;32m--> 197\u001b[1;33m     res = _minimize_lbfgsb(fun, x0, args=args, jac=jac, bounds=bounds,\n\u001b[0m\u001b[0;32m    198\u001b[0m                            **opts)\n\u001b[0;32m    199\u001b[0m     d = {'grad': res['jac'],\n",
      "\u001b[1;32m~\\.conda\\envs\\stockpredict\\lib\\site-packages\\scipy\\optimize\\lbfgsb.py\u001b[0m in \u001b[0;36m_minimize_lbfgsb\u001b[1;34m(fun, x0, args, jac, bounds, disp, maxcor, ftol, gtol, eps, maxfun, maxiter, iprint, callback, maxls, finite_diff_rel_step, **unknown_options)\u001b[0m\n\u001b[0;32m    358\u001b[0m             \u001b[1;31m# until the completion of the current minimization iteration.\u001b[0m\u001b[1;33m\u001b[0m\u001b[1;33m\u001b[0m\u001b[1;33m\u001b[0m\u001b[0m\n\u001b[0;32m    359\u001b[0m             \u001b[1;31m# Overwrite f and g:\u001b[0m\u001b[1;33m\u001b[0m\u001b[1;33m\u001b[0m\u001b[1;33m\u001b[0m\u001b[0m\n\u001b[1;32m--> 360\u001b[1;33m             \u001b[0mf\u001b[0m\u001b[1;33m,\u001b[0m \u001b[0mg\u001b[0m \u001b[1;33m=\u001b[0m \u001b[0mfunc_and_grad\u001b[0m\u001b[1;33m(\u001b[0m\u001b[0mx\u001b[0m\u001b[1;33m)\u001b[0m\u001b[1;33m\u001b[0m\u001b[1;33m\u001b[0m\u001b[0m\n\u001b[0m\u001b[0;32m    361\u001b[0m         \u001b[1;32melif\u001b[0m \u001b[0mtask_str\u001b[0m\u001b[1;33m.\u001b[0m\u001b[0mstartswith\u001b[0m\u001b[1;33m(\u001b[0m\u001b[1;34mb'NEW_X'\u001b[0m\u001b[1;33m)\u001b[0m\u001b[1;33m:\u001b[0m\u001b[1;33m\u001b[0m\u001b[1;33m\u001b[0m\u001b[0m\n\u001b[0;32m    362\u001b[0m             \u001b[1;31m# new iteration\u001b[0m\u001b[1;33m\u001b[0m\u001b[1;33m\u001b[0m\u001b[1;33m\u001b[0m\u001b[0m\n",
      "\u001b[1;32m~\\.conda\\envs\\stockpredict\\lib\\site-packages\\scipy\\optimize\\_differentiable_functions.py\u001b[0m in \u001b[0;36mfun_and_grad\u001b[1;34m(self, x)\u001b[0m\n\u001b[0;32m    266\u001b[0m             \u001b[0mself\u001b[0m\u001b[1;33m.\u001b[0m\u001b[0m_update_x_impl\u001b[0m\u001b[1;33m(\u001b[0m\u001b[0mx\u001b[0m\u001b[1;33m)\u001b[0m\u001b[1;33m\u001b[0m\u001b[1;33m\u001b[0m\u001b[0m\n\u001b[0;32m    267\u001b[0m         \u001b[0mself\u001b[0m\u001b[1;33m.\u001b[0m\u001b[0m_update_fun\u001b[0m\u001b[1;33m(\u001b[0m\u001b[1;33m)\u001b[0m\u001b[1;33m\u001b[0m\u001b[1;33m\u001b[0m\u001b[0m\n\u001b[1;32m--> 268\u001b[1;33m         \u001b[0mself\u001b[0m\u001b[1;33m.\u001b[0m\u001b[0m_update_grad\u001b[0m\u001b[1;33m(\u001b[0m\u001b[1;33m)\u001b[0m\u001b[1;33m\u001b[0m\u001b[1;33m\u001b[0m\u001b[0m\n\u001b[0m\u001b[0;32m    269\u001b[0m         \u001b[1;32mreturn\u001b[0m \u001b[0mself\u001b[0m\u001b[1;33m.\u001b[0m\u001b[0mf\u001b[0m\u001b[1;33m,\u001b[0m \u001b[0mself\u001b[0m\u001b[1;33m.\u001b[0m\u001b[0mg\u001b[0m\u001b[1;33m\u001b[0m\u001b[1;33m\u001b[0m\u001b[0m\n\u001b[0;32m    270\u001b[0m \u001b[1;33m\u001b[0m\u001b[0m\n",
      "\u001b[1;32m~\\.conda\\envs\\stockpredict\\lib\\site-packages\\scipy\\optimize\\_differentiable_functions.py\u001b[0m in \u001b[0;36m_update_grad\u001b[1;34m(self)\u001b[0m\n\u001b[0;32m    236\u001b[0m     \u001b[1;32mdef\u001b[0m \u001b[0m_update_grad\u001b[0m\u001b[1;33m(\u001b[0m\u001b[0mself\u001b[0m\u001b[1;33m)\u001b[0m\u001b[1;33m:\u001b[0m\u001b[1;33m\u001b[0m\u001b[1;33m\u001b[0m\u001b[0m\n\u001b[0;32m    237\u001b[0m         \u001b[1;32mif\u001b[0m \u001b[1;32mnot\u001b[0m \u001b[0mself\u001b[0m\u001b[1;33m.\u001b[0m\u001b[0mg_updated\u001b[0m\u001b[1;33m:\u001b[0m\u001b[1;33m\u001b[0m\u001b[1;33m\u001b[0m\u001b[0m\n\u001b[1;32m--> 238\u001b[1;33m             \u001b[0mself\u001b[0m\u001b[1;33m.\u001b[0m\u001b[0m_update_grad_impl\u001b[0m\u001b[1;33m(\u001b[0m\u001b[1;33m)\u001b[0m\u001b[1;33m\u001b[0m\u001b[1;33m\u001b[0m\u001b[0m\n\u001b[0m\u001b[0;32m    239\u001b[0m             \u001b[0mself\u001b[0m\u001b[1;33m.\u001b[0m\u001b[0mg_updated\u001b[0m \u001b[1;33m=\u001b[0m \u001b[1;32mTrue\u001b[0m\u001b[1;33m\u001b[0m\u001b[1;33m\u001b[0m\u001b[0m\n\u001b[0;32m    240\u001b[0m \u001b[1;33m\u001b[0m\u001b[0m\n",
      "\u001b[1;32m~\\.conda\\envs\\stockpredict\\lib\\site-packages\\scipy\\optimize\\_differentiable_functions.py\u001b[0m in \u001b[0;36mupdate_grad\u001b[1;34m()\u001b[0m\n\u001b[0;32m    153\u001b[0m                 \u001b[0mself\u001b[0m\u001b[1;33m.\u001b[0m\u001b[0m_update_fun\u001b[0m\u001b[1;33m(\u001b[0m\u001b[1;33m)\u001b[0m\u001b[1;33m\u001b[0m\u001b[1;33m\u001b[0m\u001b[0m\n\u001b[0;32m    154\u001b[0m                 \u001b[0mself\u001b[0m\u001b[1;33m.\u001b[0m\u001b[0mngev\u001b[0m \u001b[1;33m+=\u001b[0m \u001b[1;36m1\u001b[0m\u001b[1;33m\u001b[0m\u001b[1;33m\u001b[0m\u001b[0m\n\u001b[1;32m--> 155\u001b[1;33m                 self.g = approx_derivative(fun_wrapped, self.x, f0=self.f,\n\u001b[0m\u001b[0;32m    156\u001b[0m                                            **finite_diff_options)\n\u001b[0;32m    157\u001b[0m \u001b[1;33m\u001b[0m\u001b[0m\n",
      "\u001b[1;32m~\\.conda\\envs\\stockpredict\\lib\\site-packages\\scipy\\optimize\\_numdiff.py\u001b[0m in \u001b[0;36mapprox_derivative\u001b[1;34m(fun, x0, method, rel_step, abs_step, f0, bounds, sparsity, as_linear_operator, args, kwargs)\u001b[0m\n\u001b[0;32m    484\u001b[0m \u001b[1;33m\u001b[0m\u001b[0m\n\u001b[0;32m    485\u001b[0m         \u001b[1;32mif\u001b[0m \u001b[0msparsity\u001b[0m \u001b[1;32mis\u001b[0m \u001b[1;32mNone\u001b[0m\u001b[1;33m:\u001b[0m\u001b[1;33m\u001b[0m\u001b[1;33m\u001b[0m\u001b[0m\n\u001b[1;32m--> 486\u001b[1;33m             return _dense_difference(fun_wrapped, x0, f0, h,\n\u001b[0m\u001b[0;32m    487\u001b[0m                                      use_one_sided, method)\n\u001b[0;32m    488\u001b[0m         \u001b[1;32melse\u001b[0m\u001b[1;33m:\u001b[0m\u001b[1;33m\u001b[0m\u001b[1;33m\u001b[0m\u001b[0m\n",
      "\u001b[1;32m~\\.conda\\envs\\stockpredict\\lib\\site-packages\\scipy\\optimize\\_numdiff.py\u001b[0m in \u001b[0;36m_dense_difference\u001b[1;34m(fun, x0, f0, h, use_one_sided, method)\u001b[0m\n\u001b[0;32m    555\u001b[0m             \u001b[0mx\u001b[0m \u001b[1;33m=\u001b[0m \u001b[0mx0\u001b[0m \u001b[1;33m+\u001b[0m \u001b[0mh_vecs\u001b[0m\u001b[1;33m[\u001b[0m\u001b[0mi\u001b[0m\u001b[1;33m]\u001b[0m\u001b[1;33m\u001b[0m\u001b[1;33m\u001b[0m\u001b[0m\n\u001b[0;32m    556\u001b[0m             \u001b[0mdx\u001b[0m \u001b[1;33m=\u001b[0m \u001b[0mx\u001b[0m\u001b[1;33m[\u001b[0m\u001b[0mi\u001b[0m\u001b[1;33m]\u001b[0m \u001b[1;33m-\u001b[0m \u001b[0mx0\u001b[0m\u001b[1;33m[\u001b[0m\u001b[0mi\u001b[0m\u001b[1;33m]\u001b[0m  \u001b[1;31m# Recompute dx as exactly representable number.\u001b[0m\u001b[1;33m\u001b[0m\u001b[1;33m\u001b[0m\u001b[0m\n\u001b[1;32m--> 557\u001b[1;33m             \u001b[0mdf\u001b[0m \u001b[1;33m=\u001b[0m \u001b[0mfun\u001b[0m\u001b[1;33m(\u001b[0m\u001b[0mx\u001b[0m\u001b[1;33m)\u001b[0m \u001b[1;33m-\u001b[0m \u001b[0mf0\u001b[0m\u001b[1;33m\u001b[0m\u001b[1;33m\u001b[0m\u001b[0m\n\u001b[0m\u001b[0;32m    558\u001b[0m         \u001b[1;32melif\u001b[0m \u001b[0mmethod\u001b[0m \u001b[1;33m==\u001b[0m \u001b[1;34m'3-point'\u001b[0m \u001b[1;32mand\u001b[0m \u001b[0muse_one_sided\u001b[0m\u001b[1;33m[\u001b[0m\u001b[0mi\u001b[0m\u001b[1;33m]\u001b[0m\u001b[1;33m:\u001b[0m\u001b[1;33m\u001b[0m\u001b[1;33m\u001b[0m\u001b[0m\n\u001b[0;32m    559\u001b[0m             \u001b[0mx1\u001b[0m \u001b[1;33m=\u001b[0m \u001b[0mx0\u001b[0m \u001b[1;33m+\u001b[0m \u001b[0mh_vecs\u001b[0m\u001b[1;33m[\u001b[0m\u001b[0mi\u001b[0m\u001b[1;33m]\u001b[0m\u001b[1;33m\u001b[0m\u001b[1;33m\u001b[0m\u001b[0m\n",
      "\u001b[1;32m~\\.conda\\envs\\stockpredict\\lib\\site-packages\\scipy\\optimize\\_numdiff.py\u001b[0m in \u001b[0;36mfun_wrapped\u001b[1;34m(x)\u001b[0m\n\u001b[0;32m    435\u001b[0m \u001b[1;33m\u001b[0m\u001b[0m\n\u001b[0;32m    436\u001b[0m     \u001b[1;32mdef\u001b[0m \u001b[0mfun_wrapped\u001b[0m\u001b[1;33m(\u001b[0m\u001b[0mx\u001b[0m\u001b[1;33m)\u001b[0m\u001b[1;33m:\u001b[0m\u001b[1;33m\u001b[0m\u001b[1;33m\u001b[0m\u001b[0m\n\u001b[1;32m--> 437\u001b[1;33m         \u001b[0mf\u001b[0m \u001b[1;33m=\u001b[0m \u001b[0mnp\u001b[0m\u001b[1;33m.\u001b[0m\u001b[0matleast_1d\u001b[0m\u001b[1;33m(\u001b[0m\u001b[0mfun\u001b[0m\u001b[1;33m(\u001b[0m\u001b[0mx\u001b[0m\u001b[1;33m,\u001b[0m \u001b[1;33m*\u001b[0m\u001b[0margs\u001b[0m\u001b[1;33m,\u001b[0m \u001b[1;33m**\u001b[0m\u001b[0mkwargs\u001b[0m\u001b[1;33m)\u001b[0m\u001b[1;33m)\u001b[0m\u001b[1;33m\u001b[0m\u001b[1;33m\u001b[0m\u001b[0m\n\u001b[0m\u001b[0;32m    438\u001b[0m         \u001b[1;32mif\u001b[0m \u001b[0mf\u001b[0m\u001b[1;33m.\u001b[0m\u001b[0mndim\u001b[0m \u001b[1;33m>\u001b[0m \u001b[1;36m1\u001b[0m\u001b[1;33m:\u001b[0m\u001b[1;33m\u001b[0m\u001b[1;33m\u001b[0m\u001b[0m\n\u001b[0;32m    439\u001b[0m             raise RuntimeError(\"`fun` return value has \"\n",
      "\u001b[1;32m~\\.conda\\envs\\stockpredict\\lib\\site-packages\\scipy\\optimize\\_differentiable_functions.py\u001b[0m in \u001b[0;36mfun_wrapped\u001b[1;34m(x)\u001b[0m\n\u001b[0;32m    132\u001b[0m             \u001b[1;31m# Overwriting results in undefined behaviour because\u001b[0m\u001b[1;33m\u001b[0m\u001b[1;33m\u001b[0m\u001b[1;33m\u001b[0m\u001b[0m\n\u001b[0;32m    133\u001b[0m             \u001b[1;31m# fun(self.x) will change self.x, with the two no longer linked.\u001b[0m\u001b[1;33m\u001b[0m\u001b[1;33m\u001b[0m\u001b[1;33m\u001b[0m\u001b[0m\n\u001b[1;32m--> 134\u001b[1;33m             \u001b[1;32mreturn\u001b[0m \u001b[0mfun\u001b[0m\u001b[1;33m(\u001b[0m\u001b[0mnp\u001b[0m\u001b[1;33m.\u001b[0m\u001b[0mcopy\u001b[0m\u001b[1;33m(\u001b[0m\u001b[0mx\u001b[0m\u001b[1;33m)\u001b[0m\u001b[1;33m,\u001b[0m \u001b[1;33m*\u001b[0m\u001b[0margs\u001b[0m\u001b[1;33m)\u001b[0m\u001b[1;33m\u001b[0m\u001b[1;33m\u001b[0m\u001b[0m\n\u001b[0m\u001b[0;32m    135\u001b[0m \u001b[1;33m\u001b[0m\u001b[0m\n\u001b[0;32m    136\u001b[0m         \u001b[1;32mdef\u001b[0m \u001b[0mupdate_fun\u001b[0m\u001b[1;33m(\u001b[0m\u001b[1;33m)\u001b[0m\u001b[1;33m:\u001b[0m\u001b[1;33m\u001b[0m\u001b[1;33m\u001b[0m\u001b[0m\n",
      "\u001b[1;32m~\\.conda\\envs\\stockpredict\\lib\\site-packages\\statsmodels\\base\\model.py\u001b[0m in \u001b[0;36mf\u001b[1;34m(params, *args)\u001b[0m\n\u001b[0;32m    529\u001b[0m \u001b[1;33m\u001b[0m\u001b[0m\n\u001b[0;32m    530\u001b[0m         \u001b[1;32mdef\u001b[0m \u001b[0mf\u001b[0m\u001b[1;33m(\u001b[0m\u001b[0mparams\u001b[0m\u001b[1;33m,\u001b[0m \u001b[1;33m*\u001b[0m\u001b[0margs\u001b[0m\u001b[1;33m)\u001b[0m\u001b[1;33m:\u001b[0m\u001b[1;33m\u001b[0m\u001b[1;33m\u001b[0m\u001b[0m\n\u001b[1;32m--> 531\u001b[1;33m             \u001b[1;32mreturn\u001b[0m \u001b[1;33m-\u001b[0m\u001b[0mself\u001b[0m\u001b[1;33m.\u001b[0m\u001b[0mloglike\u001b[0m\u001b[1;33m(\u001b[0m\u001b[0mparams\u001b[0m\u001b[1;33m,\u001b[0m \u001b[1;33m*\u001b[0m\u001b[0margs\u001b[0m\u001b[1;33m)\u001b[0m \u001b[1;33m/\u001b[0m \u001b[0mnobs\u001b[0m\u001b[1;33m\u001b[0m\u001b[1;33m\u001b[0m\u001b[0m\n\u001b[0m\u001b[0;32m    532\u001b[0m \u001b[1;33m\u001b[0m\u001b[0m\n\u001b[0;32m    533\u001b[0m         \u001b[1;32mif\u001b[0m \u001b[0mmethod\u001b[0m \u001b[1;33m==\u001b[0m \u001b[1;34m'newton'\u001b[0m\u001b[1;33m:\u001b[0m\u001b[1;33m\u001b[0m\u001b[1;33m\u001b[0m\u001b[0m\n",
      "\u001b[1;32m~\\.conda\\envs\\stockpredict\\lib\\site-packages\\statsmodels\\tsa\\statespace\\mlemodel.py\u001b[0m in \u001b[0;36mloglike\u001b[1;34m(self, params, *args, **kwargs)\u001b[0m\n\u001b[0;32m    937\u001b[0m             \u001b[0mkwargs\u001b[0m\u001b[1;33m[\u001b[0m\u001b[1;34m'inversion_method'\u001b[0m\u001b[1;33m]\u001b[0m \u001b[1;33m=\u001b[0m \u001b[0mINVERT_UNIVARIATE\u001b[0m \u001b[1;33m|\u001b[0m \u001b[0mSOLVE_LU\u001b[0m\u001b[1;33m\u001b[0m\u001b[1;33m\u001b[0m\u001b[0m\n\u001b[0;32m    938\u001b[0m \u001b[1;33m\u001b[0m\u001b[0m\n\u001b[1;32m--> 939\u001b[1;33m         \u001b[0mloglike\u001b[0m \u001b[1;33m=\u001b[0m \u001b[0mself\u001b[0m\u001b[1;33m.\u001b[0m\u001b[0mssm\u001b[0m\u001b[1;33m.\u001b[0m\u001b[0mloglike\u001b[0m\u001b[1;33m(\u001b[0m\u001b[0mcomplex_step\u001b[0m\u001b[1;33m=\u001b[0m\u001b[0mcomplex_step\u001b[0m\u001b[1;33m,\u001b[0m \u001b[1;33m**\u001b[0m\u001b[0mkwargs\u001b[0m\u001b[1;33m)\u001b[0m\u001b[1;33m\u001b[0m\u001b[1;33m\u001b[0m\u001b[0m\n\u001b[0m\u001b[0;32m    940\u001b[0m \u001b[1;33m\u001b[0m\u001b[0m\n\u001b[0;32m    941\u001b[0m         \u001b[1;31m# Koopman, Shephard, and Doornik recommend maximizing the average\u001b[0m\u001b[1;33m\u001b[0m\u001b[1;33m\u001b[0m\u001b[1;33m\u001b[0m\u001b[0m\n",
      "\u001b[1;32m~\\.conda\\envs\\stockpredict\\lib\\site-packages\\statsmodels\\tsa\\statespace\\kalman_filter.py\u001b[0m in \u001b[0;36mloglike\u001b[1;34m(self, **kwargs)\u001b[0m\n\u001b[0;32m    981\u001b[0m         kwargs.setdefault('conserve_memory',\n\u001b[0;32m    982\u001b[0m                           MEMORY_CONSERVE ^ MEMORY_NO_LIKELIHOOD)\n\u001b[1;32m--> 983\u001b[1;33m         \u001b[0mkfilter\u001b[0m \u001b[1;33m=\u001b[0m \u001b[0mself\u001b[0m\u001b[1;33m.\u001b[0m\u001b[0m_filter\u001b[0m\u001b[1;33m(\u001b[0m\u001b[1;33m**\u001b[0m\u001b[0mkwargs\u001b[0m\u001b[1;33m)\u001b[0m\u001b[1;33m\u001b[0m\u001b[1;33m\u001b[0m\u001b[0m\n\u001b[0m\u001b[0;32m    984\u001b[0m         loglikelihood_burn = kwargs.get('loglikelihood_burn',\n\u001b[0;32m    985\u001b[0m                                         self.loglikelihood_burn)\n",
      "\u001b[1;31mKeyboardInterrupt\u001b[0m: "
     ]
    }
   ],
   "source": [
    "# model = LinearRegression()\n",
    "for code in tqdm(stock_list['종목코드'].values):\n",
    "    data = fdr.DataReader(code, start = start_date, end = end_date).reset_index()\n",
    "    \n",
    "    data.Close = data.Close.ffill()\n",
    "    data.index = data[\"Date\"]\n",
    "    data.drop('Date', axis=1, inplace=True)\n",
    "    \n",
    "    \n",
    "\n",
    "    \n",
    "#     from statsmodels.tsa.stattools import adfuller\n",
    "#     result = adfuller(data.Close)\n",
    "#     print(result[0])\n",
    "#     print(\"p-value\", result[1])\n",
    "\n",
    "#     plt.plot(data.Close)\n",
    "#     plt.show()\n",
    "\n",
    "#     plt.plot(data.Close.shift())\n",
    "#     plt.show()\n",
    "    \n",
    "#     close_diff = data.Close - data.Close.shift()\n",
    "#     plt.plot(close_diff)\n",
    "#     plt.show()\n",
    "    \n",
    "    \n",
    "#     result = adfuller(close_diff[1:])\n",
    "#     print(result[0])\n",
    "#     print(result[1])\n",
    "    \n",
    "#     import statsmodels.api as sm\n",
    "    \n",
    "#     fig = plt.figure(figsize=(20, 8))\n",
    "#     ax1 = fig.add_subplot(212)\n",
    "#     fig = sm.graphics.tsa.plot_acf(close_diff[1:], ax=ax1)\n",
    "#     plt.show()\n",
    "\n",
    "    \n",
    "    # autoarima\n",
    "    arima_data = data[:-1]\n",
    "    model = auto_arima(arima_data.Close,\n",
    "    start_p=0, start_q=0,d=1,\n",
    "    max_p=4, max_q=4,max_d=2,\n",
    "    m=5,\n",
    "    start_P=0,start_Q=0,D=1,\n",
    "    max_P=2,max_Q=2,max_D=2,\n",
    "                           seasonal=True,\n",
    "                           trace=False,\n",
    "                           error_action='ignore',  \n",
    "                           suppress_warnings=True, \n",
    "                           stepwise=True)\n",
    "    model.fit(arima_data.Close)\n",
    "    forecast = model.predict(n_periods=5) #(0,1,0)인수 나오는것 처리해야함\n",
    "    predictions = list(forecast)\n",
    "    print(predictions)\n",
    "    # print(code)\n",
    "    # break\n",
    "    \n",
    "#     ARIMA(p, d, q)\n",
    "#     d=0 : ARMA(p, q), 정상성 만족\n",
    "#     p=0 : IMA(d,q), d번 차분하면 MA(q)모형을 따르게 됨\n",
    "#     q=0 : ARI(p,d), d번 차분한 시계열이 AR(p)모형을 따르게 됨\n",
    "\n",
    "#     model = ARIMA(arima_data.Close, order=(4, 1, 0))\n",
    "#     model_fit = model.fit()\n",
    "    \n",
    "#     start_index = datetime(2021, 11, 1)\n",
    "#     end_index = datetime(2021, 11, 5)\n",
    "#     forecast = model_fit.forecast(steps=5)\n",
    "    \n",
    "    \n",
    "#     predictions = list(forecast)\n",
    "    sample_submission.loc[5:9,code] = predictions \n",
    "sample_submission.isna().sum().sum()"
   ]
  },
  {
   "cell_type": "code",
   "execution_count": null,
   "id": "81ce871a",
   "metadata": {},
   "outputs": [],
   "source": [
    "sample_submission.to_csv('arima.csv',index=False)"
   ]
  }
 ],
 "metadata": {
  "hide_input": false,
  "kernelspec": {
   "display_name": "Python 3 (ipykernel)",
   "language": "python",
   "name": "python3"
  },
  "language_info": {
   "codemirror_mode": {
    "name": "ipython",
    "version": 3
   },
   "file_extension": ".py",
   "mimetype": "text/x-python",
   "name": "python",
   "nbconvert_exporter": "python",
   "pygments_lexer": "ipython3",
   "version": "3.8.11"
  },
  "toc": {
   "base_numbering": 1,
   "nav_menu": {},
   "number_sections": true,
   "sideBar": true,
   "skip_h1_title": false,
   "title_cell": "Table of Contents",
   "title_sidebar": "Contents",
   "toc_cell": false,
   "toc_position": {},
   "toc_section_display": true,
   "toc_window_display": false
  },
  "varInspector": {
   "cols": {
    "lenName": 16,
    "lenType": 16,
    "lenVar": 40
   },
   "kernels_config": {
    "python": {
     "delete_cmd_postfix": "",
     "delete_cmd_prefix": "del ",
     "library": "var_list.py",
     "varRefreshCmd": "print(var_dic_list())"
    },
    "r": {
     "delete_cmd_postfix": ") ",
     "delete_cmd_prefix": "rm(",
     "library": "var_list.r",
     "varRefreshCmd": "cat(var_dic_list()) "
    }
   },
   "types_to_exclude": [
    "module",
    "function",
    "builtin_function_or_method",
    "instance",
    "_Feature"
   ],
   "window_display": false
  }
 },
 "nbformat": 4,
 "nbformat_minor": 5
}
